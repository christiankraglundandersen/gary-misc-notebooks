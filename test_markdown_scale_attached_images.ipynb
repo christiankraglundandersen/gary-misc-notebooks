{
 "cells": [
  {
   "cell_type": "markdown",
   "metadata": {},
   "source": [
    "This is the magic to be able to scale an attached image:\n",
    "\n",
    "```\n",
    "<img src=\"attachment:triggering1.png\" width=70%></img>\n",
    "```\n",
    "\n",
    "<img src=\"attachment:triggering1.png\" width=70%></img>\n"
   ]
  },
  {
   "cell_type": "code",
   "execution_count": null,
   "metadata": {},
   "outputs": [],
   "source": []
  }
 ],
 "metadata": {
  "jupytext": {
   "formats": "ipynb,md"
  },
  "kernelspec": {
   "display_name": "Python 3",
   "language": "python",
   "name": "python3"
  }
 },
 "nbformat": 4,
 "nbformat_minor": 2
}
