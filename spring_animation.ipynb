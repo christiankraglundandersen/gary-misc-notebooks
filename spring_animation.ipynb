{
 "cells": [
  {
   "cell_type": "markdown",
   "metadata": {},
   "source": [
    "# Mass spring animations\n",
    "\n",
    "I wanted to make some animations of a single mass on two springs for my talk. Matplot lib was not a bad option in the end, combined with Imagemagick to convert my PNG files into an animated gif that I could import into Keynote. \n",
    "\n",
    "Inspiration from here:\n",
    "\n",
    "https://scipython.com/blog/the-spring-pendulum/"
   ]
  },
  {
   "cell_type": "code",
   "execution_count": 1,
   "metadata": {},
   "outputs": [],
   "source": [
    "import numpy as np\n",
    "from scipy.integrate import odeint\n",
    "import matplotlib.pyplot as plt\n",
    "from matplotlib.patches import Circle"
   ]
  },
  {
   "cell_type": "code",
   "execution_count": 2,
   "metadata": {},
   "outputs": [],
   "source": [
    "def plot_spring(x1,y1,x2,y2):\n",
    "    L = np.sqrt((x2-x1)**2 + (y2-y1)**2)\n",
    "    theta = np.arctan2(-(y2-y1),(x2-x1))\n",
    "\n",
    "    width, nturns = 1, 10\n",
    "    N = 1000\n",
    "    pad = 200\n",
    "\n",
    "    # Make the spring, unit scale (0 to 1)\n",
    "    x_spring = np.linspace(0, L, N) # distance along the spring\n",
    "    y_spring= np.zeros(N)\n",
    "    y_spring[pad:-pad] = width * np.sin(2*np.pi * nturns * x_spring[pad:-pad]/L)\n",
    "\n",
    "    # Rotate the spring\n",
    "    R = np.array([[np.cos(theta), np.sin(theta)],\n",
    "                  [-np.sin(theta), np.cos(theta)]])\n",
    "\n",
    "    x_plot, y_plot = R @ np.vstack((x_spring, y_spring))\n",
    "\n",
    "    # And offset it\n",
    "    x_plot += x1\n",
    "    y_plot += y1\n",
    "    ax.plot(x_plot, y_plot, c='k')\n",
    "\n",
    "def plot_mass(x,y):\n",
    "    mass = Circle((x, y), 0.4, fc='k')\n",
    "    ax.add_patch(mass)"
   ]
  },
  {
   "cell_type": "code",
   "execution_count": 61,
   "metadata": {},
   "outputs": [
    {
     "data": {
      "image/png": "[encoded data removed]",
      "text/plain": [
       "<Figure size 720x504 with 1 Axes>"
      ]
     },
     "metadata": {
      "needs_background": "light"
     },
     "output_type": "display_data"
    }
   ],
   "source": [
    "ymax = 6\n",
    "def make_plot(u):   \n",
    "    plt.axis('off')\n",
    "    plot_spring(0,0,10,u)\n",
    "    plot_spring(10,u,20,0)\n",
    "    plot_mass(10,u)\n",
    "    plt.xlim(0,20)\n",
    "    plt.ylim(-ymax-1,ymax+1)\n",
    "\n",
    "fig, ax = plt.subplots(figsize=(10,7))\n",
    "make_plot(0)\n",
    "plt.show()"
   ]
  },
  {
   "cell_type": "code",
   "execution_count": 41,
   "metadata": {
    "scrolled": true
   },
   "outputs": [],
   "source": [
    "npts = 30\n",
    "for n in range(0,npts):\n",
    "    fig, ax = plt.subplots(figsize=(10,7))\n",
    "    u = 6*np.sin(n/npts*2*np.pi)\n",
    "    make_plot(u)\n",
    "    plt.savefig(\"vertical_%02d.png\" % n, bbox_inches = 'tight')\n",
    "    plt.close()"
   ]
  },
  {
   "cell_type": "code",
   "execution_count": 56,
   "metadata": {},
   "outputs": [],
   "source": [
    "!convert \"vertical*\" movie_vertical.gif\n",
    "!rm vertical*"
   ]
  },
  {
   "cell_type": "code",
   "execution_count": 38,
   "metadata": {},
   "outputs": [
    {
     "data": {
      "image/png": "[encoded data removed]",
      "text/plain": [
       "<Figure size 720x504 with 1 Axes>"
      ]
     },
     "metadata": {
      "needs_background": "light"
     },
     "output_type": "display_data"
    }
   ],
   "source": [
    "fig, ax = plt.subplots(figsize=(10,7))\n",
    "make_plot(0)\n",
    "plt.savefig(\"base_fig.pdf\", bbox_inches = 'tight')"
   ]
  },
  {
   "cell_type": "markdown",
   "metadata": {},
   "source": [
    "Idea for future: make springs colored dependent on how stretched they are? Or their velocity? "
   ]
  },
  {
   "cell_type": "code",
   "execution_count": 63,
   "metadata": {},
   "outputs": [],
   "source": [
    "ymax = 1\n",
    "L = 20\n",
    "def make_plot_horizontal_stretch(u):\n",
    "    plt.axis('off')\n",
    "    plot_spring(0,0,L-u,0)\n",
    "    plot_spring(L-u,0,2*L,0)\n",
    "    plot_mass(L-u,0)\n",
    "    plt.xlim(0,2*L)\n",
    "    plt.ylim(-ymax-1,ymax+1)"
   ]
  },
  {
   "cell_type": "code",
   "execution_count": 64,
   "metadata": {},
   "outputs": [
    {
     "data": {
      "image/png": "[encoded data removed]",
      "text/plain": [
       "<Figure size 1440x144 with 1 Axes>"
      ]
     },
     "metadata": {
      "needs_background": "light"
     },
     "output_type": "display_data"
    }
   ],
   "source": [
    "fig, ax = plt.subplots(figsize=(20,2))\n",
    "make_plot_horizontal_stretch(0)"
   ]
  },
  {
   "cell_type": "code",
   "execution_count": 70,
   "metadata": {},
   "outputs": [],
   "source": [
    "npts = 30\n",
    "for n in range(0,npts):\n",
    "    fig, ax = plt.subplots(figsize=(20,2))\n",
    "    u = 3*np.sin(n/npts*2*np.pi)\n",
    "    make_plot_horizontal_stretch(u)\n",
    "    plt.savefig(\"stretch_horizontal_%02d.png\" % n, bbox_inches = 'tight')\n",
    "    plt.close()"
   ]
  },
  {
   "cell_type": "code",
   "execution_count": 71,
   "metadata": {},
   "outputs": [],
   "source": [
    "!convert \"stretch_horizontal*\" movie_stretch_horizontal.gif\n",
    "!rm stretch_horizontal*"
   ]
  },
  {
   "cell_type": "code",
   "execution_count": 3,
   "metadata": {},
   "outputs": [
    {
     "name": "stdout",
     "output_type": "stream",
     "text": [
      "movie_horizontal.gif         movie_vertical.gif\r\n",
      "movie_stretch_horizontal.gif\r\n"
     ]
    }
   ],
   "source": [
    "!ls *.gif"
   ]
  },
  {
   "cell_type": "markdown",
   "metadata": {},
   "source": [
    "<img src=\"movie_vertical.gif\">\n",
    "<img src=\"movie_horizontal.gif\">\n"
   ]
  },
  {
   "cell_type": "code",
   "execution_count": null,
   "metadata": {},
   "outputs": [],
   "source": []
  }
 ],
 "metadata": {
  "jupytext": {
   "formats": "ipynb,md"
  },
  "kernelspec": {
   "display_name": "Python 3",
   "language": "python",
   "name": "python3"
  },
  "language_info": {
   "codemirror_mode": {
    "name": "ipython",
    "version": 3
   },
   "file_extension": ".py",
   "mimetype": "text/x-python",
   "name": "python",
   "nbconvert_exporter": "python",
   "pygments_lexer": "ipython3",
   "version": "3.7.5"
  },
  "toc": {
   "base_numbering": 1,
   "nav_menu": {},
   "number_sections": false,
   "sideBar": true,
   "skip_h1_title": false,
   "title_cell": "Table of Contents",
   "title_sidebar": "Contents",
   "toc_cell": false,
   "toc_position": {},
   "toc_section_display": true,
   "toc_window_display": false
  }
 },
 "nbformat": 4,
 "nbformat_minor": 2
}
