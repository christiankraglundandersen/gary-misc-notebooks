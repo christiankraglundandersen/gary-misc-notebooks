{
 "cells": [
  {
   "cell_type": "code",
   "execution_count": null,
   "metadata": {},
   "outputs": [],
   "source": [
    "import numpy as np\n",
    "import matplotlib.pyplot as plt"
   ]
  },
  {
   "cell_type": "code",
   "execution_count": null,
   "metadata": {},
   "outputs": [],
   "source": [
    "%matplotlib notebook"
   ]
  },
  {
   "cell_type": "code",
   "execution_count": null,
   "metadata": {},
   "outputs": [],
   "source": [
    "%matplotlib inline\n",
    "plt.rcParams['figure.dpi'] = 100"
   ]
  },
  {
   "cell_type": "code",
   "execution_count": null,
   "metadata": {},
   "outputs": [],
   "source": [
    "x = np.linspace(-500,500,5000)\n",
    "\n",
    "def peak(x0, w):\n",
    "    return np.exp(-((x-x0)/w)**2/2)\n",
    "\n",
    "w0 = 2\n",
    "orig = peak(-10,w0) + peak(10,w0)\n",
    "\n",
    "w_psf = 100\n",
    "psf = peak(0,w_psf)/np.sqrt(2*np.pi)/w_psf\n",
    "\n",
    "plt.plot(x,orig)\n",
    "plt.plot(x,psf)"
   ]
  },
  {
   "cell_type": "code",
   "execution_count": null,
   "metadata": {},
   "outputs": [],
   "source": [
    "\n",
    "def convolve(y1,y2):\n",
    "    n = 2*len(y1)\n",
    "    y1t = np.fft.fft(y1, n=n)\n",
    "    y2t = np.fft.fft(y2, n=n)\n",
    "    return np.fft.ifft(y1t*y2t, n=n)[0:len(y1)]\n",
    "\n",
    "smeared = convolve(orig, psf)\n",
    "\n",
    "plt.plot(x,smeared)"
   ]
  }
 ],
 "metadata": {
  "jupytext": {
   "formats": "ipynb,md"
  },
  "kernelspec": {
   "display_name": "Python 3",
   "language": "python",
   "name": "python3"
  }
 },
 "nbformat": 4,
 "nbformat_minor": 2
}
