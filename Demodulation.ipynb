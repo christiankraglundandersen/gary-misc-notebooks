{
 "cells": [
  {
   "cell_type": "markdown",
   "metadata": {},
   "source": [
    "Using the FFT, we can find the steady state frequency that our numerical integration calculation produces, and find that is close to what we would predict (specifically, that the frequency of oscillation is the same as the driving frequency). \n",
    "\n",
    "How can we check the phase of the oscillations? In principle, this is also contained in the phase of the y complex-valued Fourier transform. However, due to the finite sampling of the frequencies in Fourier space from the limited trace lenght, these can be tricky to extract accurately unless the sampling frequency is an exact multiple of the frequency we are interested in. \n",
    "\n",
    "Fortunately, if we know the frequency that we are interested in, we can play a little trick (actually a form of <a href=https://en.wikipedia.org/wiki/Demodulation>demodulation</a>). Let's say I have a signal:\n",
    "\n",
    "$$\n",
    "s(t) = A \\cos(\\omega t + \\phi)\n",
    "$$ \n",
    "\n",
    "Using double angle formulas, I can re-write this as:\n",
    "\n",
    "\\begin{eqnarray}\n",
    "s(t) & = &  A \\cos(\\phi) \\cos(\\omega t) - A \\sin(\\phi) \\sin(\\omega t)\n",
    " & \\equiv & I \\cos(\\omega t) + Q \\cos(\\omega t)\n",
    "\\end{eqnarray}\n",
    "\n",
    "where $I$ and $Q$ are called the in and out of phase <a href=https://en.wikipedia.org/wiki/In-phase_and_quadrature_components>quadrature</a> components of the signal. \n",
    "\n",
    "I know the frequency $\\omega$ of the signal, but I want to find the phase $\\phi$ (and maybe also amplitude $A$). To this we can use the following trick: let's multiply $s(t)$ by $\\cos(\\omega t)$. If I do this, I will get the following:\n",
    "\n",
    "$$\n",
    "s(t) \\cos(\\omega t) = I \\cos(\\omega t) \\cos(\\omega t) + Q \\sin(\\omega t) \\cos(\\omega t)\n",
    "$$\n",
    "\n",
    "Now the trick: if I integrate this over an integer number of periods of oscillation, then the second term will cancel! However, the first term will not: you can see this using the <a href=https://en.wikipedia.org/wiki/List_of_trigonometric_identities#Double-angle_formulae>double angle formulas</a>: \n",
    "\n",
    "$$\n",
    "\\cos^2(A) = (1+\\cos(2A))/2\n",
    "$$\n",
    "\n",
    "Because of the 1, this will survive the integration! We can the calculate the $I$ quadrature of the signal using:\n",
    "\n",
    "$$\n",
    "I = \\frac{2}{NT} \\int_t^{t+NT} s(t) \\cos(\\omega t) dt\n",
    "$$\n",
    "\n",
    "where $T = 2\\pi / \\omega$ is the period of oscillation of the frequency you are trying to detect and $N$ is an integer. One can similarly show that:\n",
    "\n",
    "$$\n",
    "Q = \\frac{2}{NT} \\int_t^{t+NT} s(t) \\sin(\\omega t) dt\n",
    "$$\n",
    "\n",
    "Once I have $I$ and $Q$, I can calculate the amplitude and phase of my signal using:\n",
    "\n",
    "$$\n",
    "A = \\sqrt{I^2 + Q^2} \\\\\n",
    "\\phi = \\arctan(Q/I)\n",
    "$$\n",
    "\n",
    "**Exercise 1(c)** Calculate the phase of the oscillations using the Fourier transform.\n"
   ]
  }
 ],
 "metadata": {
  "kernelspec": {
   "display_name": "Python 3",
   "language": "python",
   "name": "python3"
  },
  "language_info": {
   "codemirror_mode": {
    "name": "ipython",
    "version": 3
   },
   "file_extension": ".py",
   "mimetype": "text/x-python",
   "name": "python",
   "nbconvert_exporter": "python",
   "pygments_lexer": "ipython3",
   "version": "3.7.1"
  }
 },
 "nbformat": 4,
 "nbformat_minor": 2
}
