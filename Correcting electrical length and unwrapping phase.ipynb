{
 "cells": [
  {
   "cell_type": "code",
   "execution_count": null,
   "metadata": {},
   "outputs": [],
   "source": [
    "import numpy as np\n",
    "import matplotlib.pyplot as plt\n",
    "from ipywidgets import interact"
   ]
  },
  {
   "cell_type": "code",
   "execution_count": null,
   "metadata": {},
   "outputs": [],
   "source": [
    "plt.rcParams['figure.dpi'] = 100"
   ]
  },
  {
   "cell_type": "markdown",
   "metadata": {},
   "source": [
    "# Effect of electrical length setting of VNA on a measurement\n",
    "\n",
    "Important: a cable adds a frequency dependent phase!\n",
    "\n",
    "Cables result in a time delay $t_d = L / c$, where $L$ is the physical length of the cable (in meters) and $c$ is the speed of propgation of electromagnetic waves in the cable. \n",
    "\n",
    "A typical number for the cable phase velocity\n",
    "* $1\\times 10^8$ m/s\n",
    "* = 10 ns /  meter \n",
    "* = 1 ns / 10 cm\n",
    "\n",
    "For a signal coming into a cable $A \\cos(\\omega t)$, the signal coming out is:\n",
    "\n",
    "$$\n",
    "A \\cos(\\omega(t-t_d)) = A \\cos (\\omega t - \\phi)\n",
    "$$\n",
    "\n",
    "where $\\phi = \\omega t_d$. \n",
    "\n",
    "We will start with an S11 trace with 3 resonances and add a phase delay from a cable. "
   ]
  },
  {
   "cell_type": "code",
   "execution_count": null,
   "metadata": {
    "hide_input": true
   },
   "outputs": [],
   "source": [
    "def plot_s11(d, S11, lim=1.05):\n",
    "    plt.subplots(figsize=(12,6))\n",
    "    plt.subplot(511)\n",
    "    plt.plot(d,np.abs(S11))\n",
    "    #plt.ylim((0,lim))\n",
    "    plt.ylabel(\"$|S_{11}|$\")\n",
    "    plt.setp(plt.gca().get_xticklabels(), visible=False)\n",
    "    plt.subplot(512)\n",
    "    plt.plot(d,np.angle(S11)/np.pi*180)\n",
    "    #plt.ylim((-190,190))\n",
    "    plt.axhline(0,c='grey', ls=':')\n",
    "    plt.ylabel(\"ph $S_{11}$ (deg)\")\n",
    "    plt.setp(plt.gca().get_xticklabels(), visible=False)\n",
    "    plt.subplot(513)\n",
    "    plt.plot(d,np.real(S11))\n",
    "    #plt.ylim((-lim,lim))\n",
    "    plt.axhline(0,c='grey', ls=':')\n",
    "    plt.ylabel(\"$Re(S_{11})$\")\n",
    "    plt.setp(plt.gca().get_xticklabels(), visible=False)\n",
    "    plt.subplot(514)\n",
    "    plt.plot(d,np.imag(S11))\n",
    "    #plt.ylim((-lim,lim))\n",
    "    plt.axhline(0,c='grey', ls=':')\n",
    "    plt.ylabel(\"$Im(S_{11})$\")\n",
    "    plt.setp(plt.gca().get_xticklabels(), visible=False)\n",
    "    plt.subplot(515)\n",
    "    plt.plot(np.real(S11), np.imag(S11))\n",
    "    plt.ylim((-lim,lim))\n",
    "    plt.xlim((-8*lim,8*lim))\n",
    "    plt.axhline(0,c='grey', ls=':')\n",
    "    plt.axvline(0,c='grey', ls=':')\n",
    "    #plt.tight_layout()"
   ]
  },
  {
   "cell_type": "code",
   "execution_count": null,
   "metadata": {
    "hide_input": false
   },
   "outputs": [],
   "source": [
    "def res(f, f0, k, eta):\n",
    "    return -eta*k/(-1j*(f-f0)+k/2)\n",
    "\n",
    "f = np.linspace(4e9,8e9,100)\n",
    "\n",
    "# 1 ns \n",
    "td = 10e-9\n",
    "S11 = 1\n",
    "S11 += res(f,5e9,10e6,0.05)\n",
    "S11 += res(f,6e9,10e6,0.2)\n",
    "S11 += res(f,7e9,10e6,0.1)\n",
    "S11 *= np.exp(-1j*td*2*np.pi*f)"
   ]
  },
  {
   "cell_type": "markdown",
   "metadata": {},
   "source": [
    "The S11 magnitude looks reasonable, but the resonances in the others are harder to see due to the \"running phase\". Also, resonance circles in  complex plane don't even look like circles? "
   ]
  },
  {
   "cell_type": "code",
   "execution_count": null,
   "metadata": {},
   "outputs": [],
   "source": [
    "plot_s11(f,S11)"
   ]
  },
  {
   "cell_type": "markdown",
   "metadata": {},
   "source": [
    "## Now make a widget to see what happens if you \"unwind\" the phase\n",
    "\n",
    "This is equivalent to changing the position of the \"reference plane\" of the VNA"
   ]
  },
  {
   "cell_type": "code",
   "execution_count": null,
   "metadata": {},
   "outputs": [],
   "source": [
    "def update1(t=0):\n",
    "    plot_s11(f,S11*np.exp(1j*f*2*np.pi*t*1e-9))\n",
    "    \n",
    "interact(update1, t=(-15,15,0.1))"
   ]
  },
  {
   "cell_type": "code",
   "execution_count": null,
   "metadata": {},
   "outputs": [],
   "source": []
  },
  {
   "cell_type": "code",
   "execution_count": null,
   "metadata": {},
   "outputs": [],
   "source": []
  }
 ],
 "metadata": {
  "jupytext": {
   "formats": "ipynb,md"
  },
  "kernelspec": {
   "display_name": "Python 3",
   "language": "python",
   "name": "python3"
  }
 },
 "nbformat": 4,
 "nbformat_minor": 2
}
