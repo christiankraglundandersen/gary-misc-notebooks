{
 "cells": [
  {
   "cell_type": "code",
   "execution_count": null,
   "metadata": {},
   "outputs": [],
   "source": [
    "import numpy as np\n",
    "from scipy.integrate import solve_ivp\n",
    "import matplotlib.pyplot as plt\n",
    "from scipy import constants\n",
    "from ipywidgets import interact\n",
    "import matplotlib.gridspec as gridspec"
   ]
  },
  {
   "cell_type": "code",
   "execution_count": null,
   "metadata": {},
   "outputs": [],
   "source": [
    "# To save some typing\n",
    "pi = np.pi\n",
    "hbar = constants.hbar\n",
    "# Better defauls\n",
    "plt.rcParams['figure.dpi'] = 100"
   ]
  },
  {
   "cell_type": "markdown",
   "metadata": {},
   "source": [
    "Plotting routines (collapsed cell):"
   ]
  },
  {
   "cell_type": "code",
   "execution_count": null,
   "metadata": {
    "hide_input": true
   },
   "outputs": [],
   "source": [
    "# Let's make a function to make these plots on demand\n",
    "\n",
    "def plot_cavity():\n",
    "    plt.figure(figsize=(12,3.5))\n",
    "    G = gridspec.GridSpec(1, 3)\n",
    "    plt.subplot(G[0,:-1])\n",
    "    plt.plot(t*1e6,np.real(a), label=\"Real\")\n",
    "    plt.plot(t*1e6,np.imag(a), label=\"Imag\")\n",
    "    plt.plot(t*1e6,np.abs(a), label=\"\")\n",
    "    plt.axhline(0,ls=\":\", c=\"grey\")\n",
    "    plt.legend()\n",
    "    plt.ylabel(\"Cavity field amplitude $a$\");\n",
    "    plt.xlabel(\"Time ($\\mu$s)\")\n",
    "    plt.subplot(G[0,2])\n",
    "    m = np.max(np.abs(a))*1.2\n",
    "    plt.plot(np.real(a), np.imag(a))\n",
    "    plt.xlim((-m,m))\n",
    "    plt.ylim((-m,m))\n",
    "    plt.axhline(0,ls=\":\", c=\"grey\")\n",
    "    plt.axvline(0,ls=\":\", c=\"grey\")\n",
    "    plt.tight_layout()\n",
    "\n",
    "\n",
    "def plot_both():\n",
    "    plot_cavity()\n",
    "    plt.figure(figsize=(12,4)) \n",
    "    G = gridspec.GridSpec(1, 3)\n",
    "    plt.subplot(G[0,:-1])    \n",
    "    plt.plot(t*1e6,np.real(x), label=\"x\")\n",
    "    plt.axhline(0,ls=\":\", c=\"grey\")\n",
    "    plt.legend()\n",
    "    plt.ylabel(\"Mechanical displacement $x$\");\n",
    "    plt.xlabel(\"Time ($\\mu$s)\");"
   ]
  },
  {
   "cell_type": "markdown",
   "metadata": {},
   "source": [
    "# The full nonlinear equations and integrator\n",
    "\n",
    "Our equations of motion for optomechanics.\n",
    "\n",
    "First start with the mechanics:\n",
    "\n",
    "$$\n",
    "\\frac{dv}{dt} = \\frac{F}{m} = -\\gamma v + \\frac{\\hbar G |a|^2}{m}\n",
    "$$\n",
    "\n",
    "where the variable $a$ is the (classical) complex field variable (<a href=https://nas-steelelab.tnw.tudelft.nl:5001/d/f/481363702669389679>Haus</a> page 198): for an LC circuit, if $i$ is the current in the inductor and $v$ is the voltage on the capacitor, then $a$ is given by:\n",
    "\n",
    "$$\n",
    "a = \\sqrt{\\frac{C}{2}} \\left( v + j \\sqrt{\\frac{L}{C}} i \\right)\n",
    "$$\n",
    "\n",
    "where $j = \\sqrt{-1}$. In this convention, a would have funny units: it would have units of the square root of Energy, or equivalently, the square root of photon number. In the equations we will use, we will divide this by $\\hbar \\omega_c$ to convert these into photon number. \n",
    "\n",
    "Doing so, the equation of motion for the cavity is reduced from a second order (real valued) one to a first order (complex-valued) one. We will furthermore go into the rotating frame of the the external drive tone by including a factor $\\exp(i\\omega_d t)$ in $a$ already. This gives the following equation of motion for $a$: \n",
    "\n",
    "$$\n",
    "\\frac{da}{dt} = j(\\Delta + Gx) a - \\frac{\\kappa a}{2}\n",
    "$$\n",
    "\n",
    "To include an external driving of the cavity, we need to add additional terms to this equation: \n",
    "\n",
    "$$\n",
    "\\frac{da}{dt} = j(\\Delta + Gx) a - \\frac{\\kappa a}{2} + \\kappa_{e} a_{e} \\exp(-j \\omega_{e} t)\n",
    "$$\n",
    "\n",
    "For OMIT, our driving will consist of two terms: a pump term and a probe term. For the measurement analysis, it is easiest to go into the rotating frame of the probe, since our network analyzer will measure at the probe frequency. In this case, $\\Delta$ in the equation above is then detuning of the probe frequency from the cavity resonance frequency. \n"
   ]
  },
  {
   "cell_type": "markdown",
   "metadata": {},
   "source": [
    "## The integrator"
   ]
  },
  {
   "cell_type": "code",
   "execution_count": null,
   "metadata": {},
   "outputs": [],
   "source": [
    "def dydt(t, y):\n",
    "    v = y[0]\n",
    "    x = y[1]\n",
    "    a = y[2]\n",
    "    \n",
    "    dy0 = -gamma*v - (w_m**2)*x + hbar*G*np.abs(a)**2/m\n",
    "    dy1 = v\n",
    "    dy2 = 1j*(delta + G*x)*a - kappa/2.0*a + np.sqrt(kext)* \\\n",
    "            (np.sqrt(probe)*np.exp(1j*w_probe*t) \\\n",
    "            + np.sqrt(pump)*np.exp(1j*w_pump*t))\n",
    "    \n",
    "    return np.array([dy0, dy1, dy2])"
   ]
  },
  {
   "cell_type": "markdown",
   "metadata": {},
   "source": [
    "Parameters:\n",
    "\n",
    "* `delta`: Detuning of the cavity resonance relative to the rotating frame\n",
    "* `probe`, `w_probe`: Probe power and probe angular frequency, relative to rotating frame frequency\n",
    "* `pump`, `w_pump`: Pump power and probe angular frequency, relative to rotating frame frequency\n",
    "* `w_m`, `gamma`: Mechanical angular frequency, mechanical damping rate\n",
    "* `m`: Mass of mechanical resonator\n",
    "* `G`: Cavity pull parameter (dw/dx)\n",
    "\n",
    "Variables:\n",
    "\n",
    "* `a`: (Complex-valued) Cavity field variable\n",
    "* `x`, `v`: mechanical displacement and velocity"
   ]
  },
  {
   "cell_type": "markdown",
   "metadata": {},
   "source": [
    "# Testing and benchmarking"
   ]
  },
  {
   "cell_type": "markdown",
   "metadata": {},
   "source": [
    "## Simple example: `g_0 = 0`, `delta = 0`, ring up cavity"
   ]
  },
  {
   "cell_type": "code",
   "execution_count": null,
   "metadata": {},
   "outputs": [],
   "source": [
    "## Mechanics\n",
    "\n",
    "gamma = 10e3 *2*pi # Hz * 2pi\n",
    "m = 200e-12 *2*pi # kg\n",
    "w_m = 200e3 *2*pi # Hz * 2pi\n",
    "\n",
    "# Derived quantitites\n",
    "x_zpf = np.sqrt(hbar/2/m/w_m)\n",
    "print(\"x_zpf is %e m\" % x_zpf)\n",
    "\n",
    "## Coupling\n",
    "\n",
    "g0 = 0 *2*pi # Hz * 2pi\n",
    "\n",
    "# Derived Quantities\n",
    "G = g0 / x_zpf\n",
    "\n",
    "## Cavity\n",
    "\n",
    "kappa = 100e3 * 2*pi # Hz * 2pi\n",
    "kext = 50e3 # Hz * 2pi\n",
    "delta = 0e5 * 2*pi# Hz * 2pi\n",
    "probe = 1 # Power? \n",
    "w_probe = 0\n",
    "pump = 0 # Power? \n",
    "w_pump = 0\n",
    "\n",
    "# Initial conditions\n",
    "\n",
    "x0 = 0\n",
    "v0 = 0\n",
    "a0 = 0+0j # Need this to be complex to force a complex-valued integrator\n",
    "y0 = [x0, v0, a0]\n",
    "\n",
    "# How long should we run simulation?\n",
    "# Dynamnics for ringing up simulation will be on the order of 1/kappa\n",
    "\n",
    "T = 10/kappa\n",
    "t = np.linspace(0,T,1000)\n",
    "\n",
    "sol = solve_ivp(dydt, [0,T], y0, t_eval=t, method='BDF')\n",
    "x = sol.y[0]\n",
    "v = sol.y[1]\n",
    "a = sol.y[2]\n",
    "\n",
    "plot_both()"
   ]
  },
  {
   "cell_type": "markdown",
   "metadata": {},
   "source": [
    "## `g_0 = 0`, `delta != 0`, `w_probe != 0`, ring up cavity"
   ]
  },
  {
   "cell_type": "code",
   "execution_count": null,
   "metadata": {},
   "outputs": [],
   "source": [
    "def update1(pr = 0, d = 0):\n",
    "    global delta, x, v, a, w_probe\n",
    "    w_probe = pr*1e6 *2*pi\n",
    "    delta = d*1e6 *2*pi\n",
    "    sol = solve_ivp(dydt, [0,T], y0, t_eval=t, method='BDF')\n",
    "    x = sol.y[0]\n",
    "    v = sol.y[1]\n",
    "    a = sol.y[2]\n",
    "    plot_cavity()\n",
    "    \n",
    "interact(update1, pr=(-10,10,0.1), d=(-10,10,0.1))"
   ]
  },
  {
   "cell_type": "markdown",
   "metadata": {},
   "source": [
    "## `g_0 = 20`, `delta != 0`, `w_probe != 0`, ring up cavity"
   ]
  },
  {
   "cell_type": "code",
   "execution_count": null,
   "metadata": {},
   "outputs": [],
   "source": [
    "g0 = 2* 2*pi # Hz\n",
    "G = g0 / x_zpf\n",
    "gamma = 10e3 *2*pi # Hz * 2pi\n",
    "probe=100\n",
    "\n",
    "T = 10/gamma\n",
    "t = np.linspace(0,T,100000)\n",
    "\n",
    "def update1(pr = 0, d = 0):\n",
    "    global delta, x, v, a, w_probe\n",
    "    w_probe = pr*1e6 *2*pi\n",
    "    delta = d*1e6 *2*pi\n",
    "    sol = solve_ivp(dydt, [0,T], y0, t_eval=t, method='BDF')\n",
    "    x = sol.y[0]\n",
    "    v = sol.y[1]\n",
    "    a = sol.y[2]\n",
    "    plot_both()\n",
    "    \n",
    "    \n",
    "interact(update1, pr=(-10,10,0.1), d=(-10,10,0.1))"
   ]
  },
  {
   "cell_type": "code",
   "execution_count": null,
   "metadata": {},
   "outputs": [],
   "source": []
  },
  {
   "cell_type": "code",
   "execution_count": null,
   "metadata": {},
   "outputs": [],
   "source": []
  }
 ],
 "metadata": {
  "jupytext": {
   "formats": "ipynb,md"
  },
  "kernelspec": {
   "display_name": "Python 3",
   "language": "python",
   "name": "python3"
  }
 },
 "nbformat": 4,
 "nbformat_minor": 2
}
