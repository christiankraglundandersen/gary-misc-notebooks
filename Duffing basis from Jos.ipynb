{
 "cells": [
  {
   "cell_type": "code",
   "execution_count": 1,
   "metadata": {},
   "outputs": [],
   "source": [
    "import numpy as np\n",
    "import matplotlib.pyplot as plt\n",
    "\n",
    "omega = 1.6\n",
    "\n",
    "def force(x, v, t):\n",
    "    f = x - x**3 + 2.0*np.cos(2.4*t)\n",
    "    return f\n",
    "\n",
    "def verlet_steps(x, v, h, steps):\n",
    "    gamma = 0.2\n",
    "    t = 0\n",
    "    fac_pl = 1.0/(1 + 0.5*gamma*h)\n",
    "    fac_mi = 1 - 0.5*gamma*h\n",
    "    f = force(x, v, t)\n",
    "    for i in range(steps):\n",
    "        v = fac_mi*v + 0.5*h*f # From now until four lines down, v is evaluated at the half time step.\n",
    "        x = x + h*v\n",
    "        t = t + h\n",
    "        f = force(x, v, t)\n",
    "        v = (v + 0.5*h*f)*fac_pl\n",
    "    return x, v\n",
    "Ni = 200\n",
    "steps = 2000\n",
    "h = 0.02\n",
    "x_vals = np.linspace(-6,6,Ni)\n",
    "v_vals = np.linspace(-6,6,Ni)\n",
    "\n",
    "X, V = np.meshgrid(x_vals, v_vals)\n",
    "X, V = verlet_steps(X,V, h, steps)"
   ]
  },
  {
   "cell_type": "markdown",
   "metadata": {},
   "source": [
    "Note quite what I was looking for..."
   ]
  }
 ],
 "metadata": {
  "jupytext": {
   "formats": "ipynb,md"
  },
  "kernelspec": {
   "display_name": "Python 3",
   "language": "python",
   "name": "python3"
  },
  "language_info": {
   "codemirror_mode": {
    "name": "ipython",
    "version": 3
   },
   "file_extension": ".py",
   "mimetype": "text/x-python",
   "name": "python",
   "nbconvert_exporter": "python",
   "pygments_lexer": "ipython3",
   "version": "3.7.4"
  }
 },
 "nbformat": 4,
 "nbformat_minor": 2
}
