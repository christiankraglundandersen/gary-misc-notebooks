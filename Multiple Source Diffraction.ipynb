{
 "cells": [
  {
   "cell_type": "code",
   "execution_count": null,
   "metadata": {},
   "outputs": [],
   "source": [
    "import numpy as np\n",
    "import matplotlib.pyplot as plt\n",
    "from ipywidgets import interact"
   ]
  },
  {
   "cell_type": "markdown",
   "metadata": {},
   "source": [
    "#### This sounds pretty cool:\n",
    "\n",
    "https://www.brown.edu/research/labs/mittleman/sites/brown.edu.research.labs.mittleman/files/uploads/lecture30_0.pdf\n",
    "\n",
    "<img src=\"attachment:Screenshot%202019-02-24%20at%2011.05.36.png\" width=70%></img>\n",
    "\n",
    "Let's try it! We'll start with the example from our lecture notebook.\n",
    "\n",
    "First, set up the matrix and create some functions. "
   ]
  },
  {
   "cell_type": "code",
   "execution_count": null,
   "metadata": {},
   "outputs": [],
   "source": [
    "N = 2000\n",
    "\n",
    "# Lower case letters correspond to the 1D array of coordinates in the two directions\n",
    "x = np.linspace(-N/2,N/2,N+1)\n",
    "y = np.linspace(-N/2,N/2,N+1)\n",
    "\n",
    "# Upper case letters correspont to 2D coordinate matrices\n",
    "X, Y = np.meshgrid(x, y)\n",
    "\n",
    "global M\n",
    "\n",
    "# We'll use global variables\n",
    "def draw_circle(x0,y0,r):\n",
    "    global M\n",
    "    M += (X-x0)**2 + (Y-y0)**2 < r**2\n",
    "\n",
    "def update(d=50, r=20, m = 1):\n",
    "    global M\n",
    "    M = np.zeros([N+1,N+1])\n",
    "    M = M>0\n",
    "    draw_circle(-d,-d,r)\n",
    "    draw_circle(d,d,r)\n",
    "    plt.subplots(figsize=(15,7))\n",
    "    plt.subplot(121)\n",
    "    zoom = 150\n",
    "    n1 = int(N/2-zoom)\n",
    "    n2 = int(N/2+zoom)\n",
    "    ext = [x[n1], x[n2], y[n1], y[n2]]\n",
    "    plt.imshow(M[n1:n2,n1:n2], extent=ext)\n",
    "    Mt = np.abs(np.fft.fftshift(np.fft.fft2(M)))**2\n",
    "    Mt /= np.max(Mt)\n",
    "    plt.subplot(122)\n",
    "    plt.imshow(Mt[n1:n2,n1:n2], extent=ext, vmax=m)\n",
    "    \n",
    "interact(update, d=(0,100,5), r=(1,100,5), m=(0.01,1,0.1))"
   ]
  },
  {
   "cell_type": "code",
   "execution_count": null,
   "metadata": {},
   "outputs": [],
   "source": []
  }
 ],
 "metadata": {
  "jupytext": {
   "formats": "ipynb,md"
  },
  "kernelspec": {
   "display_name": "Python 3",
   "language": "python",
   "name": "python3"
  }
 },
 "nbformat": 4,
 "nbformat_minor": 2
}
