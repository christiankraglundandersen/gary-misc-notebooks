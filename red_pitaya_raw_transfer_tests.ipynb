{
 "cells": [
  {
   "cell_type": "code",
   "execution_count": 28,
   "metadata": {},
   "outputs": [],
   "source": [
    "import redpitaya_scpi as scpi\n",
    "import numpy as np\n",
    "import time\n"
   ]
  },
  {
   "cell_type": "code",
   "execution_count": 29,
   "metadata": {},
   "outputs": [
    {
     "data": {
      "text/plain": [
       "array([    1,     8,    64,  1024,  8192, 65536], dtype=int32)"
      ]
     },
     "execution_count": 29,
     "metadata": {},
     "output_type": "execute_result"
    }
   ],
   "source": [
    "# Red Pitaya Stuff\n",
    "\n",
    "address = \"rp-f06897.local\"\n",
    "rp = scpi.scpi(address)\n",
    "dec_exp = np.array([0,3,6,10,13,16])\n",
    "dec = 2**dec_exp\n",
    "t_total = np.array([131.072e-6, 1.049e-3, 8.389e-3, 134.218e-3,1.074, 8.590])\n",
    "dec"
   ]
  },
  {
   "cell_type": "markdown",
   "metadata": {},
   "source": [
    "ASCII Version"
   ]
  },
  {
   "cell_type": "code",
   "execution_count": 39,
   "metadata": {},
   "outputs": [
    {
     "ename": "UnicodeDecodeError",
     "evalue": "'utf-8' codec can't decode byte 0x86 in position 5: invalid start byte",
     "output_type": "error",
     "traceback": [
      "\u001b[1;31m---------------------------------------------------------------------------\u001b[0m",
      "\u001b[1;31mUnicodeDecodeError\u001b[0m                        Traceback (most recent call last)",
      "\u001b[1;32m<ipython-input-39-9358c57cff0d>\u001b[0m in \u001b[0;36m<module>\u001b[1;34m\u001b[0m\n\u001b[0;32m      8\u001b[0m \u001b[1;32mwhile\u001b[0m \u001b[1;36m1\u001b[0m\u001b[1;33m:\u001b[0m\u001b[1;33m\u001b[0m\u001b[1;33m\u001b[0m\u001b[0m\n\u001b[0;32m      9\u001b[0m     \u001b[0mrp\u001b[0m\u001b[1;33m.\u001b[0m\u001b[0mtx_txt\u001b[0m\u001b[1;33m(\u001b[0m\u001b[1;34m'ACQ:TRIG:STAT?'\u001b[0m\u001b[1;33m)\u001b[0m\u001b[1;33m\u001b[0m\u001b[1;33m\u001b[0m\u001b[0m\n\u001b[1;32m---> 10\u001b[1;33m     \u001b[1;32mif\u001b[0m \u001b[0mrp\u001b[0m\u001b[1;33m.\u001b[0m\u001b[0mrx_txt\u001b[0m\u001b[1;33m(\u001b[0m\u001b[1;33m)\u001b[0m \u001b[1;33m==\u001b[0m \u001b[1;34m'TD'\u001b[0m\u001b[1;33m:\u001b[0m\u001b[1;33m\u001b[0m\u001b[1;33m\u001b[0m\u001b[0m\n\u001b[0m\u001b[0;32m     11\u001b[0m         \u001b[1;32mbreak\u001b[0m\u001b[1;33m\u001b[0m\u001b[1;33m\u001b[0m\u001b[0m\n\u001b[0;32m     12\u001b[0m \u001b[1;33m\u001b[0m\u001b[0m\n",
      "\u001b[1;32m~\\SynologyDrive\\Gary Testing Red Pitaya\\redpitaya_scpi.py\u001b[0m in \u001b[0;36mrx_txt\u001b[1;34m(self, chunksize)\u001b[0m\n\u001b[0;32m     42\u001b[0m         \u001b[0mmsg\u001b[0m \u001b[1;33m=\u001b[0m \u001b[1;34m''\u001b[0m\u001b[1;33m\u001b[0m\u001b[1;33m\u001b[0m\u001b[0m\n\u001b[0;32m     43\u001b[0m         \u001b[1;32mwhile\u001b[0m \u001b[1;36m1\u001b[0m\u001b[1;33m:\u001b[0m\u001b[1;33m\u001b[0m\u001b[1;33m\u001b[0m\u001b[0m\n\u001b[1;32m---> 44\u001b[1;33m             \u001b[0mchunk\u001b[0m \u001b[1;33m=\u001b[0m \u001b[0mself\u001b[0m\u001b[1;33m.\u001b[0m\u001b[0m_socket\u001b[0m\u001b[1;33m.\u001b[0m\u001b[0mrecv\u001b[0m\u001b[1;33m(\u001b[0m\u001b[0mchunksize\u001b[0m \u001b[1;33m+\u001b[0m \u001b[0mlen\u001b[0m\u001b[1;33m(\u001b[0m\u001b[0mself\u001b[0m\u001b[1;33m.\u001b[0m\u001b[0mdelimiter\u001b[0m\u001b[1;33m)\u001b[0m\u001b[1;33m)\u001b[0m\u001b[1;33m.\u001b[0m\u001b[0mdecode\u001b[0m\u001b[1;33m(\u001b[0m\u001b[1;34m'utf-8'\u001b[0m\u001b[1;33m)\u001b[0m \u001b[1;31m# Receive chunk size of 2^n preferably\u001b[0m\u001b[1;33m\u001b[0m\u001b[1;33m\u001b[0m\u001b[0m\n\u001b[0m\u001b[0;32m     45\u001b[0m             \u001b[0mmsg\u001b[0m \u001b[1;33m+=\u001b[0m \u001b[0mchunk\u001b[0m\u001b[1;33m\u001b[0m\u001b[1;33m\u001b[0m\u001b[0m\n\u001b[0;32m     46\u001b[0m             \u001b[1;32mif\u001b[0m \u001b[1;33m(\u001b[0m\u001b[0mlen\u001b[0m\u001b[1;33m(\u001b[0m\u001b[0mchunk\u001b[0m\u001b[1;33m)\u001b[0m \u001b[1;32mand\u001b[0m \u001b[0mchunk\u001b[0m\u001b[1;33m[\u001b[0m\u001b[1;33m-\u001b[0m\u001b[1;36m2\u001b[0m\u001b[1;33m:\u001b[0m\u001b[1;33m]\u001b[0m \u001b[1;33m==\u001b[0m \u001b[0mself\u001b[0m\u001b[1;33m.\u001b[0m\u001b[0mdelimiter\u001b[0m\u001b[1;33m)\u001b[0m\u001b[1;33m:\u001b[0m\u001b[1;33m\u001b[0m\u001b[1;33m\u001b[0m\u001b[0m\n",
      "\u001b[1;31mUnicodeDecodeError\u001b[0m: 'utf-8' codec can't decode byte 0x86 in position 5: invalid start byte"
     ]
    }
   ],
   "source": [
    "tn = [time.time()]\n",
    "rp.tx_txt('ACQ:RST')\n",
    "rp.tx_txt('ACQ:DATA:FORMAT ASCII')\n",
    "rp.tx_txt(\"ACQ:DEC 1024\")\n",
    "rp.tx_txt('ACQ:START')\n",
    "rp.tx_txt('ACQ:TRIG NOW')\n",
    "\n",
    "while 1:\n",
    "    rp.tx_txt('ACQ:TRIG:STAT?')\n",
    "    if rp.rx_txt() == 'TD':\n",
    "        break\n",
    "        \n",
    "rp.tx_txt('ACQ:SOUR1:DATA?')\n",
    "buf = rp.rx_txt()\n",
    "tn.append(time.time())\n",
    "\n",
    "print(\"Total time: %f\" % (tn[-1]-tn[0]))\n",
    "print(\"Splits:\")\n",
    "for i in range(len(tn)-1):\n",
    "    print(\"%f\" % (tn[i+1]-tn[i]))\n",
    "\n",
    "print('\\nBuffer: \\n')\n",
    "print(buf)"
   ]
  },
  {
   "cell_type": "markdown",
   "metadata": {},
   "source": [
    "Binary version"
   ]
  },
  {
   "cell_type": "code",
   "execution_count": 37,
   "metadata": {},
   "outputs": [
    {
     "name": "stdout",
     "output_type": "stream",
     "text": [
      "Total time: 0.001000\n",
      "Splits:\n",
      "0.001000\n",
      "\n",
      "Buffer: \n",
      "\n",
      "False\n"
     ]
    }
   ],
   "source": [
    "tn = [time.time()]\n",
    "rp.tx_txt('ACQ:RST')\n",
    "rp.tx_txt(\"ACQ:DEC 1024\")\n",
    "rp.tx_txt('ACQ:DATA:FORMAT BIN')\n",
    "rp.tx_txt('ACQ:START')\n",
    "rp.tx_txt('ACQ:TRIG NOW')\n",
    "rp.tx_txt('ACQ:SOUR1:DATA?')\n",
    "\n",
    "buf = rp.rx_arb()\n",
    "tn.append(time.time())\n",
    "\n",
    "print(\"Total time: %f\" % (tn[-1]-tn[0]))\n",
    "print(\"Splits:\")\n",
    "for i in range(len(tn)-1):\n",
    "    print(\"%f\" % (tn[i+1]-tn[i]))\n",
    "\n",
    "print('\\nBuffer: \\n')\n",
    "print(buf)"
   ]
  },
  {
   "cell_type": "markdown",
   "metadata": {},
   "source": [
    "If I run the above code, my red pitaya then also seems to completely crash...its built-in webserver is no longer responsive.\n",
    "\n",
    "And all subsequent attempst to connect with ASCII code above also fail until I manage to stop and restart the SCPI server?"
   ]
  }
 ],
 "metadata": {
  "kernelspec": {
   "display_name": "Python 3",
   "language": "python",
   "name": "python3"
  },
  "language_info": {
   "codemirror_mode": {
    "name": "ipython",
    "version": 3
   },
   "file_extension": ".py",
   "mimetype": "text/x-python",
   "name": "python",
   "nbconvert_exporter": "python",
   "pygments_lexer": "ipython3",
   "version": "3.7.1"
  }
 },
 "nbformat": 4,
 "nbformat_minor": 2
}
