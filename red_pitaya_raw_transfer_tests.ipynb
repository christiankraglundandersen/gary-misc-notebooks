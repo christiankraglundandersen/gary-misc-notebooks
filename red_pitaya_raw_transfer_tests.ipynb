{
 "cells": [
  {
   "cell_type": "code",
   "execution_count": 1,
   "metadata": {
    "ExecuteTime": {
     "end_time": "2020-03-15T21:36:44.120143Z",
     "start_time": "2020-03-15T21:36:43.928378Z"
    }
   },
   "outputs": [],
   "source": [
    "import redpitaya_scpi as scpi\n",
    "import numpy as np\n",
    "import time\n"
   ]
  },
  {
   "cell_type": "code",
   "execution_count": 2,
   "metadata": {
    "ExecuteTime": {
     "end_time": "2020-03-15T21:36:44.737695Z",
     "start_time": "2020-03-15T21:36:44.723074Z"
    }
   },
   "outputs": [
    {
     "data": {
      "text/plain": [
       "array([    1,     8,    64,  1024,  8192, 65536])"
      ]
     },
     "execution_count": 2,
     "metadata": {},
     "output_type": "execute_result"
    }
   ],
   "source": [
    "# Red Pitaya Stuff\n",
    "\n",
    "address = \"rp-f06897.local\"\n",
    "rp_s = scpi.scpi(address)\n",
    "dec_exp = np.array([0,3,6,10,13,16])\n",
    "dec = 2**dec_exp\n",
    "t_total = np.array([131.072e-6, 1.049e-3, 8.389e-3, 134.218e-3,1.074, 8.590])\n",
    "dec"
   ]
  },
  {
   "cell_type": "markdown",
   "metadata": {},
   "source": [
    "ASCII Version"
   ]
  },
  {
   "cell_type": "code",
   "execution_count": 3,
   "metadata": {
    "ExecuteTime": {
     "end_time": "2020-03-15T21:36:45.768640Z",
     "start_time": "2020-03-15T21:36:45.696216Z"
    }
   },
   "outputs": [],
   "source": [
    "rp_s.tx_txt('ACQ:RST')\n",
    "rp_s.tx_txt('ACQ:DATA:FORMAT ASCII')\n",
    "rp_s.tx_txt(\"ACQ:DEC 1024\")\n",
    "rp_s.tx_txt('ACQ:START')\n",
    "rp_s.tx_txt('ACQ:TRIG NOW')\n",
    "\n",
    "while 1:\n",
    "    rp_s.tx_txt('ACQ:TRIG:STAT?')\n",
    "    if rp_s.rx_txt() == 'TD':\n",
    "        break\n",
    "        "
   ]
  },
  {
   "cell_type": "markdown",
   "metadata": {},
   "source": [
    "The above triggers and runs the acquisition."
   ]
  },
  {
   "cell_type": "code",
   "execution_count": 90,
   "metadata": {
    "ExecuteTime": {
     "end_time": "2020-03-15T22:32:04.913144Z",
     "start_time": "2020-03-15T22:32:02.970028Z"
    },
    "scrolled": true
   },
   "outputs": [
    {
     "name": "stdout",
     "output_type": "stream",
     "text": [
      "\n",
      "Buffer: \n",
      "\n",
      "{0.000513271,0.000256636,0.000256636,0.000256636,0.000256636,0.000256636,0.000256636,0.000256636,0.0\n"
     ]
    }
   ],
   "source": [
    "rp_s.tx_txt('ACQ:DATA:UNITS VOLTS')\n",
    "rp_s.tx_txt('ACQ:DATA:FORMAT ASCII')    \n",
    "rp_s.tx_txt('ACQ:SOUR1:DATA?')\n",
    "buf = rp_s.rx_txt()\n",
    "rp_s.tx_txt('ACQ:SOUR2:DATA?')\n",
    "buf = rp_s.rx_txt()\n",
    "print('\\nBuffer: \\n')\n",
    "print(buf[0:100])"
   ]
  },
  {
   "cell_type": "markdown",
   "metadata": {},
   "source": [
    "Binary version\n",
    "\n",
    "From python file, it seems you need to use the `rx_arb()` routine:\n",
    "\n",
    "https://github.com/RedPitaya/RedPitaya/blob/master/Examples/python/redpitaya_scpi.py\n",
    "\n",
    "But there are no real instructions on how? \n",
    "\n",
    "Probably the best documentation of this is the source code of the SCPI server itself:\n",
    "\n",
    "https://github.com/RedPitaya/RedPitaya/tree/master/scpi-server/src\n",
    "\n",
    "I think the relevant function is `RP_AcqDataOldestAllQ`:\n",
    "\n",
    "https://github.com/RedPitaya/RedPitaya/blob/master/scpi-server/src/acquire.c\n",
    "\n",
    "I guess this from here:\n",
    "\n",
    "https://github.com/RedPitaya/RedPitaya/blob/master/scpi-server/src/scpi-commands.c\n",
    "\n",
    "```\n",
    "    {.pattern = \"ACQ:SOUR#:DATA?\", .callback            = RP_AcqDataOldestAllQ,},\n",
    "```\n",
    "\n",
    "OK, wait, I just found this:\n",
    "\n",
    "https://github.com/RedPitaya/RedPitaya/blob/master/test/scpi/acq_bin_test.py"
   ]
  },
  {
   "cell_type": "markdown",
   "metadata": {},
   "source": [
    "If I run the above code, my red pitaya then also seems to completely crash...its built-in webserver is no longer responsive.\n",
    "\n",
    "And all subsequent attempst to connect with ASCII code above also fail until I manage to stop and restart the SCPI server?\n",
    "\n",
    "Ok, I found some useful code: \n",
    "\n",
    "https://github.com/RedPitaya/RedPitaya/blob/master/test/scpi/acq_bin_test.py\n",
    "\n",
    "It shows in principle how to use the binary read. "
   ]
  },
  {
   "cell_type": "code",
   "execution_count": 7,
   "metadata": {
    "ExecuteTime": {
     "end_time": "2020-03-15T21:37:25.925552Z",
     "start_time": "2020-03-15T21:37:01.563034Z"
    }
   },
   "outputs": [
    {
     "ename": "KeyboardInterrupt",
     "evalue": "",
     "output_type": "error",
     "traceback": [
      "\u001b[0;31m---------------------------------------------------------------------------\u001b[0m",
      "\u001b[0;31mKeyboardInterrupt\u001b[0m                         Traceback (most recent call last)",
      "\u001b[0;32m<ipython-input-7-cb915317d1fc>\u001b[0m in \u001b[0;36m<module>\u001b[0;34m\u001b[0m\n\u001b[1;32m      3\u001b[0m \u001b[0;34m\u001b[0m\u001b[0m\n\u001b[1;32m      4\u001b[0m \u001b[0mrp_s\u001b[0m\u001b[0;34m.\u001b[0m\u001b[0mtx_txt\u001b[0m\u001b[0;34m(\u001b[0m\u001b[0;34m'ACQ:SOUR1:DATA?'\u001b[0m\u001b[0;34m)\u001b[0m\u001b[0;34m\u001b[0m\u001b[0;34m\u001b[0m\u001b[0m\n\u001b[0;32m----> 5\u001b[0;31m \u001b[0mbuf\u001b[0m \u001b[0;34m=\u001b[0m \u001b[0mrp_s\u001b[0m\u001b[0;34m.\u001b[0m\u001b[0mrx_arb\u001b[0m\u001b[0;34m(\u001b[0m\u001b[0;34m)\u001b[0m\u001b[0;34m\u001b[0m\u001b[0;34m\u001b[0m\u001b[0m\n\u001b[0m\u001b[1;32m      6\u001b[0m \u001b[0mprint\u001b[0m\u001b[0;34m(\u001b[0m\u001b[0mbuf\u001b[0m\u001b[0;34m)\u001b[0m\u001b[0;34m\u001b[0m\u001b[0;34m\u001b[0m\u001b[0m\n",
      "\u001b[0;32m~/Documents/GitHub/gary-misc-notebooks/redpitaya_scpi.py\u001b[0m in \u001b[0;36mrx_arb\u001b[0;34m(self)\u001b[0m\n\u001b[1;32m     53\u001b[0m         \u001b[0mbuf\u001b[0m\u001b[0;34m=\u001b[0m\u001b[0;34m''\u001b[0m\u001b[0;34m\u001b[0m\u001b[0;34m\u001b[0m\u001b[0m\n\u001b[1;32m     54\u001b[0m         \u001b[0;32mwhile\u001b[0m \u001b[0;34m(\u001b[0m\u001b[0mlen\u001b[0m\u001b[0;34m(\u001b[0m\u001b[0mbuf\u001b[0m\u001b[0;34m)\u001b[0m \u001b[0;34m!=\u001b[0m \u001b[0;36m1\u001b[0m\u001b[0;34m)\u001b[0m\u001b[0;34m:\u001b[0m\u001b[0;34m\u001b[0m\u001b[0;34m\u001b[0m\u001b[0m\n\u001b[0;32m---> 55\u001b[0;31m             \u001b[0mbuf\u001b[0m \u001b[0;34m=\u001b[0m \u001b[0mstr\u001b[0m\u001b[0;34m(\u001b[0m\u001b[0mself\u001b[0m\u001b[0;34m.\u001b[0m\u001b[0m_socket\u001b[0m\u001b[0;34m.\u001b[0m\u001b[0mrecv\u001b[0m\u001b[0;34m(\u001b[0m\u001b[0;36m1\u001b[0m\u001b[0;34m)\u001b[0m\u001b[0;34m)\u001b[0m\u001b[0;34m\u001b[0m\u001b[0;34m\u001b[0m\u001b[0m\n\u001b[0m\u001b[1;32m     56\u001b[0m         \u001b[0;32mif\u001b[0m \u001b[0;32mnot\u001b[0m \u001b[0;34m(\u001b[0m\u001b[0mbuf\u001b[0m \u001b[0;34m==\u001b[0m \u001b[0;34mb'#'\u001b[0m\u001b[0;34m)\u001b[0m\u001b[0;34m:\u001b[0m\u001b[0;34m\u001b[0m\u001b[0;34m\u001b[0m\u001b[0m\n\u001b[1;32m     57\u001b[0m             \u001b[0;32mreturn\u001b[0m \u001b[0;32mFalse\u001b[0m\u001b[0;34m\u001b[0m\u001b[0;34m\u001b[0m\u001b[0m\n",
      "\u001b[0;31mKeyboardInterrupt\u001b[0m: "
     ]
    }
   ],
   "source": [
    "rp_s.tx_txt('ACQ:DATA:UNITS VOLTS')\n",
    "rp_s.tx_txt('ACQ:DATA:FORMAT BIN')\n",
    "\n",
    "rp_s.tx_txt('ACQ:SOUR1:DATA?')\n",
    "buf = rp_s.rx_arb()\n",
    "print(buf)"
   ]
  },
  {
   "cell_type": "markdown",
   "metadata": {},
   "source": [
    "OK, this just does not work.\n",
    "\n",
    "And now if I try to execute the ASCII code above, I get errors!\n",
    "\n",
    "```\n",
    "---------------------------------------------------------------------------\n",
    "UnicodeDecodeError                        Traceback (most recent call last)\n",
    "<ipython-input-19-5f026792b443> in <module>\n",
    "      2 rp_s.tx_txt('ACQ:DATA:FORMAT ASCII')\n",
    "      3 rp_s.tx_txt('ACQ:SOUR1:DATA?')\n",
    "----> 4 buf = rp_s.rx_txt()\n",
    "      5 \n",
    "      6 print('\\nBuffer: \\n')\n",
    "\n",
    "~/Documents/GitHub/gary-misc-notebooks/redpitaya_scpi.py in rx_txt(self, chunksize)\n",
    "     42         msg = ''\n",
    "     43         while 1:\n",
    "---> 44             chunk = self._socket.recv(chunksize + len(self.delimiter)).decode('utf-8') # Receive chunk size of 2^n preferably\n",
    "     45             msg += chunk\n",
    "     46             if (len(chunk) and chunk[-2:] == self.delimiter):\n",
    "\n",
    "UnicodeDecodeError: 'utf-8' codec can't decode byte 0xfd in position 4008: invalid start byte\n",
    "```\n",
    "\n",
    "I think that the `rx_arb()` code is just not clearing the socket properly.\n",
    "\n",
    "I did this for a while:\n",
    "\n",
    "```\n",
    "while len(rp_s._socket.recv(1)) > 0:\n",
    "    ;\n",
    "```\n",
    "\n",
    "Now I'm not getting anything new from the socket. Let's go back up and try the ASCII code again.\n",
    "\n",
    "### 2020-03-15 22:29:31\n",
    "\n",
    "Ha! The ASCII code works again! Yes!\n",
    "\n",
    "Let's try just manually reading from the socket ourselves after a binary data request."
   ]
  },
  {
   "cell_type": "code",
   "execution_count": 91,
   "metadata": {
    "ExecuteTime": {
     "end_time": "2020-03-15T22:32:59.625205Z",
     "start_time": "2020-03-15T22:32:59.618870Z"
    }
   },
   "outputs": [],
   "source": [
    "def my_read():\n",
    "    # The first thing it sends is always a #\n",
    "    #\n",
    "    # One thing I don't understand here is that even if I do a recv(10), \n",
    "    # I always get only one answer back. Like somehow we are getting a\n",
    "    # terimination signal in the socket? I don't know enough about sockets. \n",
    "    # This doesn't work though for the the number of digits. \n",
    "    # Maybe I need to look in the SCPI server code. \n",
    "    #\n",
    "    buf = rp_s._socket.recv(1)\n",
    "    print(buf.decode('utf-8'))\n",
    "\n",
    "    # The second thing it sends is the number of digits in the byte count. \n",
    "    buf = rp_s._socket.recv(1)\n",
    "    digits_in_byte_count = int(buf)\n",
    "\n",
    "    # The third thing it sends is the byte count\n",
    "    buf = rp_s._socket.recv(digits_in_byte_count)\n",
    "    print(buf.decode('utf-8'))\n",
    "    byte_count = int(buf)\n",
    "\n",
    "    # Now we're ready read! You might thing we would just to a recv(byte_count), but somehow this often \n",
    "    # results in an incomplete transfer? Maybe related to first point above? \n",
    "    # The RP code just reads one byte at a time until it's gets all\n",
    "    # it wants? I tried that and it seems to work. But it is not mega-fast? 317 ms, whereas we should be \n",
    "    # able to get data off much faster than that! It is 65536 bytes = 5 ms at 100 MBit / second. \n",
    "    # But 317 ms is still at least a lot better than the ASCII read which takes 1.3 seconds!\n",
    "\n",
    "    buf = []\n",
    "    while len(buf) != byte_count:\n",
    "        buf.append(rp_s._socket.recv(1))\n",
    "    print(len(buf))"
   ]
  },
  {
   "cell_type": "code",
   "execution_count": 95,
   "metadata": {
    "ExecuteTime": {
     "end_time": "2020-03-15T22:33:35.396153Z",
     "start_time": "2020-03-15T22:33:35.391573Z"
    }
   },
   "outputs": [
    {
     "data": {
      "text/plain": [
       "21"
      ]
     },
     "execution_count": 95,
     "metadata": {},
     "output_type": "execute_result"
    }
   ],
   "source": [
    "rp_s.tx_txt('ACQ:DATA:UNITS VOLTS')\n",
    "rp_s.tx_txt('ACQ:DATA:FORMAT BIN')"
   ]
  },
  {
   "cell_type": "code",
   "execution_count": 105,
   "metadata": {
    "ExecuteTime": {
     "end_time": "2020-03-15T22:33:48.200328Z",
     "start_time": "2020-03-15T22:33:47.661046Z"
    },
    "scrolled": false
   },
   "outputs": [
    {
     "name": "stdout",
     "output_type": "stream",
     "text": [
      "#\n",
      "65536\n",
      "65536\n",
      "#\n",
      "65536\n",
      "65536\n"
     ]
    }
   ],
   "source": [
    "rp_s.tx_txt('ACQ:SOUR1:DATA?')\n",
    "my_read()\n",
    "rp_s.tx_txt('ACQ:SOUR2:DATA?')\n",
    "my_read()"
   ]
  },
  {
   "cell_type": "markdown",
   "metadata": {},
   "source": [
    "For if we need to clear the buffer"
   ]
  },
  {
   "cell_type": "code",
   "execution_count": 71,
   "metadata": {
    "ExecuteTime": {
     "end_time": "2020-03-15T22:03:26.858313Z",
     "start_time": "2020-03-15T22:03:24.759990Z"
    },
    "scrolled": true
   },
   "outputs": [
    {
     "ename": "KeyboardInterrupt",
     "evalue": "",
     "output_type": "error",
     "traceback": [
      "\u001b[0;31m---------------------------------------------------------------------------\u001b[0m",
      "\u001b[0;31mKeyboardInterrupt\u001b[0m                         Traceback (most recent call last)",
      "\u001b[0;32m<ipython-input-71-3d64e87e619a>\u001b[0m in \u001b[0;36m<module>\u001b[0;34m\u001b[0m\n\u001b[1;32m      1\u001b[0m \u001b[0mn\u001b[0m \u001b[0;34m=\u001b[0m \u001b[0;36m0\u001b[0m\u001b[0;34m\u001b[0m\u001b[0;34m\u001b[0m\u001b[0m\n\u001b[1;32m      2\u001b[0m \u001b[0;32mwhile\u001b[0m \u001b[0;32mTrue\u001b[0m\u001b[0;34m:\u001b[0m\u001b[0;34m\u001b[0m\u001b[0;34m\u001b[0m\u001b[0m\n\u001b[0;32m----> 3\u001b[0;31m     \u001b[0mrp_s\u001b[0m\u001b[0;34m.\u001b[0m\u001b[0m_socket\u001b[0m\u001b[0;34m.\u001b[0m\u001b[0mrecv\u001b[0m\u001b[0;34m(\u001b[0m\u001b[0;36m1\u001b[0m\u001b[0;34m)\u001b[0m\u001b[0;34m\u001b[0m\u001b[0;34m\u001b[0m\u001b[0m\n\u001b[0m\u001b[1;32m      4\u001b[0m     \u001b[0mn\u001b[0m \u001b[0;34m+=\u001b[0m \u001b[0;36m1\u001b[0m\u001b[0;34m\u001b[0m\u001b[0;34m\u001b[0m\u001b[0m\n",
      "\u001b[0;31mKeyboardInterrupt\u001b[0m: "
     ]
    }
   ],
   "source": [
    "n = 0\n",
    "while True:\n",
    "    rp_s._socket.recv(1)\n",
    "    n += 1"
   ]
  },
  {
   "cell_type": "code",
   "execution_count": 72,
   "metadata": {
    "ExecuteTime": {
     "end_time": "2020-03-15T22:03:29.107917Z",
     "start_time": "2020-03-15T22:03:29.104364Z"
    }
   },
   "outputs": [
    {
     "name": "stdout",
     "output_type": "stream",
     "text": [
      "0\n"
     ]
    }
   ],
   "source": [
    "print(n)"
   ]
  },
  {
   "cell_type": "code",
   "execution_count": 89,
   "metadata": {
    "ExecuteTime": {
     "end_time": "2020-03-15T22:08:12.947468Z",
     "start_time": "2020-03-15T22:08:12.942938Z"
    }
   },
   "outputs": [
    {
     "data": {
      "text/plain": [
       "0.00524288"
      ]
     },
     "execution_count": 89,
     "metadata": {},
     "output_type": "execute_result"
    }
   ],
   "source": [
    "len(buf)*8/100e6"
   ]
  },
  {
   "cell_type": "code",
   "execution_count": null,
   "metadata": {},
   "outputs": [],
   "source": []
  }
 ],
 "metadata": {
  "kernelspec": {
   "display_name": "Python 3",
   "language": "python",
   "name": "python3"
  },
  "language_info": {
   "codemirror_mode": {
    "name": "ipython",
    "version": 3
   },
   "file_extension": ".py",
   "mimetype": "text/x-python",
   "name": "python",
   "nbconvert_exporter": "python",
   "pygments_lexer": "ipython3",
   "version": "3.7.5"
  },
  "toc": {
   "base_numbering": 1,
   "nav_menu": {},
   "number_sections": false,
   "sideBar": true,
   "skip_h1_title": false,
   "title_cell": "Table of Contents",
   "title_sidebar": "Contents",
   "toc_cell": false,
   "toc_position": {},
   "toc_section_display": true,
   "toc_window_display": false
  }
 },
 "nbformat": 4,
 "nbformat_minor": 2
}
