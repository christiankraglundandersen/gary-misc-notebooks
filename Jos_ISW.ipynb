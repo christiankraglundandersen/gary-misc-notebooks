{
 "cells": [
  {
   "cell_type": "code",
   "execution_count": null,
   "metadata": {},
   "outputs": [],
   "source": [
    "import numpy as np\n",
    "import matplotlib.pyplot as plt\n",
    "import scipy.linalg as LA"
   ]
  },
  {
   "cell_type": "code",
   "execution_count": null,
   "metadata": {},
   "outputs": [],
   "source": [
    "plt.rcParams['figure.dpi'] = 100"
   ]
  },
  {
   "cell_type": "code",
   "execution_count": null,
   "metadata": {},
   "outputs": [],
   "source": [
    "N = 1000\n",
    "H = 2*np.eye(N)-np.eye(N,k=1)-np.eye(N,k=-1)\n",
    "w,v = LA.eigh(H)\n",
    "plt.figure(figsize=(8,10))\n",
    "plt.subplot(121)\n",
    "for i in range(5):\n",
    "    e = w[i]\n",
    "    plt.plot(v[:,i]/N/10+e)\n",
    "    plt.axhline(e, ls=\":\", c='grey')\n",
    "plt.subplot(122)\n",
    "i=np.array(range(N))+1\n",
    "plt.plot(i,w)\n",
    "plt.plot(i,i**2/N**2*10)\n",
    "plt.show()"
   ]
  },
  {
   "cell_type": "code",
   "execution_count": null,
   "metadata": {},
   "outputs": [],
   "source": []
  }
 ],
 "metadata": {
  "jupytext": {
   "formats": "ipynb,md"
  },
  "kernelspec": {
   "display_name": "Python 3",
   "language": "python",
   "name": "python3"
  }
 },
 "nbformat": 4,
 "nbformat_minor": 2
}
