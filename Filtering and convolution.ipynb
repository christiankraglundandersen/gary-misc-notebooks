{
 "cells": [
  {
   "cell_type": "code",
   "execution_count": null,
   "metadata": {},
   "outputs": [],
   "source": [
    "import numpy as np\n",
    "import matplotlib.pyplot as plt\n",
    "import scipy \n",
    "%matplotlib inline\n",
    "plt.rcParams['figure.figsize'] = (16, 6)\n",
    "plt.rcParams.update({'font.size': 12})"
   ]
  },
  {
   "cell_type": "markdown",
   "metadata": {},
   "source": [
    "# Filtering"
   ]
  },
  {
   "cell_type": "code",
   "execution_count": null,
   "metadata": {},
   "outputs": [],
   "source": [
    "# Start with a noisy sine wave\n",
    "\n",
    "fs = 10e3 # sampling frequency\n",
    "N = 1e5 # number of samples\n",
    "amp = 2*np.sqrt(2)\n",
    "freq = 1234.0\n",
    "noise_power = 0.001 * fs / 2\n",
    "t = np.arange(N) / fs\n",
    "xs = amp*np.sin(2*np.pi*freq*time) # The original sine wave\n",
    "x = xs + np.random.normal(scale=np.sqrt(noise_power), size=time.shape)\n",
    "\n",
    "plt.subplot(121)\n",
    "plt.plot(t,x)\n",
    "plt.plot(t,xs+20)\n",
    "plt.xlabel(\"Time(s)\")\n",
    "plt.xlim((0,0.01))\n",
    "plt.ylabel(\"Voltage (V)\")\n",
    "plt.subplot(122)\n",
    "plt.psd(x,Fs=fs, NFFT=2**11);"
   ]
  },
  {
   "cell_type": "markdown",
   "metadata": {},
   "source": [
    "Note that you really can't see the original 1234 Hz sine wave (orange) because of the noise. But if you look at the power spectral density, there is clearly a peak, so it must be there. Here, we will explore use filtering to make this sine wave visible in a plot of voltage vs time."
   ]
  },
  {
   "cell_type": "markdown",
   "metadata": {},
   "source": [
    "## Basic concepts of filtering\n",
    "\n",
    "A common way to remove noise from your data is to apply a low-pass filter: \n",
    "\n",
    "https://en.wikipedia.org/wiki/Low-pass_filter\n",
    "\n",
    "This is equivalent to passing your electrical signal through the following <a href=https://en.wikipedia.org/wiki/RC_circuit>RC circuit</a>:\n",
    "\n",
    "<img src=https://upload.wikimedia.org/wikipedia/commons/thumb/e/e0/1st_Order_Lowpass_Filter_RC.svg/320px-1st_Order_Lowpass_Filter_RC.svg.png>\n",
    "\n",
    "To predict what the output voltage is for a given input voltage, we need to know the <a href=https://en.wikipedia.org/wiki/Infinite_impulse_response>infinite impulse response</a>, which is the response of the circuit to an input an input voltage that is a delta-function $\\delta(0)$. For the circuit above, the impulse response is given by (see <a href=https://en.wikipedia.org/wiki/RC_circuit#Impulse_response>here</a>):\n",
    "\n",
    "\\begin{equation*}\n",
    "h(t) = \\frac{1}{\\tau} e^{-\\frac{-t}{\\tau}} \\theta(t)\n",
    "\\end{equation*}\n",
    "\n",
    "where $\\tau = RC$ is the RC time constant of the circuit, and $\\theta(t)$ is a step function.\n",
    "\n",
    "We can see what this looks like:"
   ]
  },
  {
   "cell_type": "code",
   "execution_count": null,
   "metadata": {},
   "outputs": [],
   "source": [
    "tau = 1\n",
    "plt.figure(figsize=(16,3))\n",
    "t = np.linspace(-5,5,1000)\n",
    "h = np.exp(-t)*(t>=0)\n",
    "plt.plot(t,h)"
   ]
  },
  {
   "cell_type": "markdown",
   "metadata": {},
   "source": [
    " For any given input voltage $V_in(t)$, the output voltage is then given by:\n",
    "\n",
    "\\begin{equation}\n",
    "V_{out}(t) = \\int_{-\\infty}^t V_{in}(t-\\tau) h(\\tau) d\\tau\n",
    "\\end{equation}\n",
    "\n",
    "A nice way to understand what this does is to make a plot. The output voltage $V_{out}$ at time $t_0$ is a \"weighted average\" of all the input voltages $V_{in}$ at times $t < t_0$ where the \"weighing factor\" is given by the function $h(-\\tau)$ that is decaying exponentially \"backwards\" in time:"
   ]
  },
  {
   "cell_type": "code",
   "execution_count": null,
   "metadata": {},
   "outputs": [],
   "source": []
  },
  {
   "cell_type": "code",
   "execution_count": null,
   "metadata": {},
   "outputs": [],
   "source": [
    "plt.figure(figsize=(16,3))\n",
    "vin = np.random.normal(size=len(t))*0.05\n",
    "plt.plot(t,vin,'.', color='grey')\n",
    "plt.plot(t,np.exp(t)*(t<0),'r')\n",
    "plt.fill_between(t,np.exp(t)*(t<0), alpha=0.1, color='r')\n",
    "plt.xlabel(\"Time\")"
   ]
  },
  {
   "cell_type": "markdown",
   "metadata": {},
   "source": [
    "We say that this filter has a \"memory\" because the value of $V_{out}$ depends on the values of $V_{in}$ in the past. We also say that it is \"causal\" because the value of $V_{out}$ at time $t$ does not depend on values of $V_{in} in the future.\n",
    "\n",
    "(Any real fiter you make in the lab will of course be \"causal\", but in softare you can easily make a non-causal filter if you want...)\n",
    "\n",
    "## Filtering in the frequency domain\n",
    "\n",
    "While it is possible to apply a low pass filter by convolving $V_{in}(t)$ with $h(\\tau)$ using, for example, two nested `for` loops, it is far more common in practice to perform filtering in the frequency domain.\n",
    "\n",
    "(The reason for this is partially that filtering in the frequency domain also has a nice intuitive picture, but also because the Fast Fourier Transform (FFT) makes it far more comptuationally efficient to filter in the frequency domain. In fact, for this reason, it is quite common to calculate all convolution integrals using Fourier tranforms in coputations!)\n",
    "\n",
    "To see how this works, we first look at an imporant mathematical result, known as the <a href=https://en.wikipedia.org/wiki/Convolution_theorem>convolution theorem</a>. Consider now a completely general function $c(x)$ given by the convolution of two function $f(x)$ and $g(x)$: \n",
    "\n",
    "\\begin{equation}\n",
    "c(x) = \\int_{-\\infty}^{\\infty} f(y) g(x-y) dy\n",
    "\\end{equation}\n",
    "\n",
    "If $\\tilde f(\\omega)$ and $\\tilde g(\\omega)$ are the Fourier transforms of $f(x)$ and $g(x)$ respectively, then the convolution theorem states that the Fourier transform $\\tilde c(\\omega)$ of $c(x)$ is given by: \n",
    "\n",
    "\\begin{equation}\n",
    "\\tilde c(\\omega) = \\tilde f(\\omega) \\ \\tilde g(\\omega)\n",
    "\\end{equation}\n",
    "\n",
    "This is a big deal! Why? In the first equation above, for each point in $h(x)$ I need to calculate a full integral. If these are all vectors of size $N$, this integral takes $N$ steps, and so calculating $h(x)$ take order $N^2$ steps. In the second equation, this is only **point-wise multiplication** of the two functions! So if I work in Fourier space, calculating the Fourier transform $\\tilde c(\\omega)$ takes only order $N$ steps. If $N$ is $10^6$, this is the differenc between $10^6$ steps and $10^{12}$ steps, **which is a big difference!** If a step takes 1 ms, this is the difference between a calculation of 3.6 hours or 31 years!\n",
    "\n",
    "(Of course, we still need to take the Fourier transform and inverse Fourier transform, but thanks to Gauss' genius, this scales only like $N\\log N$, so only $6\\times10^6$ steps.)\n",
    "\n",
    "To calculate $V_{out}$ of our filter, we then need to find the Fourier transform of our impulse response function $h(t)$. For the low pass filter above, this is given by:\n",
    "\n",
    "\\begin{equation}\n",
    "\\tilde h(\\omega) = \\frac{1}{1+i\\omega \\tau}\n",
    "\\end{equation}\n",
    "\n",
    "The Fourier transform $\\tilde h(\\omega)$ of the impulse response function is also referred to as the <a href=https://en.wikipedia.org/wiki/Transfer_function>Transfer Function</a>. In our case, it tells you how the amplitude and phase of an oscillating input signal is realted to the amplitude and phase of the output signal. Using <a href=https://en.wikipedia.org/wiki/Phasor>phasor notation</a> $V(t) = \\tilde V e^{-i\\omega t}$, the input and output signals are related by:\n",
    "\n",
    "\\begin{equation}\n",
    "\\tilde V_{out}(\\omega) = \\tilde h(\\omega) \\tilde V_{in}(\\omega)\n",
    "\\end{equation}\n",
    "\n",
    "You can see a plot of the transfer function for an RC filter here: "
   ]
  },
  {
   "cell_type": "code",
   "execution_count": null,
   "metadata": {},
   "outputs": [],
   "source": [
    "tau = 1\n",
    "w = np.geomspace(1e-3,1e3, 100)\n",
    "h = 1/(1+1j*w*tau)\n",
    "\n",
    "plt.subplot(121)\n",
    "plt.plot(w,np.abs(h))\n",
    "plt.xlabel(\"$\\omega$\")\n",
    "plt.ylabel(\"$|h(\\omega)|$\")\n",
    "plt.xscale('log')\n",
    "plt.yscale('log')\n",
    "plt.grid()\n",
    "\n",
    "plt.subplot(122)\n",
    "plt.plot(w, np.angle(h)/np.pi*180)\n",
    "plt.xscale('log')\n",
    "plt.xlabel(r\"$Amplitude |\\tilde h|$\")\n",
    "plt.ylabel(r\"Phase angle of $\\tilde h$ (degrees)\")\n",
    "plt.grid()\n",
    "plt.yticks(np.arange(-90,1,15));\n"
   ]
  },
  {
   "cell_type": "markdown",
   "metadata": {},
   "source": [
    "We are now ready to try filtering our data! To do this, we will first transform our noisy sine wave signal, then apply a low-pss filter with an appropriate $\\tau$, then perform the inverse Fourier transform."
   ]
  },
  {
   "cell_type": "code",
   "execution_count": null,
   "metadata": {},
   "outputs": [],
   "source": [
    "fs = 10e3 # sampling frequency\n",
    "N = 1e5 # number of samples\n",
    "T = N/fs # total time trace length\n",
    "amp = 2*np.sqrt(2)\n",
    "freq = 1234.0\n",
    "noise_power = 0.001 * fs / 2\n",
    "t = np.arange(0,T,1/fs)\n",
    "xs = amp*np.sin(2*np.pi*freq*t)\n",
    "x = xs + np.random.normal(scale=np.sqrt(noise_power), size=t.shape)\n",
    "\n",
    "# FFT our data\n",
    "xf = np.fft.fft(x)\n",
    "f = np.fft.fftfreq(len(x), t[1])\n",
    "\n",
    "# Now define the filter\n",
    "fc = 2e3; # cutoff frequency (note f NOT \\omega!)\n",
    "tau = 1/2/np.pi/fc\n",
    "h = 1/(1+1j*2*np.pi*f*tau)\n",
    "\n",
    "# Now multiply the two and take the inverse fourier transform\n",
    "xf_filt = xf*h\n",
    "x_filt = np.fft.ifft(xf_filt)\n",
    "x_filt = np.real(x_filt)\n",
    "\n",
    "#plt.figure(figsize=(16,10))\n",
    "tmax = 0.01\n",
    "\n",
    "plt.subplot(121)\n",
    "plt.plot(t,x)\n",
    "plt.plot(t,x_filt+10) # offset them for clarity\n",
    "plt.plot(t,xs+20)\n",
    "\n",
    "plt.xlabel(\"Time(s)\")\n",
    "plt.xlim((0,tmax))\n",
    "plt.ylabel(\"Voltage (V)\")\n",
    "plt.subplot(122)\n",
    "plt.psd(x,Fs=fs, NFFT=2**11);\n",
    "plt.psd(x_filt,Fs=fs, NFFT=2**11);"
   ]
  },
  {
   "cell_type": "markdown",
   "metadata": {},
   "source": [
    "By filtering the data, the noise is reduced! But still, it is hard to see the original sine wave. However, as we can see in the power spectral density, the problem is that our filter is not very \"sharp\". \n",
    "\n",
    "One way we can improve this is by filtering twice. The RC filter is known as a \"single pole\" filter (there is one <a href=\"https://en.wikipedia.org/wiki/Pole%E2%80%93zero_plot\">pole</a> in the complex plane of the transfer function). We can make our filter better by applying it twice (a two-pole filter), or $n$ times (an n-pole filter):\n",
    "\n",
    "\\begin{equation}\n",
    "\\tilde V_{out}(\\omega) = [\\tilde h(\\omega)]^n \\ \\tilde V_{in}(\\omega)\n",
    "\\end{equation}"
   ]
  },
  {
   "cell_type": "code",
   "execution_count": null,
   "metadata": {},
   "outputs": [],
   "source": [
    "# Now define the filter\n",
    "fc = 2e3; # cutoff frequency (note f NOT \\omega!)\n",
    "tau = 1/2/np.pi/fc # the filter time constant\n",
    "h = 1/(1+1j*2*np.pi*f*tau)\n",
    "\n",
    "# A multi-pole filter\n",
    "n = 8 # order of the filter\n",
    "xf_filt = xf*h**n \n",
    "x_filt = np.fft.ifft(xf_filt)\n",
    "x_filt = np.real(x_filt)\n",
    "\n",
    "#plt.figure(figsize=(16,10))\n",
    "tmax = 0.01\n",
    "\n",
    "plt.subplot(121)\n",
    "plt.plot(t,x)\n",
    "plt.plot(t,x_filt+10)\n",
    "plt.plot(t,xs+20)\n",
    "\n",
    "plt.xlabel(\"Time(s)\")\n",
    "plt.xlim((0,tmax))\n",
    "plt.ylabel(\"Voltage (V)\")\n",
    "plt.subplot(122)\n",
    "plt.psd(x,Fs=fs, NFFT=2**11);\n",
    "plt.psd(x_filt,Fs=fs, NFFT=2**11);"
   ]
  },
  {
   "cell_type": "markdown",
   "metadata": {},
   "source": [
    "If you look, you can now start to see the oscillations of the original sine wave in the filtered data: in particular, we've gotten rid of much of the high-freqeuency noise, as you can see in the power spectral density plot. (Remember: dB is a log scale! at teh highest frequency, we've supressed the noise by something like 70 dB, which is a factor of $10^7$ in power!).\n",
    "\n",
    "If we know what frequency to look at, we can also use a notch filter. One example of a notch filter is the response of a damped RLC circuit (ie. the response of a damped harmonic oscillator), which for low enough damping coefficients gives a Lorentzian transfer function:\n",
    "\n",
    "\\begin{equation}\n",
    "\\tilde h(\\omega) = \\frac{1}{1 + i(\\omega-\\omega_0)/\\kappa}\n",
    "\\end{equation}\n",
    "\n",
    "This function has a sharp peak at $\\omega = \\omega_0$, and with full width at half maximum (FWHM) of $|\\tilde h(\\omega)|^2$ (power bandwidth) of $\\kappa$:"
   ]
  },
  {
   "cell_type": "code",
   "execution_count": null,
   "metadata": {},
   "outputs": [],
   "source": [
    "tau = 1\n",
    "w = np.geomspace(1e-3,1e3, 1001)\n",
    "w0 = 1\n",
    "kappa = 0.001\n",
    "h = 1/(1+1j*(w-w0)/kappa)\n",
    "\n",
    "plt.subplot(121)\n",
    "plt.plot(w,np.abs(h))\n",
    "plt.xlabel(\"$\\omega$\")\n",
    "plt.ylabel(\"$|h(\\omega)|$\")\n",
    "plt.xscale('log')\n",
    "plt.yscale('log')\n",
    "plt.ylim((5e-7,2e0))\n",
    "plt.grid()\n",
    "\n",
    "plt.subplot(122)\n",
    "plt.plot(w, np.angle(h)/np.pi*180)\n",
    "plt.xscale('log')\n",
    "plt.xlabel(r\"$Amplitude |\\tilde h|$\")\n",
    "plt.ylabel(r\"Phase angle of $\\tilde h$ (degrees)\")\n",
    "plt.grid()\n",
    "plt.yticks(np.arange(-90,91,45));"
   ]
  },
  {
   "cell_type": "markdown",
   "metadata": {},
   "source": [
    "(It also has a phase shift that now changes by $2 \\pi$ at $\\omega = \\omega_0$.) This filter function is much more peaked, so if we pick it at the correct frequency, it will be very effective at removing our noise without affecting the signal we are interested in:"
   ]
  },
  {
   "cell_type": "code",
   "execution_count": null,
   "metadata": {},
   "outputs": [],
   "source": [
    "fs = 10e3 # sampling frequency\n",
    "N = 1e5 # number of samples\n",
    "T = N/fs # total time trace length\n",
    "amp = 2*np.sqrt(2)\n",
    "freq = 1234.0\n",
    "noise_power = 0.001 * fs / 2\n",
    "t = np.arange(0,T,1/fs)\n",
    "xs = amp*np.sin(2*np.pi*freq*t)\n",
    "x = xs + np.random.normal(scale=np.sqrt(noise_power), size=t.shape)\n",
    "\n",
    "# FFT our data\n",
    "xf = np.fft.fft(x)\n",
    "f = np.fft.fftfreq(len(x), t[1])\n",
    "\n",
    "# Define the filter\n",
    "# We will work in f rather than \\omega. If we specify everything\n",
    "# in Hz rather than rad/s, then the 2*pi all cancel out\n",
    "\n",
    "f0 = 1234 # The frequency of 1234 Hz that we want to keep\n",
    "kappa = 1 # A filter bandwidth of 10 Hz \n",
    "h = 1/(1+1j*(f-f0)/kappa)\n",
    "\n",
    "xf_filt = xf*h \n",
    "x_filt = np.fft.ifft(xf_filt)\n",
    "x_filt = np.real(x_filt)\n",
    "\n",
    "#plt.figure(figsize=(16,10))\n",
    "tmax = 0.01\n",
    "\n",
    "plt.subplot(121)\n",
    "plt.plot(t,x)\n",
    "plt.plot(t,x_filt+10)\n",
    "plt.plot(t,xs+20)\n",
    "\n",
    "plt.xlabel(\"Time(s)\")\n",
    "plt.xlim((0,tmax))\n",
    "plt.ylabel(\"Voltage (V)\")\n",
    "plt.subplot(122)\n",
    "plt.psd(x,Fs=fs, NFFT=2**11);\n",
    "plt.psd(x_filt,Fs=fs, NFFT=2**11);"
   ]
  },
  {
   "cell_type": "markdown",
   "metadata": {},
   "source": [
    "With this filter, you can now really see the original sine wave oscillation back in the data! \n",
    "\n",
    "The reason is that our filter has suppressed the noise at all frequencies except for the one we are interested in as you can see in the power spectral density.\n",
    "\n",
    "This, by the way, is how <a href=\"https://en.wikipedia.org/wiki/Lock-in_amplifier\">lock-in amplifiers</a> work to extract tiny repeating signals from very noisy measurments.\n",
    "\n",
    "Ideally, the green and orange curves should be the same amplitude. I suspsect this is an effect from the finite frequency spacing of our Fourier transform. With narrow filters, if the quantisation of your frequency steps doesn't coincide with your chosen $\\omega_0$, then the peak of the discretised transfer function will not be unity. You can see this above in the plots of the notch filter transfer function above: try changing the definition of `w` to `w = np.geomspace(1e-3,1e3, 1000)`. \n",
    "\n",
    "If you are performing quantitative analysis of data like this, you should make sure to have very long datasets so that the frequency spacing $\\delta f = 2/T$ is very small compared to $\\kappa$ to avoid any artifacts from discretisation. \n",
    "\n",
    "In addition to this \"brute force\" approach, you can also be very careful to arrange your data acquisition such that the frequency point `f0` exactly corresponds to one of the discrete frequency entries in your frequency array `f = np.fft.fftfreq(len(x), t[1])`. (Technically, this requires your sampling rate, and total sampling time, to be commensurate with $\\omega_0$.)"
   ]
  }
 ],
 "metadata": {
  "jupytext": {
   "formats": "ipynb,md"
  },
  "kernelspec": {
   "display_name": "Python 3",
   "language": "python",
   "name": "python3"
  }
 },
 "nbformat": 4,
 "nbformat_minor": 2
}
