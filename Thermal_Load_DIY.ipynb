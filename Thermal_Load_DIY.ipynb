{
 "cells": [
  {
   "cell_type": "code",
   "execution_count": 2,
   "metadata": {},
   "outputs": [],
   "source": [
    "import numpy as np"
   ]
  },
  {
   "cell_type": "markdown",
   "metadata": {},
   "source": [
    "# Thermal Conductivity of  Supports"
   ]
  },
  {
   "cell_type": "markdown",
   "metadata": {},
   "source": [
    "## Specifications for RDK-305\n",
    "\n",
    "http://www.shicryogenics.com/products/4k-cryocoolers/rdk-305d-4k-cryocooler-series/\n",
    "\n",
    "1st stage capacity: 15W at 40K \n",
    "\n",
    "2nd stage capacity: 0.4W at 4.2K"
   ]
  },
  {
   "cell_type": "markdown",
   "metadata": {},
   "source": [
    "## Estimating thermal heat load \n",
    "\n",
    "http://www.submm.caltech.edu/cso/receivers/thermal/thermal_integral_stainless.pdf\n",
    "\n",
    "Thermal integral from 50K to 300K = about 30 W / cm\n",
    "\n",
    "From 50K to 0K: 1.5 W / cm\n",
    "\n",
    "Our legs: 20 cm long, 1 cm in diameter? "
   ]
  },
  {
   "cell_type": "code",
   "execution_count": 78,
   "metadata": {
    "scrolled": true
   },
   "outputs": [
    {
     "name": "stdout",
     "output_type": "stream",
     "text": [
      "Thermal leakage from RT to 50K stage: 1.18 W\n",
      "Thermal leakage from RT to 50K stage: 0.06 W\n"
     ]
    }
   ],
   "source": [
    "d = 1 # cm\n",
    "l = 20 # cm\n",
    "A = np.pi * (d/2)**2\n",
    "\n",
    "print(\"Thermal leakage from RT to 50K stage: %.2f W\" % (30*A/l))\n",
    "print(\"Thermal leakage from RT to 50K stage: %.2f W\" % (1.5*A/l))"
   ]
  },
  {
   "cell_type": "markdown",
   "metadata": {},
   "source": [
    "# Radiative heat load\n",
    "\n",
    "Heat flux $j$ in W/m^2:\n",
    "\n",
    "$$\n",
    "j = \\sigma T^4\n",
    "$$\n",
    "\n",
    "Diameter of 4K plate: 30 cm"
   ]
  },
  {
   "cell_type": "code",
   "execution_count": 6,
   "metadata": {},
   "outputs": [
    {
     "name": "stdout",
     "output_type": "stream",
     "text": [
      "Radiative heat load on 4K plate no shields:   1.603 W\n",
      "Radiative heat load on 4K plate with shields: 0.001 W\n"
     ]
    }
   ],
   "source": [
    "d2 = 30e-2\n",
    "sigma = 5.6e-8 # W/m^2/K^4\n",
    "A2 = np.pi * (d2/2)**2 # Here: only top side\n",
    "eps = 0.05 # estimated emissivitity of polished copper\n",
    "\n",
    "print(\"Radiative heat load on 4K plate no shields:   %.3f W\" % (eps*sigma*300**4*A2))\n",
    "print(\"Radiative heat load on 4K plate with shields: %.3f W\" % (eps*sigma*50**4*A2))"
   ]
  },
  {
   "cell_type": "markdown",
   "metadata": {},
   "source": [
    "# Radiative heat load Entropy 300 mK\n",
    "\n",
    "Heat flux $j$ in W/m^2:\n",
    "\n",
    "$$\n",
    "j = \\sigma T^4\n",
    "$$\n",
    "\n",
    "* Diameter of old 300 mK plate: 5 cm ?\n",
    "* Diameter of new 300 mK plate: 15 cm ?\n",
    "\n",
    "Of course, the number for the old 300 mK plate is a massive underestimate since the radiation geometry is not dominantly \"parallel plate\". A \"sphere in a sphere\" would probably be a better estimate, but let's just check order of magnitude for now. \n"
   ]
  },
  {
   "cell_type": "code",
   "execution_count": 8,
   "metadata": {},
   "outputs": [
    {
     "name": "stdout",
     "output_type": "stream",
     "text": [
      "Radiative heat load 5 cm : 0.001 uW\n",
      "Radiative heat load 15 cm: 0.013 uW\n"
     ]
    }
   ],
   "source": [
    "d1 = 5e-2\n",
    "d2 = 15e-2\n",
    "sigma = 5.6e-8 # W/m^2/K^4\n",
    "A1 = np.pi * (d1/2)**2 \n",
    "A2 = np.pi * (d2/2)**2 \n",
    "eps = 0.05 # estimated emissivitity of polished copper\n",
    "\n",
    "print(\"Radiative heat load 5 cm : %.3f uW\" % (A1*eps*sigma*4**4*1e6))\n",
    "print(\"Radiative heat load 15 cm: %.3f uW\" % (A2*eps*sigma*4**4*1e6))"
   ]
  }
 ],
 "metadata": {
  "jupytext": {
   "formats": "ipynb,md"
  },
  "kernelspec": {
   "display_name": "Python 3",
   "language": "python",
   "name": "python3"
  },
  "language_info": {
   "codemirror_mode": {
    "name": "ipython",
    "version": 3
   },
   "file_extension": ".py",
   "mimetype": "text/x-python",
   "name": "python",
   "nbconvert_exporter": "python",
   "pygments_lexer": "ipython3",
   "version": "3.7.4"
  },
  "toc": {
   "base_numbering": 1,
   "nav_menu": {},
   "number_sections": true,
   "sideBar": true,
   "skip_h1_title": false,
   "title_cell": "Table of Contents",
   "title_sidebar": "Contents",
   "toc_cell": false,
   "toc_position": {},
   "toc_section_display": true,
   "toc_window_display": false
  }
 },
 "nbformat": 4,
 "nbformat_minor": 2
}
