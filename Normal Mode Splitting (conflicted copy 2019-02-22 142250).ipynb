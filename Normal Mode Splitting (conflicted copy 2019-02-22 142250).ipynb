{
 "cells": [
  {
   "cell_type": "code",
   "execution_count": 2,
   "metadata": {},
   "outputs": [],
   "source": [
    "import numpy as np\n",
    "import matplotlib.pyplot as plt\n",
    "from ipywidgets import interact"
   ]
  },
  {
   "attachments": {
    "normal_mode_splitting-01.png": {
     "image/png": "[encoded data removed]"
    }
   },
   "cell_type": "markdown",
   "metadata": {},
   "source": [
    "# Normal mode splitting\n",
    "\n",
    "In this notebook, you will explore the concept of normal mode splitting by performing a numerical eigenvalue analysis of a coupled mass-spring system.\n",
    "\n",
    "The physical system we will consider is two mass-spring resonators that are coupled together by a third \"coupling\" spring:\n",
    "\n",
    "<img src=\"attachment:normal_mode_splitting-01.png\" width=40%></img>\n",
    "\n",
    "In this picture, the masses are free only to move in the $x$ direction (imagine they are confined to slide on a rail if you want). The displacement of the left and right mass from its equilibrium position is given by $x_1$ and $x_2$ respectively. \n",
    "\n",
    "Using Newton's law (see, for example, <a href=http://farside.ph.utexas.edu/teaching/315/Waves/node18.html>here</a>), we can find the following equations of motion for the system:\n",
    "\n",
    "\\begin{eqnarray}\n",
    "m_1 \\ddot x_1 & = & -k_1 x_1 + k_c(x_2 - x_1) \\\\\n",
    "m_2 \\ddot x_2 & = & -k_2 x_1 + k_c(x_1 - x_2)\n",
    "\\end{eqnarray}\n",
    "\n",
    "To find the normal modes, we solve these equations considering an oscillating motion of the masses. For this, we will use <a href=https://en.wikipedia.org/wiki/Phasor>phasor notation</a>:\n",
    "\n",
    "\\begin{eqnarray}\n",
    "x_1(t) & = \\tilde x_1 e^{i \\omega t} \\\\\n",
    "x_2(t) & = \\tilde x_2 e^{i \\omega t}\n",
    "\\end{eqnarray}\n",
    "\n",
    "where $\\tilde x_n$ is a complex number the specifies the phase and amplitude of the motion of coordinate $n$. Plugging these in to the equations above, we obtain the following equations for $\\tilde x_n$: \n",
    "\n",
    "\\begin{eqnarray}\n",
    "m_1 \\omega^2 \\tilde x_1 & = & -k_1 \\tilde x_1 + k_c(\\tilde x_2 - \\tilde x_1) \\\\\n",
    "m_2 \\omega^2 \\tilde x_2 & = & -k_2 \\tilde x_2 + k_c(\\tilde x_1 - \\tilde x_2)\n",
    "\\end{eqnarray}\n",
    "\n",
    "We can rewrite these in matrix form as follows:\n",
    "\n",
    "$$\n",
    "\\left(\n",
    "\\begin{array}{cc} \n",
    "-(k_1+k_c)/m_1 & k_c/m_1 \\\\\n",
    "k_c/m_2 &  -(k_2+k_c)/m_2 \\\\\n",
    "\\end{array}\n",
    "\\right) \n",
    "\\left(\\begin{array}{c} \n",
    "\\tilde x_1\\\\ \n",
    "\\tilde x_2 \n",
    "\\end{array}\\right)\n",
    "= \\omega^2\n",
    "\\left(\\begin{array}{c} \n",
    "\\tilde x_1\\\\ \n",
    "\\tilde x_2 \n",
    "\\end{array}\\right)\n",
    "$$ \n",
    "\n",
    "We can see that this is an eigenvalue problem:\n",
    "\n",
    "$$\n",
    "\\mathbf{A} \\mathbf{x} = \\lambda \\mathbf{x}\n",
    "$$\n",
    "\n",
    "The eigenvectors specify the relative motion the two masses undergo for a given mode, while the eigenvalues specify the frequencies of the mode: $\\lambda = -\\omega^2$\n",
    "\n",
    "Although we can easily do this by hand with a 2x2 matrix, here we will find the eigenvectors and eigenvalues of this matrix numerically and explore what the results give us. \n",
    "\n",
    "**Exercise:** Find the eigenvalues and eigenvectors for $m_1 = m_2 = 1$, $k_1 = k_2 = 1$ and $k_c = 0.05$. "
   ]
  },
  {
   "cell_type": "code",
   "execution_count": 3,
   "metadata": {},
   "outputs": [
    {
     "name": "stdout",
     "output_type": "stream",
     "text": [
      "Eigenvalue  0: 1.200000\n",
      "Frequency   0: 1.095445\n",
      "Eigenvector 0: [ 0.70710678 -0.70710678]\n",
      "\n",
      "Eigenvalue  1: 1.000000\n",
      "Frequency   1: 1.000000\n",
      "Eigenvector 1: [0.70710678 0.70710678]\n",
      "\n"
     ]
    }
   ],
   "source": [
    "# Solutions\n",
    "\n",
    "# The values for the calculation\n",
    "m1 = 1\n",
    "m2 = 1\n",
    "k1 = 1\n",
    "k2 = 1\n",
    "kc = 0.1\n",
    "\n",
    "# We will call our matrix \"A\"\n",
    "A = np.array([[(k1 + kc)/m1, -kc/m1], [-kc/m2, (k2+kc)/m2]])\n",
    "\n",
    "# The eigenvalues and eigenvectors \n",
    "l, v = np.linalg.eig(A)\n",
    "w = np.sqrt(l)\n",
    "\n",
    "for i in range(len(l)):\n",
    "    print(\"Eigenvalue  %d: %f\" %(i, l[i]))\n",
    "    print(\"Frequency   %d: %f\" %(i, w[i]))\n",
    "    print((\"Eigenvector %d: \" % i) + str(v[:,i]))\n",
    "    print()"
   ]
  },
  {
   "cell_type": "markdown",
   "metadata": {},
   "source": [
    "We can use the `annotate()` command of matplotlib to plot vectors showing the motions of the masses for each eigevalue:"
   ]
  },
  {
   "cell_type": "code",
   "execution_count": 4,
   "metadata": {},
   "outputs": [
    {
     "data": {
      "image/png": "[encoded data removed]",
      "text/plain": [
       "<Figure size 432x288 with 1 Axes>"
      ]
     },
     "metadata": {
      "needs_background": "light"
     },
     "output_type": "display_data"
    }
   ],
   "source": [
    "# Your code\n",
    "\n",
    "def plot_eigenvectors(w, v):    \n",
    "    fig, ax = plt.subplots()\n",
    "    for i in range(len(v)):\n",
    "        ax.axhline(w[i], color='grey', linestyle=':')\n",
    "        ax.annotate('', xytext=(-1, w[i]),\n",
    "                    xy=(-1+v[0,i], w[i]), \n",
    "                    arrowprops=dict(color='black'))\n",
    "        ax.axhline(w[i], color='grey', linestyle=':')\n",
    "        ax.annotate('', xytext=(1, w[i]),\n",
    "                    xy=(1+v[1,i], w[i]), \n",
    "                    arrowprops=dict(color='black'))\n",
    "    ax.axvline(-1, color='grey', linestyle=':')\n",
    "    ax.axvline(1, color='grey', linestyle=':')\n",
    "    plt.ylabel(\"Frequency\")\n",
    "    plt.title(\"%.3f and %.3f\" % (w[0], w[1]))\n",
    "    \n",
    "    # If you draw only arrows, you have to set up the\n",
    "    # axis limits yourself\n",
    "    dw = max(w) - min(w)\n",
    "    ymin = min(w) - dw\n",
    "    ymax = max(w) + dw\n",
    "    ax.set_ylim(ymin, ymax)\n",
    "    ax.set_ylim(0, 2)\n",
    "    ax.set_xlim(-2.5, 2.5)\n",
    "\n",
    "plot_eigenvectors(w,v)"
   ]
  },
  {
   "cell_type": "markdown",
   "metadata": {},
   "source": [
    "We now want to explore what happens to the frequency and motion of the masses as we change the masses and spring constants. We will keep the mass and spring constant of the first mass fixed, and allow the mass and spring constant of the other mass to vary. \n",
    "\n",
    "**Exercise:** Write a function to find the normal modes and their frequencies, with `m2`, `k2`, and `kc` as keyword parameters that default to 1, 1, and 0.1 respectively.\n",
    "\n",
    "```\n",
    "def find_modes(m2=1, k2=1, kc=0.1):\n",
    "    ...\n",
    "    return w, v\n",
    "```"
   ]
  },
  {
   "cell_type": "code",
   "execution_count": 5,
   "metadata": {},
   "outputs": [],
   "source": [
    "# Solutions\n",
    "\n",
    "def find_modes(m2=1, k2=1, kc=0.1):\n",
    "    m1 = 1; k1 = 1\n",
    "    A = np.array([[(k1 + kc)/m1, -kc/m1], [-kc/m2, (k2+kc)/m2]])\n",
    "    l, v = np.linalg.eig(A)\n",
    "    w = np.sqrt(l)\n",
    "    return w, v \n",
    "\n",
    "v,w = find_modes()"
   ]
  },
  {
   "cell_type": "markdown",
   "metadata": {},
   "source": [
    "**Exercise:** Make an interactive plot that allows you to adjust the values of $m_2$, $k_2$ and $k_c$ and the plots the eigenvectors as done above. In the title of the plot, indicate the frequencies of the two normal modes. "
   ]
  },
  {
   "cell_type": "code",
   "execution_count": 6,
   "metadata": {},
   "outputs": [
    {
     "data": {
      "application/vnd.jupyter.widget-view+json": {
       "model_id": "6ef00f90a8ac4f9a888208939398242f",
       "version_major": 2,
       "version_minor": 0
      },
      "text/plain": [
       "interactive(children=(FloatSlider(value=1.0, description='m2', max=2.0), FloatSlider(value=1.0, description='k…"
      ]
     },
     "metadata": {},
     "output_type": "display_data"
    }
   ],
   "source": [
    "# Solutions\n",
    "\n",
    "def update_plot(m2=1, k2=1, kc=0.1):\n",
    "    w,v = find_modes(m2,k2,kc)\n",
    "    plot_eigenvectors(w,v)\n",
    "\n",
    "interact(update_plot, m2=(0,2,0.1), k2=(0,2,0.1), kc=(0,2,0.05));"
   ]
  },
  {
   "cell_type": "markdown",
   "metadata": {},
   "source": [
    "**Exercise:** Make a plot of the eigenfrequencies (the \"normal mode spectrum\") for $k_c = 0.1$ and varying $k_2$ from 0 to 2 in 100 steps. "
   ]
  },
  {
   "cell_type": "code",
   "execution_count": 7,
   "metadata": {},
   "outputs": [
    {
     "data": {
      "text/plain": [
       "Text(0.5, 0, 'k2')"
      ]
     },
     "execution_count": 7,
     "metadata": {},
     "output_type": "execute_result"
    },
    {
     "data": {
      "image/png": "[encoded data removed]",
      "text/plain": [
       "<Figure size 432x288 with 1 Axes>"
      ]
     },
     "metadata": {
      "needs_background": "light"
     },
     "output_type": "display_data"
    }
   ],
   "source": [
    "k2vals = np.linspace(0,2,100)\n",
    "\n",
    "spectrum = []\n",
    "\n",
    "for k2 in k2vals:\n",
    "    w,v = find_modes(k2=k2)\n",
    "    spectrum.append(w)\n",
    "\n",
    "spectrum = np.array(spectrum)\n",
    "plt.plot(k2vals, spectrum[:,0], '.')\n",
    "plt.plot(k2vals, spectrum[:,1], '.')\n",
    "plt.ylabel(\"Normal Mode Frequencies\")\n",
    "plt.xlabel(\"k2\")"
   ]
  },
  {
   "cell_type": "markdown",
   "metadata": {},
   "source": [
    "**Exercise:** Make an interactive plot of the spectrum with sliders that allow you to change the values of `m2`, `k2`, and `kc`."
   ]
  },
  {
   "cell_type": "code",
   "execution_count": 7,
   "metadata": {},
   "outputs": [
    {
     "data": {
      "application/vnd.jupyter.widget-view+json": {
       "model_id": "8331adc39c654b9fa9cdd1aa54cff255",
       "version_major": 2,
       "version_minor": 0
      },
      "text/plain": [
       "interactive(children=(FloatSlider(value=1.0, description='m2', max=2.0, min=0.1), FloatSlider(value=0.1, descr…"
      ]
     },
     "metadata": {},
     "output_type": "display_data"
    }
   ],
   "source": [
    "k2vals = np.linspace(0,2,100)\n",
    "\n",
    "def update_plot2(m2=1, kc=0.1):\n",
    "    spectrum = []\n",
    "    for k2 in k2vals:\n",
    "        w,v = find_modes(m2=m2, k2=k2, kc=kc)\n",
    "        spectrum.append(w)\n",
    "    spectrum = np.array(spectrum)\n",
    "    plt.plot(k2vals, spectrum[:,0], '.')\n",
    "    plt.plot(k2vals, spectrum[:,1], '.')\n",
    "    \n",
    "interact(update_plot2, m2=(0.1,2,0.1), kc=(0.0,0.5,0.02));"
   ]
  },
  {
   "cell_type": "code",
   "execution_count": null,
   "metadata": {},
   "outputs": [],
   "source": []
  }
 ],
 "metadata": {
  "kernelspec": {
   "display_name": "Python 3",
   "language": "python",
   "name": "python3"
  },
  "language_info": {
   "codemirror_mode": {
    "name": "ipython",
    "version": 3
   },
   "file_extension": ".py",
   "mimetype": "text/x-python",
   "name": "python",
   "nbconvert_exporter": "python",
   "pygments_lexer": "ipython3",
   "version": "3.7.1"
  }
 },
 "nbformat": 4,
 "nbformat_minor": 2
}
