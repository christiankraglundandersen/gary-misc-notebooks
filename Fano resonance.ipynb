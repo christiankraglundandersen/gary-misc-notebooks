{
 "cells": [
  {
   "cell_type": "code",
   "execution_count": null,
   "metadata": {},
   "outputs": [],
   "source": [
    "import numpy as np\n",
    "import matplotlib.pyplot as plt\n",
    "from ipywidgets import interact"
   ]
  },
  {
   "cell_type": "code",
   "execution_count": null,
   "metadata": {},
   "outputs": [],
   "source": [
    "plt.rcParams['figure.dpi'] = 100"
   ]
  },
  {
   "cell_type": "markdown",
   "metadata": {},
   "source": [
    "# Quadrature offsets as an origin of Fano lineshapes\n",
    "\n",
    "We consider here the reflection from a single port cavity and show that asymmetric Fano resonance lineshapes can arise from offsets in the quadratures from crosstalk via an additional reflection path that does not enter the cavity.\n",
    "\n",
    "Ideally, the reflection coefficient should be given by:\n",
    "\n",
    "$$\n",
    "S_{11} = 1 - \\frac{\\eta \\kappa}{\\kappa/2 - i\\Delta}\n",
    "$$\n",
    "\n",
    "where $\\eta = \\kappa / \\kappa_{ext}$ is the coupling efficiency, ranging from 0 to 1, $\\kappa$ is the total (loaded) cavity linewidth, $\\kappa_{ext}$ is the external coupling rate, and $\\Delta =  \\omega - \\omega_0$ is the detuning of the probe frequency $\\omega$ from the cavity resonance frequency $\\omega_0$.\n",
    "\n",
    "If part of of the reflection signal comes from a reflection that does not enter the cavity (for example, from an additional path that somehow bounces back into the measurement port), then the new $S_{11}$ will include an offset in the quadratures:\n",
    "\n",
    "$$\n",
    "S_{11} = Ae^{i\\theta} + 1 - \\frac{\\eta \\kappa}{\\kappa/2 - i\\Delta}\n",
    "$$\n",
    "\n",
    "where $A$ and $\\theta$ are real numbers. (Here, I have not corrected for the change in normalisation to keep the formula simple). If the offset contains an imaginary component ($\\theta$ not zero or pi), then the resulting $|S_{11}|$ will have an asymmetric Fano lineshape.\n",
    "\n",
    "Below, we will illustrate this using intereactive plots."
   ]
  },
  {
   "cell_type": "markdown",
   "metadata": {},
   "source": [
    "## First illustrate with no Fano"
   ]
  },
  {
   "cell_type": "code",
   "execution_count": null,
   "metadata": {
    "hide_input": false
   },
   "outputs": [],
   "source": [
    "def make_plots(d, S11, lim=1.05):\n",
    "    plt.subplots(figsize=(10,6))\n",
    "    plt.subplot(231)\n",
    "    plt.plot(d,np.abs(S11))\n",
    "    plt.ylim((0,lim))\n",
    "    plt.title(\"$|S_{11}|$\")\n",
    "    plt.subplot(232)\n",
    "    plt.plot(d,np.unwrap(np.angle(S11))/np.pi*180)\n",
    "    plt.ylim((-190,370))\n",
    "    plt.axhline(0,c='grey', ls=':')\n",
    "    plt.title(\"Phase of $S_{11}$ (deg)\")\n",
    "    plt.subplot(234)\n",
    "    plt.plot(d,np.real(S11))\n",
    "    plt.ylim((-lim,lim))\n",
    "    plt.axhline(0,c='grey', ls=':')\n",
    "    plt.title(\"$Re(S_{11})$\")\n",
    "    plt.subplot(235)\n",
    "    plt.plot(d,np.imag(S11))\n",
    "    plt.ylim((-lim,lim))\n",
    "    plt.axhline(0,c='grey', ls=':')\n",
    "    plt.title(\"$Im(S_{11})$\")\n",
    "    plt.subplot(236)\n",
    "    plt.plot(np.real(S11), np.imag(S11))\n",
    "    plt.ylim((-lim,lim))\n",
    "    plt.xlim((-lim,lim))\n",
    "    plt.axhline(0,c='grey', ls=':')\n",
    "    plt.axvline(0,c='grey', ls=':')\n",
    "    plt.tight_layout()\n",
    "    \n",
    "def update1(eta=0.5):\n",
    "    k = 0.1\n",
    "    d = np.linspace(-3*k,3*k,500)\n",
    "    S11 = 1-eta*k/(-1j*d+k/2)\n",
    "    make_plots(d, S11)\n",
    "    \n",
    "interact(update1, eta=(0,1,0.1));"
   ]
  },
  {
   "cell_type": "markdown",
   "metadata": {},
   "source": [
    "## Also useful: Illustrate the effect of getting the reference phase incorrect"
   ]
  },
  {
   "cell_type": "code",
   "execution_count": null,
   "metadata": {
    "hide_input": false
   },
   "outputs": [],
   "source": [
    "def update1(eta=0.5, phi=0):\n",
    "    k = 0.1\n",
    "    d = np.linspace(-3*k,3*k,500)\n",
    "    S11 = 1-eta*k/(-1j*d+k/2)\n",
    "    S11 *= np.exp(1j*phi/180*np.pi)\n",
    "    make_plots(d,S11)\n",
    "    \n",
    "interact(update1, eta=(0,1,0.1), phi=(0,360,10));"
   ]
  },
  {
   "cell_type": "markdown",
   "metadata": {},
   "source": [
    "Note that if you pick the incorrect reference phase, the real-part looks asymmetric (even though the magnitude is symmetric). That is because if you pick the wrong phase, then the real and imaginary parts intermix. If you pick the correct reference phase, then the real part always looks symmetric. \n",
    "\n",
    "Note also: here, we have taken a reference phase that is constant and independent of frequency. In a real device, in which your cavity is connected to your VNA with a cable, the phase is, of course, at least linearly dependent on frequency! \n",
    "\n",
    "(Unless you have corrected properly for the electrical length, which you should always do at the start of your measurements, but which almost nobody does...)\n",
    "\n",
    "For a high-Q resonance, it is likely still not a bad approximation that the phase is constant over the frequency range of the resonance. However, for lower-Q (or very bad choices software choices of the electrical length calibration of the VNA), the phase may vary significantly across the resonance. In this case, you will need to correct for a frequency dependent phase in order to get the real-part of S11 to be symmetric. "
   ]
  },
  {
   "cell_type": "markdown",
   "metadata": {},
   "source": [
    "## Now illustrate the effect of including an inteference term\n",
    "\n",
    "We will add a term $A \\exp(i \\theta)$ to $S_{11}$:\n",
    "\n",
    "$$\n",
    "S_{11} = 1 - \\frac{\\eta \\kappa}{\\kappa/2 - i\\Delta} + A\\exp(i \\theta)\n",
    "$$\n",
    "\n",
    "For now, we will not worry about trying to preserve the total normalisation...\n",
    "\n",
    "`phi` is the reference phase of the VNA\n",
    "\n",
    "`theta` is the phase of the \"crosstalk / reflection\" signal that is added to S11"
   ]
  },
  {
   "cell_type": "code",
   "execution_count": null,
   "metadata": {
    "hide_input": false
   },
   "outputs": [],
   "source": [
    "def update1(eta=0.7, A=0, theta=0, phi=0):\n",
    "    k = 0.1\n",
    "    d = np.linspace(-3*k,3*k,500)\n",
    "    S11 = 1-eta*k/(-1j*d+k/2)\n",
    "    S11 += A*np.exp(1j*theta/180*np.pi)\n",
    "    S11 *= np.exp(1j*phi/180*np.pi)\n",
    "    make_plots(d,S11,lim=2.05)\n",
    "\n",
    "    \n",
    "interact(update1, eta=(0,1,0.1), A = (-1,1,0.1), theta = (0,360,10), phi=(0,360,10));"
   ]
  },
  {
   "cell_type": "markdown",
   "metadata": {
    "hide_input": true
   },
   "source": [
    "Note that although the $|S_{11}|$ gets a funny asymmetric shape, the real quadrature (with the appropriate phase reference angle) is **still perfectly symmetric!!!!!**"
   ]
  }
 ],
 "metadata": {
  "jupytext": {
   "formats": "ipynb,md"
  },
  "kernelspec": {
   "display_name": "Python 3",
   "language": "python",
   "name": "python3"
  }
 },
 "nbformat": 4,
 "nbformat_minor": 2
}
