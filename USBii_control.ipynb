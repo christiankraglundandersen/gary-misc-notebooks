{
 "cells": [
  {
   "cell_type": "code",
   "execution_count": 4,
   "metadata": {},
   "outputs": [],
   "source": [
    "import serial\n",
    "import time"
   ]
  },
  {
   "cell_type": "markdown",
   "metadata": {},
   "source": [
    "# Windfreak Tech SynthUSBii Generator\n",
    "\n",
    "From:\n",
    "\n",
    "https://windfreaktech.com/\n",
    "\n",
    "Communication protocol details are included in the PDF on the USB stick that ships with the device:\n",
    "\n",
    "Some of the important points:\n",
    "\n",
    ">  Talking to the SynthUSBII unit is done through USB via a virtual serial / com port. The drivers supplied by WFT must be installed on your PC before communication can happen. After plugging in the hardware the com port will need to be identified, then used for any subsequent communication.\n",
    ">\n",
    "> The first character of any communication to the SynthUSBII unit is the command. (It is case sensitive.) What this character tells the unit to do is detailed below. Ideally a “package” is sent all at once. For example a communication for programming the frequency of the LO to 1GHz would be sent as “f1000.0” (without the quotes).\n",
    ">\n",
    "> For commands that return information from the SynthUSBII unit, such as reading the firmware version, it is advisable to send the command and then read the bytes returned fairly quickly to get them out of the USB buffer in your PC.\n",
    ">\n",
    ">Please keep in mind that the device expects the format shown. For example, if you send simply just an “f” the processor will sit there and wait for the rest of the data and may appear locked up. If you dont send the decimal point and at least one digit afterward, it will have unexpected results. Also, please send data without hidden termination characters such as a carriage return at the end.\n"
   ]
  },
  {
   "cell_type": "code",
   "execution_count": null,
   "metadata": {},
   "outputs": [],
   "source": [
    "# OK, no termination characters, no handshaking, so we should just timeout apparently on reads...mega flaky?\n",
    "# It means that any read command will ALWAYS take 300 ms. And because I don't know ahead of time how long the\n",
    "# messages might be, this needs to be always set to 300 ms (for example, setting it to some t)\n",
    "\n",
    "# One hack around this could be to recognise which commands send back more information and then adjust the\n",
    "# timeout setting of the serial port for those specific commands...\n",
    "\n",
    "ser = serial.Serial('/dev/cu.usbmodem0045711',timeout=0.3)"
   ]
  },
  {
   "cell_type": "code",
   "execution_count": 3,
   "metadata": {},
   "outputs": [
    {
     "name": "stdout",
     "output_type": "stream",
     "text": [
      "f) RF Frequency Now (MHz) 1000.000\r\n",
      "o) set RF On(1) or Off(0) 1\r\n",
      "h) set RF High(1) or Low(0) Power 1\r\n",
      "a) set RF Power (0=mimimum, 3=maximum) 3\r\n",
      "v) show firmware version\r\n",
      "e) write all settings to eeprom\r\n",
      "x) set internal reference (external=0 / internal=1)  1\r\n",
      "l) set lower frequency for sweep (MHz) 200.000\r\n",
      "u) set upper frequency for sweep (Mhz) 4000.000\r\n",
      "s) set step size for sweep (MHz) 50.000\r\n",
      "t) set step time is 0.600 ms\r\n",
      "g) run sweep (on=1 / off=0)  0\r\n",
      "c) set continuous sweep mode  0\r\n",
      "P) Pulse On time is 1 ms\r\n",
      "O) Pulse Off time is 10 ms\r\n",
      "j) continuous pulse mode  0\r\n",
      "p) get phase lock status (lock=1 / unlock=0)  1\r\n",
      "H0) PLL Register 0 3E80000\r\n",
      "H1) PLL Register 1 8008FA1\r\n",
      "H2) PLL Register 2 18015E42\r\n",
      "H3) PLL Register 3 4B3\r\n",
      "H4) PLL Register 4 A1043C\r\n",
      "H5) PLL Register 5 580005\r\n",
      "+) Model Type\r\n",
      "-) Serial Number  1557\r\n",
      "?) help\r\n",
      "  \r\n",
      "\n"
     ]
    }
   ],
   "source": [
    "ser.write(b'?')\n",
    "s = ser.read(1000).decode(\"utf-8\")\n",
    "print(s)"
   ]
  },
  {
   "cell_type": "code",
   "execution_count": 4,
   "metadata": {},
   "outputs": [],
   "source": [
    "def query(s):\n",
    "    ser.write((s+\"?\").encode(\"utf-8\"))\n",
    "    return ser.read(1000).decode(\"utf-8\")\n",
    "\n",
    "def write(s):\n",
    "    ser.write(s.encode(\"utf-8\"))\n",
    "    \n",
    "def set_check(s):\n",
    "    write(s)\n",
    "    return query(s[0])"
   ]
  },
  {
   "cell_type": "code",
   "execution_count": 74,
   "metadata": {},
   "outputs": [
    {
     "data": {
      "text/plain": [
       "'3900000\\n'"
      ]
     },
     "execution_count": 74,
     "metadata": {},
     "output_type": "execute_result"
    }
   ],
   "source": [
    "set_check(\"f3900.000\")"
   ]
  },
  {
   "cell_type": "code",
   "execution_count": 81,
   "metadata": {},
   "outputs": [
    {
     "data": {
      "text/plain": [
       "'1\\n'"
      ]
     },
     "execution_count": 81,
     "metadata": {},
     "output_type": "execute_result"
    }
   ],
   "source": [
    "set_check(\"o1\")"
   ]
  },
  {
   "cell_type": "code",
   "execution_count": 95,
   "metadata": {},
   "outputs": [
    {
     "data": {
      "text/plain": [
       "'1.001\\n'"
      ]
     },
     "execution_count": 95,
     "metadata": {},
     "output_type": "execute_result"
    }
   ],
   "source": [
    "set_check(\"t1.0\")"
   ]
  },
  {
   "cell_type": "code",
   "execution_count": 99,
   "metadata": {},
   "outputs": [
    {
     "data": {
      "text/plain": [
       "'5000\\n'"
      ]
     },
     "execution_count": 99,
     "metadata": {},
     "output_type": "execute_result"
    }
   ],
   "source": [
    "set_check(\"s5.0\")"
   ]
  },
  {
   "cell_type": "code",
   "execution_count": 100,
   "metadata": {
    "scrolled": true
   },
   "outputs": [
    {
     "data": {
      "text/plain": [
       "'1\\n'"
      ]
     },
     "execution_count": 100,
     "metadata": {},
     "output_type": "execute_result"
    }
   ],
   "source": [
    "set_check(\"g1\")"
   ]
  },
  {
   "cell_type": "code",
   "execution_count": 101,
   "metadata": {},
   "outputs": [
    {
     "data": {
      "text/plain": [
       "'1\\n'"
      ]
     },
     "execution_count": 101,
     "metadata": {},
     "output_type": "execute_result"
    }
   ],
   "source": [
    "set_check(\"j1\")"
   ]
  },
  {
   "cell_type": "code",
   "execution_count": 77,
   "metadata": {},
   "outputs": [],
   "source": [
    "for d in 1,2,3:\n",
    "    set_check('a%d' % d)\n",
    "    time.sleep(0.1)"
   ]
  },
  {
   "cell_type": "code",
   "execution_count": 82,
   "metadata": {
    "scrolled": false
   },
   "outputs": [
    {
     "name": "stdout",
     "output_type": "stream",
     "text": [
      "f) RF Frequency Now (MHz) 3900.000\r\n",
      "o) set RF On(1) or Off(0) 1\r\n",
      "h) set RF High(1) or Low(0) Power 1\r\n",
      "a) set RF Power (0=mimimum, 3=maximum) 3\r\n",
      "v) show firmware version\r\n",
      "e) write all settings to eeprom\r\n",
      "x) set internal reference (external=0 / internal=1)  1\r\n",
      "l) set lower frequency for sweep (MHz) 200.000\r\n",
      "u) set upper frequency for sweep (Mhz) 4000.000\r\n",
      "s) set step size for sweep (MHz) 50.000\r\n",
      "t) set step time is 0.600 ms\r\n",
      "g) run sweep (on=1 / off=0)  0\r\n",
      "c) set continuous sweep mode  0\r\n",
      "P) Pulse On time is 1 ms\r\n",
      "O) Pulse Off time is 10 ms\r\n",
      "j) continuous pulse mode  0\r\n",
      "p) get phase lock status (lock=1 / unlock=0)  0\r\n",
      "H0) PLL Register 0 3CF0000\r\n",
      "H1) PLL Register 1 800BE81\r\n",
      "H2) PLL Register 2 18015E42\r\n",
      "H3) PLL Register 3 4B3\r\n",
      "H4) PLL Register 4 81043C\r\n",
      "H5) PLL Register 5 580005\r\n",
      "+) Model Type\r\n",
      "-) Serial Number  1557\r\n",
      "?) help\r\n",
      "  \r\n",
      "\n"
     ]
    }
   ],
   "source": [
    "print(query(\"\"))"
   ]
  }
 ],
 "metadata": {
  "jupytext": {
   "formats": "ipynb,md"
  },
  "kernelspec": {
   "display_name": "Python 3",
   "language": "python",
   "name": "python3"
  },
  "language_info": {
   "codemirror_mode": {
    "name": "ipython",
    "version": 3
   },
   "file_extension": ".py",
   "mimetype": "text/x-python",
   "name": "python",
   "nbconvert_exporter": "python",
   "pygments_lexer": "ipython3",
   "version": "3.7.5"
  }
 },
 "nbformat": 4,
 "nbformat_minor": 2
}
