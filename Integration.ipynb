{
 "cells": [
  {
   "cell_type": "code",
   "execution_count": null,
   "metadata": {},
   "outputs": [],
   "source": [
    "# Restart the kernel and run this cell before you start\n",
    "%matplotlib inline\n",
    "%reload_ext autoreload\n",
    "%autoreload 2\n",
    "import numpy as np\n",
    "import matplotlib.pyplot as plt\n",
    "from initialize import *"
   ]
  },
  {
   "cell_type": "markdown",
   "metadata": {},
   "source": [
    "# TN2513 Lecture 3: Integration\n",
    "\n",
    "In this lecture notebook, you will implement the different techniques for the numerical computation of integrals in python and explore aspects of numerical integration.\n",
    "\n",
    "The reading material for this Lab is sections 5.1 and 5.2 from \"Computation Physics (Revised and Expanded)\" 2013 edition by Mark Newman (ISBN 978-148014551-1).\n",
    "\n",
    "**Learning objectives:** After finishing this notebook, you should be able to:\n",
    "\n",
    "1. Implement integration of a function with the trapezoidal rule\n",
    "2. Implement integration of a function with Simpson's rule\n",
    "3. Calculate the integral of a numerical dataset\n",
    "\n",
    "We will start by calculating the following integral: \n",
    "\n",
    "\\begin{equation}\n",
    "\\int_0^2 (x^4 - 2x +1) dx\n",
    "\\end{equation}\n",
    "\n",
    "using two different techniques. \n",
    "\n",
    "This integral, discussed on page 143 of the book, is actually one that you can calculate yourself and has the exact value of 4.4. This will be handy as we can use this exact value to compare with the values that our numerical calculations give. \n",
    "\n",
    "(The idea, of course though, is that numerical integration is useful for calculating the integrals of functions that are not easy to calculate! But we will do this later, and for now, it is handy to know what the answer is.) \n",
    "\n",
    "Before we start, it is useful already to make a plot of the function we are integrating. \n",
    "\n",
    "To do this, we will create an array x ranging from 0 to 2 with 100 points (just to get a bit of a smooth plot). We will then create second array y which will be our integrand, and then we will plot y versus x.\n",
    "\n",
    "### Task 1\n",
    "\n",
    "Modify the code below to produce a plot of the integrand in the range of -2 to 2 with 100 points."
   ]
  },
  {
   "cell_type": "code",
   "execution_count": null,
   "metadata": {},
   "outputs": [],
   "source": [
    "# Your code\n",
    "\n",
    "def f(x):\n",
    "    return x**4 - 2*x + 1\n",
    "\n",
    "# First, make the arrays of x and y values for the plot\n",
    "npts = ______\n",
    "x = np.linspace(____,____,npts)\n",
    "y = _____\n",
    "\n",
    "# Now plot it and add x and y labels\n",
    "\n",
    "plt.plot(___,___)\n",
    "plt.\n",
    "plt.\n",
    "\n",
    "# An zero axis line is handy. \"ls\" is a shortcut for \"linestyle\" and \"lw\" is a shortcut for \"linewidth\"\n",
    "\n",
    "plt.axhline(0,color='grey', linestyle=':')\n",
    "plt.show()"
   ]
  },
  {
   "cell_type": "code",
   "execution_count": null,
   "metadata": {},
   "outputs": [],
   "source": [
    "#solutions\n",
    "\n",
    "def f(x):\n",
    "    return x**4 - 2*x + 1\n",
    "\n",
    "# First, make the arrays of x and y values for the plot\n",
    "npts = 100\n",
    "x = np.linspace(0,2,npts)\n",
    "y = f(x)\n",
    "\n",
    "# Now plot it\n",
    "\n",
    "plt.plot(x,y)\n",
    "plt.xlabel(\"x\")\n",
    "plt.ylabel(\"Integrand\")\n",
    "\n",
    "# An zero axis line is handy. \"ls\" is a shortcut for \"linestyle\" and \"lw\" is a shortcut for \"linewidth\"\n",
    "\n",
    "plt.axhline(0,color='grey', linestyle=':')\n",
    "plt.show()"
   ]
  },
  {
   "cell_type": "markdown",
   "metadata": {},
   "source": [
    "Self grading:\n",
    "\n",
    "* Does your plot have axis labels?\n",
    "* Does the function look reasonably like you might think?\n",
    "\n",
    "The function looks pretty reasonable: it starts going down, it crosses through zero, and then shoots up. It has some \"positive\" area above the x-axis, and in the middle, it has a little bit of \"negative\" area that decreases the value of the integral.\n",
    "\n",
    "## The Trapezoidal Rule\n",
    "\n",
    "A simple method of calculating an integral is using the trapezoidal rule, outlined in the book in section 5.1.1. \n",
    "\n",
    "Here, we will implement code to calculate our integral aboe using the trapezoidal rule. \n",
    "\n",
    "### Task 2\n",
    "Copy the code from example 5.1 of the textbook into the cell below and use it to calculate the integral with N = 10 slices. "
   ]
  },
  {
   "cell_type": "code",
   "execution_count": null,
   "metadata": {},
   "outputs": [],
   "source": [
    "# Your code\n",
    "\n"
   ]
  },
  {
   "cell_type": "code",
   "execution_count": null,
   "metadata": {
    "lines_to_next_cell": 0
   },
   "outputs": [],
   "source": [
    "#solutions\n",
    "\n",
    "# The number of points, and the starting and end points\n",
    "N = 10\n",
    "a = 0.0\n",
    "b = 2.0\n",
    "\n",
    "# The step size\n",
    "h = (b-a)/N\n",
    "\n",
    "# s is our running sum\n",
    "s = 0.5*f(a) + 0.5*f(b)\n",
    "for k in range(1,N):\n",
    "    s += f(a+k*h)\n",
    "\n",
    "# The integral is then given by h*s\n",
    "answer2 = (h*s)"
   ]
  },
  {
   "cell_type": "markdown",
   "metadata": {},
   "source": []
  },
  {
   "cell_type": "markdown",
   "metadata": {},
   "source": [
    "Using the code, you can play with $N$ to see how many slices we need to get a reasonable accuracy. \n",
    "\n",
    "### Task 3\n",
    "\n",
    "Find a value of $N$ you need to get the correct answer to <a href=https://en.wikipedia.org/wiki/Approximation_error#Formal_Definition>relative error</a> of less than $10^{-6}$ = one part per million (ppm).\n",
    "\n",
    "The definition of relative error is as follows: if $v$ is the correct answer and $v_{\\rm approx}$ is the approximate answer, the relative error $\\eta$ is defined as:\n",
    "\n",
    "\\begin{equation}\n",
    "\\eta = \\left| \\frac{v - v_{\\rm approx}}{v} \\right|\n",
    "\\end{equation}"
   ]
  },
  {
   "cell_type": "code",
   "execution_count": null,
   "metadata": {},
   "outputs": [],
   "source": []
  },
  {
   "cell_type": "code",
   "execution_count": null,
   "metadata": {},
   "outputs": [],
   "source": [
    "#solutions\n",
    "\n",
    "def f(x):\n",
    "    return x**4 - 2*x + 1\n",
    "\n",
    "N = 1557\n",
    "#N = _______\n",
    "a = 0.0\n",
    "b = 2.0\n",
    "h = (b-a)/N\n",
    "\n",
    "s = 0.5*f(a) + 0.5*f(b)\n",
    "for k in range(1,N):\n",
    "    s += f(a+k*h)\n",
    "    \n",
    "integral = h*s\n",
    "eta = (integral - 4.4)/4.4\n",
    "print(\"N = %d: Integral is %f Relative error %e\" % (N, integral, eta))\n",
    "answer3 = N"
   ]
  },
  {
   "cell_type": "markdown",
   "metadata": {},
   "source": [
    "## Simpson's Rule\n",
    "\n",
    "Simpson's rule is a numerical integration technique that replaces the linear approximation of the integrand in the trapizoidal technique witha a \"best estimate\" quadratic approximation. The technique is explained in detail in section 5.1.2 of the texbook.\n",
    "\n",
    "### Task 4\n",
    "\n",
    "Write code to implement Simpson's rule for the integral in section 1.1 using 10 slices. "
   ]
  },
  {
   "cell_type": "code",
   "execution_count": null,
   "metadata": {},
   "outputs": [],
   "source": [
    "# Your code\n",
    "\n"
   ]
  },
  {
   "cell_type": "code",
   "execution_count": null,
   "metadata": {},
   "outputs": [],
   "source": [
    "#solutions\n",
    "\n",
    "# Write your Simpson's rule code here\n",
    "\n",
    "def f(x):\n",
    "    return x**4 - 2*x + 1\n",
    "\n",
    "N = 10\n",
    "a = 0.0\n",
    "b = 2.0\n",
    "h = (b-a)/N\n",
    "\n",
    "# Our running sum (we'll multiply by h/3 at the end)\n",
    "s = f(a) + f(b)\n",
    "\n",
    "# First the odd terms\n",
    "for k in range(1,N,2):\n",
    "    s += 4*f(a+k*h)\n",
    "\n",
    "# Now the even terms\n",
    "for k in range(2,N,2):\n",
    "    s += 2*f(a+k*h)\n",
    "\n",
    "# The answer is then the sum*h/3\n",
    "answer3 = s*h/3.0\n",
    "print(\"Integral with Simpson's rule is %f\" % answer3)"
   ]
  },
  {
   "cell_type": "markdown",
   "metadata": {},
   "source": [
    "Which technique is more accurate for the same number of slices?"
   ]
  },
  {
   "cell_type": "markdown",
   "metadata": {},
   "source": [
    "## Integrating numerical data\n",
    "\n",
    "In the above, we have focussed on integrating analytical functions. However, the same techniques we have introduced can also be used to integrate numerical data. \n",
    "\n",
    "One difference, however, is that we will not evaluate the values of the integrand by a function call, as we did above, but instead by looking up it's value in an array. Also, since the data we read in is already \"discretized\" into steps, there is not really a need to think about the number of slices: the data is already naturally sliced up for us.\n",
    "\n",
    "This is explored in Exercise 5.1 of the textbook. For this you will need to download the file `velocities.txt` from the online resources website of the textbook:\n",
    "\n",
    "http://www-personal.umich.edu/~mejn/cp/data/velocities.txt\n",
    "\n",
    "\n",
    "If you are fancy, you can do this directly using the `urllib` library in python: \n",
    "\n",
    "```\n",
    "# Download the resource files.\n",
    "import urllib\n",
    "urllib.request.urlretrieve(\"http://www-personal.umich.edu/~mejn/cp/data/velocities.txt\", \n",
    "                           filename=\"velocities.txt\")\n",
    "```\n",
    "\n",
    "The file contains two columns of numbers, the first representing time $t$ in seconds and the second the $x$-velocity in meters per second of a particle, measured once every second from time $t=0$ to $t=100$ seconds.\n",
    "\n",
    "### Task 5\n",
    "\n",
    "Read in the data and, using the trapezoidal rule, calculate from them the approximate distance traveled by the particle in the $x$ direction as a function of time.  See Section 2.4.3 on page 57 of the textbook if you want a reminder of how to read data from a file.\n",
    "\n",
    "_Hint_ This is a cumulative integral, a bit different than the definite integrals handled above. \n",
    "\n",
    "_Recommendation_ \"Modularize\" your code by creating a function that does the trapezoidal intergration of an array, this will make your code easier to write and use. \n",
    "\n",
    "_Tip_ If you want your code to run fast (not so important here, but could become important for bigger calculations), you can also use `np.sum()` to calculate your sums instead of using a `for` loop."
   ]
  },
  {
   "cell_type": "code",
   "execution_count": null,
   "metadata": {},
   "outputs": [],
   "source": [
    "# Your code\n",
    "\n"
   ]
  },
  {
   "cell_type": "code",
   "execution_count": null,
   "metadata": {},
   "outputs": [],
   "source": [
    "#solutions\n",
    "\n",
    "# Download the resource files.\n",
    "import urllib\n",
    "urllib.request.urlretrieve(\"http://www-personal.umich.edu/~mejn/cp/data/velocities.txt\", \n",
    "                           filename=\"velocities.txt\")\n",
    "\n",
    "# Load the data\n",
    "data= np.loadtxt(\"velocities.txt\")\n",
    "t = data[:,0]\n",
    "v = data[:,1]\n",
    "\n",
    "# The number of points in the array we read in\n",
    "N = len(v)\n",
    "\n",
    "# It is specified that the time step is constant and is 1 second. (We could check this by checking if the\n",
    "# time data is a straight line, but I will trust the author.)\n",
    "h = 1\n",
    "\n",
    "# Our desired output is not just the total distance travelled, but actually an \n",
    "# array that shows the distance as a function of time. This is a bit different\n",
    "# to what we've been doing above since we will be calculating a _cumulative_ integral\n",
    "\n",
    "# The output array of distance vs. time\n",
    "d = np.empty(N)\n",
    "\n",
    "# There may be a numpy cumulative integral function (google would tell us quickly), but we'll\n",
    "# implement it ourselves here with a for loop.\n",
    "\n",
    "# n will be the last point of our cumulative integral. range(len(v)) will give a range list \n",
    "# running from 0 to N-1 (v[N-1] being the last element in array v) \n",
    "\n",
    "# It will be handy to have a function that calculates the integral of an array \n",
    "def trapezoid(x):\n",
    "    N = len(x)\n",
    "    s = (x[0]+x[1])/2 \n",
    "    s += np.sum(x[1:N]) # It's not obvious, but this even works for N = 1\n",
    "    return s*h\n",
    "\n",
    "# Note that it does not make sense to calculate the integral for the first point, since in zero \n",
    "# time, no distance has been travelled. \n",
    "d[0] = 0\n",
    "\n",
    "# Note it's not obvious that range() shoud start at two, but you must remember that v[0:2] \n",
    "# gives an array [v[0], v[1]]\n",
    "for i in range(2,N):\n",
    "    d[i] = trapezoid(v[0:i])\n",
    "\n",
    "answer5 = d"
   ]
  },
  {
   "cell_type": "code",
   "execution_count": null,
   "metadata": {},
   "outputs": [],
   "source": [
    "check_answer_task5(answer5)"
   ]
  },
  {
   "cell_type": "markdown",
   "metadata": {},
   "source": [
    "### Task 6\n",
    "\n",
    "Make a plot with velocity on the left-hand y-axis and distance travelled in the right-hand y-axis. \n",
    "\n",
    "To plot data with a second y-axis, you need a bit more matplotlib code:\n",
    "\n",
    "```\n",
    "# First, initialize your plot with the plt.subplots() command, which returns an axis object you will need\n",
    "fig, ax1 = plt.subplots()\n",
    "\n",
    "# You then use the twinx() function to make a second axis object with it's x-axis linked to the original x-axis\n",
    "ax2 = ax1.twinx()\n",
    "\n",
    "# Now you can use the plot() commands of each axis objects: ax.plot(...). \n",
    "ax1.plot(t,d, 'g-', label=\"d\")\n",
    "ax1.set_ylabel(\"my axis (my units)\", color='g')\n",
    "ax2.plot(...)\n",
    "```\n",
    "\n",
    "You can also use the `axhline()` command to add horizontal lines. For example, this will add a grey dashed horizontal line:\n",
    "\n",
    "```\n",
    "ax2.axhline(0, color='grey', linestyle=\":\")\n",
    "```\n"
   ]
  },
  {
   "cell_type": "code",
   "execution_count": null,
   "metadata": {},
   "outputs": [],
   "source": [
    "# Your code\n",
    "\n"
   ]
  },
  {
   "cell_type": "code",
   "execution_count": null,
   "metadata": {},
   "outputs": [],
   "source": [
    "#solutions\n",
    "\n",
    "# To make a second axis, we need to use the subplots() command to get access to the \n",
    "# \"axis\" object variable of our plot\n",
    "fig, ax1 = plt.subplots()\n",
    "\n",
    "# Once we have it, we can use the twinx() function to make a second y axis\n",
    "ax2 = ax1.twinx()\n",
    "\n",
    "# And now we use plot commands associated with the two axis \"objects\" we have\n",
    "ax1.plot(t,d, 'g-', label=\"d\")\n",
    "ax1.set_ylabel(\"Distance travelled (m)\", color='g')\n",
    "ax1.axhline(0, color='g', linestyle=\":\")\n",
    "\n",
    "ax2.plot(t,v, 'b-', label=\"v\")\n",
    "ax2.set_ylabel(\"Velocity (m/s)\", color='b')\n",
    "ax2.axhline(0, color='b', linestyle=\":\")\n",
    "ax1.set_xlabel(\"Time (s)\")\n",
    "ax1.legend(loc=2)\n",
    "ax2.legend(loc=0)"
   ]
  },
  {
   "cell_type": "markdown",
   "metadata": {},
   "source": [
    "Self grading:\n",
    "\n",
    "* Does your plot have axis labels? \n",
    "* Are the correct functions plotted? \n",
    "* Is it clear which line belongs to which axis? (Either with a legend or with color axis labels? Or both?)\n"
   ]
  }
 ],
 "metadata": {
  "jupytext": {
   "formats": "ipynb,md"
  },
  "kernelspec": {
   "display_name": "Python 3",
   "language": "python",
   "name": "python3"
  }
 },
 "nbformat": 4,
 "nbformat_minor": 2
}
