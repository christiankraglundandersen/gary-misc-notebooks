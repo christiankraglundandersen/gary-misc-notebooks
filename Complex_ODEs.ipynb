{
 "cells": [
  {
   "cell_type": "code",
   "execution_count": null,
   "metadata": {},
   "outputs": [],
   "source": [
    "from scipy.integrate import solve_ivp\n",
    "import numpy as np\n",
    "import matplotlib.pyplot as plt\n",
    "import time"
   ]
  },
  {
   "cell_type": "code",
   "execution_count": null,
   "metadata": {},
   "outputs": [],
   "source": [
    "plt.rcParams['figure.dpi'] = 100\n",
    "plt.rcParams['figure.figsize'] = (12,4)"
   ]
  },
  {
   "cell_type": "markdown",
   "metadata": {},
   "source": [
    "# Solving complex ODEs\n",
    "\n",
    "## Example of a complex ODE from physics\n",
    "\n",
    "Here, we will look at an example of solving a complex valued ODE.  \n",
    "\n",
    "A classic example of a complex ODE is that of the Harmonic oscillator, see this text from Haus chapter 7:\n",
    "\n",
    "<img src=attachment:Screenshot%202019-06-01%20at%2021.31.24.png width=60%></img>\n",
    "\n",
    "As discussed further in the next paragraphs, it is sufficient to consider only the positive frequency field variable, leading to a single differential equation describing the cavity: \n",
    "\n",
    "$$\n",
    "\\frac{da}{dt} = i\\omega_0 a\n",
    "$$\n",
    "\n",
    "In this, we have reduced the original (real-valued) second-order differential equation with a single (complex-valued) first-order equation.\n",
    "\n",
    "We can also easily add a damping with rate $\\kappa$:\n",
    "\n",
    "$$\n",
    "\\frac{da}{dt} = i\\omega_0 a - \\kappa a\n",
    "$$\n",
    "\n",
    "## Implementation in scipy\n",
    "\n",
    "In the most recent version of scipy, it seems that `solve_ivp()` just directly supports complex valued differential equations: \n",
    "\n",
    "https://docs.scipy.org/doc/scipy/reference/generated/scipy.integrate.solve_ivp.html#scipy.integrate.solve_ivp\n",
    "\n",
    "although there is some caveats about the forms of the equations (which our functions likely all satisfy...?). \n",
    "\n",
    "Let's try it!"
   ]
  },
  {
   "cell_type": "code",
   "execution_count": null,
   "metadata": {},
   "outputs": [],
   "source": [
    "w0 = 500\n",
    "kappa = 3\n",
    "\n",
    "def dydt(t,y):\n",
    "    return 1j*w0*y-kappa*y\n",
    "\n",
    "# The 0j was important to get the correct variable type\n",
    "y0 = 1+0j\n",
    "\n",
    "T = 1\n",
    "N= 1000\n",
    "t = np.linspace(0,T,N)\n",
    "\n",
    "sol = solve_ivp(dydt, [0,T], [y0], t_eval = t)\n",
    "a = sol.y[0]+0j\n",
    "plt.plot(t,np.real(a))"
   ]
  },
  {
   "cell_type": "markdown",
   "metadata": {},
   "source": [
    "Works!\n",
    "\n",
    "Let's try driven version."
   ]
  },
  {
   "cell_type": "code",
   "execution_count": null,
   "metadata": {},
   "outputs": [],
   "source": [
    "w0 = 500\n",
    "kappa = 3\n",
    "wd = 500\n",
    "\n",
    "def dydt(t,y):\n",
    "    return 1j*w0*y-kappa*y+np.exp(1j*wd*t)\n",
    "\n",
    "# The 0j was important to get the correct variable type\n",
    "y0 = 0j\n",
    "\n",
    "# Had to decrease step size?\n",
    "T = 5\n",
    "N= 100\n",
    "t = np.linspace(0,T,N)\n",
    "\n",
    "t1 = time.time()\n",
    "sol = solve_ivp(dydt, [0,T], [y0], t_eval = t, method=\"BDF\")\n",
    "t2 = time.time()\n",
    "sol2 = solve_ivp(dydt, [0,T], [y0], t_eval = t)\n",
    "t3 = time.time()\n",
    "\n",
    "print(\"BDF %.2f sec\" %(t2-t1))\n",
    "print(\"RK  %.2f sec\" %(t3-t2))\n",
    "\n",
    "a = sol.y[0]\n",
    "b = sol2.y[0]\n",
    "plt.plot(t,np.abs(a))\n",
    "plt.plot(t,np.abs(b))\n",
    "\n",
    "plt.xlim(0,5)"
   ]
  },
  {
   "cell_type": "code",
   "execution_count": null,
   "metadata": {},
   "outputs": [],
   "source": []
  }
 ],
 "metadata": {
  "jupytext": {
   "formats": "ipynb,md"
  },
  "kernelspec": {
   "display_name": "Python 3",
   "language": "python",
   "name": "python3"
  }
 },
 "nbformat": 4,
 "nbformat_minor": 2
}
