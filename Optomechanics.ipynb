{
 "cells": [
  {
   "cell_type": "code",
   "execution_count": null,
   "metadata": {},
   "outputs": [],
   "source": [
    "import numpy as np\n",
    "from scipy.integrate import solve_ivp\n",
    "import matplotlib.pyplot as plt\n",
    "from ipywidgets import interact\n",
    "import time"
   ]
  },
  {
   "cell_type": "code",
   "execution_count": null,
   "metadata": {},
   "outputs": [],
   "source": [
    "plt.rcParams['figure.dpi'] = 100\n",
    "plt.rcParams['figure.figsize'] = (12,4)"
   ]
  },
  {
   "cell_type": "markdown",
   "metadata": {},
   "source": [
    "# Optomechanics Notebook\n",
    "\n",
    "In this notebook, we will explore numerical solutions of the optomechanical equations of motion.\n",
    "\n",
    "We will start by first deriving (or at least writing out) the form of the equations we will implement numerically, both for the full nonlinear parametric coupling, and for the linearized equations of motion valid for small $g_0$ and strong driving. \n",
    "\n",
    "We will then simulate various optomechanics experiments using numerical integration. \n",
    "\n",
    "## Optomechanical equations of motion\n",
    "\n",
    "### Full nonlinear parametric coupling\n",
    "\n",
    "The derivation here will follow the nice section in chapter 2 of the thesis of Frank Buters.\n",
    "\n",
    "We will consider the case of optomechanics with the following dynamical variables:\n",
    "\n",
    "* $x$ is the position of the mechanical oscillator\n",
    "* $a$ is the complex field variable describing the cavity harmonic oscillator\n",
    "\n",
    "The cavity is driven by an external input field $s_{in}$ via an external coupling rate $\\kappa_{ext}$. The mechanics can be driven by external force $F_{ex}(t)$, which could, for example, represent a thermomechanical noise force. \n",
    "\n",
    "The equations of motion describing these dynamical variables are: \n",
    "\n",
    "\\begin{eqnarray}\n",
    "\\frac{da}{dt} & = & \\left[ i(\\Delta - Gx(t)) -\\frac{\\kappa}{2} \\right] a(t) + \n",
    "    \\sqrt{\\kappa_{ext}} s_{in}(t)\\\\\n",
    "\\frac{d^2x}{dt^2} & = & -\\gamma_m \\frac{dx}{dt} - \\Omega_m^2 x(t) + \n",
    "    \\frac{\\hbar G}{m}|a(t)|^2 \n",
    "\\end{eqnarray}\n",
    "\n",
    "Here, $\\Delta = \\omega_d - \\omega_c$ is the detuning of the frequency $\\omega_d$ of the external drive field with respect to the natural frequency $\\omega_c$ of the cavity. $\\gamma_m$ is the mechanical damping rate, $\\kappa$ is the total cavity damping rate, and $\\Omega_m$ is the natural frequency of the mechanical resoantor. The coupling constant $G$ (the \"cavity pull parameter\") describes the coupling between the two, and is given by the rate of change of the optical cavity natural frequency with respect to the position of the mechanical resonator:\n",
    "\n",
    "$$\n",
    "G = \\frac{d \\omega_c}{dx}\n",
    "$$\n",
    "\n",
    "Note that the in the above equations, we have gone into the \"rotating frame\" of the drive frequency. In the \"lab frame\", the field of the cavity $\\alpha$ could oscillate at $\\omega_c$ and $\\omega_d$. Here, we remove the time dependence of the drive field by defining:\n",
    "\n",
    "$$\n",
    "\\alpha(t) = a(t) e^{i\\omega_dt}\n",
    "$$\n",
    "\n",
    "In this case, a drive field oscillating at a constant amplitude and phase is described by a constant, time-independent value of $s_{in}$ in these equations.\n",
    "As usual when solving ODEs, we will split the second order equation for $x$ up into two first order equations: \n",
    "\n",
    "\\begin{eqnarray}\n",
    "\\frac{da}{dt} & = & \\left[ i(\\Delta - Gx(t)) -\\frac{\\kappa}{2} \\right] a(t) + \n",
    "    \\sqrt{\\kappa_{ext}} s_{in}(t)\\\\\n",
    "\\frac{dv}{dt} & = & -\\gamma_m \\frac{dx}{dt} - \\Omega_m^2 x(t) + \n",
    "    \\frac{\\hbar G}{m}|a(t)|^2 \\\\\n",
    "\\frac{dx}{dt} & = & v\n",
    "\\end{eqnarray}\n",
    "\n",
    "### Linearized equations\n",
    "\n",
    "A common approximation is these linearize these equations, an approximation which is valid as long as the cavity is strongly driven: \n",
    "\n",
    "$$\n",
    "s_{in}(t) = s_0\n",
    "$$\n",
    "\n",
    "\n",
    "\n",
    "If the cavity is strongly driven, we will first have a ring up to a large average steaday-statte amplitude $\\bar a$. In this case we can define a small displacement of the cavity field about the strong, steady-state field amplitude:\n",
    "\n",
    "$$\n",
    "a(t) = \\bar a + c(t)\n",
    "$$\n",
    "\n",
    "In addition, due to the radiation pressure force, the mechanical resonator will experience a static displacement $\\bar x$. We will now define the position of the mechanical resonator with respect to its new steady-state average position: \n",
    "\n",
    "$$\n",
    "x(t) = \\bar x + u(t)\n",
    "$$\n",
    "\n",
    "Using the above equations, we can find the following for $\\bar a$ and $\\bar x$:\n",
    "\n",
    "\\begin{eqnarray}\n",
    "\\bar a & = & \\frac{\\sqrt{\\kappa_{ext}} s_0}{-i(\\Delta+\\hbar G x) - \\kappa/2} \\\\\n",
    "\\bar x & = & \\frac{\\hbar G}{m\\Omega_m^2}|\\bar a|^2\n",
    "\\end{eqnarray}\n",
    "\n",
    "Using these with the full EOMs above, and discarding terms second order in $u(t)$ and $c(t)$, we obtain then the linearized EOMs of optomechanics:\n",
    "\n",
    "\\begin{eqnarray}\n",
    "\\frac{dc}{dt} & =  &  \\left[ i \\tilde \\Delta - \\frac{\\kappa}{2} \\right] c(t)  + G \\bar a u(t) \\\\\n",
    "\\frac{d^2u}{dt^2} & = & -\\gamma_m \\frac{du}{dt} - \\Omega_m^2 u(t) + \\frac{\\hbar G \\bar a}{m} [c(t) + c^*(t)] + \\frac{F_{ex}(t)}{m}\n",
    "\\end{eqnarray}\n",
    "\n",
    "\n",
    "where $\\tilde \\Delta = \\Delta  + \\hbar G x$. Similar to above, for numerical solutions, we split the second differential equation by defining $v = du / dt$ giving:\n",
    "\n",
    "\\begin{eqnarray}\n",
    "\\frac{dc}{dt} & =  &  \\left[ i \\tilde \\Delta - \\frac{\\kappa}{2} \\right] c(t) + G \\bar a u(t) \\\\\n",
    "\\frac{dv}{dt} & = & -\\gamma_m \\frac{du}{dt} - \\Omega_m^2 u(t) + \n",
    "    \\frac{\\hbar G \\bar a}{m} [c(t) + c^*(t)] + \\frac{F_{ex}(t)}{m}\\\\\n",
    "\\frac{du}{dt} & = & v\n",
    "\\end{eqnarray}\n"
   ]
  },
  {
   "cell_type": "markdown",
   "metadata": {},
   "source": [
    "## Numerical Integration\n",
    "\n",
    "### Warm up: only cavity, no mechanics\n",
    "\n",
    "To warm up, let's start with a simple case of the cavity on it's own (no mechanics yet). \n",
    "\n",
    "In OMIT, we have an additional drive tone that is resonant with the cavity. For this, we will have an additional term in the equation for $c$: \n",
    "\n",
    "$$\n",
    "\\frac{dc}{dt}  =   \\left[ i \\tilde \\Delta - \\frac{\\kappa}{2} \\right] + G \\bar a u(t) + s_{in,pr}(t)\n",
    "$$\n",
    "\n",
    "On the red (blue) sideband, this will have the form:\n",
    "\n",
    "$$\n",
    "s_{in,pr} = \\exp(\\pm i \\Delta t)\n",
    "$$\n",
    "\n",
    "Since we have only one cavity field, we will consider a rotating frame at the frequency of the probe field first to make things very simple. In this case, when resonant with the cavity will not oscillate in time. "
   ]
  },
  {
   "cell_type": "code",
   "execution_count": null,
   "metadata": {},
   "outputs": [],
   "source": [
    "# Our input parameters\n",
    "kappa = 100e3\n",
    "Delta_tilde = 0\n",
    "\n",
    "# Our driving force doens't matter with \\bar{a} = 0.\n",
    "s_in_pr = 1 \n",
    "\n",
    "# Our input array of driving frequencies\n",
    "N = 100\n",
    "w = np.linspace(-2*kappa,2*kappa,N)\n",
    "\n",
    "# With a first order equation, the vectorisation is simple: just an array. \n",
    "# The 0j is needed to make sure solve_ivp knows we are working with a complex\n",
    "# valued ODE\n",
    "y0 = np.zeros(N)+0j\n",
    "\n",
    "# Here, we implement the EOM for c with \\bar(a) = 0\n",
    "def dydt(t,y):\n",
    "    return (1j*Delta_tilde-kappa/2)*y + s_in_pr*np.exp(1j*w*t)\n",
    "\n",
    "## Our evaluation times\n",
    "\n",
    "# The time steps should be short enough to capture the fastest\n",
    "# oscillations of c so we can analyze the amplitude and phase. \n",
    "\n",
    "# At most, c will oscillate at 1/max(np.abs(w)). We should really take 100 time\n",
    "# steps per oscillation if we want to get good demodulation\n",
    "\n",
    "dt = 1/max(w)/1000\n",
    "\n",
    "# What is our maximum time? The ring up of the cavity will occur on a time scale \n",
    "# of 1/kappa. To make sure that we reach steady state, we should wait at least \n",
    "# 10/kappa\n",
    "\n",
    "T = 20/kappa\n",
    "t = np.arange(0,T,dt)\n",
    "Nt = len(t)\n",
    "print(\"Size of time vector: %d\" % Nt)\n",
    "\n",
    "t1 = time.time()\n",
    "sol = solve_ivp(dydt, [0,T], y0, t_eval = t, method=\"BDF\")\n",
    "t2 = time.time()\n",
    "print(\"Integration time: %.2f s\" % (t2-t1))\n",
    "\n",
    "c = sol.y"
   ]
  },
  {
   "cell_type": "markdown",
   "metadata": {},
   "source": [
    "Let's look at some of the solutions:"
   ]
  },
  {
   "cell_type": "code",
   "execution_count": null,
   "metadata": {},
   "outputs": [],
   "source": [
    "plt.plot(np.abs(c[0,:]))\n",
    "plt.plot(np.abs(c[10,:]))\n",
    "plt.plot(np.abs(c[50,:]))\n",
    "plt.plot(np.abs(c[80,:]))"
   ]
  },
  {
   "cell_type": "markdown",
   "metadata": {},
   "source": [
    "There seems to be some oscillations still in the amplitude of the field vector? I would expect these to be absent. "
   ]
  },
  {
   "cell_type": "code",
   "execution_count": null,
   "metadata": {},
   "outputs": [],
   "source": [
    "plt.figure(figsize=(5,5))\n",
    "plt.plot(np.real(c[20,:]), np.imag(c[20,:]))\n",
    "a=np.abs(c[20,-1])\n",
    "ang = t/np.max(t)*360\n",
    "plt.plot(a*np.cos(ang), a*np.sin(ang), '--')"
   ]
  },
  {
   "cell_type": "markdown",
   "metadata": {},
   "source": [
    "At least it's going in a circle...but these wibbles are annoying."
   ]
  },
  {
   "cell_type": "code",
   "execution_count": null,
   "metadata": {},
   "outputs": [],
   "source": [
    "# Steady state is well represented by last 25% of the vector\n",
    "c_ss = c[:,3*Nt//4:]\n",
    "\n",
    "# Steady state amplitude is easy\n",
    "c_max = np.average(np.abs(c_ss)**2, axis=1)\n",
    "plt.plot(w, c_max, 'o', label=\"Numerical\")\n",
    "plt.plot(w, 1/(w**2+(kappa/2)**2), label=\"Lorentzian\")\n",
    "plt.ylabel(\"Square of steady-state mode amplidude |c|^2\")\n",
    "plt.xlabel(\"Probe frequency detuning\")\n",
    "plt.show()"
   ]
  },
  {
   "cell_type": "markdown",
   "metadata": {},
   "source": [
    "Does this make sense? It seems to be pretty Lorentzian, except does poorly in the tails? Maybe soemthing to do with the wibbles? Something to investigate at some point. For now, I will move forward though.\n",
    "\n",
    "Let's try now with a difference reference frame, for fun. Take `Delta_tilde = -3*kappa`:"
   ]
  },
  {
   "cell_type": "code",
   "execution_count": null,
   "metadata": {},
   "outputs": [],
   "source": [
    "# Our input parameters\n",
    "kappa = 100e3\n",
    "Delta_tilde = -3*kappa\n",
    "\n",
    "s_in_pr = 1 \n",
    "N = 100\n",
    "w = np.linspace(-2*kappa,2*kappa,N)\n",
    "\n",
    "y0 = np.zeros(N)+0j\n",
    "\n",
    "def dydt(t,y):\n",
    "    return (1j*Delta_tilde-kappa/2)*y + s_in_pr*np.exp(1j*w*t)\n",
    "\n",
    "dt = 1/max(w)/100\n",
    "\n",
    "T = 20/kappa\n",
    "t = np.arange(0,T,dt)\n",
    "Nt = len(t)\n",
    "print(\"Size of time vector: %d\" % Nt)\n",
    "\n",
    "t1 = time.time()\n",
    "sol = solve_ivp(dydt, [0,T], y0, t_eval = t, method=\"BDF\")\n",
    "t2 = time.time()\n",
    "print(\"Integration time: %.2f s\" % (t2-t1))\n",
    "\n",
    "c = sol.y"
   ]
  },
  {
   "cell_type": "markdown",
   "metadata": {},
   "source": [
    "Let's check that c is behaving the way we think it should?"
   ]
  },
  {
   "cell_type": "code",
   "execution_count": null,
   "metadata": {},
   "outputs": [],
   "source": [
    "plt.plot(np.abs(c[50,:]))"
   ]
  },
  {
   "cell_type": "markdown",
   "metadata": {},
   "source": [
    "Now the wibbles are really bad? Hmmm..."
   ]
  },
  {
   "cell_type": "markdown",
   "metadata": {},
   "source": [
    "### Let's try full nonliner equations\n",
    "\n",
    "\n"
   ]
  },
  {
   "cell_type": "code",
   "execution_count": null,
   "metadata": {},
   "outputs": [],
   "source": [
    "# Our input parameters\n",
    "kappa = 100e3\n",
    "Delta_tilde = 0"
   ]
  }
 ],
 "metadata": {
  "jupytext": {
   "formats": "ipynb,md"
  },
  "kernelspec": {
   "display_name": "Python 3",
   "language": "python",
   "name": "python3"
  }
 },
 "nbformat": 4,
 "nbformat_minor": 2
}
