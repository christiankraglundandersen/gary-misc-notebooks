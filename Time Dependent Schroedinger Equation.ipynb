{
 "cells": [
  {
   "cell_type": "markdown",
   "metadata": {},
   "source": [
    "# Thoughts for future for implementing TDSE\n",
    "\n",
    "Mostly based on wave propagation with time-independent potential:\n",
    "\n",
    "https://github.com/mholtrop/QMPython/blob/master/TimePropagation_of_WF.ipynb\n",
    "\n",
    "http://physik.uni-graz.at/~pep/Theses/BachelorThesis_Wachter_2017.pdf\n",
    "\n",
    "Might be much easier if we use a harmonic oscillator / bound state and restrict hilbert space\n",
    "\n",
    "https://scipy-cookbook.readthedocs.io/items/SchrodingerFDTD.html\n"
   ]
  }
 ],
 "metadata": {
  "kernelspec": {
   "display_name": "Python 3",
   "language": "python",
   "name": "python3"
  },
  "language_info": {
   "codemirror_mode": {
    "name": "ipython",
    "version": 3
   },
   "file_extension": ".py",
   "mimetype": "text/x-python",
   "name": "python",
   "nbconvert_exporter": "python",
   "pygments_lexer": "ipython3",
   "version": "3.7.1"
  }
 },
 "nbformat": 4,
 "nbformat_minor": 2
}
