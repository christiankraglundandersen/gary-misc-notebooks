{
 "cells": [
  {
   "cell_type": "markdown",
   "metadata": {},
   "source": [
    "# Immutable"
   ]
  },
  {
   "cell_type": "code",
   "execution_count": null,
   "metadata": {},
   "outputs": [],
   "source": [
    "# Example: Local scope of a variable created in a function\n",
    "\n",
    "terminal_velocity = 5.3 \n",
    "\n",
    "def set_velocity():\n",
    "    terminal_velocity = 20\n",
    "    print(\"Inside function: \", terminal_velocity)\n",
    "     \n",
    "set_velocity()\n",
    "print(\"Outside function:\", terminal_velocity)"
   ]
  },
  {
   "cell_type": "code",
   "execution_count": null,
   "metadata": {},
   "outputs": [],
   "source": [
    "# Example: Go up to Global scope when looking up a variable that \n",
    "# does not exist in the local scope\n",
    "\n",
    "terminal_velocity = 5.3 \n",
    "\n",
    "def set_velocity():\n",
    "    print(\"Inside function: \", terminal_velocity)\n",
    "\n",
    "set_velocity()\n",
    "print(\"Outside function:\", terminal_velocity)"
   ]
  },
  {
   "cell_type": "code",
   "execution_count": null,
   "metadata": {},
   "outputs": [],
   "source": [
    "# Example: In this case, from the assignment statement, the scope of \n",
    "# the variable becomes local. But then we get an error because\n",
    "# python thinks we are trying to use the value of a variable before \n",
    "#  it is created\n",
    "\n",
    "terminal_velocity = 5.3 \n",
    "\n",
    "def set_velocity():\n",
    "    print(\"Inside function 1:\", terminal_velocity)\n",
    "    terminal_velocity = 20\n",
    "    print(\"Inside function 2:\", terminal_velocity)\n",
    "\n",
    "     \n",
    "set_velocity()\n",
    "print(\"Outside function:\", terminal_velocity)\n"
   ]
  },
  {
   "cell_type": "code",
   "execution_count": null,
   "metadata": {},
   "outputs": [],
   "source": [
    "# Example: In this case, from the assignment statement, the scope of \n",
    "# the variable becomes local. But then we get an error because\n",
    "# python thinks we are trying to use the value of a variable before \n",
    "#  it is created\n",
    "\n",
    "terminal_velocity = 5.3 \n",
    "\n",
    "def set_velocity():\n",
    "    print(\"Inside function 1:\", terminal_velocity)\n",
    "    terminal_velocity = 20\n",
    "    print(\"Inside function 2:\", terminal_velocity)\n",
    "\n",
    "     \n",
    "set_velocity()\n",
    "print(\"Outside function:\", terminal_velocity)"
   ]
  },
  {
   "cell_type": "markdown",
   "metadata": {},
   "source": [
    "# Mutable vs immutable"
   ]
  },
  {
   "cell_type": "code",
   "execution_count": 19,
   "metadata": {},
   "outputs": [
    {
     "name": "stdout",
     "output_type": "stream",
     "text": [
      "5.3\n"
     ]
    }
   ],
   "source": [
    "# Immutable varibles work always with call-by-value: the variable inside the function is a new variable\n",
    "# that is created and the value of the passed variable is copied into it\n",
    "\n",
    "terminal_velocity = 5.3\n",
    "\n",
    "def set_velocity(terminal_velocity):\n",
    "    terminal_velocity = 20\n",
    "     \n",
    "set_velocity(terminal_velocity)\n",
    "\n",
    "print(terminal_velocity)"
   ]
  },
  {
   "cell_type": "code",
   "execution_count": 20,
   "metadata": {
    "scrolled": true
   },
   "outputs": [
    {
     "name": "stdout",
     "output_type": "stream",
     "text": [
      "[20]\n"
     ]
    }
   ],
   "source": [
    "# Mutable variables work with call-by-reference: the varible inside the function has a new name\n",
    "# but points to the original VALUE in memory where the passed variable is stored. Changing the \n",
    "# value of one of the elements in memory changes the value of  the variable in the global scope!\n",
    "\n",
    "terminal_velocity = [5.3] \n",
    "\n",
    "def set_velocity(x):\n",
    "    x[0] = 20\n",
    "     \n",
    "set_velocity(terminal_velocity)\n",
    "\n",
    "print(terminal_velocity)"
   ]
  },
  {
   "cell_type": "code",
   "execution_count": 21,
   "metadata": {
    "scrolled": true
   },
   "outputs": [
    {
     "name": "stdout",
     "output_type": "stream",
     "text": [
      "[5.3]\n"
     ]
    }
   ],
   "source": [
    "# And now another subtlety: if you assign the local variable to a NEW object, as is done here, then \n",
    "# it leave the original memory that the global variable points to untouched\n",
    "\n",
    "terminal_velocity = [5.3] \n",
    "\n",
    "def set_velocity(x):\n",
    "    x = [20]\n",
    "     \n",
    "set_velocity(terminal_velocity)\n",
    "\n",
    "print(terminal_velocity)"
   ]
  }
 ],
 "metadata": {
  "jupytext": {
   "formats": "ipynb,md"
  },
  "kernelspec": {
   "display_name": "Python 3",
   "language": "python",
   "name": "python3"
  },
  "language_info": {
   "codemirror_mode": {
    "name": "ipython",
    "version": 3
   },
   "file_extension": ".py",
   "mimetype": "text/x-python",
   "name": "python",
   "nbconvert_exporter": "python",
   "pygments_lexer": "ipython3",
   "version": "3.7.4"
  },
  "toc": {
   "base_numbering": 1,
   "nav_menu": {},
   "number_sections": true,
   "sideBar": true,
   "skip_h1_title": false,
   "title_cell": "Table of Contents",
   "title_sidebar": "Contents",
   "toc_cell": false,
   "toc_position": {},
   "toc_section_display": true,
   "toc_window_display": false
  }
 },
 "nbformat": 4,
 "nbformat_minor": 2
}
