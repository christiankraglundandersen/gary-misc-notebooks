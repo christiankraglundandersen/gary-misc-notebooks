{
 "cells": [
  {
   "cell_type": "code",
   "execution_count": 18,
   "metadata": {},
   "outputs": [],
   "source": [
    "import numpy as np\n",
    "import matplotlib.pyplot as plt\n",
    "import ipywidgets as widgets\n",
    "import time"
   ]
  },
  {
   "cell_type": "markdown",
   "metadata": {},
   "source": [
    "For simulating it when we're not connected:"
   ]
  },
  {
   "cell_type": "code",
   "execution_count": 36,
   "metadata": {},
   "outputs": [],
   "source": [
    "from scipy.signal import sawtooth\n",
    "N=500\n",
    "\n",
    "def get_traces():\n",
    "    time.sleep(0.1)\n",
    "    t0 = np.random.random()*10\n",
    "    t = np.linspace(0,15,N)\n",
    "    x = sawtooth(t+t0,width=0.5)*3\n",
    "    y = np.exp(x/2)\n",
    "    x += np.random.normal(size=N)*0.2\n",
    "    y += np.random.normal(size=N)*0.1\n",
    "    return x,y,t"
   ]
  },
  {
   "cell_type": "code",
   "execution_count": 37,
   "metadata": {},
   "outputs": [
    {
     "data": {
      "text/plain": [
       "[<matplotlib.lines.Line2D at 0x7f4b435052b0>]"
      ]
     },
     "execution_count": 37,
     "metadata": {},
     "output_type": "execute_result"
    },
    {
     "data": {
      "image/png": "[encoded data removed]",
      "text/plain": [
       "<Figure size 432x288 with 1 Axes>"
      ]
     },
     "metadata": {
      "needs_background": "light"
     },
     "output_type": "display_data"
    }
   ],
   "source": [
    "x,y,t = get_traces()\n",
    "plt.plot(t,x)\n",
    "plt.plot(t,y)"
   ]
  },
  {
   "cell_type": "markdown",
   "metadata": {},
   "source": [
    "## A try with matplotlib notebook update\n"
   ]
  },
  {
   "cell_type": "code",
   "execution_count": null,
   "metadata": {},
   "outputs": [],
   "source": [
    "%matplotlib inline"
   ]
  },
  {
   "cell_type": "code",
   "execution_count": null,
   "metadata": {},
   "outputs": [],
   "source": [
    "%matplotlib notebook"
   ]
  },
  {
   "cell_type": "code",
   "execution_count": null,
   "metadata": {},
   "outputs": [],
   "source": [
    "fig,ax = plt.subplots()\n",
    "x,y,t = get_traces()\n",
    "line1, = ax.plot(t,x)\n",
    "line2, = ax.plot(t,y)\n",
    "plt.ylabel('Voltage')\n",
    "plt.xlabel('Time (seconds)')\n",
    "plt.show()\n",
    "\n",
    "while True:\n",
    "    x,y,t = get_traces()\n",
    "    line1.set_data(t,x)\n",
    "    line2.set_data(t,y)\n",
    "    fig.canvas.draw()"
   ]
  },
  {
   "cell_type": "markdown",
   "metadata": {},
   "source": [
    "The matplotlib notebook driver is a bit flaky. Why is my plot so small? And why does it not update when I drag the handle? "
   ]
  },
  {
   "cell_type": "markdown",
   "metadata": {},
   "source": [
    "## Try with Bokeh"
   ]
  },
  {
   "cell_type": "markdown",
   "metadata": {},
   "source": [
    "An internet site suggested that this should work:\n",
    "\n",
    "https://medium.com/@siZHky/update-plots-live-on-jupyter-notebook-with-bokeh-836a0b5aaf20\n",
    "\n",
    "but it doesn't...it keeps adding more lines!"
   ]
  },
  {
   "cell_type": "code",
   "execution_count": 22,
   "metadata": {
    "scrolled": false
   },
   "outputs": [
    {
     "data": {
      "text/html": [
       "\n",
       "    <div class=\"bk-root\">\n",
       "        <a href=\"https://bokeh.pydata.org\" target=\"_blank\" class=\"bk-logo bk-logo-small bk-logo-notebook\"></a>\n",
       "        <span id=\"3483\">Loading BokehJS ...</span>\n",
       "    </div>"
      ]
     },
     "metadata": {},
     "output_type": "display_data"
    },
    {
     "data": {
      "application/javascript": [
       "\n",
       "(function(root) {\n",
       "  function now() {\n",
       "    return new Date();\n",
       "  }\n",
       "\n",
       "  var force = true;\n",
       "\n",
       "  if (typeof root._bokeh_onload_callbacks === \"undefined\" || force === true) {\n",
       "    root._bokeh_onload_callbacks = [];\n",
       "    root._bokeh_is_loading = undefined;\n",
       "  }\n",
       "\n",
       "  var JS_MIME_TYPE = 'application/javascript';\n",
       "  var HTML_MIME_TYPE = 'text/html';\n",
       "  var EXEC_MIME_TYPE = 'application/vnd.bokehjs_exec.v0+json';\n",
       "  var CLASS_NAME = 'output_bokeh rendered_html';\n",
       "\n",
       "  /**\n",
       "   * Render data to the DOM node\n",
       "   */\n",
       "  function render(props, node) {\n",
       "    var script = document.createElement(\"script\");\n",
       "    node.appendChild(script);\n",
       "  }\n",
       "\n",
       "  /**\n",
       "   * Handle when an output is cleared or removed\n",
       "   */\n",
       "  function handleClearOutput(event, handle) {\n",
       "    var cell = handle.cell;\n",
       "\n",
       "    var id = cell.output_area._bokeh_element_id;\n",
       "    var server_id = cell.output_area._bokeh_server_id;\n",
       "    // Clean up Bokeh references\n",
       "    if (id != null && id in Bokeh.index) {\n",
       "      Bokeh.index[id].model.document.clear();\n",
       "      delete Bokeh.index[id];\n",
       "    }\n",
       "\n",
       "    if (server_id !== undefined) {\n",
       "      // Clean up Bokeh references\n",
       "      var cmd = \"from bokeh.io.state import curstate; print(curstate().uuid_to_server['\" + server_id + \"'].get_sessions()[0].document.roots[0]._id)\";\n",
       "      cell.notebook.kernel.execute(cmd, {\n",
       "        iopub: {\n",
       "          output: function(msg) {\n",
       "            var id = msg.content.text.trim();\n",
       "            if (id in Bokeh.index) {\n",
       "              Bokeh.index[id].model.document.clear();\n",
       "              delete Bokeh.index[id];\n",
       "            }\n",
       "          }\n",
       "        }\n",
       "      });\n",
       "      // Destroy server and session\n",
       "      var cmd = \"import bokeh.io.notebook as ion; ion.destroy_server('\" + server_id + \"')\";\n",
       "      cell.notebook.kernel.execute(cmd);\n",
       "    }\n",
       "  }\n",
       "\n",
       "  /**\n",
       "   * Handle when a new output is added\n",
       "   */\n",
       "  function handleAddOutput(event, handle) {\n",
       "    var output_area = handle.output_area;\n",
       "    var output = handle.output;\n",
       "\n",
       "    // limit handleAddOutput to display_data with EXEC_MIME_TYPE content only\n",
       "    if ((output.output_type != \"display_data\") || (!output.data.hasOwnProperty(EXEC_MIME_TYPE))) {\n",
       "      return\n",
       "    }\n",
       "\n",
       "    var toinsert = output_area.element.find(\".\" + CLASS_NAME.split(' ')[0]);\n",
       "\n",
       "    if (output.metadata[EXEC_MIME_TYPE][\"id\"] !== undefined) {\n",
       "      toinsert[toinsert.length - 1].firstChild.textContent = output.data[JS_MIME_TYPE];\n",
       "      // store reference to embed id on output_area\n",
       "      output_area._bokeh_element_id = output.metadata[EXEC_MIME_TYPE][\"id\"];\n",
       "    }\n",
       "    if (output.metadata[EXEC_MIME_TYPE][\"server_id\"] !== undefined) {\n",
       "      var bk_div = document.createElement(\"div\");\n",
       "      bk_div.innerHTML = output.data[HTML_MIME_TYPE];\n",
       "      var script_attrs = bk_div.children[0].attributes;\n",
       "      for (var i = 0; i < script_attrs.length; i++) {\n",
       "        toinsert[toinsert.length - 1].firstChild.setAttribute(script_attrs[i].name, script_attrs[i].value);\n",
       "      }\n",
       "      // store reference to server id on output_area\n",
       "      output_area._bokeh_server_id = output.metadata[EXEC_MIME_TYPE][\"server_id\"];\n",
       "    }\n",
       "  }\n",
       "\n",
       "  function register_renderer(events, OutputArea) {\n",
       "\n",
       "    function append_mime(data, metadata, element) {\n",
       "      // create a DOM node to render to\n",
       "      var toinsert = this.create_output_subarea(\n",
       "        metadata,\n",
       "        CLASS_NAME,\n",
       "        EXEC_MIME_TYPE\n",
       "      );\n",
       "      this.keyboard_manager.register_events(toinsert);\n",
       "      // Render to node\n",
       "      var props = {data: data, metadata: metadata[EXEC_MIME_TYPE]};\n",
       "      render(props, toinsert[toinsert.length - 1]);\n",
       "      element.append(toinsert);\n",
       "      return toinsert\n",
       "    }\n",
       "\n",
       "    /* Handle when an output is cleared or removed */\n",
       "    events.on('clear_output.CodeCell', handleClearOutput);\n",
       "    events.on('delete.Cell', handleClearOutput);\n",
       "\n",
       "    /* Handle when a new output is added */\n",
       "    events.on('output_added.OutputArea', handleAddOutput);\n",
       "\n",
       "    /**\n",
       "     * Register the mime type and append_mime function with output_area\n",
       "     */\n",
       "    OutputArea.prototype.register_mime_type(EXEC_MIME_TYPE, append_mime, {\n",
       "      /* Is output safe? */\n",
       "      safe: true,\n",
       "      /* Index of renderer in `output_area.display_order` */\n",
       "      index: 0\n",
       "    });\n",
       "  }\n",
       "\n",
       "  // register the mime type if in Jupyter Notebook environment and previously unregistered\n",
       "  if (root.Jupyter !== undefined) {\n",
       "    var events = require('base/js/events');\n",
       "    var OutputArea = require('notebook/js/outputarea').OutputArea;\n",
       "\n",
       "    if (OutputArea.prototype.mime_types().indexOf(EXEC_MIME_TYPE) == -1) {\n",
       "      register_renderer(events, OutputArea);\n",
       "    }\n",
       "  }\n",
       "\n",
       "  \n",
       "  if (typeof (root._bokeh_timeout) === \"undefined\" || force === true) {\n",
       "    root._bokeh_timeout = Date.now() + 5000;\n",
       "    root._bokeh_failed_load = false;\n",
       "  }\n",
       "\n",
       "  var NB_LOAD_WARNING = {'data': {'text/html':\n",
       "     \"<div style='background-color: #fdd'>\\n\"+\n",
       "     \"<p>\\n\"+\n",
       "     \"BokehJS does not appear to have successfully loaded. If loading BokehJS from CDN, this \\n\"+\n",
       "     \"may be due to a slow or bad network connection. Possible fixes:\\n\"+\n",
       "     \"</p>\\n\"+\n",
       "     \"<ul>\\n\"+\n",
       "     \"<li>re-rerun `output_notebook()` to attempt to load from CDN again, or</li>\\n\"+\n",
       "     \"<li>use INLINE resources instead, as so:</li>\\n\"+\n",
       "     \"</ul>\\n\"+\n",
       "     \"<code>\\n\"+\n",
       "     \"from bokeh.resources import INLINE\\n\"+\n",
       "     \"output_notebook(resources=INLINE)\\n\"+\n",
       "     \"</code>\\n\"+\n",
       "     \"</div>\"}};\n",
       "\n",
       "  function display_loaded() {\n",
       "    var el = document.getElementById(\"3483\");\n",
       "    if (el != null) {\n",
       "      el.textContent = \"BokehJS is loading...\";\n",
       "    }\n",
       "    if (root.Bokeh !== undefined) {\n",
       "      if (el != null) {\n",
       "        el.textContent = \"BokehJS \" + root.Bokeh.version + \" successfully loaded.\";\n",
       "      }\n",
       "    } else if (Date.now() < root._bokeh_timeout) {\n",
       "      setTimeout(display_loaded, 100)\n",
       "    }\n",
       "  }\n",
       "\n",
       "\n",
       "  function run_callbacks() {\n",
       "    try {\n",
       "      root._bokeh_onload_callbacks.forEach(function(callback) {\n",
       "        if (callback != null)\n",
       "          callback();\n",
       "      });\n",
       "    } finally {\n",
       "      delete root._bokeh_onload_callbacks\n",
       "    }\n",
       "    console.debug(\"Bokeh: all callbacks have finished\");\n",
       "  }\n",
       "\n",
       "  function load_libs(css_urls, js_urls, callback) {\n",
       "    if (css_urls == null) css_urls = [];\n",
       "    if (js_urls == null) js_urls = [];\n",
       "\n",
       "    root._bokeh_onload_callbacks.push(callback);\n",
       "    if (root._bokeh_is_loading > 0) {\n",
       "      console.debug(\"Bokeh: BokehJS is being loaded, scheduling callback at\", now());\n",
       "      return null;\n",
       "    }\n",
       "    if (js_urls == null || js_urls.length === 0) {\n",
       "      run_callbacks();\n",
       "      return null;\n",
       "    }\n",
       "    console.debug(\"Bokeh: BokehJS not loaded, scheduling load and callback at\", now());\n",
       "    root._bokeh_is_loading = css_urls.length + js_urls.length;\n",
       "\n",
       "    function on_load() {\n",
       "      root._bokeh_is_loading--;\n",
       "      if (root._bokeh_is_loading === 0) {\n",
       "        console.debug(\"Bokeh: all BokehJS libraries/stylesheets loaded\");\n",
       "        run_callbacks()\n",
       "      }\n",
       "    }\n",
       "\n",
       "    function on_error() {\n",
       "      console.error(\"failed to load \" + url);\n",
       "    }\n",
       "\n",
       "    for (var i = 0; i < css_urls.length; i++) {\n",
       "      var url = css_urls[i];\n",
       "      const element = document.createElement(\"link\");\n",
       "      element.onload = on_load;\n",
       "      element.onerror = on_error;\n",
       "      element.rel = \"stylesheet\";\n",
       "      element.type = \"text/css\";\n",
       "      element.href = url;\n",
       "      console.debug(\"Bokeh: injecting link tag for BokehJS stylesheet: \", url);\n",
       "      document.body.appendChild(element);\n",
       "    }\n",
       "\n",
       "    for (var i = 0; i < js_urls.length; i++) {\n",
       "      var url = js_urls[i];\n",
       "      var element = document.createElement('script');\n",
       "      element.onload = on_load;\n",
       "      element.onerror = on_error;\n",
       "      element.async = false;\n",
       "      element.src = url;\n",
       "      console.debug(\"Bokeh: injecting script tag for BokehJS library: \", url);\n",
       "      document.head.appendChild(element);\n",
       "    }\n",
       "  };var element = document.getElementById(\"3483\");\n",
       "  if (element == null) {\n",
       "    console.error(\"Bokeh: ERROR: autoload.js configured with elementid '3483' but no matching script tag was found. \")\n",
       "    return false;\n",
       "  }\n",
       "\n",
       "  function inject_raw_css(css) {\n",
       "    const element = document.createElement(\"style\");\n",
       "    element.appendChild(document.createTextNode(css));\n",
       "    document.body.appendChild(element);\n",
       "  }\n",
       "\n",
       "  var js_urls = [\"https://cdn.pydata.org/bokeh/release/bokeh-1.3.4.min.js\", \"https://cdn.pydata.org/bokeh/release/bokeh-widgets-1.3.4.min.js\", \"https://cdn.pydata.org/bokeh/release/bokeh-tables-1.3.4.min.js\", \"https://cdn.pydata.org/bokeh/release/bokeh-gl-1.3.4.min.js\"];\n",
       "  var css_urls = [];\n",
       "\n",
       "  var inline_js = [\n",
       "    function(Bokeh) {\n",
       "      Bokeh.set_log_level(\"info\");\n",
       "    },\n",
       "    \n",
       "    function(Bokeh) {\n",
       "      \n",
       "    },\n",
       "    function(Bokeh) {} // ensure no trailing comma for IE\n",
       "  ];\n",
       "\n",
       "  function run_inline_js() {\n",
       "    \n",
       "    if ((root.Bokeh !== undefined) || (force === true)) {\n",
       "      for (var i = 0; i < inline_js.length; i++) {\n",
       "        inline_js[i].call(root, root.Bokeh);\n",
       "      }if (force === true) {\n",
       "        display_loaded();\n",
       "      }} else if (Date.now() < root._bokeh_timeout) {\n",
       "      setTimeout(run_inline_js, 100);\n",
       "    } else if (!root._bokeh_failed_load) {\n",
       "      console.log(\"Bokeh: BokehJS failed to load within specified timeout.\");\n",
       "      root._bokeh_failed_load = true;\n",
       "    } else if (force !== true) {\n",
       "      var cell = $(document.getElementById(\"3483\")).parents('.cell').data().cell;\n",
       "      cell.output_area.append_execute_result(NB_LOAD_WARNING)\n",
       "    }\n",
       "\n",
       "  }\n",
       "\n",
       "  if (root._bokeh_is_loading === 0) {\n",
       "    console.debug(\"Bokeh: BokehJS loaded, going straight to plotting\");\n",
       "    run_inline_js();\n",
       "  } else {\n",
       "    load_libs(css_urls, js_urls, function() {\n",
       "      console.debug(\"Bokeh: BokehJS plotting callback run at\", now());\n",
       "      run_inline_js();\n",
       "    });\n",
       "  }\n",
       "}(window));"
      ],
      "application/vnd.bokehjs_load.v0+json": "\n(function(root) {\n  function now() {\n    return new Date();\n  }\n\n  var force = true;\n\n  if (typeof root._bokeh_onload_callbacks === \"undefined\" || force === true) {\n    root._bokeh_onload_callbacks = [];\n    root._bokeh_is_loading = undefined;\n  }\n\n  \n\n  \n  if (typeof (root._bokeh_timeout) === \"undefined\" || force === true) {\n    root._bokeh_timeout = Date.now() + 5000;\n    root._bokeh_failed_load = false;\n  }\n\n  var NB_LOAD_WARNING = {'data': {'text/html':\n     \"<div style='background-color: #fdd'>\\n\"+\n     \"<p>\\n\"+\n     \"BokehJS does not appear to have successfully loaded. If loading BokehJS from CDN, this \\n\"+\n     \"may be due to a slow or bad network connection. Possible fixes:\\n\"+\n     \"</p>\\n\"+\n     \"<ul>\\n\"+\n     \"<li>re-rerun `output_notebook()` to attempt to load from CDN again, or</li>\\n\"+\n     \"<li>use INLINE resources instead, as so:</li>\\n\"+\n     \"</ul>\\n\"+\n     \"<code>\\n\"+\n     \"from bokeh.resources import INLINE\\n\"+\n     \"output_notebook(resources=INLINE)\\n\"+\n     \"</code>\\n\"+\n     \"</div>\"}};\n\n  function display_loaded() {\n    var el = document.getElementById(\"3483\");\n    if (el != null) {\n      el.textContent = \"BokehJS is loading...\";\n    }\n    if (root.Bokeh !== undefined) {\n      if (el != null) {\n        el.textContent = \"BokehJS \" + root.Bokeh.version + \" successfully loaded.\";\n      }\n    } else if (Date.now() < root._bokeh_timeout) {\n      setTimeout(display_loaded, 100)\n    }\n  }\n\n\n  function run_callbacks() {\n    try {\n      root._bokeh_onload_callbacks.forEach(function(callback) {\n        if (callback != null)\n          callback();\n      });\n    } finally {\n      delete root._bokeh_onload_callbacks\n    }\n    console.debug(\"Bokeh: all callbacks have finished\");\n  }\n\n  function load_libs(css_urls, js_urls, callback) {\n    if (css_urls == null) css_urls = [];\n    if (js_urls == null) js_urls = [];\n\n    root._bokeh_onload_callbacks.push(callback);\n    if (root._bokeh_is_loading > 0) {\n      console.debug(\"Bokeh: BokehJS is being loaded, scheduling callback at\", now());\n      return null;\n    }\n    if (js_urls == null || js_urls.length === 0) {\n      run_callbacks();\n      return null;\n    }\n    console.debug(\"Bokeh: BokehJS not loaded, scheduling load and callback at\", now());\n    root._bokeh_is_loading = css_urls.length + js_urls.length;\n\n    function on_load() {\n      root._bokeh_is_loading--;\n      if (root._bokeh_is_loading === 0) {\n        console.debug(\"Bokeh: all BokehJS libraries/stylesheets loaded\");\n        run_callbacks()\n      }\n    }\n\n    function on_error() {\n      console.error(\"failed to load \" + url);\n    }\n\n    for (var i = 0; i < css_urls.length; i++) {\n      var url = css_urls[i];\n      const element = document.createElement(\"link\");\n      element.onload = on_load;\n      element.onerror = on_error;\n      element.rel = \"stylesheet\";\n      element.type = \"text/css\";\n      element.href = url;\n      console.debug(\"Bokeh: injecting link tag for BokehJS stylesheet: \", url);\n      document.body.appendChild(element);\n    }\n\n    for (var i = 0; i < js_urls.length; i++) {\n      var url = js_urls[i];\n      var element = document.createElement('script');\n      element.onload = on_load;\n      element.onerror = on_error;\n      element.async = false;\n      element.src = url;\n      console.debug(\"Bokeh: injecting script tag for BokehJS library: \", url);\n      document.head.appendChild(element);\n    }\n  };var element = document.getElementById(\"3483\");\n  if (element == null) {\n    console.error(\"Bokeh: ERROR: autoload.js configured with elementid '3483' but no matching script tag was found. \")\n    return false;\n  }\n\n  function inject_raw_css(css) {\n    const element = document.createElement(\"style\");\n    element.appendChild(document.createTextNode(css));\n    document.body.appendChild(element);\n  }\n\n  var js_urls = [\"https://cdn.pydata.org/bokeh/release/bokeh-1.3.4.min.js\", \"https://cdn.pydata.org/bokeh/release/bokeh-widgets-1.3.4.min.js\", \"https://cdn.pydata.org/bokeh/release/bokeh-tables-1.3.4.min.js\", \"https://cdn.pydata.org/bokeh/release/bokeh-gl-1.3.4.min.js\"];\n  var css_urls = [];\n\n  var inline_js = [\n    function(Bokeh) {\n      Bokeh.set_log_level(\"info\");\n    },\n    \n    function(Bokeh) {\n      \n    },\n    function(Bokeh) {} // ensure no trailing comma for IE\n  ];\n\n  function run_inline_js() {\n    \n    if ((root.Bokeh !== undefined) || (force === true)) {\n      for (var i = 0; i < inline_js.length; i++) {\n        inline_js[i].call(root, root.Bokeh);\n      }if (force === true) {\n        display_loaded();\n      }} else if (Date.now() < root._bokeh_timeout) {\n      setTimeout(run_inline_js, 100);\n    } else if (!root._bokeh_failed_load) {\n      console.log(\"Bokeh: BokehJS failed to load within specified timeout.\");\n      root._bokeh_failed_load = true;\n    } else if (force !== true) {\n      var cell = $(document.getElementById(\"3483\")).parents('.cell').data().cell;\n      cell.output_area.append_execute_result(NB_LOAD_WARNING)\n    }\n\n  }\n\n  if (root._bokeh_is_loading === 0) {\n    console.debug(\"Bokeh: BokehJS loaded, going straight to plotting\");\n    run_inline_js();\n  } else {\n    load_libs(css_urls, js_urls, function() {\n      console.debug(\"Bokeh: BokehJS plotting callback run at\", now());\n      run_inline_js();\n    });\n  }\n}(window));"
     },
     "metadata": {},
     "output_type": "display_data"
    },
    {
     "name": "stderr",
     "output_type": "stream",
     "text": [
      "WARNING:bokeh.core.validation.check:W-1000 (MISSING_RENDERERS): Plot has no renderers: Figure(id='3484', ...)\n"
     ]
    },
    {
     "data": {
      "text/html": [
       "\n",
       "\n",
       "\n",
       "\n",
       "\n",
       "\n",
       "  <div class=\"bk-root\" id=\"04e06a27-5a49-44db-82a8-53e0e8ca3e2f\" data-root-id=\"3484\"></div>\n"
      ]
     },
     "metadata": {},
     "output_type": "display_data"
    },
    {
     "data": {
      "application/javascript": [
       "(function(root) {\n",
       "  function embed_document(root) {\n",
       "    \n",
       "  var docs_json = {\"737de35a-062f-4980-bc47-358fb188667c\":{\"roots\":{\"references\":[{\"attributes\":{\"below\":[{\"id\":\"3495\",\"type\":\"LinearAxis\"}],\"center\":[{\"id\":\"3499\",\"type\":\"Grid\"},{\"id\":\"3504\",\"type\":\"Grid\"}],\"left\":[{\"id\":\"3500\",\"type\":\"LinearAxis\"}],\"plot_height\":350,\"plot_width\":800,\"title\":{\"id\":\"3485\",\"type\":\"Title\"},\"toolbar\":{\"id\":\"3511\",\"type\":\"Toolbar\"},\"x_range\":{\"id\":\"3487\",\"type\":\"DataRange1d\"},\"x_scale\":{\"id\":\"3491\",\"type\":\"LinearScale\"},\"y_range\":{\"id\":\"3489\",\"type\":\"DataRange1d\"},\"y_scale\":{\"id\":\"3493\",\"type\":\"LinearScale\"}},\"id\":\"3484\",\"subtype\":\"Figure\",\"type\":\"Plot\"},{\"attributes\":{\"callback\":null},\"id\":\"3487\",\"type\":\"DataRange1d\"},{\"attributes\":{\"formatter\":{\"id\":\"3634\",\"type\":\"BasicTickFormatter\"},\"ticker\":{\"id\":\"3496\",\"type\":\"BasicTicker\"}},\"id\":\"3495\",\"type\":\"LinearAxis\"},{\"attributes\":{},\"id\":\"3496\",\"type\":\"BasicTicker\"},{\"attributes\":{},\"id\":\"3634\",\"type\":\"BasicTickFormatter\"},{\"attributes\":{\"ticker\":{\"id\":\"3496\",\"type\":\"BasicTicker\"}},\"id\":\"3499\",\"type\":\"Grid\"},{\"attributes\":{},\"id\":\"3501\",\"type\":\"BasicTicker\"},{\"attributes\":{},\"id\":\"3510\",\"type\":\"HelpTool\"},{\"attributes\":{\"formatter\":{\"id\":\"3636\",\"type\":\"BasicTickFormatter\"},\"ticker\":{\"id\":\"3501\",\"type\":\"BasicTicker\"}},\"id\":\"3500\",\"type\":\"LinearAxis\"},{\"attributes\":{\"dimension\":1,\"ticker\":{\"id\":\"3501\",\"type\":\"BasicTicker\"}},\"id\":\"3504\",\"type\":\"Grid\"},{\"attributes\":{},\"id\":\"3491\",\"type\":\"LinearScale\"},{\"attributes\":{},\"id\":\"3493\",\"type\":\"LinearScale\"},{\"attributes\":{\"callback\":null},\"id\":\"3489\",\"type\":\"DataRange1d\"},{\"attributes\":{},\"id\":\"3506\",\"type\":\"WheelZoomTool\"},{\"attributes\":{\"bottom_units\":\"screen\",\"fill_alpha\":{\"value\":0.5},\"fill_color\":{\"value\":\"lightgrey\"},\"left_units\":\"screen\",\"level\":\"overlay\",\"line_alpha\":{\"value\":1.0},\"line_color\":{\"value\":\"black\"},\"line_dash\":[4,4],\"line_width\":{\"value\":2},\"render_mode\":\"css\",\"right_units\":\"screen\",\"top_units\":\"screen\"},\"id\":\"3637\",\"type\":\"BoxAnnotation\"},{\"attributes\":{},\"id\":\"3636\",\"type\":\"BasicTickFormatter\"},{\"attributes\":{},\"id\":\"3508\",\"type\":\"SaveTool\"},{\"attributes\":{\"active_drag\":\"auto\",\"active_inspect\":\"auto\",\"active_multi\":null,\"active_scroll\":\"auto\",\"active_tap\":\"auto\",\"tools\":[{\"id\":\"3505\",\"type\":\"PanTool\"},{\"id\":\"3506\",\"type\":\"WheelZoomTool\"},{\"id\":\"3507\",\"type\":\"BoxZoomTool\"},{\"id\":\"3508\",\"type\":\"SaveTool\"},{\"id\":\"3509\",\"type\":\"ResetTool\"},{\"id\":\"3510\",\"type\":\"HelpTool\"}]},\"id\":\"3511\",\"type\":\"Toolbar\"},{\"attributes\":{\"text\":\"X vs Random Number Generator\"},\"id\":\"3485\",\"type\":\"Title\"},{\"attributes\":{},\"id\":\"3505\",\"type\":\"PanTool\"},{\"attributes\":{\"overlay\":{\"id\":\"3637\",\"type\":\"BoxAnnotation\"}},\"id\":\"3507\",\"type\":\"BoxZoomTool\"},{\"attributes\":{},\"id\":\"3509\",\"type\":\"ResetTool\"}],\"root_ids\":[\"3484\"]},\"title\":\"Bokeh Application\",\"version\":\"1.3.4\"}};\n",
       "  var render_items = [{\"docid\":\"737de35a-062f-4980-bc47-358fb188667c\",\"notebook_comms_target\":\"3638\",\"roots\":{\"3484\":\"04e06a27-5a49-44db-82a8-53e0e8ca3e2f\"}}];\n",
       "  root.Bokeh.embed.embed_items_notebook(docs_json, render_items);\n",
       "\n",
       "  }\n",
       "  if (root.Bokeh !== undefined) {\n",
       "    embed_document(root);\n",
       "  } else {\n",
       "    var attempts = 0;\n",
       "    var timer = setInterval(function(root) {\n",
       "      if (root.Bokeh !== undefined) {\n",
       "        embed_document(root);\n",
       "        clearInterval(timer);\n",
       "      }\n",
       "      attempts++;\n",
       "      if (attempts > 100) {\n",
       "        console.log(\"Bokeh: ERROR: Unable to run BokehJS code because BokehJS library is missing\");\n",
       "        clearInterval(timer);\n",
       "      }\n",
       "    }, 10, root)\n",
       "  }\n",
       "})(window);"
      ],
      "application/vnd.bokehjs_exec.v0+json": ""
     },
     "metadata": {
      "application/vnd.bokehjs_exec.v0+json": {
       "id": "3484"
      }
     },
     "output_type": "display_data"
    },
    {
     "ename": "KeyboardInterrupt",
     "evalue": "",
     "output_type": "error",
     "traceback": [
      "\u001b[0;31m---------------------------------------------------------------------------\u001b[0m",
      "\u001b[0;31mKeyboardInterrupt\u001b[0m                         Traceback (most recent call last)",
      "\u001b[0;32m<ipython-input-22-4394ae0c158f>\u001b[0m in \u001b[0;36m<module>\u001b[0;34m\u001b[0m\n\u001b[1;32m     14\u001b[0m \u001b[0;32mfor\u001b[0m \u001b[0mi\u001b[0m \u001b[0;32min\u001b[0m \u001b[0mrange\u001b[0m\u001b[0;34m(\u001b[0m\u001b[0;36m100\u001b[0m\u001b[0;34m)\u001b[0m\u001b[0;34m:\u001b[0m\u001b[0;34m\u001b[0m\u001b[0;34m\u001b[0m\u001b[0m\n\u001b[1;32m     15\u001b[0m     \u001b[0mx\u001b[0m\u001b[0;34m,\u001b[0m\u001b[0my\u001b[0m\u001b[0;34m,\u001b[0m\u001b[0mt\u001b[0m \u001b[0;34m=\u001b[0m \u001b[0mget_traces\u001b[0m\u001b[0;34m(\u001b[0m\u001b[0;34m)\u001b[0m\u001b[0;34m\u001b[0m\u001b[0;34m\u001b[0m\u001b[0m\n\u001b[0;32m---> 16\u001b[0;31m     \u001b[0mp\u001b[0m\u001b[0;34m.\u001b[0m\u001b[0mline\u001b[0m\u001b[0;34m(\u001b[0m\u001b[0mt\u001b[0m\u001b[0;34m,\u001b[0m \u001b[0mx\u001b[0m\u001b[0;34m)\u001b[0m\u001b[0;34m\u001b[0m\u001b[0;34m\u001b[0m\u001b[0m\n\u001b[0m\u001b[1;32m     17\u001b[0m     \u001b[0mpush_notebook\u001b[0m\u001b[0;34m(\u001b[0m\u001b[0mhandle\u001b[0m\u001b[0;34m=\u001b[0m\u001b[0mtarget\u001b[0m\u001b[0;34m)\u001b[0m\u001b[0;34m\u001b[0m\u001b[0;34m\u001b[0m\u001b[0m\n\u001b[1;32m     18\u001b[0m     \u001b[0msleep\u001b[0m\u001b[0;34m(\u001b[0m\u001b[0;36m0.001\u001b[0m\u001b[0;34m)\u001b[0m\u001b[0;34m\u001b[0m\u001b[0;34m\u001b[0m\u001b[0m\n",
      "\u001b[0;32mfakesource\u001b[0m in \u001b[0;36mline\u001b[0;34m(self, x, y, **kwargs)\u001b[0m\n",
      "\u001b[0;32m/opt/conda/lib/python3.7/site-packages/bokeh/plotting/helpers.py\u001b[0m in \u001b[0;36mfunc\u001b[0;34m(self, **kwargs)\u001b[0m\n\u001b[1;32m    871\u001b[0m             \u001b[0m_update_legend\u001b[0m\u001b[0;34m(\u001b[0m\u001b[0mself\u001b[0m\u001b[0;34m,\u001b[0m \u001b[0mlegend_item_label\u001b[0m\u001b[0;34m,\u001b[0m \u001b[0mglyph_renderer\u001b[0m\u001b[0;34m)\u001b[0m\u001b[0;34m\u001b[0m\u001b[0;34m\u001b[0m\u001b[0m\n\u001b[1;32m    872\u001b[0m \u001b[0;34m\u001b[0m\u001b[0m\n\u001b[0;32m--> 873\u001b[0;31m         \u001b[0mself\u001b[0m\u001b[0;34m.\u001b[0m\u001b[0mrenderers\u001b[0m\u001b[0;34m.\u001b[0m\u001b[0mappend\u001b[0m\u001b[0;34m(\u001b[0m\u001b[0mglyph_renderer\u001b[0m\u001b[0;34m)\u001b[0m\u001b[0;34m\u001b[0m\u001b[0;34m\u001b[0m\u001b[0m\n\u001b[0m\u001b[1;32m    874\u001b[0m \u001b[0;34m\u001b[0m\u001b[0m\n\u001b[1;32m    875\u001b[0m         \u001b[0;32mreturn\u001b[0m \u001b[0mglyph_renderer\u001b[0m\u001b[0;34m\u001b[0m\u001b[0;34m\u001b[0m\u001b[0m\n",
      "\u001b[0;32m/opt/conda/lib/python3.7/site-packages/bokeh/core/property/wrappers.py\u001b[0m in \u001b[0;36mwrapper\u001b[0;34m(self, *args, **kwargs)\u001b[0m\n\u001b[1;32m    123\u001b[0m         \u001b[0mold\u001b[0m \u001b[0;34m=\u001b[0m \u001b[0mself\u001b[0m\u001b[0;34m.\u001b[0m\u001b[0m_saved_copy\u001b[0m\u001b[0;34m(\u001b[0m\u001b[0;34m)\u001b[0m\u001b[0;34m\u001b[0m\u001b[0;34m\u001b[0m\u001b[0m\n\u001b[1;32m    124\u001b[0m         \u001b[0mresult\u001b[0m \u001b[0;34m=\u001b[0m \u001b[0mfunc\u001b[0m\u001b[0;34m(\u001b[0m\u001b[0mself\u001b[0m\u001b[0;34m,\u001b[0m \u001b[0;34m*\u001b[0m\u001b[0margs\u001b[0m\u001b[0;34m,\u001b[0m \u001b[0;34m**\u001b[0m\u001b[0mkwargs\u001b[0m\u001b[0;34m)\u001b[0m\u001b[0;34m\u001b[0m\u001b[0;34m\u001b[0m\u001b[0m\n\u001b[0;32m--> 125\u001b[0;31m         \u001b[0mself\u001b[0m\u001b[0;34m.\u001b[0m\u001b[0m_notify_owners\u001b[0m\u001b[0;34m(\u001b[0m\u001b[0mold\u001b[0m\u001b[0;34m)\u001b[0m\u001b[0;34m\u001b[0m\u001b[0;34m\u001b[0m\u001b[0m\n\u001b[0m\u001b[1;32m    126\u001b[0m         \u001b[0;32mreturn\u001b[0m \u001b[0mresult\u001b[0m\u001b[0;34m\u001b[0m\u001b[0;34m\u001b[0m\u001b[0m\n\u001b[1;32m    127\u001b[0m     \u001b[0mwrapper\u001b[0m\u001b[0;34m.\u001b[0m\u001b[0m__doc__\u001b[0m \u001b[0;34m=\u001b[0m \u001b[0;34m\"Container method ``%s`` instrumented to notify property owners\"\u001b[0m \u001b[0;34m%\u001b[0m \u001b[0mfunc\u001b[0m\u001b[0;34m.\u001b[0m\u001b[0m__name__\u001b[0m\u001b[0;34m\u001b[0m\u001b[0;34m\u001b[0m\u001b[0m\n",
      "\u001b[0;32m/opt/conda/lib/python3.7/site-packages/bokeh/core/property/wrappers.py\u001b[0m in \u001b[0;36m_notify_owners\u001b[0;34m(self, old, hint)\u001b[0m\n\u001b[1;32m    150\u001b[0m     \u001b[0;32mdef\u001b[0m \u001b[0m_notify_owners\u001b[0m\u001b[0;34m(\u001b[0m\u001b[0mself\u001b[0m\u001b[0;34m,\u001b[0m \u001b[0mold\u001b[0m\u001b[0;34m,\u001b[0m \u001b[0mhint\u001b[0m\u001b[0;34m=\u001b[0m\u001b[0;32mNone\u001b[0m\u001b[0;34m)\u001b[0m\u001b[0;34m:\u001b[0m\u001b[0;34m\u001b[0m\u001b[0;34m\u001b[0m\u001b[0m\n\u001b[1;32m    151\u001b[0m         \u001b[0;32mfor\u001b[0m \u001b[0;34m(\u001b[0m\u001b[0mowner\u001b[0m\u001b[0;34m,\u001b[0m \u001b[0mdescriptor\u001b[0m\u001b[0;34m)\u001b[0m \u001b[0;32min\u001b[0m \u001b[0mself\u001b[0m\u001b[0;34m.\u001b[0m\u001b[0m_owners\u001b[0m\u001b[0;34m:\u001b[0m\u001b[0;34m\u001b[0m\u001b[0;34m\u001b[0m\u001b[0m\n\u001b[0;32m--> 152\u001b[0;31m             \u001b[0mdescriptor\u001b[0m\u001b[0;34m.\u001b[0m\u001b[0m_notify_mutated\u001b[0m\u001b[0;34m(\u001b[0m\u001b[0mowner\u001b[0m\u001b[0;34m,\u001b[0m \u001b[0mold\u001b[0m\u001b[0;34m,\u001b[0m \u001b[0mhint\u001b[0m\u001b[0;34m=\u001b[0m\u001b[0mhint\u001b[0m\u001b[0;34m)\u001b[0m\u001b[0;34m\u001b[0m\u001b[0;34m\u001b[0m\u001b[0m\n\u001b[0m\u001b[1;32m    153\u001b[0m \u001b[0;34m\u001b[0m\u001b[0m\n\u001b[1;32m    154\u001b[0m     \u001b[0;32mdef\u001b[0m \u001b[0m_saved_copy\u001b[0m\u001b[0;34m(\u001b[0m\u001b[0mself\u001b[0m\u001b[0;34m)\u001b[0m\u001b[0;34m:\u001b[0m\u001b[0;34m\u001b[0m\u001b[0;34m\u001b[0m\u001b[0m\n",
      "\u001b[0;32m/opt/conda/lib/python3.7/site-packages/bokeh/core/property/descriptors.py\u001b[0m in \u001b[0;36m_notify_mutated\u001b[0;34m(self, obj, old, hint)\u001b[0m\n\u001b[1;32m    873\u001b[0m         \u001b[0mvalue\u001b[0m \u001b[0;34m=\u001b[0m \u001b[0mself\u001b[0m\u001b[0;34m.\u001b[0m\u001b[0mproperty\u001b[0m\u001b[0;34m.\u001b[0m\u001b[0mprepare_value\u001b[0m\u001b[0;34m(\u001b[0m\u001b[0mobj\u001b[0m\u001b[0;34m,\u001b[0m \u001b[0mself\u001b[0m\u001b[0;34m.\u001b[0m\u001b[0mname\u001b[0m\u001b[0;34m,\u001b[0m \u001b[0mvalue\u001b[0m\u001b[0;34m)\u001b[0m\u001b[0;34m\u001b[0m\u001b[0;34m\u001b[0m\u001b[0m\n\u001b[1;32m    874\u001b[0m \u001b[0;34m\u001b[0m\u001b[0m\n\u001b[0;32m--> 875\u001b[0;31m         \u001b[0mself\u001b[0m\u001b[0;34m.\u001b[0m\u001b[0m_real_set\u001b[0m\u001b[0;34m(\u001b[0m\u001b[0mobj\u001b[0m\u001b[0;34m,\u001b[0m \u001b[0mold\u001b[0m\u001b[0;34m,\u001b[0m \u001b[0mvalue\u001b[0m\u001b[0;34m,\u001b[0m \u001b[0mhint\u001b[0m\u001b[0;34m=\u001b[0m\u001b[0mhint\u001b[0m\u001b[0;34m)\u001b[0m\u001b[0;34m\u001b[0m\u001b[0;34m\u001b[0m\u001b[0m\n\u001b[0m\u001b[1;32m    876\u001b[0m \u001b[0;34m\u001b[0m\u001b[0m\n\u001b[1;32m    877\u001b[0m     \u001b[0;32mdef\u001b[0m \u001b[0m_trigger\u001b[0m\u001b[0;34m(\u001b[0m\u001b[0mself\u001b[0m\u001b[0;34m,\u001b[0m \u001b[0mobj\u001b[0m\u001b[0;34m,\u001b[0m \u001b[0mold\u001b[0m\u001b[0;34m,\u001b[0m \u001b[0mvalue\u001b[0m\u001b[0;34m,\u001b[0m \u001b[0mhint\u001b[0m\u001b[0;34m=\u001b[0m\u001b[0;32mNone\u001b[0m\u001b[0;34m,\u001b[0m \u001b[0msetter\u001b[0m\u001b[0;34m=\u001b[0m\u001b[0;32mNone\u001b[0m\u001b[0;34m)\u001b[0m\u001b[0;34m:\u001b[0m\u001b[0;34m\u001b[0m\u001b[0;34m\u001b[0m\u001b[0m\n",
      "\u001b[0;32m/opt/conda/lib/python3.7/site-packages/bokeh/core/property/descriptors.py\u001b[0m in \u001b[0;36m_real_set\u001b[0;34m(self, obj, old, value, hint, setter)\u001b[0m\n\u001b[1;32m    836\u001b[0m \u001b[0;34m\u001b[0m\u001b[0m\n\u001b[1;32m    837\u001b[0m         \u001b[0;31m# for notification purposes, \"old\" should be the logical old\u001b[0m\u001b[0;34m\u001b[0m\u001b[0;34m\u001b[0m\u001b[0;34m\u001b[0m\u001b[0m\n\u001b[0;32m--> 838\u001b[0;31m         \u001b[0mself\u001b[0m\u001b[0;34m.\u001b[0m\u001b[0m_trigger\u001b[0m\u001b[0;34m(\u001b[0m\u001b[0mobj\u001b[0m\u001b[0;34m,\u001b[0m \u001b[0mold\u001b[0m\u001b[0;34m,\u001b[0m \u001b[0mvalue\u001b[0m\u001b[0;34m,\u001b[0m \u001b[0mhint\u001b[0m\u001b[0;34m=\u001b[0m\u001b[0mhint\u001b[0m\u001b[0;34m,\u001b[0m \u001b[0msetter\u001b[0m\u001b[0;34m=\u001b[0m\u001b[0msetter\u001b[0m\u001b[0;34m)\u001b[0m\u001b[0;34m\u001b[0m\u001b[0;34m\u001b[0m\u001b[0m\n\u001b[0m\u001b[1;32m    839\u001b[0m \u001b[0;34m\u001b[0m\u001b[0m\n\u001b[1;32m    840\u001b[0m     \u001b[0;31m# called when a container is mutated \"behind our back\" and\u001b[0m\u001b[0;34m\u001b[0m\u001b[0;34m\u001b[0m\u001b[0;34m\u001b[0m\u001b[0m\n",
      "\u001b[0;32m/opt/conda/lib/python3.7/site-packages/bokeh/core/property/descriptors.py\u001b[0m in \u001b[0;36m_trigger\u001b[0;34m(self, obj, old, value, hint, setter)\u001b[0m\n\u001b[1;32m    913\u001b[0m         '''\n\u001b[1;32m    914\u001b[0m         \u001b[0;32mif\u001b[0m \u001b[0mhasattr\u001b[0m\u001b[0;34m(\u001b[0m\u001b[0mobj\u001b[0m\u001b[0;34m,\u001b[0m \u001b[0;34m'trigger'\u001b[0m\u001b[0;34m)\u001b[0m\u001b[0;34m:\u001b[0m\u001b[0;34m\u001b[0m\u001b[0;34m\u001b[0m\u001b[0m\n\u001b[0;32m--> 915\u001b[0;31m             \u001b[0mobj\u001b[0m\u001b[0;34m.\u001b[0m\u001b[0mtrigger\u001b[0m\u001b[0;34m(\u001b[0m\u001b[0mself\u001b[0m\u001b[0;34m.\u001b[0m\u001b[0mname\u001b[0m\u001b[0;34m,\u001b[0m \u001b[0mold\u001b[0m\u001b[0;34m,\u001b[0m \u001b[0mvalue\u001b[0m\u001b[0;34m,\u001b[0m \u001b[0mhint\u001b[0m\u001b[0;34m,\u001b[0m \u001b[0msetter\u001b[0m\u001b[0;34m)\u001b[0m\u001b[0;34m\u001b[0m\u001b[0;34m\u001b[0m\u001b[0m\n\u001b[0m\u001b[1;32m    916\u001b[0m \u001b[0;34m\u001b[0m\u001b[0m\n\u001b[1;32m    917\u001b[0m \u001b[0;34m\u001b[0m\u001b[0m\n",
      "\u001b[0;32m/opt/conda/lib/python3.7/site-packages/bokeh/model.py\u001b[0m in \u001b[0;36mtrigger\u001b[0;34m(self, attr, old, new, hint, setter)\u001b[0m\n\u001b[1;32m    700\u001b[0m                 \u001b[0m_visit_value_and_its_immediate_references\u001b[0m\u001b[0;34m(\u001b[0m\u001b[0mold\u001b[0m\u001b[0;34m,\u001b[0m \u001b[0mmark_dirty\u001b[0m\u001b[0;34m)\u001b[0m\u001b[0;34m\u001b[0m\u001b[0;34m\u001b[0m\u001b[0m\n\u001b[1;32m    701\u001b[0m                 \u001b[0;32mif\u001b[0m \u001b[0mdirty\u001b[0m\u001b[0;34m[\u001b[0m\u001b[0;34m'count'\u001b[0m\u001b[0;34m]\u001b[0m \u001b[0;34m>\u001b[0m \u001b[0;36m0\u001b[0m\u001b[0;34m:\u001b[0m\u001b[0;34m\u001b[0m\u001b[0;34m\u001b[0m\u001b[0m\n\u001b[0;32m--> 702\u001b[0;31m                     \u001b[0mself\u001b[0m\u001b[0;34m.\u001b[0m\u001b[0m_document\u001b[0m\u001b[0;34m.\u001b[0m\u001b[0m_invalidate_all_models\u001b[0m\u001b[0;34m(\u001b[0m\u001b[0;34m)\u001b[0m\u001b[0;34m\u001b[0m\u001b[0;34m\u001b[0m\u001b[0m\n\u001b[0m\u001b[1;32m    703\u001b[0m         \u001b[0;31m# chain up to invoke callbacks\u001b[0m\u001b[0;34m\u001b[0m\u001b[0;34m\u001b[0m\u001b[0;34m\u001b[0m\u001b[0m\n\u001b[1;32m    704\u001b[0m         \u001b[0msuper\u001b[0m\u001b[0;34m(\u001b[0m\u001b[0mModel\u001b[0m\u001b[0;34m,\u001b[0m \u001b[0mself\u001b[0m\u001b[0;34m)\u001b[0m\u001b[0;34m.\u001b[0m\u001b[0mtrigger\u001b[0m\u001b[0;34m(\u001b[0m\u001b[0mattr\u001b[0m\u001b[0;34m,\u001b[0m \u001b[0mold\u001b[0m\u001b[0;34m,\u001b[0m \u001b[0mnew\u001b[0m\u001b[0;34m,\u001b[0m \u001b[0mhint\u001b[0m\u001b[0;34m=\u001b[0m\u001b[0mhint\u001b[0m\u001b[0;34m,\u001b[0m \u001b[0msetter\u001b[0m\u001b[0;34m=\u001b[0m\u001b[0msetter\u001b[0m\u001b[0;34m)\u001b[0m\u001b[0;34m\u001b[0m\u001b[0;34m\u001b[0m\u001b[0m\n",
      "\u001b[0;32m/opt/conda/lib/python3.7/site-packages/bokeh/document/document.py\u001b[0m in \u001b[0;36m_invalidate_all_models\u001b[0;34m(self)\u001b[0m\n\u001b[1;32m    973\u001b[0m         \u001b[0;31m# if freeze count is > 0, we'll recompute on unfreeze\u001b[0m\u001b[0;34m\u001b[0m\u001b[0;34m\u001b[0m\u001b[0;34m\u001b[0m\u001b[0m\n\u001b[1;32m    974\u001b[0m         \u001b[0;32mif\u001b[0m \u001b[0mself\u001b[0m\u001b[0;34m.\u001b[0m\u001b[0m_all_models_freeze_count\u001b[0m \u001b[0;34m==\u001b[0m \u001b[0;36m0\u001b[0m\u001b[0;34m:\u001b[0m\u001b[0;34m\u001b[0m\u001b[0;34m\u001b[0m\u001b[0m\n\u001b[0;32m--> 975\u001b[0;31m             \u001b[0mself\u001b[0m\u001b[0;34m.\u001b[0m\u001b[0m_recompute_all_models\u001b[0m\u001b[0;34m(\u001b[0m\u001b[0;34m)\u001b[0m\u001b[0;34m\u001b[0m\u001b[0;34m\u001b[0m\u001b[0m\n\u001b[0m\u001b[1;32m    976\u001b[0m \u001b[0;34m\u001b[0m\u001b[0m\n\u001b[1;32m    977\u001b[0m     \u001b[0;32mdef\u001b[0m \u001b[0m_is_single_string_selector\u001b[0m\u001b[0;34m(\u001b[0m\u001b[0mself\u001b[0m\u001b[0;34m,\u001b[0m \u001b[0mselector\u001b[0m\u001b[0;34m,\u001b[0m \u001b[0mfield\u001b[0m\u001b[0;34m)\u001b[0m\u001b[0;34m:\u001b[0m\u001b[0;34m\u001b[0m\u001b[0;34m\u001b[0m\u001b[0m\n",
      "\u001b[0;32m/opt/conda/lib/python3.7/site-packages/bokeh/document/document.py\u001b[0m in \u001b[0;36m_recompute_all_models\u001b[0;34m(self)\u001b[0m\n\u001b[1;32m   1025\u001b[0m         \u001b[0mnew_all_models_set\u001b[0m \u001b[0;34m=\u001b[0m \u001b[0mset\u001b[0m\u001b[0;34m(\u001b[0m\u001b[0;34m)\u001b[0m\u001b[0;34m\u001b[0m\u001b[0;34m\u001b[0m\u001b[0m\n\u001b[1;32m   1026\u001b[0m         \u001b[0;32mfor\u001b[0m \u001b[0mr\u001b[0m \u001b[0;32min\u001b[0m \u001b[0mself\u001b[0m\u001b[0;34m.\u001b[0m\u001b[0mroots\u001b[0m\u001b[0;34m:\u001b[0m\u001b[0;34m\u001b[0m\u001b[0;34m\u001b[0m\u001b[0m\n\u001b[0;32m-> 1027\u001b[0;31m             \u001b[0mnew_all_models_set\u001b[0m \u001b[0;34m=\u001b[0m \u001b[0mnew_all_models_set\u001b[0m\u001b[0;34m.\u001b[0m\u001b[0munion\u001b[0m\u001b[0;34m(\u001b[0m\u001b[0mr\u001b[0m\u001b[0;34m.\u001b[0m\u001b[0mreferences\u001b[0m\u001b[0;34m(\u001b[0m\u001b[0;34m)\u001b[0m\u001b[0;34m)\u001b[0m\u001b[0;34m\u001b[0m\u001b[0;34m\u001b[0m\u001b[0m\n\u001b[0m\u001b[1;32m   1028\u001b[0m         \u001b[0mold_all_models_set\u001b[0m \u001b[0;34m=\u001b[0m \u001b[0mset\u001b[0m\u001b[0;34m(\u001b[0m\u001b[0mself\u001b[0m\u001b[0;34m.\u001b[0m\u001b[0m_all_models\u001b[0m\u001b[0;34m.\u001b[0m\u001b[0mvalues\u001b[0m\u001b[0;34m(\u001b[0m\u001b[0;34m)\u001b[0m\u001b[0;34m)\u001b[0m\u001b[0;34m\u001b[0m\u001b[0;34m\u001b[0m\u001b[0m\n\u001b[1;32m   1029\u001b[0m         \u001b[0mto_detach\u001b[0m \u001b[0;34m=\u001b[0m \u001b[0mold_all_models_set\u001b[0m \u001b[0;34m-\u001b[0m \u001b[0mnew_all_models_set\u001b[0m\u001b[0;34m\u001b[0m\u001b[0;34m\u001b[0m\u001b[0m\n",
      "\u001b[0;32m/opt/conda/lib/python3.7/site-packages/bokeh/model.py\u001b[0m in \u001b[0;36mreferences\u001b[0;34m(self)\u001b[0m\n\u001b[1;32m    582\u001b[0m \u001b[0;34m\u001b[0m\u001b[0m\n\u001b[1;32m    583\u001b[0m         '''\n\u001b[0;32m--> 584\u001b[0;31m         \u001b[0;32mreturn\u001b[0m \u001b[0mset\u001b[0m\u001b[0;34m(\u001b[0m\u001b[0mcollect_models\u001b[0m\u001b[0;34m(\u001b[0m\u001b[0mself\u001b[0m\u001b[0;34m)\u001b[0m\u001b[0;34m)\u001b[0m\u001b[0;34m\u001b[0m\u001b[0;34m\u001b[0m\u001b[0m\n\u001b[0m\u001b[1;32m    585\u001b[0m \u001b[0;34m\u001b[0m\u001b[0m\n\u001b[1;32m    586\u001b[0m     \u001b[0;32mdef\u001b[0m \u001b[0mselect\u001b[0m\u001b[0;34m(\u001b[0m\u001b[0mself\u001b[0m\u001b[0;34m,\u001b[0m \u001b[0mselector\u001b[0m\u001b[0;34m)\u001b[0m\u001b[0;34m:\u001b[0m\u001b[0;34m\u001b[0m\u001b[0;34m\u001b[0m\u001b[0m\n",
      "\u001b[0;32m/opt/conda/lib/python3.7/site-packages/bokeh/model.py\u001b[0m in \u001b[0;36mcollect_models\u001b[0;34m(*input_values)\u001b[0m\n\u001b[1;32m    119\u001b[0m \u001b[0;34m\u001b[0m\u001b[0m\n\u001b[1;32m    120\u001b[0m     '''\n\u001b[0;32m--> 121\u001b[0;31m     \u001b[0;32mreturn\u001b[0m \u001b[0mcollect_filtered_models\u001b[0m\u001b[0;34m(\u001b[0m\u001b[0;32mNone\u001b[0m\u001b[0;34m,\u001b[0m \u001b[0;34m*\u001b[0m\u001b[0minput_values\u001b[0m\u001b[0;34m)\u001b[0m\u001b[0;34m\u001b[0m\u001b[0;34m\u001b[0m\u001b[0m\n\u001b[0m\u001b[1;32m    122\u001b[0m \u001b[0;34m\u001b[0m\u001b[0m\n\u001b[1;32m    123\u001b[0m \u001b[0;32mdef\u001b[0m \u001b[0mget_class\u001b[0m\u001b[0;34m(\u001b[0m\u001b[0mview_model_name\u001b[0m\u001b[0;34m)\u001b[0m\u001b[0;34m:\u001b[0m\u001b[0;34m\u001b[0m\u001b[0;34m\u001b[0m\u001b[0m\n",
      "\u001b[0;32m/opt/conda/lib/python3.7/site-packages/bokeh/model.py\u001b[0m in \u001b[0;36mcollect_filtered_models\u001b[0;34m(discard, *input_values)\u001b[0m\n\u001b[1;32m     99\u001b[0m             \u001b[0mids\u001b[0m\u001b[0;34m.\u001b[0m\u001b[0madd\u001b[0m\u001b[0;34m(\u001b[0m\u001b[0mobj\u001b[0m\u001b[0;34m.\u001b[0m\u001b[0mid\u001b[0m\u001b[0;34m)\u001b[0m\u001b[0;34m\u001b[0m\u001b[0;34m\u001b[0m\u001b[0m\n\u001b[1;32m    100\u001b[0m             \u001b[0mcollected\u001b[0m\u001b[0;34m.\u001b[0m\u001b[0mappend\u001b[0m\u001b[0;34m(\u001b[0m\u001b[0mobj\u001b[0m\u001b[0;34m)\u001b[0m\u001b[0;34m\u001b[0m\u001b[0;34m\u001b[0m\u001b[0m\n\u001b[0;32m--> 101\u001b[0;31m             \u001b[0m_visit_immediate_value_references\u001b[0m\u001b[0;34m(\u001b[0m\u001b[0mobj\u001b[0m\u001b[0;34m,\u001b[0m \u001b[0mqueue_one\u001b[0m\u001b[0;34m)\u001b[0m\u001b[0;34m\u001b[0m\u001b[0;34m\u001b[0m\u001b[0m\n\u001b[0m\u001b[1;32m    102\u001b[0m \u001b[0;34m\u001b[0m\u001b[0m\n\u001b[1;32m    103\u001b[0m     \u001b[0;32mreturn\u001b[0m \u001b[0mcollected\u001b[0m\u001b[0;34m\u001b[0m\u001b[0;34m\u001b[0m\u001b[0m\n",
      "\u001b[0;32m/opt/conda/lib/python3.7/site-packages/bokeh/model.py\u001b[0m in \u001b[0;36m_visit_immediate_value_references\u001b[0;34m(value, visitor)\u001b[0m\n\u001b[1;32m    830\u001b[0m     \u001b[0;32mif\u001b[0m \u001b[0misinstance\u001b[0m\u001b[0;34m(\u001b[0m\u001b[0mvalue\u001b[0m\u001b[0;34m,\u001b[0m \u001b[0mHasProps\u001b[0m\u001b[0;34m)\u001b[0m\u001b[0;34m:\u001b[0m\u001b[0;34m\u001b[0m\u001b[0;34m\u001b[0m\u001b[0m\n\u001b[1;32m    831\u001b[0m         \u001b[0;32mfor\u001b[0m \u001b[0mattr\u001b[0m \u001b[0;32min\u001b[0m \u001b[0mvalue\u001b[0m\u001b[0;34m.\u001b[0m\u001b[0mproperties_with_refs\u001b[0m\u001b[0;34m(\u001b[0m\u001b[0;34m)\u001b[0m\u001b[0;34m:\u001b[0m\u001b[0;34m\u001b[0m\u001b[0;34m\u001b[0m\u001b[0m\n\u001b[0;32m--> 832\u001b[0;31m             \u001b[0mchild\u001b[0m \u001b[0;34m=\u001b[0m \u001b[0mgetattr\u001b[0m\u001b[0;34m(\u001b[0m\u001b[0mvalue\u001b[0m\u001b[0;34m,\u001b[0m \u001b[0mattr\u001b[0m\u001b[0;34m)\u001b[0m\u001b[0;34m\u001b[0m\u001b[0;34m\u001b[0m\u001b[0m\n\u001b[0m\u001b[1;32m    833\u001b[0m             \u001b[0m_visit_value_and_its_immediate_references\u001b[0m\u001b[0;34m(\u001b[0m\u001b[0mchild\u001b[0m\u001b[0;34m,\u001b[0m \u001b[0mvisitor\u001b[0m\u001b[0;34m)\u001b[0m\u001b[0;34m\u001b[0m\u001b[0;34m\u001b[0m\u001b[0m\n\u001b[1;32m    834\u001b[0m     \u001b[0;32melse\u001b[0m\u001b[0;34m:\u001b[0m\u001b[0;34m\u001b[0m\u001b[0;34m\u001b[0m\u001b[0m\n",
      "\u001b[0;32m/opt/conda/lib/python3.7/site-packages/bokeh/core/property/descriptors.py\u001b[0m in \u001b[0;36m__get__\u001b[0;34m(self, obj, owner)\u001b[0m\n\u001b[1;32m    497\u001b[0m         '''\n\u001b[1;32m    498\u001b[0m         \u001b[0;32mif\u001b[0m \u001b[0mobj\u001b[0m \u001b[0;32mis\u001b[0m \u001b[0;32mnot\u001b[0m \u001b[0;32mNone\u001b[0m\u001b[0;34m:\u001b[0m\u001b[0;34m\u001b[0m\u001b[0;34m\u001b[0m\u001b[0m\n\u001b[0;32m--> 499\u001b[0;31m             \u001b[0;32mreturn\u001b[0m \u001b[0mself\u001b[0m\u001b[0;34m.\u001b[0m\u001b[0m_get\u001b[0m\u001b[0;34m(\u001b[0m\u001b[0mobj\u001b[0m\u001b[0;34m)\u001b[0m\u001b[0;34m\u001b[0m\u001b[0;34m\u001b[0m\u001b[0m\n\u001b[0m\u001b[1;32m    500\u001b[0m         \u001b[0;32melif\u001b[0m \u001b[0mowner\u001b[0m \u001b[0;32mis\u001b[0m \u001b[0;32mnot\u001b[0m \u001b[0;32mNone\u001b[0m\u001b[0;34m:\u001b[0m\u001b[0;34m\u001b[0m\u001b[0;34m\u001b[0m\u001b[0m\n\u001b[1;32m    501\u001b[0m             \u001b[0;32mreturn\u001b[0m \u001b[0mself\u001b[0m\u001b[0;34m\u001b[0m\u001b[0;34m\u001b[0m\u001b[0m\n",
      "\u001b[0;32m/opt/conda/lib/python3.7/site-packages/bokeh/core/property/descriptors.py\u001b[0m in \u001b[0;36m_get\u001b[0;34m(self, obj)\u001b[0m\n\u001b[1;32m    693\u001b[0m \u001b[0;34m\u001b[0m\u001b[0m\n\u001b[1;32m    694\u001b[0m         \u001b[0;32mif\u001b[0m \u001b[0mself\u001b[0m\u001b[0;34m.\u001b[0m\u001b[0mname\u001b[0m \u001b[0;32mnot\u001b[0m \u001b[0;32min\u001b[0m \u001b[0mobj\u001b[0m\u001b[0;34m.\u001b[0m\u001b[0m_property_values\u001b[0m\u001b[0;34m:\u001b[0m\u001b[0;34m\u001b[0m\u001b[0;34m\u001b[0m\u001b[0m\n\u001b[0;32m--> 695\u001b[0;31m             \u001b[0;32mreturn\u001b[0m \u001b[0mself\u001b[0m\u001b[0;34m.\u001b[0m\u001b[0m_get_default\u001b[0m\u001b[0;34m(\u001b[0m\u001b[0mobj\u001b[0m\u001b[0;34m)\u001b[0m\u001b[0;34m\u001b[0m\u001b[0;34m\u001b[0m\u001b[0m\n\u001b[0m\u001b[1;32m    696\u001b[0m         \u001b[0;32melse\u001b[0m\u001b[0;34m:\u001b[0m\u001b[0;34m\u001b[0m\u001b[0;34m\u001b[0m\u001b[0m\n\u001b[1;32m    697\u001b[0m             \u001b[0;32mreturn\u001b[0m \u001b[0mobj\u001b[0m\u001b[0;34m.\u001b[0m\u001b[0m_property_values\u001b[0m\u001b[0;34m[\u001b[0m\u001b[0mself\u001b[0m\u001b[0;34m.\u001b[0m\u001b[0mname\u001b[0m\u001b[0;34m]\u001b[0m\u001b[0;34m\u001b[0m\u001b[0;34m\u001b[0m\u001b[0m\n",
      "\u001b[0;32m/opt/conda/lib/python3.7/site-packages/bokeh/core/property/descriptors.py\u001b[0m in \u001b[0;36m_get_default\u001b[0;34m(self, obj)\u001b[0m\n\u001b[1;32m    710\u001b[0m         \u001b[0mis_themed\u001b[0m \u001b[0;34m=\u001b[0m \u001b[0mobj\u001b[0m\u001b[0;34m.\u001b[0m\u001b[0mthemed_values\u001b[0m\u001b[0;34m(\u001b[0m\u001b[0;34m)\u001b[0m \u001b[0;32mis\u001b[0m \u001b[0;32mnot\u001b[0m \u001b[0;32mNone\u001b[0m \u001b[0;32mand\u001b[0m \u001b[0mself\u001b[0m\u001b[0;34m.\u001b[0m\u001b[0mname\u001b[0m \u001b[0;32min\u001b[0m \u001b[0mobj\u001b[0m\u001b[0;34m.\u001b[0m\u001b[0mthemed_values\u001b[0m\u001b[0;34m(\u001b[0m\u001b[0;34m)\u001b[0m\u001b[0;34m\u001b[0m\u001b[0;34m\u001b[0m\u001b[0m\n\u001b[1;32m    711\u001b[0m \u001b[0;34m\u001b[0m\u001b[0m\n\u001b[0;32m--> 712\u001b[0;31m         \u001b[0mdefault\u001b[0m \u001b[0;34m=\u001b[0m \u001b[0mself\u001b[0m\u001b[0;34m.\u001b[0m\u001b[0minstance_default\u001b[0m\u001b[0;34m(\u001b[0m\u001b[0mobj\u001b[0m\u001b[0;34m)\u001b[0m\u001b[0;34m\u001b[0m\u001b[0;34m\u001b[0m\u001b[0m\n\u001b[0m\u001b[1;32m    713\u001b[0m \u001b[0;34m\u001b[0m\u001b[0m\n\u001b[1;32m    714\u001b[0m         \u001b[0;32mif\u001b[0m \u001b[0mis_themed\u001b[0m\u001b[0;34m:\u001b[0m\u001b[0;34m\u001b[0m\u001b[0;34m\u001b[0m\u001b[0m\n",
      "\u001b[0;32m/opt/conda/lib/python3.7/site-packages/bokeh/core/property/descriptors.py\u001b[0m in \u001b[0;36minstance_default\u001b[0;34m(self, obj)\u001b[0m\n\u001b[1;32m    585\u001b[0m \u001b[0;34m\u001b[0m\u001b[0m\n\u001b[1;32m    586\u001b[0m         '''\n\u001b[0;32m--> 587\u001b[0;31m         \u001b[0;32mreturn\u001b[0m \u001b[0mself\u001b[0m\u001b[0;34m.\u001b[0m\u001b[0mproperty\u001b[0m\u001b[0;34m.\u001b[0m\u001b[0mthemed_default\u001b[0m\u001b[0;34m(\u001b[0m\u001b[0mobj\u001b[0m\u001b[0;34m.\u001b[0m\u001b[0m__class__\u001b[0m\u001b[0;34m,\u001b[0m \u001b[0mself\u001b[0m\u001b[0;34m.\u001b[0m\u001b[0mname\u001b[0m\u001b[0;34m,\u001b[0m \u001b[0mobj\u001b[0m\u001b[0;34m.\u001b[0m\u001b[0mthemed_values\u001b[0m\u001b[0;34m(\u001b[0m\u001b[0;34m)\u001b[0m\u001b[0;34m)\u001b[0m\u001b[0;34m\u001b[0m\u001b[0;34m\u001b[0m\u001b[0m\n\u001b[0m\u001b[1;32m    588\u001b[0m \u001b[0;34m\u001b[0m\u001b[0m\n\u001b[1;32m    589\u001b[0m     \u001b[0;32mdef\u001b[0m \u001b[0mset_from_json\u001b[0m\u001b[0;34m(\u001b[0m\u001b[0mself\u001b[0m\u001b[0;34m,\u001b[0m \u001b[0mobj\u001b[0m\u001b[0;34m,\u001b[0m \u001b[0mjson\u001b[0m\u001b[0;34m,\u001b[0m \u001b[0mmodels\u001b[0m\u001b[0;34m=\u001b[0m\u001b[0;32mNone\u001b[0m\u001b[0;34m,\u001b[0m \u001b[0msetter\u001b[0m\u001b[0;34m=\u001b[0m\u001b[0;32mNone\u001b[0m\u001b[0;34m)\u001b[0m\u001b[0;34m:\u001b[0m\u001b[0;34m\u001b[0m\u001b[0;34m\u001b[0m\u001b[0m\n",
      "\u001b[0;32m/opt/conda/lib/python3.7/site-packages/bokeh/core/property/bases.py\u001b[0m in \u001b[0;36mthemed_default\u001b[0;34m(self, cls, name, theme_overrides)\u001b[0m\n\u001b[1;32m    183\u001b[0m         \u001b[0;32melse\u001b[0m\u001b[0;34m:\u001b[0m\u001b[0;34m\u001b[0m\u001b[0;34m\u001b[0m\u001b[0m\n\u001b[1;32m    184\u001b[0m             \u001b[0mdefault\u001b[0m \u001b[0;34m=\u001b[0m \u001b[0mself\u001b[0m\u001b[0;34m.\u001b[0m\u001b[0m_raw_default\u001b[0m\u001b[0;34m(\u001b[0m\u001b[0;34m)\u001b[0m\u001b[0;34m\u001b[0m\u001b[0;34m\u001b[0m\u001b[0m\n\u001b[0;32m--> 185\u001b[0;31m         \u001b[0;32mreturn\u001b[0m \u001b[0mself\u001b[0m\u001b[0;34m.\u001b[0m\u001b[0mprepare_value\u001b[0m\u001b[0;34m(\u001b[0m\u001b[0mcls\u001b[0m\u001b[0;34m,\u001b[0m \u001b[0mname\u001b[0m\u001b[0;34m,\u001b[0m \u001b[0mdefault\u001b[0m\u001b[0;34m)\u001b[0m\u001b[0;34m\u001b[0m\u001b[0;34m\u001b[0m\u001b[0m\n\u001b[0m\u001b[1;32m    186\u001b[0m \u001b[0;34m\u001b[0m\u001b[0m\n\u001b[1;32m    187\u001b[0m     \u001b[0;34m@\u001b[0m\u001b[0mproperty\u001b[0m\u001b[0;34m\u001b[0m\u001b[0;34m\u001b[0m\u001b[0m\n",
      "\u001b[0;32m/opt/conda/lib/python3.7/site-packages/bokeh/core/property/bases.py\u001b[0m in \u001b[0;36mprepare_value\u001b[0;34m(self, obj_or_cls, name, value)\u001b[0m\n\u001b[1;32m    318\u001b[0m         \u001b[0;32mtry\u001b[0m\u001b[0;34m:\u001b[0m\u001b[0;34m\u001b[0m\u001b[0;34m\u001b[0m\u001b[0m\n\u001b[1;32m    319\u001b[0m             \u001b[0;32mif\u001b[0m \u001b[0mvalidation_on\u001b[0m\u001b[0;34m(\u001b[0m\u001b[0;34m)\u001b[0m\u001b[0;34m:\u001b[0m\u001b[0;34m\u001b[0m\u001b[0;34m\u001b[0m\u001b[0m\n\u001b[0;32m--> 320\u001b[0;31m                 \u001b[0mself\u001b[0m\u001b[0;34m.\u001b[0m\u001b[0mvalidate\u001b[0m\u001b[0;34m(\u001b[0m\u001b[0mvalue\u001b[0m\u001b[0;34m)\u001b[0m\u001b[0;34m\u001b[0m\u001b[0;34m\u001b[0m\u001b[0m\n\u001b[0m\u001b[1;32m    321\u001b[0m         \u001b[0;32mexcept\u001b[0m \u001b[0mValueError\u001b[0m \u001b[0;32mas\u001b[0m \u001b[0me\u001b[0m\u001b[0;34m:\u001b[0m\u001b[0;34m\u001b[0m\u001b[0;34m\u001b[0m\u001b[0m\n\u001b[1;32m    322\u001b[0m             \u001b[0;32mfor\u001b[0m \u001b[0mtp\u001b[0m\u001b[0;34m,\u001b[0m \u001b[0mconverter\u001b[0m \u001b[0;32min\u001b[0m \u001b[0mself\u001b[0m\u001b[0;34m.\u001b[0m\u001b[0malternatives\u001b[0m\u001b[0;34m:\u001b[0m\u001b[0;34m\u001b[0m\u001b[0;34m\u001b[0m\u001b[0m\n",
      "\u001b[0;32m/opt/conda/lib/python3.7/site-packages/bokeh/core/property/either.py\u001b[0m in \u001b[0;36mvalidate\u001b[0;34m(self, value, detail)\u001b[0m\n\u001b[1;32m    112\u001b[0m         \u001b[0msuper\u001b[0m\u001b[0;34m(\u001b[0m\u001b[0mEither\u001b[0m\u001b[0;34m,\u001b[0m \u001b[0mself\u001b[0m\u001b[0;34m)\u001b[0m\u001b[0;34m.\u001b[0m\u001b[0mvalidate\u001b[0m\u001b[0;34m(\u001b[0m\u001b[0mvalue\u001b[0m\u001b[0;34m,\u001b[0m \u001b[0mdetail\u001b[0m\u001b[0;34m)\u001b[0m\u001b[0;34m\u001b[0m\u001b[0;34m\u001b[0m\u001b[0m\n\u001b[1;32m    113\u001b[0m \u001b[0;34m\u001b[0m\u001b[0m\n\u001b[0;32m--> 114\u001b[0;31m         \u001b[0;32mif\u001b[0m \u001b[0;32mnot\u001b[0m \u001b[0;34m(\u001b[0m\u001b[0mvalue\u001b[0m \u001b[0;32mis\u001b[0m \u001b[0;32mNone\u001b[0m \u001b[0;32mor\u001b[0m \u001b[0many\u001b[0m\u001b[0;34m(\u001b[0m\u001b[0mparam\u001b[0m\u001b[0;34m.\u001b[0m\u001b[0mis_valid\u001b[0m\u001b[0;34m(\u001b[0m\u001b[0mvalue\u001b[0m\u001b[0;34m)\u001b[0m \u001b[0;32mfor\u001b[0m \u001b[0mparam\u001b[0m \u001b[0;32min\u001b[0m \u001b[0mself\u001b[0m\u001b[0;34m.\u001b[0m\u001b[0mtype_params\u001b[0m\u001b[0;34m)\u001b[0m\u001b[0;34m)\u001b[0m\u001b[0;34m:\u001b[0m\u001b[0;34m\u001b[0m\u001b[0;34m\u001b[0m\u001b[0m\n\u001b[0m\u001b[1;32m    115\u001b[0m             \u001b[0mmsg\u001b[0m \u001b[0;34m=\u001b[0m \u001b[0;34m\"\"\u001b[0m \u001b[0;32mif\u001b[0m \u001b[0;32mnot\u001b[0m \u001b[0mdetail\u001b[0m \u001b[0;32melse\u001b[0m \u001b[0;34m\"expected an element of either %s, got %r\"\u001b[0m \u001b[0;34m%\u001b[0m \u001b[0;34m(\u001b[0m\u001b[0mnice_join\u001b[0m\u001b[0;34m(\u001b[0m\u001b[0mself\u001b[0m\u001b[0;34m.\u001b[0m\u001b[0mtype_params\u001b[0m\u001b[0;34m)\u001b[0m\u001b[0;34m,\u001b[0m \u001b[0mvalue\u001b[0m\u001b[0;34m)\u001b[0m\u001b[0;34m\u001b[0m\u001b[0;34m\u001b[0m\u001b[0m\n\u001b[1;32m    116\u001b[0m             \u001b[0;32mraise\u001b[0m \u001b[0mValueError\u001b[0m\u001b[0;34m(\u001b[0m\u001b[0mmsg\u001b[0m\u001b[0;34m)\u001b[0m\u001b[0;34m\u001b[0m\u001b[0;34m\u001b[0m\u001b[0m\n",
      "\u001b[0;31mKeyboardInterrupt\u001b[0m: "
     ]
    }
   ],
   "source": [
    "from bokeh.plotting import figure, show\n",
    "from bokeh.io import output_notebook, push_notebook\n",
    "output_notebook()\n",
    "\n",
    "from math import pi\n",
    "import numpy as np\n",
    "from time import sleep\n",
    "\n",
    "p = figure(title=\"X vs Random Number Generator\", plot_height=350, plot_width=800)\n",
    "target = show(p, notebook_handle=True)\n",
    "\n",
    "x, y = [], []\n",
    "\n",
    "for i in range(100):\n",
    "    x,y,t = get_traces()\n",
    "    p.line(t, x)\n",
    "    push_notebook(handle=target)\n",
    "    sleep(0.001)"
   ]
  },
  {
   "cell_type": "markdown",
   "metadata": {},
   "source": [
    "It seems that if I use `ColumnDataSource` that if I update the dict, it should trigger a replot? \n",
    "\n",
    "https://stackoverflow.com/questions/34970704/what-is-a-fast-and-proper-way-to-refresh-update-plots-in-bokeh-0-11-server-app\n",
    "\n",
    "But it doesn't. And I don't know why."
   ]
  },
  {
   "cell_type": "code",
   "execution_count": 38,
   "metadata": {
    "scrolled": false
   },
   "outputs": [
    {
     "data": {
      "text/html": [
       "\n",
       "\n",
       "\n",
       "\n",
       "\n",
       "\n",
       "  <div class=\"bk-root\" id=\"c0edfc99-d147-430f-9dfc-1fc5babff147\" data-root-id=\"21163\"></div>\n"
      ]
     },
     "metadata": {},
     "output_type": "display_data"
    },
    {
     "data": {
      "application/javascript": [
       "(function(root) {\n",
       "  function embed_document(root) {\n",
       "    \n",
       "  var docs_json = {\"66edf631-91f7-4110-bb25-32c42e4484c6\":{\"roots\":{\"references\":[{\"attributes\":{\"below\":[{\"id\":\"21174\",\"type\":\"LinearAxis\"}],\"center\":[{\"id\":\"21178\",\"type\":\"Grid\"},{\"id\":\"21183\",\"type\":\"Grid\"}],\"left\":[{\"id\":\"21179\",\"type\":\"LinearAxis\"}],\"plot_height\":350,\"plot_width\":800,\"renderers\":[{\"id\":\"21202\",\"type\":\"GlyphRenderer\"},{\"id\":\"21207\",\"type\":\"GlyphRenderer\"}],\"title\":{\"id\":\"21164\",\"type\":\"Title\"},\"toolbar\":{\"id\":\"21190\",\"type\":\"Toolbar\"},\"x_range\":{\"id\":\"21166\",\"type\":\"DataRange1d\"},\"x_scale\":{\"id\":\"21170\",\"type\":\"LinearScale\"},\"y_range\":{\"id\":\"21168\",\"type\":\"DataRange1d\"},\"y_scale\":{\"id\":\"21172\",\"type\":\"LinearScale\"}},\"id\":\"21163\",\"subtype\":\"Figure\",\"type\":\"Plot\"},{\"attributes\":{},\"id\":\"21180\",\"type\":\"BasicTicker\"},{\"attributes\":{\"data_source\":{\"id\":\"21198\",\"type\":\"ColumnDataSource\"},\"glyph\":{\"id\":\"21205\",\"type\":\"Line\"},\"hover_glyph\":null,\"muted_glyph\":null,\"nonselection_glyph\":{\"id\":\"21206\",\"type\":\"Line\"},\"selection_glyph\":null,\"view\":{\"id\":\"21208\",\"type\":\"CDSView\"}},\"id\":\"21207\",\"type\":\"GlyphRenderer\"},{\"attributes\":{},\"id\":\"21188\",\"type\":\"ResetTool\"},{\"attributes\":{\"callback\":null,\"data\":{\"x\":{\"__ndarray__\":\"AAAAAAAAAACXA2OFFMieP5cDY4UUyK4/sUIKZA8Wtz+XA2OFFMi+Pz7iXdMMPcM/sUIKZA8Wxz8ko7b0Ee/KP5cDY4UUyM4/BbIHi4tQ0T8+4l3TDD3TP3gStBuOKdU/sUIKZA8W1z/rcmCskALZPySjtvQR79o/XtMMPZPb3D+XA2OFFMjeP+iZ3OZKWuA/BbIHi4tQ4T8iyjIvzEbiPz7iXdMMPeM/W/qId00z5D94ErQbjinlP5Uq37/OH+Y/sUIKZA8W5z/OWjUIUAzoP+tyYKyQAuk/B4uLUNH46T8ko7b0Ee/qP0G74ZhS5es/XtMMPZPb7D966zfh09HtP5cDY4UUyO4/tBuOKVW+7z/omdzmSlrwP/cl8jhr1fA/BbIHi4tQ8T8TPh3dq8vxPyLKMi/MRvI/MFZIgezB8j8+4l3TDD3zP01ucyUtuPM/W/qId00z9D9php7Jba70P3gStBuOKfU/hp7Jba6k9T+VKt+/zh/2P6O29BHvmvY/sUIKZA8W9z/Azh+2L5H3P85aNQhQDPg/3OZKWnCH+D/rcmCskAL5P/n+df6wffk/B4uLUNH4+T8WF6Gi8XP6PySjtvQR7/o/Mi/MRjJq+z9Bu+GYUuX7P09H9+pyYPw/XtMMPZPb/D9sXyKPs1b9P3rrN+HT0f0/iXdNM/RM/j+XA2OFFMj+P6WPeNc0Q/8/tBuOKVW+/z/h09G9uhwAQOiZ3OZKWgBA71/nD9uXAED3JfI4a9UAQP7r/GH7EgFABbIHi4tQAUAMeBK0G44BQBM+Hd2rywFAGgQoBjwJAkAiyjIvzEYCQCmQPVhchAJAMFZIgezBAkA3HFOqfP8CQD7iXdMMPQNARqho/Jx6A0BNbnMlLbgDQFQ0fk699QNAW/qId00zBEBiwJOg3XAEQGmGnsltrgRAcUyp8v3rBEB4ErQbjikFQH/YvkQeZwVAhp7Jba6kBUCNZNSWPuIFQJUq37/OHwZAnPDp6F5dBkCjtvQR75oGQKp8/zp/2AZAsUIKZA8WB0C4CBWNn1MHQMDOH7YvkQdAx5Qq37/OB0DOWjUIUAwIQNUgQDHgSQhA3OZKWnCHCEDkrFWDAMUIQOtyYKyQAglA8jhr1SBACUD5/nX+sH0JQADFgCdBuwlAB4uLUNH4CUAPUZZ5YTYKQBYXoaLxcwpAHd2ry4GxCkAko7b0Ee8KQCtpwR2iLAtAMi/MRjJqC0A69dZvwqcLQEG74ZhS5QtASIHsweIiDEBPR/fqcmAMQFYNAhQDngxAXtMMPZPbDEBlmRdmIxkNQGxfIo+zVg1AcyUtuEOUDUB66zfh09ENQIGxQgpkDw5AiXdNM/RMDkCQPVhchIoOQJcDY4UUyA5AnsltrqQFD0Clj3jXNEMPQK1VgwDFgA9AtBuOKVW+D0C74ZhS5fsPQOHT0b26HBBA5TZX0oI7EEDomdzmSloQQOz8YfsSeRBA71/nD9uXEEDzwmwko7YQQPcl8jhr1RBA+oh3TTP0EED+6/xh+xIRQAFPgnbDMRFABbIHi4tQEUAJFY2fU28RQAx4ErQbjhFAENuXyOOsEUATPh3dq8sRQBehovFz6hFAGgQoBjwJEkAeZ60aBCgSQCLKMi/MRhJAJS24Q5RlEkApkD1YXIQSQCzzwmwkoxJAMFZIgezBEkA0uc2VtOASQDccU6p8/xJAO3/YvkQeE0A+4l3TDD0TQEJF4+fUWxNARqho/Jx6E0BJC+4QZZkTQE1ucyUtuBNAUNH4OfXWE0BUNH5OvfUTQFiXA2OFFBRAW/qId00zFEBfXQ6MFVIUQGLAk6DdcBRAZiMZtaWPFEBphp7Jba4UQG3pI941zRRAcUyp8v3rFEB0ry4HxgoVQHgStBuOKRVAe3U5MFZIFUB/2L5EHmcVQIM7RFnmhRVAhp7Jba6kFUCKAU+CdsMVQI1k1JY+4hVAkcdZqwYBFkCVKt+/zh8WQJiNZNSWPhZAnPDp6F5dFkCfU2/9JnwWQKO29BHvmhZAphl6Jre5FkCqfP86f9gWQK7fhE9H9xZAsUIKZA8WF0C1pY941zQXQLgIFY2fUxdAvGuaoWdyF0DAzh+2L5EXQMMxpcr3rxdAx5Qq37/OF0DK96/zh+0XQM5aNQhQDBhA0r26HBgrGEDVIEAx4EkYQNmDxUWoaBhA3OZKWnCHGEDgSdBuOKYYQOSsVYMAxRhA5w/bl8jjGEDrcmCskAIZQO7V5cBYIRlA8jhr1SBAGUD1m/Dp6F4ZQPn+df6wfRlA/WH7EnmcGUAAxYAnQbsZQAQoBjwJ2hlAB4uLUNH4GUAL7hBlmRcaQA9RlnlhNhpAErQbjilVGkAWF6Gi8XMaQBl6Jre5khpAHd2ry4GxGkAhQDHgSdAaQCSjtvQR7xpAKAY8CdoNG0AracEdoiwbQC/MRjJqSxtAMi/MRjJqG0A2klFb+ogbQDr11m/CpxtAPVhchIrGG0BBu+GYUuUbQEQeZ60aBBxASIHsweIiHEBM5HHWqkEcQE9H9+pyYBxAU6p8/zp/HEBWDQIUA54cQFpwhyjLvBxAXtMMPZPbHEBhNpJRW/ocQGWZF2YjGR1AaPyceus3HUBsXyKPs1YdQHDCp6N7dR1AcyUtuEOUHUB3iLLMC7MdQHrrN+HT0R1Afk699ZvwHUCBsUIKZA8eQIUUyB4sLh5AiXdNM/RMHkCM2tJHvGseQJA9WFyEih5Ak6DdcEypHkCXA2OFFMgeQJtm6Jnc5h5AnsltrqQFH0CiLPPCbCQfQKWPeNc0Qx9AqfL96/xhH0CtVYMAxYAfQLC4CBWNnx9AtBuOKVW+H0C3fhM+Hd0fQLvhmFLl+x9AXyKPs1YNIEDh09G9uhwgQGOFFMgeLCBA5TZX0oI7IEBm6Jnc5kogQOiZ3OZKWiBAaksf8a5pIEDs/GH7EnkgQG6upAV3iCBA71/nD9uXIEBxESoaP6cgQPPCbCSjtiBAdXSvLgfGIED3JfI4a9UgQHjXNEPP5CBA+oh3TTP0IEB8OrpXlwMhQP7r/GH7EiFAgJ0/bF8iIUABT4J2wzEhQIMAxYAnQSFABbIHi4tQIUCHY0qV718hQAkVjZ9TbyFAisbPqbd+IUAMeBK0G44hQI4pVb5/nSFAENuXyOOsIUCSjNrSR7whQBM+Hd2ryyFAle9f5w/bIUAXoaLxc+ohQJlS5fvX+SFAGgQoBjwJIkCctWoQoBgiQB5nrRoEKCJAoBjwJGg3IkAiyjIvzEYiQKN7dTkwViJAJS24Q5RlIkCn3vpN+HQiQCmQPVhchCJAq0GAYsCTIkAs88JsJKMiQK6kBXeIsiJAMFZIgezBIkCyB4uLUNEiQDS5zZW04CJAtWoQoBjwIkA3HFOqfP8iQLnNlbTgDiNAO3/YvkQeI0C9MBvJqC0jQD7iXdMMPSNAwJOg3XBMI0BCRePn1FsjQMT2JfI4ayNARqho/Jx6I0DHWasGAYojQEkL7hBlmSNAy7wwG8moI0BNbnMlLbgjQM8fti+RxyNAUNH4OfXWI0DSgjtEWeYjQFQ0fk699SNA1uXAWCEFJEBYlwNjhRQkQNlIRm3pIyRAW/qId00zJEDdq8uBsUIkQF9dDowVUiRA4A5RlnlhJEBiwJOg3XAkQORx1qpBgCRAZiMZtaWPJEDo1Fu/CZ8kQGmGnsltriRA6zfh09G9JEBt6SPeNc0kQO+aZuiZ3CRAcUyp8v3rJEDy/ev8YfskQHSvLgfGCiVA9mBxESoaJUB4ErQbjiklQPrD9iXyOCVAe3U5MFZIJUD9Jnw6ulclQH/YvkQeZyVAAYoBT4J2JUCDO0RZ5oUlQATthmNKlSVAhp7Jba6kJUAIUAx4ErQlQIoBT4J2wyVADLORjNrSJUCNZNSWPuIlQA8WF6Gi8SVAkcdZqwYBJkATeZy1ahAmQJUq37/OHyZAFtwhyjIvJkCYjWTUlj4mQBo/p976TSZAnPDp6F5dJkAeoizzwmwmQJ9Tb/0mfCZAIQWyB4uLJkCjtvQR75omQCVoNxxTqiZAphl6Jre5JkAoy7wwG8kmQKp8/zp/2CZALC5CRePnJkCu34RPR/cmQC+Rx1mrBidAsUIKZA8WJ0Az9ExucyUnQLWlj3jXNCdAN1fSgjtEJ0C4CBWNn1MnQDq6V5cDYydAvGuaoWdyJ0A+Hd2ry4EnQMDOH7YvkSdAQYBiwJOgJ0DDMaXK968nQEXj59RbvydAx5Qq37/OJ0BJRm3pI94nQMr3r/OH7SdATKny/ev8J0DOWjUIUAwoQFAMeBK0GyhA0r26HBgrKEBTb/0mfDooQNUgQDHgSShAV9KCO0RZKEDZg8VFqGgoQFs1CFAMeChA3OZKWnCHKEBemI1k1JYoQOBJ0G44pihAYvsSeZy1KEDkrFWDAMUoQGVemI1k1ChA5w/bl8jjKEBpwR2iLPMoQOtyYKyQAilAbCSjtvQRKUDu1eXAWCEpQHCHKMu8MClA8jhr1SBAKUB06q3fhE8pQPWb8OnoXilAd00z9ExuKUD5/nX+sH0pQHuwuAgVjSlA/WH7EnmcKUB+Ez4d3aspQADFgCdBuylAgnbDMaXKKUAEKAY8CdopQIbZSEZt6SlAB4uLUNH4KUCJPM5aNQgqQAvuEGWZFypAjZ9Tb/0mKkAPUZZ5YTYqQJAC2YPFRSpAErQbjilVKkCUZV6YjWQqQBYXoaLxcypAmMjjrFWDKkAZeia3uZIqQJsracEdoipAHd2ry4GxKkCfju7V5cAqQCFAMeBJ0CpAovFz6q3fKkAko7b0Ee8qQKZU+f51/ipAKAY8CdoNK0Cqt34TPh0rQCtpwR2iLCtArRoEKAY8K0AvzEYyaksrQLF9iTzOWitAMi/MRjJqK0C04A5RlnkrQDaSUVv6iCtAuEOUZV6YK0A69dZvwqcrQLumGXomtytAPVhchIrGK0C/CZ+O7tUrQEG74ZhS5StAw2wko7b0K0BEHmetGgQsQMbPqbd+EyxASIHsweIiLEDKMi/MRjIsQEzkcdaqQSxAzZW04A5RLEBPR/fqcmAsQNH4OfXWbyxAU6p8/zp/LEDVW78Jn44sQFYNAhQDnixA2L5EHmetLEBacIcoy7wsQNwhyjIvzCxAXtMMPZPbLEDfhE9H9+osQGE2klFb+ixA4+fUW78JLUBlmRdmIxktQOdKWnCHKC1AaPyceus3LUDqrd+ET0ctQGxfIo+zVi1A7hBlmRdmLUBwwqeje3UtQPFz6q3fhC1AcyUtuEOULUD11m/Cp6MtQHeIsswLsy1A+Dn11m/CLUB66zfh09EtQPyceus34S1Afk699ZvwLUAAAAAAAAAuQA==\",\"dtype\":\"float64\",\"shape\":[500]},\"y\":{\"__ndarray__\":\"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\",\"dtype\":\"float64\",\"shape\":[500]}},\"selected\":{\"id\":\"21472\",\"type\":\"Selection\"},\"selection_policy\":{\"id\":\"21473\",\"type\":\"UnionRenderers\"}},\"id\":\"21198\",\"type\":\"ColumnDataSource\"},{\"attributes\":{},\"id\":\"21472\",\"type\":\"Selection\"},{\"attributes\":{},\"id\":\"21170\",\"type\":\"LinearScale\"},{\"attributes\":{},\"id\":\"21468\",\"type\":\"BasicTickFormatter\"},{\"attributes\":{},\"id\":\"21184\",\"type\":\"PanTool\"},{\"attributes\":{\"formatter\":{\"id\":\"21468\",\"type\":\"BasicTickFormatter\"},\"ticker\":{\"id\":\"21180\",\"type\":\"BasicTicker\"}},\"id\":\"21179\",\"type\":\"LinearAxis\"},{\"attributes\":{\"callback\":null},\"id\":\"21166\",\"type\":\"DataRange1d\"},{\"attributes\":{\"source\":{\"id\":\"21198\",\"type\":\"ColumnDataSource\"}},\"id\":\"21208\",\"type\":\"CDSView\"},{\"attributes\":{\"line_color\":\"#1f77b4\",\"x\":{\"field\":\"x\"},\"y\":{\"field\":\"y\"}},\"id\":\"21205\",\"type\":\"Line\"},{\"attributes\":{\"dimension\":1,\"ticker\":{\"id\":\"21180\",\"type\":\"BasicTicker\"}},\"id\":\"21183\",\"type\":\"Grid\"},{\"attributes\":{\"active_drag\":\"auto\",\"active_inspect\":\"auto\",\"active_multi\":null,\"active_scroll\":\"auto\",\"active_tap\":\"auto\",\"tools\":[{\"id\":\"21184\",\"type\":\"PanTool\"},{\"id\":\"21185\",\"type\":\"WheelZoomTool\"},{\"id\":\"21186\",\"type\":\"BoxZoomTool\"},{\"id\":\"21187\",\"type\":\"SaveTool\"},{\"id\":\"21188\",\"type\":\"ResetTool\"},{\"id\":\"21189\",\"type\":\"HelpTool\"}]},\"id\":\"21190\",\"type\":\"Toolbar\"},{\"attributes\":{},\"id\":\"21185\",\"type\":\"WheelZoomTool\"},{\"attributes\":{\"overlay\":{\"id\":\"21469\",\"type\":\"BoxAnnotation\"}},\"id\":\"21186\",\"type\":\"BoxZoomTool\"},{\"attributes\":{},\"id\":\"21189\",\"type\":\"HelpTool\"},{\"attributes\":{},\"id\":\"21470\",\"type\":\"Selection\"},{\"attributes\":{\"ticker\":{\"id\":\"21175\",\"type\":\"BasicTicker\"}},\"id\":\"21178\",\"type\":\"Grid\"},{\"attributes\":{},\"id\":\"21187\",\"type\":\"SaveTool\"},{\"attributes\":{},\"id\":\"21466\",\"type\":\"BasicTickFormatter\"},{\"attributes\":{},\"id\":\"21175\",\"type\":\"BasicTicker\"},{\"attributes\":{\"line_color\":\"#1f77b4\",\"x\":{\"field\":\"x\"},\"y\":{\"field\":\"y\"}},\"id\":\"21200\",\"type\":\"Line\"},{\"attributes\":{\"callback\":null,\"data\":{\"x\":{\"__ndarray__\":\"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\",\"dtype\":\"float64\",\"shape\":[500]},\"y\":{\"__ndarray__\":\"PCJfKCws8j+Qim0zWmb2P/kzxG1RDPw/psyWG1ek/T/30DWlsj7+P0QMEQC2g/w/QjALF83F+z8heExjz08AQPE+h2NCpAJAwoMlnHby/z8kj2tUBYsDQO4dGP1swQRADdKiOsdfAkBgTZ7jUGADQEAIM1eR4QRAcfAPzok+AUAiV8krUs0DQEFvp6BlLQNAuIgZS25yBkA6T6bjFFwHQG9mvwKclgZA1qO3X0KyBEDs7ElfxG8IQA7bFcF8EApAVOxH2ePtBkAkGF2JPAoGQDPg0ojvygZA8ZfucK0EBkCFMICZGPEEQLO3QHJIWgNAeVkEUF5pBED4vsN4AFcAQLj7kmwQrQVAu1SMIVK/BECzYU3re1gCQKDPUPPXUwJA1swcOWXIAECx/pqtQB0BQMaP7V8zGwJAMZ0pE7ou/z9ELa3OHXMBQNS0VF/nSvw/VXSYcf+iAECZvknChLf7P4KuobxWlvg/5X3aCO1++T9o8t2vN+r+P9NI/wSEef4/xDIP0FIz+j8CITSo+tP8P3jf+6NusPY/kojH3oS38D9kO/g/9dP2P+ys054IwvI/pN+xfJRZ9j9bizjNqlHzP+RfCfSvHfU//vZ/xPaR9D8FAD42lJf0PwwWPxJFJuE/rARojQL68D9YVyUis//oP9DLCwkpd+Q/6CgdL54d5T+5IoH0oeTnP70fADiKjeY/Cgd97L8g4D/Cgs2hIiveP9pgt4l76tk/HrQO4xu46D+yjPyc/GrZPyUaSz56a+Y/YRgBrgFzuT9UBy+HdMXVP4Iv+htsB64/tM/57PhCrz/quXiB6hvMP5RqXWDYkpI/zOcvYobEy79djn8eMa6xvzzSmHmZitu/JdKwqpVpw7/lBOrpT77dv8tvLegqj+C/zjtZ7PHm0r9ZQQ5G13rcv219IHMhg+e/GJlvvHDb2b9CrGH6cIPrv9j2JC071OK/d3MVNX3G9L8TpwA6vVzkv5Y7bMVeb++/UuWtqnby7L9I67bp7irwv7/kGaKZqOO/Z0s3YFVw6L9O/abPm4X3v0BinhkA/PG/lgSCc1Fu979FkJ4yflL4vzWGFOZumPK/xxRfIAxp+L9qZcsS3o/3v/is7PdXMvy/8fJ1Oa5u+b8vcDuy6oj+v7qRGZmhEf+/wYuFfSm9/L/iaafI9Ib+v7utdxcj8gHAxaaBkaCp/L9OWit6XecAwMXByLzlrP2/xaF87Vo6AcCAiyUGUoYCwOePReQTsgDAAlebrRhKA8CD9+1+h28BwAI0/+kp8QDAQAIM7QKeA8AWLMNTZScIwPK3g/D13gTATHCH75RLBcClFmTAM3IEwBgU2oWg+wfAPgbA5fwuBsA8rQj5aHkHwGXmjECQcAbAOAEsKllmBcAKviU41WwJwIU2yq0RIAfA57BbfY6uBMAM/GRlcNYEwM3zVk/GCwbAdoB3pkobBcBxlj4L89gGwBm+lKjMLgTArdFekUr8BcDT7zSOeyICwEW0ZyYzTgLAQm+NZaL2BMAXYsUut9YAwOicCaDQNgDAuUlbMGlX/r+Mcyw28CQAwHip2Uhna/2/dN1pTBwc+79B09WwdXr/v2hju2mRIQHAuvTN2ui6/r/8lkEZRkb+v/LMFWBTcPy/0PohE7cN+r/8+tVmIHT5v9rgQGIC9PS/X5vJNJIT97/8woeQZgH4v1WqtZ8YbPK/3cBbx/BE9r9cEKwutjTtv6Tbl/BnzPS/xEOnVu1J8L9ATheQXj3lv9LlpHwpH+G/yUNxgm4r7r99edGRapPlv16XDI6fxd6/TaN3zVz65r+YCKOYoBHkv9yJ70TPCd+/eDMGBZHZ6r/yNie0wR7jv65I1wFk/9O/j4xo5vEh57+LlyagQGvgvz444drEwd6/l9EVls16yr+JTM6LFLHAvyKyErdEubQ/gj4Rs62Zsb9R+/Dm54q7P1B6cEhFQMs/f0XTn60q3z9B2BSd3G/JP2S8uk+sFeA/KDDTT8Q24z/ALJNTb87DP/Axbf57w+A/trhtfrlG4z+RE01Zp1DwP+RQYowR+9U/BJz7lBSr8D/3ICO3ytztPwNlxBFd4N0/SDdz/XFz6j9kDdTrFpv0P2RdElpS+uw/rd7NEKKs8z+OxWKnwk3yP50NMjSXNfA/Ldq1M9yC9D9k6o9vhTL6P1IosfOgE/c/3i4I6X1w+D8LDwzxFNn4PzC+l3maCvc/fVToHt3z9z+N5q3ayQD5P20BjtLUY/g/EizJW5e8/T8CW6G8pcz8Py1zKodmbv0/lpArrPOk/j9ztVBcz9P9Pz4JC+7t+AFAubNY9O8X/z8sIbJoavMAQKv8wqxjY/8/rS/iNhUWAEC59DSzrdMAQAEAzycNIAFAofn7iIb3A0D6DdSRrscBQLeUs8LCEANAbpROPrY7BkCCbgop8rAFQLqeLB9tJQdALujqm5NxBkDoguamh/AFQMAneuz/uANAPLVf10o6CEDNJ2x29OYHQAETZXhe1QdA4D4xFczlCUDMI7kGjGgIQPTL5pFwTARAHHD4/19RB0D+G8moW/QGQJ3I53a3zgdAX98hYAMwBEDqhoKXS1IFQLbF8FG25QJAWoJ4ijEdAkBs9Sz9QpwEQJ0770Pf4AJAwLkYfdwEAUBlGz8tIDMAQBbQHcBbDwJA8Hw/oQv7AEAfkXGu0tP/P7mAUXOLsQBAynKeD6gi+D8c1I3bhY/3P97lEKAo1vk/LUIt/PUi+z8+CKd/+Tv8P5gQpLfp4vw/d/onE7Cq+j8i5R4P00nyP+uF5vfwM+0/JJj4jald9T+WqoNAmCr2P5zD0Ct7LvU/zIJ67QsA7T+DFI2qjzPtP/ne+WyPvfY/WgYhhmmu8T+A/mWZrfrsPyrNqGRcVvI/6C5A832i6T+4XxfsRQnyP8gY//xuCuM/irtZ/MeD4j/juXIaigvlPyT15Wd5weA/nW+8IF6k4z+J3Kcmk2DaP3wU3dlHt94/rEjHNnfi5z/yLcjxjA7dP9yi2R+HdNM/9WjFdXqvwT+O7eQcF3jWP945wKBxo8g/l2Abprbsuj/84zYcKUe/P0FexRA1qMG/L8omNWJT2r/HlAFOMo3Vv4rkpu5jUdO/9NZbe8iW47/iAHQ4qofkv3Ie569nwda/FAp8nwNS5b9KYXUWhj3cv20VNK5eSee/uYQPbUgo5L/hCP0+KaDov7/h58UNiea/k3YGLOyI6b84Ps5E/Vrmv8odYSn/vfK/94HlLb/c6b+kDOCy5aPwv9OWxop5sO2/UP3vI4wG7b8BKBI3e5f2vwUGPaxH6vm/M9MoTCUD9r+NkKf00XrzvybmFW3ZnPm/UgN5G6nC/L+4fzYvKeH1v3wuojiONP+/CNHoYrlP+79aOyPjgLoAwK9hvTv0KgDAYSNfGUVK/r9XhZwy1xT/vzy+avtZsALAsly5KBsM+79X1AGtepP/v3Gdv9EJFwLAO4SbjfNXBMAJXyg46+YBwJWc7JFQXALAmhWsee3EA8BA9NmBvDsEwJoAEY7rPv6/IlzDvSNIBsBtzoSpqDcGwFzqMqjzzQbA0E+jbC/FB8BBXbVteMsGwANYoBAnWgPAUk+SJAAvCMDS2QTlRoYJwGCbS9sy8gXA5aASEB//CMAGKFkiao8FwAWXtZvgbQfAL+bwFsuEB8Dpe2n4RhkGwPRcYaYgUQXA0LKdVZuwBcCp5+vGOEsAwNVNg3qZUAPAG7i4KeKPBcDJZyvLigYDwJ459aE/MgHAbmTy0erpAMAy8xa50YYEwOIHrwSP9vy/5CJl3wsS/7+u5hlnbWb+v5ihwjTb2fu/pNSLHvxT+r9HOtiJttT6v7wiHXuMyvi/F/oRJBN1+r8ArYaoZ7/5v1gJN59SDP6/Z9fQWZmo9L9OKMdrUOD4vyIvvL7Vh/S/Ehk/n8oa9r9hMqQLAAD7v5s/BB/hnPi/2Fli3YXe8L81pvXJ/gDzv74cy8VEofa/GaaSM+aR8L+UzX4cCLrvv+vnwqoYsOi/aQOWlyR/77+EJ5h+F97lv0nOjKiFpuu/3txWUGji4r96FTzMhdPwvxIppBqXEse/V778n4z58784piOptoa/PzDw/LNlhdi/KeJ2WVZD1b8QQ1vxUrGxvyQTQtcF4sE/jw0ZILBTxb/ikwFYPNTNP9wJTqXjDW4/Jh08MXCR2L+iaYI6dKLCP+KXTetl0Mw/OK9nVpU54j8oL7+pdWCxv0bKL61J79w/MoxvC6Jj4D9qL/hdogXgP0pjUjurl9w/CKXUDRek5T/FSG1tnhTVP0YMxUM/qeU/sbZYndxx5T//HwsIU2/vP1/w3jBUaPA/YsQDRk1n6T+TG+JAeoDzPxaLgV7EIvM/fr5BQkPF+T9DLD7KDwjyPxR9QEh1OPY/7EXEn8Wm9T9FM3BeFjj2P/b5i5lNPvg/fj14E/9w9j+KQ4J9bIv7PzsM1O6sn/c/koz9kUEV+j8XMVseaOv5P/WjkBzFSv0/Nm5ZoCwRAEBeOEahFYL+P3R9SifnhQBAg2XvEKbZ9T9kdeFSJ6/+P6Zn6QoQJgBAhAtOrSSuAUCkcuNv4UwAQCTxqny/EgFAfjydtWJmBEBKQSpWL2AFQF51oPxYfQNATipj2s3WAUCJNbFHWxwFQCDDa3QBdwVA//8UkyNeCEAYLUGR43oFQHq7nr5dVAZAG5dgyjZXBkAhe6BZsgQFQHhvWxNnOQdAKJJxFfl9BkA/X5QtBD8GQM7IXqtxqQdAPnBVCFgMB0DAfo/o8i4HQLicsWxtiQdA3NrxRkw5A0CP4yemdL8GQJZaSjWnsARAEsh9P+IPA0CAJsYq1xwEQNyTz+CtxQNARbzZ/W3UAEB/+XwqxfYBQGKI4XB0LQBASrSSyxUNAkCtmBbQ1O8AQOKh+gBmUv4/JV2sAlIs/D9QC1MjWO/5P7/AptSH3/s/C8fTgFdc+j+GojuKOYr/P9tq3gWkePk/1Hk6OeQQ/j/rHmKqYpL4P5S+We1P5vY/pijo7n4B/T/KthjL6430P97bmRrimfQ/fVOMkw/G9D9n42GuohD3P/7P3Lt92+s/pAjvI/5u8j+knaU42xTuPw672cYa9+o/MtRybwyB6j+i7+viZd7pP+bW/vH7z/M/eC0D4Cab5D8Q5PXsx5zuP4Cq4YgoQuo/py1vcXwc4z9gDN/5LePhP3Ag/QOUYN4/yL+8bmVv1D8A9bJtW56bPyBZ6aY2lZI/5IIvTnmm4T/g3gQy0GaMP06rs7wRbrA/i5QZpa4ux782Blbwm7nGP2RBGMKkFcG/bKNT4pqRmT+x7/q2zE7gv+jNu7uim8G/ot8G3+cY4L+ipQnFJYPLvw==\",\"dtype\":\"float64\",\"shape\":[500]}},\"selected\":{\"id\":\"21470\",\"type\":\"Selection\"},\"selection_policy\":{\"id\":\"21471\",\"type\":\"UnionRenderers\"}},\"id\":\"21197\",\"type\":\"ColumnDataSource\"},{\"attributes\":{\"callback\":null},\"id\":\"21168\",\"type\":\"DataRange1d\"},{\"attributes\":{\"line_alpha\":0.1,\"line_color\":\"#1f77b4\",\"x\":{\"field\":\"x\"},\"y\":{\"field\":\"y\"}},\"id\":\"21206\",\"type\":\"Line\"},{\"attributes\":{\"data_source\":{\"id\":\"21197\",\"type\":\"ColumnDataSource\"},\"glyph\":{\"id\":\"21200\",\"type\":\"Line\"},\"hover_glyph\":null,\"muted_glyph\":null,\"nonselection_glyph\":{\"id\":\"21201\",\"type\":\"Line\"},\"selection_glyph\":null,\"view\":{\"id\":\"21203\",\"type\":\"CDSView\"}},\"id\":\"21202\",\"type\":\"GlyphRenderer\"},{\"attributes\":{\"source\":{\"id\":\"21197\",\"type\":\"ColumnDataSource\"}},\"id\":\"21203\",\"type\":\"CDSView\"},{\"attributes\":{},\"id\":\"21172\",\"type\":\"LinearScale\"},{\"attributes\":{\"bottom_units\":\"screen\",\"fill_alpha\":{\"value\":0.5},\"fill_color\":{\"value\":\"lightgrey\"},\"left_units\":\"screen\",\"level\":\"overlay\",\"line_alpha\":{\"value\":1.0},\"line_color\":{\"value\":\"black\"},\"line_dash\":[4,4],\"line_width\":{\"value\":2},\"render_mode\":\"css\",\"right_units\":\"screen\",\"top_units\":\"screen\"},\"id\":\"21469\",\"type\":\"BoxAnnotation\"},{\"attributes\":{\"text\":\"X vs Random Number Generator\"},\"id\":\"21164\",\"type\":\"Title\"},{\"attributes\":{\"line_alpha\":0.1,\"line_color\":\"#1f77b4\",\"x\":{\"field\":\"x\"},\"y\":{\"field\":\"y\"}},\"id\":\"21201\",\"type\":\"Line\"},{\"attributes\":{\"formatter\":{\"id\":\"21466\",\"type\":\"BasicTickFormatter\"},\"ticker\":{\"id\":\"21175\",\"type\":\"BasicTicker\"}},\"id\":\"21174\",\"type\":\"LinearAxis\"},{\"attributes\":{},\"id\":\"21471\",\"type\":\"UnionRenderers\"},{\"attributes\":{},\"id\":\"21473\",\"type\":\"UnionRenderers\"}],\"root_ids\":[\"21163\"]},\"title\":\"Bokeh Application\",\"version\":\"1.3.4\"}};\n",
       "  var render_items = [{\"docid\":\"66edf631-91f7-4110-bb25-32c42e4484c6\",\"notebook_comms_target\":\"21474\",\"roots\":{\"21163\":\"c0edfc99-d147-430f-9dfc-1fc5babff147\"}}];\n",
       "  root.Bokeh.embed.embed_items_notebook(docs_json, render_items);\n",
       "\n",
       "  }\n",
       "  if (root.Bokeh !== undefined) {\n",
       "    embed_document(root);\n",
       "  } else {\n",
       "    var attempts = 0;\n",
       "    var timer = setInterval(function(root) {\n",
       "      if (root.Bokeh !== undefined) {\n",
       "        embed_document(root);\n",
       "        clearInterval(timer);\n",
       "      }\n",
       "      attempts++;\n",
       "      if (attempts > 100) {\n",
       "        console.log(\"Bokeh: ERROR: Unable to run BokehJS code because BokehJS library is missing\");\n",
       "        clearInterval(timer);\n",
       "      }\n",
       "    }, 10, root)\n",
       "  }\n",
       "})(window);"
      ],
      "application/vnd.bokehjs_exec.v0+json": ""
     },
     "metadata": {
      "application/vnd.bokehjs_exec.v0+json": {
       "id": "21163"
      }
     },
     "output_type": "display_data"
    },
    {
     "ename": "KeyboardInterrupt",
     "evalue": "",
     "output_type": "error",
     "traceback": [
      "\u001b[0;31m---------------------------------------------------------------------------\u001b[0m",
      "\u001b[0;31mKeyboardInterrupt\u001b[0m                         Traceback (most recent call last)",
      "\u001b[0;32m<ipython-input-38-4872cb5848f1>\u001b[0m in \u001b[0;36m<module>\u001b[0;34m\u001b[0m\n\u001b[1;32m     10\u001b[0m \u001b[0;34m\u001b[0m\u001b[0m\n\u001b[1;32m     11\u001b[0m \u001b[0;32mwhile\u001b[0m \u001b[0;32mTrue\u001b[0m\u001b[0;34m:\u001b[0m\u001b[0;34m\u001b[0m\u001b[0;34m\u001b[0m\u001b[0m\n\u001b[0;32m---> 12\u001b[0;31m     \u001b[0mx\u001b[0m\u001b[0;34m,\u001b[0m\u001b[0my\u001b[0m\u001b[0;34m,\u001b[0m\u001b[0mt\u001b[0m \u001b[0;34m=\u001b[0m \u001b[0mget_traces\u001b[0m\u001b[0;34m(\u001b[0m\u001b[0;34m)\u001b[0m\u001b[0;34m\u001b[0m\u001b[0;34m\u001b[0m\u001b[0m\n\u001b[0m\u001b[1;32m     13\u001b[0m     \u001b[0msource1\u001b[0m\u001b[0;34m.\u001b[0m\u001b[0mdata\u001b[0m \u001b[0;34m=\u001b[0m \u001b[0mdict\u001b[0m\u001b[0;34m(\u001b[0m\u001b[0mx\u001b[0m\u001b[0;34m=\u001b[0m\u001b[0mt\u001b[0m\u001b[0;34m,\u001b[0m \u001b[0my\u001b[0m\u001b[0;34m=\u001b[0m\u001b[0mx\u001b[0m\u001b[0;34m)\u001b[0m\u001b[0;34m\u001b[0m\u001b[0;34m\u001b[0m\u001b[0m\n\u001b[1;32m     14\u001b[0m     \u001b[0msource2\u001b[0m\u001b[0;34m.\u001b[0m\u001b[0mdata\u001b[0m \u001b[0;34m=\u001b[0m \u001b[0mdict\u001b[0m\u001b[0;34m(\u001b[0m\u001b[0mx\u001b[0m\u001b[0;34m=\u001b[0m\u001b[0mt\u001b[0m\u001b[0;34m,\u001b[0m \u001b[0my\u001b[0m\u001b[0;34m=\u001b[0m\u001b[0my\u001b[0m\u001b[0;34m)\u001b[0m\u001b[0;34m\u001b[0m\u001b[0;34m\u001b[0m\u001b[0m\n",
      "\u001b[0;32m<ipython-input-36-ff3a1bbdc685>\u001b[0m in \u001b[0;36mget_traces\u001b[0;34m()\u001b[0m\n\u001b[1;32m      3\u001b[0m \u001b[0;34m\u001b[0m\u001b[0m\n\u001b[1;32m      4\u001b[0m \u001b[0;32mdef\u001b[0m \u001b[0mget_traces\u001b[0m\u001b[0;34m(\u001b[0m\u001b[0;34m)\u001b[0m\u001b[0;34m:\u001b[0m\u001b[0;34m\u001b[0m\u001b[0;34m\u001b[0m\u001b[0m\n\u001b[0;32m----> 5\u001b[0;31m     \u001b[0mtime\u001b[0m\u001b[0;34m.\u001b[0m\u001b[0msleep\u001b[0m\u001b[0;34m(\u001b[0m\u001b[0;36m0.1\u001b[0m\u001b[0;34m)\u001b[0m\u001b[0;34m\u001b[0m\u001b[0;34m\u001b[0m\u001b[0m\n\u001b[0m\u001b[1;32m      6\u001b[0m     \u001b[0mt0\u001b[0m \u001b[0;34m=\u001b[0m \u001b[0mnp\u001b[0m\u001b[0;34m.\u001b[0m\u001b[0mrandom\u001b[0m\u001b[0;34m.\u001b[0m\u001b[0mrandom\u001b[0m\u001b[0;34m(\u001b[0m\u001b[0;34m)\u001b[0m\u001b[0;34m*\u001b[0m\u001b[0;36m10\u001b[0m\u001b[0;34m\u001b[0m\u001b[0;34m\u001b[0m\u001b[0m\n\u001b[1;32m      7\u001b[0m     \u001b[0mt\u001b[0m \u001b[0;34m=\u001b[0m \u001b[0mnp\u001b[0m\u001b[0;34m.\u001b[0m\u001b[0mlinspace\u001b[0m\u001b[0;34m(\u001b[0m\u001b[0;36m0\u001b[0m\u001b[0;34m,\u001b[0m\u001b[0;36m15\u001b[0m\u001b[0;34m,\u001b[0m\u001b[0mN\u001b[0m\u001b[0;34m)\u001b[0m\u001b[0;34m\u001b[0m\u001b[0;34m\u001b[0m\u001b[0m\n",
      "\u001b[0;31mKeyboardInterrupt\u001b[0m: "
     ]
    }
   ],
   "source": [
    "from bokeh.models import ColumnDataSource\n",
    "\n",
    "p = figure(title=\"X vs Random Number Generator\", plot_height=350, plot_width=800)\n",
    "x,y,t = get_traces()\n",
    "source1 = ColumnDataSource(data=dict(x=t, y=x))\n",
    "source2 = ColumnDataSource(data=dict(x=t, y=x))\n",
    "p.line('x', 'y', source=source1)\n",
    "p.line('x', 'y', source=source2)\n",
    "target = show(p, notebook_handle=True)\n",
    "\n",
    "while True:\n",
    "    x,y,t = get_traces()\n",
    "    source1.data = dict(x=t, y=x)\n",
    "    source2.data = dict(x=t, y=y)\n",
    "    push_notebook(handle=target)\n",
    "    sleep(0.001)"
   ]
  },
  {
   "cell_type": "code",
   "execution_count": 39,
   "metadata": {
    "scrolled": false
   },
   "outputs": [
    {
     "data": {
      "text/html": [
       "\n",
       "\n",
       "\n",
       "\n",
       "\n",
       "\n",
       "  <div class=\"bk-root\" id=\"561db49e-f0c3-4f1b-bc47-71674329f641\" data-root-id=\"21845\"></div>\n"
      ]
     },
     "metadata": {},
     "output_type": "display_data"
    },
    {
     "data": {
      "application/javascript": [
       "(function(root) {\n",
       "  function embed_document(root) {\n",
       "    \n",
       "  var docs_json = {\"8ea51b52-bb64-4853-b824-0a10f6342e86\":{\"roots\":{\"references\":[{\"attributes\":{\"below\":[{\"id\":\"21856\",\"type\":\"LinearAxis\"}],\"center\":[{\"id\":\"21860\",\"type\":\"Grid\"},{\"id\":\"21865\",\"type\":\"Grid\"}],\"left\":[{\"id\":\"21861\",\"type\":\"LinearAxis\"}],\"renderers\":[{\"id\":\"21883\",\"type\":\"GlyphRenderer\"}],\"title\":{\"id\":\"21846\",\"type\":\"Title\"},\"toolbar\":{\"id\":\"21872\",\"type\":\"Toolbar\"},\"x_range\":{\"id\":\"21848\",\"type\":\"DataRange1d\"},\"x_scale\":{\"id\":\"21852\",\"type\":\"LinearScale\"},\"y_range\":{\"id\":\"21850\",\"type\":\"DataRange1d\"},\"y_scale\":{\"id\":\"21854\",\"type\":\"LinearScale\"}},\"id\":\"21845\",\"subtype\":\"Figure\",\"type\":\"Plot\"},{\"attributes\":{},\"id\":\"21867\",\"type\":\"WheelZoomTool\"},{\"attributes\":{\"data_source\":{\"id\":\"21879\",\"type\":\"ColumnDataSource\"},\"glyph\":{\"id\":\"21881\",\"type\":\"Line\"},\"hover_glyph\":null,\"muted_glyph\":null,\"nonselection_glyph\":{\"id\":\"21882\",\"type\":\"Line\"},\"selection_glyph\":null,\"view\":{\"id\":\"21884\",\"type\":\"CDSView\"}},\"id\":\"21883\",\"type\":\"GlyphRenderer\"},{\"attributes\":{},\"id\":\"21852\",\"type\":\"LinearScale\"},{\"attributes\":{},\"id\":\"21862\",\"type\":\"BasicTicker\"},{\"attributes\":{\"text\":\"X vs Random Number Generator\"},\"id\":\"21846\",\"type\":\"Title\"},{\"attributes\":{\"line_color\":\"#1f77b4\",\"x\":{\"field\":\"x\"},\"y\":{\"field\":\"y\"}},\"id\":\"21881\",\"type\":\"Line\"},{\"attributes\":{},\"id\":\"21869\",\"type\":\"SaveTool\"},{\"attributes\":{\"dimension\":1,\"ticker\":{\"id\":\"21862\",\"type\":\"BasicTicker\"}},\"id\":\"21865\",\"type\":\"Grid\"},{\"attributes\":{\"ticker\":{\"id\":\"21857\",\"type\":\"BasicTicker\"}},\"id\":\"21860\",\"type\":\"Grid\"},{\"attributes\":{\"active_drag\":\"auto\",\"active_inspect\":\"auto\",\"active_multi\":null,\"active_scroll\":\"auto\",\"active_tap\":\"auto\",\"tools\":[{\"id\":\"21866\",\"type\":\"PanTool\"},{\"id\":\"21867\",\"type\":\"WheelZoomTool\"},{\"id\":\"21868\",\"type\":\"BoxZoomTool\"},{\"id\":\"21869\",\"type\":\"SaveTool\"},{\"id\":\"21870\",\"type\":\"ResetTool\"},{\"id\":\"21871\",\"type\":\"HelpTool\"}]},\"id\":\"21872\",\"type\":\"Toolbar\"},{\"attributes\":{},\"id\":\"22156\",\"type\":\"Selection\"},{\"attributes\":{},\"id\":\"21857\",\"type\":\"BasicTicker\"},{\"attributes\":{},\"id\":\"22154\",\"type\":\"BasicTickFormatter\"},{\"attributes\":{\"line_alpha\":0.1,\"line_color\":\"#1f77b4\",\"x\":{\"field\":\"x\"},\"y\":{\"field\":\"y\"}},\"id\":\"21882\",\"type\":\"Line\"},{\"attributes\":{\"bottom_units\":\"screen\",\"fill_alpha\":{\"value\":0.5},\"fill_color\":{\"value\":\"lightgrey\"},\"left_units\":\"screen\",\"level\":\"overlay\",\"line_alpha\":{\"value\":1.0},\"line_color\":{\"value\":\"black\"},\"line_dash\":[4,4],\"line_width\":{\"value\":2},\"render_mode\":\"css\",\"right_units\":\"screen\",\"top_units\":\"screen\"},\"id\":\"22155\",\"type\":\"BoxAnnotation\"},{\"attributes\":{\"source\":{\"id\":\"21879\",\"type\":\"ColumnDataSource\"}},\"id\":\"21884\",\"type\":\"CDSView\"},{\"attributes\":{},\"id\":\"21870\",\"type\":\"ResetTool\"},{\"attributes\":{},\"id\":\"21854\",\"type\":\"LinearScale\"},{\"attributes\":{},\"id\":\"21866\",\"type\":\"PanTool\"},{\"attributes\":{},\"id\":\"22157\",\"type\":\"UnionRenderers\"},{\"attributes\":{\"overlay\":{\"id\":\"22155\",\"type\":\"BoxAnnotation\"}},\"id\":\"21868\",\"type\":\"BoxZoomTool\"},{\"attributes\":{\"formatter\":{\"id\":\"22152\",\"type\":\"BasicTickFormatter\"},\"ticker\":{\"id\":\"21857\",\"type\":\"BasicTicker\"}},\"id\":\"21856\",\"type\":\"LinearAxis\"},{\"attributes\":{\"callback\":null},\"id\":\"21850\",\"type\":\"DataRange1d\"},{\"attributes\":{},\"id\":\"21871\",\"type\":\"HelpTool\"},{\"attributes\":{\"callback\":null},\"id\":\"21848\",\"type\":\"DataRange1d\"},{\"attributes\":{},\"id\":\"22152\",\"type\":\"BasicTickFormatter\"},{\"attributes\":{\"callback\":null,\"data\":{\"x\":{\"__ndarray__\":\"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\",\"dtype\":\"float64\",\"shape\":[500]},\"y\":{\"__ndarray__\":\"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\",\"dtype\":\"float64\",\"shape\":[500]}},\"selected\":{\"id\":\"22156\",\"type\":\"Selection\"},\"selection_policy\":{\"id\":\"22157\",\"type\":\"UnionRenderers\"}},\"id\":\"21879\",\"type\":\"ColumnDataSource\"},{\"attributes\":{\"formatter\":{\"id\":\"22154\",\"type\":\"BasicTickFormatter\"},\"ticker\":{\"id\":\"21862\",\"type\":\"BasicTicker\"}},\"id\":\"21861\",\"type\":\"LinearAxis\"}],\"root_ids\":[\"21845\"]},\"title\":\"Bokeh Application\",\"version\":\"1.3.4\"}};\n",
       "  var render_items = [{\"docid\":\"8ea51b52-bb64-4853-b824-0a10f6342e86\",\"notebook_comms_target\":\"22158\",\"roots\":{\"21845\":\"561db49e-f0c3-4f1b-bc47-71674329f641\"}}];\n",
       "  root.Bokeh.embed.embed_items_notebook(docs_json, render_items);\n",
       "\n",
       "  }\n",
       "  if (root.Bokeh !== undefined) {\n",
       "    embed_document(root);\n",
       "  } else {\n",
       "    var attempts = 0;\n",
       "    var timer = setInterval(function(root) {\n",
       "      if (root.Bokeh !== undefined) {\n",
       "        embed_document(root);\n",
       "        clearInterval(timer);\n",
       "      }\n",
       "      attempts++;\n",
       "      if (attempts > 100) {\n",
       "        console.log(\"Bokeh: ERROR: Unable to run BokehJS code because BokehJS library is missing\");\n",
       "        clearInterval(timer);\n",
       "      }\n",
       "    }, 10, root)\n",
       "  }\n",
       "})(window);"
      ],
      "application/vnd.bokehjs_exec.v0+json": ""
     },
     "metadata": {
      "application/vnd.bokehjs_exec.v0+json": {
       "id": "21845"
      }
     },
     "output_type": "display_data"
    },
    {
     "ename": "KeyboardInterrupt",
     "evalue": "",
     "output_type": "error",
     "traceback": [
      "\u001b[0;31m---------------------------------------------------------------------------\u001b[0m",
      "\u001b[0;31mKeyboardInterrupt\u001b[0m                         Traceback (most recent call last)",
      "\u001b[0;32m<ipython-input-39-977aee81a0a4>\u001b[0m in \u001b[0;36m<module>\u001b[0;34m\u001b[0m\n\u001b[1;32m      8\u001b[0m \u001b[0;34m\u001b[0m\u001b[0m\n\u001b[1;32m      9\u001b[0m \u001b[0;32mwhile\u001b[0m \u001b[0;32mTrue\u001b[0m\u001b[0;34m:\u001b[0m\u001b[0;34m\u001b[0m\u001b[0;34m\u001b[0m\u001b[0m\n\u001b[0;32m---> 10\u001b[0;31m     \u001b[0mx\u001b[0m\u001b[0;34m,\u001b[0m\u001b[0my\u001b[0m\u001b[0;34m,\u001b[0m\u001b[0mt\u001b[0m \u001b[0;34m=\u001b[0m \u001b[0mget_traces\u001b[0m\u001b[0;34m(\u001b[0m\u001b[0;34m)\u001b[0m\u001b[0;34m\u001b[0m\u001b[0;34m\u001b[0m\u001b[0m\n\u001b[0m\u001b[1;32m     11\u001b[0m     \u001b[0msource1\u001b[0m\u001b[0;34m.\u001b[0m\u001b[0mdata\u001b[0m \u001b[0;34m=\u001b[0m \u001b[0mdict\u001b[0m\u001b[0;34m(\u001b[0m\u001b[0mx\u001b[0m\u001b[0;34m=\u001b[0m\u001b[0mx\u001b[0m\u001b[0;34m,\u001b[0m \u001b[0my\u001b[0m\u001b[0;34m=\u001b[0m\u001b[0my\u001b[0m\u001b[0;34m)\u001b[0m\u001b[0;34m\u001b[0m\u001b[0;34m\u001b[0m\u001b[0m\n\u001b[1;32m     12\u001b[0m     \u001b[0mpush_notebook\u001b[0m\u001b[0;34m(\u001b[0m\u001b[0mhandle\u001b[0m\u001b[0;34m=\u001b[0m\u001b[0mtarget\u001b[0m\u001b[0;34m)\u001b[0m\u001b[0;34m\u001b[0m\u001b[0;34m\u001b[0m\u001b[0m\n",
      "\u001b[0;32m<ipython-input-36-ff3a1bbdc685>\u001b[0m in \u001b[0;36mget_traces\u001b[0;34m()\u001b[0m\n\u001b[1;32m      3\u001b[0m \u001b[0;34m\u001b[0m\u001b[0m\n\u001b[1;32m      4\u001b[0m \u001b[0;32mdef\u001b[0m \u001b[0mget_traces\u001b[0m\u001b[0;34m(\u001b[0m\u001b[0;34m)\u001b[0m\u001b[0;34m:\u001b[0m\u001b[0;34m\u001b[0m\u001b[0;34m\u001b[0m\u001b[0m\n\u001b[0;32m----> 5\u001b[0;31m     \u001b[0mtime\u001b[0m\u001b[0;34m.\u001b[0m\u001b[0msleep\u001b[0m\u001b[0;34m(\u001b[0m\u001b[0;36m0.1\u001b[0m\u001b[0;34m)\u001b[0m\u001b[0;34m\u001b[0m\u001b[0;34m\u001b[0m\u001b[0m\n\u001b[0m\u001b[1;32m      6\u001b[0m     \u001b[0mt0\u001b[0m \u001b[0;34m=\u001b[0m \u001b[0mnp\u001b[0m\u001b[0;34m.\u001b[0m\u001b[0mrandom\u001b[0m\u001b[0;34m.\u001b[0m\u001b[0mrandom\u001b[0m\u001b[0;34m(\u001b[0m\u001b[0;34m)\u001b[0m\u001b[0;34m*\u001b[0m\u001b[0;36m10\u001b[0m\u001b[0;34m\u001b[0m\u001b[0;34m\u001b[0m\u001b[0m\n\u001b[1;32m      7\u001b[0m     \u001b[0mt\u001b[0m \u001b[0;34m=\u001b[0m \u001b[0mnp\u001b[0m\u001b[0;34m.\u001b[0m\u001b[0mlinspace\u001b[0m\u001b[0;34m(\u001b[0m\u001b[0;36m0\u001b[0m\u001b[0;34m,\u001b[0m\u001b[0;36m15\u001b[0m\u001b[0;34m,\u001b[0m\u001b[0mN\u001b[0m\u001b[0;34m)\u001b[0m\u001b[0;34m\u001b[0m\u001b[0;34m\u001b[0m\u001b[0m\n",
      "\u001b[0;31mKeyboardInterrupt\u001b[0m: "
     ]
    }
   ],
   "source": [
    "from bokeh.models import ColumnDataSource\n",
    "\n",
    "p = figure(title=\"X vs Random Number Generator\", plot_height=600, plot_width=600)\n",
    "x,y,t = get_traces()\n",
    "source1 = ColumnDataSource(data=dict(x=x, y=y))\n",
    "p.line('x', 'y', source=source1)\n",
    "target = show(p, notebook_handle=True)\n",
    "\n",
    "while True:\n",
    "    x,y,t = get_traces()\n",
    "    source1.data = dict(x=x, y=y)\n",
    "    push_notebook(handle=target)\n",
    "    sleep(0.001)"
   ]
  },
  {
   "cell_type": "code",
   "execution_count": null,
   "metadata": {},
   "outputs": [],
   "source": []
  }
 ],
 "metadata": {
  "jupytext": {
   "formats": "ipynb,md"
  },
  "kernelspec": {
   "display_name": "Python 3",
   "language": "python",
   "name": "python3"
  },
  "language_info": {
   "codemirror_mode": {
    "name": "ipython",
    "version": 3
   },
   "file_extension": ".py",
   "mimetype": "text/x-python",
   "name": "python",
   "nbconvert_exporter": "python",
   "pygments_lexer": "ipython3",
   "version": "3.7.3"
  }
 },
 "nbformat": 4,
 "nbformat_minor": 2
}
