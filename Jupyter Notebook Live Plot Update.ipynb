{
 "cells": [
  {
   "cell_type": "code",
   "execution_count": null,
   "metadata": {},
   "outputs": [],
   "source": [
    "import numpy as np\n",
    "import matplotlib.pyplot as plt\n",
    "import ipywidgets as widgets\n",
    "import time"
   ]
  },
  {
   "cell_type": "markdown",
   "metadata": {},
   "source": [
    "For simulating it when we're not connected:"
   ]
  },
  {
   "cell_type": "code",
   "execution_count": null,
   "metadata": {},
   "outputs": [],
   "source": [
    "from scipy.signal import sawtooth\n",
    "N=500\n",
    "\n",
    "def get_traces():\n",
    "    time.sleep(0.1)\n",
    "    t0 = np.random.random()*10\n",
    "    t = np.linspace(0,15,N)\n",
    "    x = sawtooth(t+t0,width=0.5)*3\n",
    "    y = sawtooth(t+t0,width=0.5)*8\n",
    "    x += np.random.normal(size=N)*0.2\n",
    "    y += np.random.normal(size=N)*0.1\n",
    "    return x,y,t"
   ]
  },
  {
   "cell_type": "code",
   "execution_count": null,
   "metadata": {},
   "outputs": [],
   "source": [
    "x,y,t = get_traces()\n",
    "plt.plot(t,x)\n",
    "plt.plot(t,y)"
   ]
  },
  {
   "cell_type": "markdown",
   "metadata": {},
   "source": [
    "## A try with matplotlib inline update\n"
   ]
  },
  {
   "cell_type": "code",
   "execution_count": null,
   "metadata": {},
   "outputs": [],
   "source": [
    "%matplotlib inline"
   ]
  },
  {
   "cell_type": "code",
   "execution_count": null,
   "metadata": {},
   "outputs": [],
   "source": [
    "%matplotlib notebook"
   ]
  },
  {
   "cell_type": "code",
   "execution_count": null,
   "metadata": {},
   "outputs": [],
   "source": [
    "fig,ax = plt.subplots()\n",
    "x,y,t = get_traces()\n",
    "line1, = ax.plot(t,x)\n",
    "line2, = ax.plot(t,y)\n",
    "plt.ylabel('Voltage')\n",
    "plt.xlabel('Time (seconds)')\n",
    "plt.show()\n",
    "\n",
    "while True:\n",
    "    x,y,t = get_traces()\n",
    "    line1.set_data(t,x)\n",
    "    line2.set_data(t,y)\n",
    "    fig.canvas.draw()"
   ]
  },
  {
   "cell_type": "markdown",
   "metadata": {},
   "source": [
    "The matplotlib notebook driver is a bit flaky. Why is my plot so small? And why does it not update when I drag the handle? "
   ]
  },
  {
   "cell_type": "markdown",
   "metadata": {},
   "source": [
    "## Try with Bokeh"
   ]
  },
  {
   "cell_type": "markdown",
   "metadata": {},
   "source": [
    "An internet site suggested that this should work, but it doesn't...it keeps adding more lines!"
   ]
  },
  {
   "cell_type": "code",
   "execution_count": null,
   "metadata": {
    "scrolled": false
   },
   "outputs": [],
   "source": [
    "from bokeh.plotting import figure, show\n",
    "from bokeh.io import output_notebook, push_notebook\n",
    "output_notebook()\n",
    "\n",
    "from math import pi\n",
    "import numpy as np\n",
    "from time import sleep\n",
    "\n",
    "p = figure(title=\"X vs Random Number Generator\", plot_height=350, plot_width=800)\n",
    "target = show(p, notebook_handle=True)\n",
    "\n",
    "x, y = [], []\n",
    "\n",
    "for i in range(100):\n",
    "    x,y,t = get_traces()\n",
    "    p.line(t, x)\n",
    "    push_notebook(handle=target)\n",
    "    sleep(0.001)"
   ]
  },
  {
   "cell_type": "markdown",
   "metadata": {},
   "source": [
    "It seems that if I use `ColumnDataSource` that if I update the dict, it should trigger a replot? \n",
    "\n",
    "https://stackoverflow.com/questions/34970704/what-is-a-fast-and-proper-way-to-refresh-update-plots-in-bokeh-0-11-server-app\n",
    "\n",
    "But it doesn't. And I don't know why."
   ]
  },
  {
   "cell_type": "code",
   "execution_count": null,
   "metadata": {
    "scrolled": false
   },
   "outputs": [],
   "source": [
    "from bokeh.models import ColumnDataSource\n",
    "\n",
    "p = figure(title=\"X vs Random Number Generator\", plot_height=350, plot_width=800)\n",
    "target = show(p, notebook_handle=True)\n",
    "\n",
    "x,y,t = get_traces()\n",
    "source = ColumnDataSource(data=dict(x=t, y=x))\n",
    "p.line('x', 'y', source=source)\n",
    "\n",
    "for i in range(100):\n",
    "    x,y,t = get_traces()\n",
    "    source.data = dict(x=t, y=x)\n",
    "    push_notebook(handle=target)\n",
    "    sleep(0.001)"
   ]
  }
 ],
 "metadata": {
  "jupytext": {
   "formats": "ipynb,md"
  },
  "kernelspec": {
   "display_name": "Python 3",
   "language": "python",
   "name": "python3"
  },
  "language_info": {
   "codemirror_mode": {
    "name": "ipython",
    "version": 3
   },
   "file_extension": ".py",
   "mimetype": "text/x-python",
   "name": "python",
   "nbconvert_exporter": "python",
   "pygments_lexer": "ipython3",
   "version": "3.7.3"
  }
 },
 "nbformat": 4,
 "nbformat_minor": 2
}
