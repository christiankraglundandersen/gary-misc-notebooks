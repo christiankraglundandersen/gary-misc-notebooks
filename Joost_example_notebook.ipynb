{
 "cells": [
  {
   "cell_type": "code",
   "execution_count": null,
   "metadata": {},
   "outputs": [],
   "source": [
    "import numpy as np\n",
    "import matplotlib.pyplot as plt"
   ]
  },
  {
   "cell_type": "code",
   "execution_count": null,
   "metadata": {},
   "outputs": [],
   "source": [
    "plt.rcParams['figure.dpi'] = 100"
   ]
  },
  {
   "cell_type": "markdown",
   "metadata": {},
   "source": [
    "# Frequency of a harmonic oscillator\n",
    "\n",
    "Here, we will plot the frequency of a harmonic oscillator as a function of the spring constant.\n",
    "\n",
    "## Equations\n",
    "\n",
    "From our equations, we know that:\n",
    "\n",
    "$$\n",
    "\\omega = \\sqrt{\\frac{k}{m}}\n",
    "$$\n",
    "\n",
    "Let's plot it!"
   ]
  },
  {
   "cell_type": "code",
   "execution_count": null,
   "metadata": {},
   "outputs": [],
   "source": [
    "k = np.linspace(0,10,100)\n",
    "m = 1\n",
    "omega = np.sqrt(k/m)\n",
    "plt.plot(k,omega)\n",
    "plt.xlabel(\"Spring constant (N/m)\")\n",
    "plt.ylabel(\"Angular frequency $\\omega$ (rad/s)\")"
   ]
  }
 ],
 "metadata": {
  "jupytext": {
   "formats": "ipynb,md"
  },
  "kernelspec": {
   "display_name": "Python 3",
   "language": "python",
   "name": "python3"
  }
 },
 "nbformat": 4,
 "nbformat_minor": 2
}
