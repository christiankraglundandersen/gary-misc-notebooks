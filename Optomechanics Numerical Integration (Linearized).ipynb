{
 "cells": [
  {
   "cell_type": "code",
   "execution_count": null,
   "metadata": {},
   "outputs": [],
   "source": [
    "import numpy as np\n",
    "from scipy.integrate import solve_ivp\n",
    "import matplotlib.pyplot as plt\n",
    "from scipy import constants\n",
    "from ipywidgets import interact\n",
    "import matplotlib.gridspec as gridspec\n",
    "import time"
   ]
  },
  {
   "cell_type": "code",
   "execution_count": null,
   "metadata": {},
   "outputs": [],
   "source": [
    "# To save some typing\n",
    "pi = np.pi\n",
    "hbar = constants.hbar\n",
    "# Better defauls\n",
    "plt.rcParams['figure.dpi'] = 100"
   ]
  },
  {
   "cell_type": "markdown",
   "metadata": {},
   "source": [
    "Plotting routines (collapsed cell):"
   ]
  },
  {
   "cell_type": "code",
   "execution_count": null,
   "metadata": {
    "hide_input": true
   },
   "outputs": [],
   "source": [
    "# Let's make a function to make these plots on demand\n",
    "\n",
    "def plot_cavity():\n",
    "    plt.figure(figsize=(12,3.5))\n",
    "    G = gridspec.GridSpec(1, 3)\n",
    "    plt.subplot(G[0,:-1])\n",
    "    plt.plot(t*1e6,np.real(da), label=\"Real\")\n",
    "    plt.plot(t*1e6,np.imag(da), label=\"Imag\")\n",
    "    plt.plot(t*1e6,np.abs(da), label=\"\")\n",
    "    plt.axhline(0,ls=\":\", c=\"grey\")\n",
    "    plt.legend()\n",
    "    plt.ylabel(\"Cavity field amplitude $da$\");\n",
    "    plt.xlabel(\"Time ($\\mu$s)\")\n",
    "    plt.subplot(G[0,2])\n",
    "    m = np.max(np.abs(da))*1.2\n",
    "    plt.plot(np.real(da), np.imag(da))\n",
    "    plt.xlim((-m,m))\n",
    "    plt.ylim((-m,m))\n",
    "    plt.axhline(0,ls=\":\", c=\"grey\")\n",
    "    plt.axvline(0,ls=\":\", c=\"grey\")\n",
    "    plt.tight_layout()\n",
    "\n",
    "\n",
    "def plot_both():\n",
    "    plot_cavity()\n",
    "    plt.figure(figsize=(12,4)) \n",
    "    G = gridspec.GridSpec(1, 3)\n",
    "    plt.subplot(G[0,:-1])    \n",
    "    plt.plot(t*1e6,np.real(dx), label=\"dx\")\n",
    "    plt.axhline(0,ls=\":\", c=\"grey\")\n",
    "    plt.legend()\n",
    "    plt.ylabel(\"Mechanical displacement $x$\");\n",
    "    plt.xlabel(\"Time ($\\mu$s)\");"
   ]
  },
  {
   "cell_type": "markdown",
   "metadata": {
    "hide_input": false
   },
   "source": [
    "# Linearized equations\n",
    "\n",
    "We now consider linearized optomechanics. (We follow here the notation and derivation in the thesis of Frank Buters.) We drive the cavity with a constant coherent state and then consider the small displacements of the cavity field on top of the steady-state solution of the cavity response of this drive:\n",
    "\n",
    "<img width=200 src='da.png'></img>\n",
    "<img width=200 src='abar.png'></img>\n",
    "\n",
    "and \n",
    "\n",
    "<img width=200 src='dx.png'></img>\n",
    "<img width=150 src='xbar.png'></img>\n",
    "\n",
    "The resulting equations are: \n",
    "\n",
    "<img width=600 src=\"linearized_mechanics.png\"></img>\n",
    "\n",
    "<img width=350 src=\"linearized_cavity.png\"></img>\n",
    "\n",
    "\n",
    "Note that since this is perturbation on the steady state, it is not possible to simulate the dynamics of the ring-up of the cavity from the strong drive, for example, since these describe the deviations of the cavity from the steady state drive amplitude of the cavity.\n",
    "\n",
    "Note also that we no longer apply a coherent external drive for the pump, it is already implicit in the equations of motion and is captured in $\\bar a$. \n",
    "\n",
    "Also, in these equations, we are always in the rotating frame of the pump signal. The detuning $\\Delta$ is now fixed and determined by the detuning of the frequency of the strong pump from the cavity resonance: $\\Delta = \\omega_{\\rm pump} - \\omega_0$. \n",
    "\n",
    "The frequency of the probe signal in the simulation should then be chosen based on detuning from the pump signal (ie. it's frequency in the rotating frame of the pump). "
   ]
  },
  {
   "cell_type": "markdown",
   "metadata": {
    "hide_input": false
   },
   "source": [
    "For linear OM, it is more convenient to parametrize this in terms of $g = g_0 \\bar a$. In terms of the above parameters: \n",
    "\n",
    "$$\n",
    "G = \\frac{g_0}{x_{zpf}} = \\frac{g}{\\bar a x_{zpf}}, \\ \\ \\ \\ \\ G\\bar a = \\frac{g}{x_{zpf}} \n",
    "$$\n",
    "\n",
    "In this parametrization, we have:\n",
    "\n",
    "$$\n",
    "\\frac{dv}{dt} = -\\gamma v - \\omega_m^2 x + \\frac{\\hbar g}{m x_{zpf}}(da+da^*)\n",
    "$$\n",
    "\n",
    "$$\n",
    "\\frac{d(da)}{dt} = \\left[i\\Delta - \\frac{\\kappa}{2}\\right]da + i\\frac{g}{x_{zpf}}dx \n",
    "$$"
   ]
  },
  {
   "cell_type": "markdown",
   "metadata": {},
   "source": [
    "## The linearized integrator"
   ]
  },
  {
   "cell_type": "code",
   "execution_count": null,
   "metadata": {},
   "outputs": [],
   "source": [
    "def dydt(t, y):\n",
    "    v = y[0]\n",
    "    dx = y[1]\n",
    "    da = y[2]\n",
    "    \n",
    "    dy0 = -gamma*v - (w_m**2)*dx + hbar*g/m/x_zpf*np.real(da)\n",
    "    dy1 = v\n",
    "    dy2 = 1j*(delta)*da - kappa/2.0*da + 1j*g/x_zpf*dx + \\\n",
    "            np.sqrt(kext)*np.sqrt(probe)*np.exp(1j*w_probe*t)\n",
    "    \n",
    "    return np.array([dy0, dy1, dy2])"
   ]
  },
  {
   "cell_type": "markdown",
   "metadata": {},
   "source": [
    "Parameters:\n",
    "\n",
    "* `delta`: Detuning of the pump from the cavity resonance\n",
    "* `probe`, `w_probe`: Probe power and probe angular frequency, relative to rotating frame frequency\n",
    "* `w_m`, `gamma`: Mechanical angular frequency, mechanical damping rate\n",
    "* `m`: Mass of mechanical resonator\n",
    "* `g`: Multiphoton coupling rate\n",
    "* `x_zpf`: Zero point fluctuation amplitude = `sqrt(hbar/2/m/w_m)`\n",
    "\n",
    "Variables:\n",
    "\n",
    "* `da`: (Complex-valued) linear Cavity field variable\n",
    "* `dx`, `v`: mechanical displacement (relative to steady state) and velocity"
   ]
  },
  {
   "cell_type": "markdown",
   "metadata": {},
   "source": [
    "# Testing and benchmarking"
   ]
  },
  {
   "cell_type": "markdown",
   "metadata": {},
   "source": [
    "## Basic test"
   ]
  },
  {
   "cell_type": "code",
   "execution_count": null,
   "metadata": {},
   "outputs": [],
   "source": [
    "## Mechanics\n",
    "\n",
    "gamma = 10e3 *2*pi # Hz * 2pi\n",
    "m = 200e-12 *2*pi # kg\n",
    "w_m = 200e3 *2*pi # Hz * 2pi\n",
    "\n",
    "# Derived quantitites\n",
    "x_zpf = np.sqrt(hbar/2/m/w_m)\n",
    "\n",
    "## Cavity\n",
    "\n",
    "delta = -w_m\n",
    "\n",
    "kappa = 100e3 * 2*pi # Hz * 2pi\n",
    "kext = 50e3 # Hz * 2pi\n",
    "delta = -w_m # Hz * 2pi\n",
    "\n",
    "probe = 1 # Power? \n",
    "w_probe = w_m # Relative to what? \n",
    "\n",
    "## Coupling\n",
    "\n",
    "g = 1e3 *2*pi # kHz\n",
    "\n",
    "# Initial conditions\n",
    "\n",
    "x0 = 0\n",
    "v0 = 0\n",
    "a0 = 0+0j # Need this to be complex to force a complex-valued integrator\n",
    "y0 = [x0, v0, a0]\n",
    "\n",
    "# How long should we run simulation?\n",
    "# Dynamnics for mechanics will be on the order of 1/gamma\n",
    "\n",
    "T = 10/gamma\n",
    "t = np.linspace(0,T,1000)\n",
    "\n",
    "sol = solve_ivp(dydt, [0,T], y0, t_eval=t, method='BDF')\n",
    "dx = sol.y[0]\n",
    "v = sol.y[1]\n",
    "da = sol.y[2]\n",
    "\n",
    "plot_both()"
   ]
  },
  {
   "cell_type": "markdown",
   "metadata": {},
   "source": [
    "This seems to make sense: adding the probe field, it will beat with the pump tone and produce an oscillating force on  the mechanical resonator, ringing it up to a coherent amplitude. "
   ]
  },
  {
   "cell_type": "markdown",
   "metadata": {},
   "source": [
    "## OMIT\n",
    "\n",
    "Let's try an OMIT sweep. For this, we will vectorize our `dydt` function. In fact, I think we can just vectorize it in a smart way and it will just directly work still with non-vectorized inputs. "
   ]
  },
  {
   "cell_type": "code",
   "execution_count": null,
   "metadata": {},
   "outputs": [],
   "source": [
    "def dydt_vector(t,y):\n",
    "    N = len(y)//3\n",
    "    v = y[0:N]\n",
    "    dx = y[N:2*N]\n",
    "    da = y[2*N:3*N]\n",
    "    \n",
    "    dy0 = -gamma*v - (w_m**2)*dx + hbar*g/m/x_zpf*np.real(da)\n",
    "    dy1 = v\n",
    "    dy2 = 1j*(delta)*da - kappa/2.0*da + 1j*g/x_zpf*dx + \\\n",
    "            np.sqrt(kext)*np.sqrt(probe)*np.exp(1j*w_probe*t)\n",
    "    \n",
    "    return np.concatenate([dy0, dy1, dy2],axis=None)"
   ]
  },
  {
   "cell_type": "code",
   "execution_count": null,
   "metadata": {},
   "outputs": [],
   "source": [
    "## Mechanics\n",
    "\n",
    "gamma = 1e3 *2*pi # Hz * 2pi\n",
    "m = 200e-12 *2*pi # kg\n",
    "w_m = 200e3 *2*pi # Hz * 2pi\n",
    "\n",
    "# Derived quantitites\n",
    "x_zpf = np.sqrt(hbar/2/m/w_m)\n",
    "\n",
    "## Cavity\n",
    "\n",
    "delta = -w_m\n",
    "\n",
    "kappa = 100e3 * 2*pi # Hz * 2pi\n",
    "kext = 50e3 # Hz * 2pi\n",
    "delta = w_m # Hz * 2pi\n",
    "\n",
    "probe = 0.1 # Power? \n",
    "\n",
    "# A frequency sweep\n",
    "N = 100\n",
    "w_probe = np.linspace(0, 6*kappa, N) \n",
    "\n",
    "## Coupling\n",
    "\n",
    "g = 10e3 *2*pi # kHz\n",
    "\n",
    "# Initial conditions\n",
    "\n",
    "y0 = np.zeros(3*N) + 0*1j\n",
    "\n",
    "# How long should we run simulation?\n",
    "# Dynamnics for mechanics will be on the order of 1/gamma\n",
    "\n",
    "T = 10/gamma\n",
    "Nt = 1000\n",
    "t = np.linspace(0,T,Nt)\n",
    "t1 = time.time()\n",
    "sol = solve_ivp(dydt_vector, [0,T], y0, t_eval=t, method='BDF')\n",
    "t2 = time.time()\n",
    "print(\"Computation time: %.2f\" %(t2-t1))\n",
    "\n",
    "v = np.real(sol.y[:N,:])\n",
    "dx = sol.y[N:2*N,:]\n",
    "da = sol.y[2*N:,:]"
   ]
  },
  {
   "cell_type": "code",
   "execution_count": null,
   "metadata": {},
   "outputs": [],
   "source": [
    "txt = \", Delta/w_m = %f \" % (delta/w_m)\n",
    "\n",
    "plt.figure(figsize=(12,6))\n",
    "ext = (t[0]*gamma, t[-1]*gamma, w_probe[0]/w_m, w_probe[-1]/w_m)\n",
    "plt.imshow(np.real(dx), origin='lower', aspect='auto', extent=ext)\n",
    "plt.ylabel(\"w_probe / omega_m\")\n",
    "plt.xlabel(\"t / gamma\")\n",
    "plt.title(\"dx\"+txt)\n",
    "\n",
    "plt.figure(figsize=(12,6))\n",
    "ext = (t[0]*gamma, t[-1]*gamma, w_probe[0]/w_m, w_probe[-1]/w_m)\n",
    "plt.imshow(np.abs(da), origin='lower', aspect='auto', extent=ext)\n",
    "plt.ylabel(\"w_probe / omega_m\")\n",
    "plt.xlabel(\"t / gamma\")\n",
    "plt.title(\"|da|\"+txt)\n",
    "\n",
    "plt.figure(figsize=(12,6))\n",
    "ext = (t[0]*gamma, t[-1]*gamma, w_probe[0]/w_m, w_probe[-1]/w_m)\n",
    "plt.imshow(np.real(da), origin='lower', aspect='auto', extent=ext)\n",
    "plt.ylabel(\"w_probe / omega_m\")\n",
    "plt.xlabel(\"t / gamma\")\n",
    "plt.title(\"real(da)\"+txt)\n",
    "\n",
    "plt.figure(figsize=(4,6))\n",
    "plt.plot(w_probe, np.abs(da[:,-1]))"
   ]
  },
  {
   "cell_type": "code",
   "execution_count": null,
   "metadata": {},
   "outputs": [],
   "source": []
  }
 ],
 "metadata": {
  "jupytext": {
   "formats": "ipynb,md"
  },
  "kernelspec": {
   "display_name": "Python 3",
   "language": "python",
   "name": "python3"
  }
 },
 "nbformat": 4,
 "nbformat_minor": 2
}
