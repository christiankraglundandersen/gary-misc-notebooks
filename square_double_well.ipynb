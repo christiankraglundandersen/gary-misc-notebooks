{
 "cells": [
  {
   "cell_type": "code",
   "execution_count": null,
   "metadata": {},
   "outputs": [],
   "source": [
    "import numpy as np\n",
    "import matplotlib.pyplot as plt\n",
    "import scipy.linalg as LA\n",
    "from ipywidgets import interact"
   ]
  },
  {
   "cell_type": "code",
   "execution_count": null,
   "metadata": {},
   "outputs": [],
   "source": [
    "plt.rcParams['figure.dpi'] = 100"
   ]
  },
  {
   "cell_type": "code",
   "execution_count": null,
   "metadata": {},
   "outputs": [],
   "source": [
    "N = 101\n",
    "\n",
    "# Our kinetic energy\n",
    "T = 2*np.eye(N)-np.eye(N,k=1)-np.eye(N,k=-1)\n",
    "\n",
    "# Our potential energy\n",
    "\n",
    "def update(v0=0):\n",
    "    v0 *= 1e-3\n",
    "    x = np.array(range(N))\n",
    "    v = v0*(np.abs(x+0.5-N/2) <= N/10)\n",
    "    V = np.diag(v,0)\n",
    "    H = T + V\n",
    "    val,vec = LA.eigh(H)\n",
    "    if (vec[20,1] < 0):\n",
    "        vec[:,1] *= -1\n",
    "        \n",
    "    plt.figure(figsize=(12,4))\n",
    "    plt.subplot(121)\n",
    "    for i in range(2):\n",
    "        plt.plot(vec[:,i])\n",
    "    plt.axhline(0, ls=\":\", c='grey')\n",
    "    plt.title(r\"Energy diffence = %.2f $\\times 10^{-4}$\" % ((val[1]-val[0])*1e4))\n",
    "    plt.subplot(122)\n",
    "    plt.plot(v, 'k')\n",
    "    cycle = plt.rcParams['axes.prop_cycle'].by_key()['color']\n",
    "    for i in range(2):\n",
    "        plt.plot(vec[:,i]/100+val[i])\n",
    "        plt.axhline(val[i], ls=':', c=cycle[i])\n",
    "    plt.ylim((0,8e-3))\n",
    "    plt.title(r\"v0 = %.0f $\\times 10^{-3}$\" % (v0*1e3))\n",
    "    \n",
    "    #print(\"Eigenvalues:\\n %e %e\\nDiff\\n%e\" % (w[0], w[1], w[1]-w[0]))\n",
    "    plt.show()\n",
    "    \n",
    "interact(update, v0=(0,50, 1))"
   ]
  },
  {
   "cell_type": "code",
   "execution_count": null,
   "metadata": {},
   "outputs": [],
   "source": []
  }
 ],
 "metadata": {
  "jupytext": {
   "formats": "ipynb,md"
  },
  "kernelspec": {
   "display_name": "Python 3",
   "language": "python",
   "name": "python3"
  },
  "language_info": {
   "codemirror_mode": {
    "name": "ipython",
    "version": 3
   },
   "file_extension": ".py",
   "mimetype": "text/x-python",
   "name": "python",
   "nbconvert_exporter": "python",
   "pygments_lexer": "ipython3",
   "version": "3.7.5"
  },
  "toc": {
   "base_numbering": 1,
   "nav_menu": {},
   "number_sections": false,
   "sideBar": true,
   "skip_h1_title": false,
   "title_cell": "Table of Contents",
   "title_sidebar": "Contents",
   "toc_cell": false,
   "toc_position": {},
   "toc_section_display": true,
   "toc_window_display": false
  }
 },
 "nbformat": 4,
 "nbformat_minor": 2
}
