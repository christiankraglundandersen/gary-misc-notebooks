{
 "cells": [
  {
   "cell_type": "code",
   "execution_count": 164,
   "metadata": {},
   "outputs": [],
   "source": [
    "import numpy as np\n",
    "import matplotlib.pyplot as plt\n",
    "from  ipywidgets  import interact"
   ]
  },
  {
   "cell_type": "code",
   "execution_count": 183,
   "metadata": {},
   "outputs": [],
   "source": [
    "plt.rcParams['figure.dpi'] = 100"
   ]
  },
  {
   "cell_type": "markdown",
   "metadata": {},
   "source": [
    "Model: \n",
    "\n",
    "$$\n",
    "y = b\n",
    "$$"
   ]
  },
  {
   "cell_type": "code",
   "execution_count": 190,
   "metadata": {
    "scrolled": false
   },
   "outputs": [
    {
     "data": {
      "application/vnd.jupyter.widget-view+json": {
       "model_id": "cb7d70c5ffb14b05948472e7f7fcdc0c",
       "version_major": 2,
       "version_minor": 0
      },
      "text/plain": [
       "interactive(children=(IntSlider(value=0, description='i', max=99, step=5), Output()), _dom_classes=('widget-in…"
      ]
     },
     "metadata": {},
     "output_type": "display_data"
    }
   ],
   "source": [
    "# Generate data\n",
    "\n",
    "N = 100\n",
    "x = np.linspace(0,1,N)\n",
    "y = np.random.normal(size=len(x))\n",
    "\n",
    "# A sweep of model parameter and calculating chi2\n",
    "\n",
    "Npar = 100\n",
    "b_max = 1\n",
    "b = np.linspace(-b_max, b_max,Npar)\n",
    "\n",
    "chi2 = np.zeros(len(b))\n",
    "\n",
    "# this could be vectorized, but in a loop here for clarity\n",
    "for i in range(len(b)):\n",
    "    chi2[i] = np.sum((b[i]-y)**2)/len(y)\n",
    "\n",
    "# Now interactive plots\n",
    "\n",
    "def update(i=0):\n",
    "    plt.subplots(figsize=(12,4))\n",
    "    plt.subplot(121)\n",
    "    plt.plot(x,y, label=\"Data\")\n",
    "    plt.plot(x,b[i]*np.ones(len(x)), label=\"Model $y = b$\")\n",
    "    plt.xlabel(\"x\")\n",
    "    plt.ylabel(\"y\")\n",
    "    plt.legend()\n",
    "    plt.subplot(122)\n",
    "    plt.plot(b,chi2)\n",
    "    plt.plot(b[i], chi2[i], 'o')\n",
    "    plt.xlabel(\"Model parameter $b$\")\n",
    "    plt.ylabel(\"$\\chi^2$\")\n",
    "    plt.show()\n",
    "    \n",
    "interact(update, i=(0,len(b)-1,5));"
   ]
  },
  {
   "cell_type": "markdown",
   "metadata": {},
   "source": [
    "Model: \n",
    "\n",
    "$$\n",
    "y = ax\n",
    "$$"
   ]
  },
  {
   "cell_type": "code",
   "execution_count": 192,
   "metadata": {
    "scrolled": false
   },
   "outputs": [
    {
     "data": {
      "application/vnd.jupyter.widget-view+json": {
       "model_id": "20f08d51a5f64349812c01ce5807a7c2",
       "version_major": 2,
       "version_minor": 0
      },
      "text/plain": [
       "interactive(children=(IntSlider(value=0, description='i', max=99, step=5), Output()), _dom_classes=('widget-in…"
      ]
     },
     "metadata": {},
     "output_type": "display_data"
    },
    {
     "data": {
      "text/plain": [
       "<function __main__.update(i=0)>"
      ]
     },
     "execution_count": 192,
     "metadata": {},
     "output_type": "execute_result"
    }
   ],
   "source": [
    "# Generate data\n",
    "\n",
    "N = 100\n",
    "x = np.linspace(0,1,N)\n",
    "y = 10*x+np.random.normal(size=len(x))*2\n",
    "\n",
    "## Parameter sweep of parameter a\n",
    "\n",
    "Npar = 100\n",
    "a_range = 20\n",
    "a_val = 10\n",
    "a1 = a_val-a_range/2\n",
    "a2 = a_val+a_range/2\n",
    "a = np.linspace(-a1, a2,Npar)\n",
    "\n",
    "chi2 = np.zeros(len(a))\n",
    "\n",
    "for i in range(len(a)):\n",
    "    chi2[i] = np.sum((a[i]*x-y)**2)/len(y)\n",
    "\n",
    "# Now interactive plots\n",
    "\n",
    "def update(i=0):\n",
    "    plt.subplots(figsize=(12,4))\n",
    "    plt.subplot(121)\n",
    "    plt.plot(x,y, label=\"Data\")\n",
    "    plt.plot(x,a[i]*x, label=\"Model $y = ax$\")\n",
    "    plt.xlabel(\"x\")\n",
    "    plt.ylabel(\"y\")\n",
    "    plt.legend()\n",
    "    plt.subplot(122)\n",
    "    plt.plot(a,chi)\n",
    "    plt.plot(a[i], chi[i], 'o')\n",
    "    plt.xlabel(\"Model parameter $a$\")\n",
    "    plt.ylabel(\"$\\chi^2$\")\n",
    "    plt.show()\n",
    "    \n",
    "interact(update, i=(0,len(a)-1,5))"
   ]
  },
  {
   "cell_type": "code",
   "execution_count": null,
   "metadata": {},
   "outputs": [],
   "source": []
  }
 ],
 "metadata": {
  "jupytext": {
   "formats": "ipynb,md"
  },
  "kernelspec": {
   "display_name": "Python 3",
   "language": "python",
   "name": "python3"
  },
  "language_info": {
   "codemirror_mode": {
    "name": "ipython",
    "version": 3
   },
   "file_extension": ".py",
   "mimetype": "text/x-python",
   "name": "python",
   "nbconvert_exporter": "python",
   "pygments_lexer": "ipython3",
   "version": "3.7.4"
  },
  "toc": {
   "base_numbering": 1,
   "nav_menu": {},
   "number_sections": true,
   "sideBar": true,
   "skip_h1_title": false,
   "title_cell": "Table of Contents",
   "title_sidebar": "Contents",
   "toc_cell": false,
   "toc_position": {},
   "toc_section_display": true,
   "toc_window_display": false
  }
 },
 "nbformat": 4,
 "nbformat_minor": 2
}
