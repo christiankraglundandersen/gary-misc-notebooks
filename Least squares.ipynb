{
 "cells": [
  {
   "cell_type": "code",
   "execution_count": 1,
   "metadata": {},
   "outputs": [],
   "source": [
    "import numpy as np\n",
    "import matplotlib.pyplot as plt\n",
    "from  ipywidgets  import interact"
   ]
  },
  {
   "cell_type": "code",
   "execution_count": 2,
   "metadata": {},
   "outputs": [],
   "source": [
    "plt.rcParams['figure.dpi'] = 100"
   ]
  },
  {
   "cell_type": "markdown",
   "metadata": {},
   "source": [
    "Model: \n",
    "\n",
    "$$\n",
    "y = a\n",
    "$$"
   ]
  },
  {
   "cell_type": "code",
   "execution_count": 7,
   "metadata": {
    "hide_input": true,
    "scrolled": false
   },
   "outputs": [
    {
     "data": {
      "application/vnd.jupyter.widget-view+json": {
       "model_id": "",
       "version_major": 2,
       "version_minor": 0
      },
      "text/plain": [
       "interactive(children=(IntSlider(value=0, description='i', max=99, step=5), Output()), _dom_classes=('widget-in…"
      ]
     },
     "metadata": {},
     "output_type": "display_data"
    }
   ],
   "source": [
    "# Generate data\n",
    "\n",
    "N = 100\n",
    "x = np.linspace(0,1,N)\n",
    "y = np.random.normal(size=len(x))+2\n",
    "\n",
    "# A sweep of model parameter and calculating chi2\n",
    "\n",
    "Npar = 100\n",
    "a_range = 3\n",
    "a_val = 2\n",
    "a1 = a_val-a_range/2\n",
    "a2 = a_val+a_range/2\n",
    "a = np.linspace(a1, a2,Npar)\n",
    "\n",
    "chi2 = np.zeros(len(a))\n",
    "\n",
    "# this could be vectorized, but in a loop here for clarity\n",
    "for i in range(len(a)):\n",
    "    chi2[i] = np.sum((a[i]-y)**2)/len(y)\n",
    "    \n",
    "ym = np.outer(a,np.ones(len(x)))\n",
    "    \n",
    "# Now interactive plots\n",
    "\n",
    "def update(i=0):\n",
    "    plt.subplots(figsize=(12,7))\n",
    "    plt.subplot(221)\n",
    "    plt.plot(x,y, label=\"Data\")\n",
    "    plt.plot(x,ym[i], label=\"Model $y = b$\")\n",
    "    plt.xlabel(\"x\")\n",
    "    plt.ylabel(\"y\")\n",
    "    plt.legend()\n",
    "    plt.subplot(222)\n",
    "    plt.plot(a,chi2)\n",
    "    plt.plot(a[i], chi2[i], 'o')\n",
    "    plt.xlabel(\"Model parameter $b$\")\n",
    "    plt.ylabel(\"$\\chi^2$\")\n",
    "    plt.subplot(223)\n",
    "    plt.plot(x,y-ym[i])\n",
    "    plt.axhline(0,ls=':', c='grey')\n",
    "    plt.xlabel(\"x\")\n",
    "    plt.ylabel(\"Residual value\")\n",
    "    plt.subplot(224)\n",
    "    plt.hist(y-ym[i], bins=50)\n",
    "    plt.axvline(0,ls=':', c='grey')\n",
    "    plt.xlabel(\"Residual value\")\n",
    "    plt.ylabel(\"Histogram count\")\n",
    "    \n",
    "interact(update, i=(0,len(a)-1,5));"
   ]
  },
  {
   "cell_type": "code",
   "execution_count": 10,
   "metadata": {
    "hide_input": true,
    "scrolled": false
   },
   "outputs": [
    {
     "data": {
      "application/vnd.jupyter.widget-view+json": {
       "model_id": "a9bfbc706e9f4077bed626ff2831e245",
       "version_major": 2,
       "version_minor": 0
      },
      "text/plain": [
       "interactive(children=(IntSlider(value=0, description='i', max=99, step=5), Output()), _dom_classes=('widget-in…"
      ]
     },
     "metadata": {},
     "output_type": "display_data"
    }
   ],
   "source": [
    "# Generate data\n",
    "\n",
    "N = 100\n",
    "x = np.linspace(0,1,N)\n",
    "y = np.random.normal(size=len(x))+10*x\n",
    "\n",
    "# A sweep of model parameter and calculating chi2\n",
    "\n",
    "Npar = 100\n",
    "a_range = 20\n",
    "a_val = 10\n",
    "a1 = a_val-a_range/2\n",
    "a2 = a_val+a_range/2\n",
    "a = np.linspace(a1, a2,Npar)\n",
    "\n",
    "chi2 = np.zeros(len(a))\n",
    "\n",
    "# this could be vectorized, but in a loop here for clarity\n",
    "for i in range(len(a)):\n",
    "    chi2[i] = np.sum((a[i]*x-y)**2)/len(y)\n",
    "    \n",
    "ym = np.outer(a,x)\n",
    "    \n",
    "# Now interactive plots\n",
    "\n",
    "def update(i=0):\n",
    "    plt.subplots(figsize=(12,7))\n",
    "    plt.subplot(221)\n",
    "    plt.plot(x,y, label=\"Data\")\n",
    "    plt.plot(x,ym[i], label=\"Model $y = b$\")\n",
    "    plt.xlabel(\"x\")\n",
    "    plt.ylabel(\"y\")\n",
    "    plt.legend()\n",
    "    plt.subplot(222)\n",
    "    plt.plot(a,chi2)\n",
    "    plt.plot(a[i], chi2[i], 'o')\n",
    "    plt.xlabel(\"Model parameter $b$\")\n",
    "    plt.ylabel(\"$\\chi^2$\")\n",
    "    plt.subplot(223)\n",
    "    plt.plot(x,y-ym[i])\n",
    "    plt.axhline(0,ls=':', c='grey')\n",
    "    plt.xlabel(\"x\")\n",
    "    plt.ylabel(\"Residual value\")\n",
    "    plt.subplot(224)\n",
    "    plt.hist(y-ym[i], bins=50)\n",
    "    plt.xlim(-15,15)\n",
    "    plt.axvline(0,ls=':', c='grey')\n",
    "    plt.xlabel(\"Residual value\")\n",
    "    plt.ylabel(\"Histogram count\")\n",
    "    \n",
    "interact(update, i=(0,len(a)-1,5));"
   ]
  },
  {
   "cell_type": "code",
   "execution_count": null,
   "metadata": {},
   "outputs": [],
   "source": []
  },
  {
   "cell_type": "code",
   "execution_count": null,
   "metadata": {},
   "outputs": [],
   "source": []
  },
  {
   "cell_type": "code",
   "execution_count": null,
   "metadata": {},
   "outputs": [],
   "source": []
  },
  {
   "cell_type": "code",
   "execution_count": null,
   "metadata": {},
   "outputs": [],
   "source": []
  },
  {
   "cell_type": "code",
   "execution_count": null,
   "metadata": {},
   "outputs": [],
   "source": []
  },
  {
   "cell_type": "code",
   "execution_count": 32,
   "metadata": {
    "scrolled": false
   },
   "outputs": [
    {
     "data": {
      "application/vnd.jupyter.widget-view+json": {
       "model_id": "",
       "version_major": 2,
       "version_minor": 0
      },
      "text/plain": [
       "interactive(children=(IntSlider(value=0, description='i', max=99, step=5), Output()), _dom_classes=('widget-in…"
      ]
     },
     "metadata": {},
     "output_type": "display_data"
    }
   ],
   "source": [
    "# Generate data\n",
    "\n",
    "N = 100\n",
    "x = np.linspace(0,1,N)\n",
    "y = 10*x\n",
    "\n",
    "# A sweep of model parameter and calculating chi2\n",
    "\n",
    "Npar = 100\n",
    "a_range = 20\n",
    "a_val = 10\n",
    "a1 = a_val-a_range/2\n",
    "a2 = a_val+a_range/2\n",
    "a = np.linspace(a1, a2,Npar)\n",
    "\n",
    "chi2 = np.zeros(len(a))\n",
    "\n",
    "# this could be vectorized, but in a loop here for clarity\n",
    "for i in range(len(b)):\n",
    "    chi2[i] = np.sum((a[i]*x-y)**2)/len(y)\n",
    "    \n",
    "ym = np.outer(a\n",
    "    \n",
    "# Now interactive plots\n",
    "\n",
    "def update(i=0):\n",
    "    plt.subplots(figsize=(12,7))\n",
    "    plt.subplot(221)\n",
    "    plt.plot(x,y, label=\"Data\")\n",
    "    plt.plot(x,ym[i], label=\"Model $y = b$\")\n",
    "    plt.xlabel(\"x\")\n",
    "    plt.ylabel(\"y\")\n",
    "    plt.legend()\n",
    "    plt.subplot(222)\n",
    "    plt.plot(a,chi2)\n",
    "    plt.plot(a[i], chi2[i], 'o')\n",
    "    plt.xlabel(\"Model parameter $b$\")\n",
    "    plt.ylabel(\"$\\chi^2$\")\n",
    "    plt.subplot(223)\n",
    "    plt.plot(x,y-ym[i])\n",
    "    plt.axhline(0,ls=':', c='grey')\n",
    "    plt.xlabel(\"x\")\n",
    "    plt.ylabel(\"Residual value\")\n",
    "    plt.subplot(224)\n",
    "    plt.hist(y-ym[i], bins=50)\n",
    "    plt.axvline(0,ls=':', c='grey')\n",
    "    plt.xlabel(\"Residual value\")\n",
    "    plt.ylabel(\"Histogram count\")\n",
    "    \n",
    "interact(update, i=(0,len(b)-1,5));"
   ]
  },
  {
   "cell_type": "code",
   "execution_count": 32,
   "metadata": {
    "scrolled": false
   },
   "outputs": [
    {
     "data": {
      "application/vnd.jupyter.widget-view+json": {
       "model_id": "",
       "version_major": 2,
       "version_minor": 0
      },
      "text/plain": [
       "interactive(children=(IntSlider(value=0, description='i', max=99, step=5), Output()), _dom_classes=('widget-in…"
      ]
     },
     "metadata": {},
     "output_type": "display_data"
    }
   ],
   "source": [
    "# Generate data\n",
    "\n",
    "N = 100\n",
    "x = np.linspace(0,1,N)\n",
    "y = 10*x\n",
    "\n",
    "# A sweep of model parameter and calculating chi2\n",
    "\n",
    "Npar = 100\n",
    "a_range = 20\n",
    "a_val = 10\n",
    "a1 = a_val-a_range/2\n",
    "a2 = a_val+a_range/2\n",
    "a = np.linspace(a1, a2,Npar)\n",
    "\n",
    "chi2 = np.zeros(len(a))\n",
    "\n",
    "# this could be vectorized, but in a loop here for clarity\n",
    "for i in range(len(b)):\n",
    "    chi2[i] = np.sum((a[i]*x-y)**2)/len(y)\n",
    "    \n",
    "ym = np.outer(a\n",
    "    \n",
    "# Now interactive plots\n",
    "\n",
    "def update(i=0):\n",
    "    plt.subplots(figsize=(12,7))\n",
    "    plt.subplot(221)\n",
    "    plt.plot(x,y, label=\"Data\")\n",
    "    plt.plot(x,ym[i], label=\"Model $y = b$\")\n",
    "    plt.xlabel(\"x\")\n",
    "    plt.ylabel(\"y\")\n",
    "    plt.legend()\n",
    "    plt.subplot(222)\n",
    "    plt.plot(a,chi2)\n",
    "    plt.plot(a[i], chi2[i], 'o')\n",
    "    plt.xlabel(\"Model parameter $b$\")\n",
    "    plt.ylabel(\"$\\chi^2$\")\n",
    "    plt.subplot(223)\n",
    "    plt.plot(x,y-ym[i])\n",
    "    plt.axhline(0,ls=':', c='grey')\n",
    "    plt.xlabel(\"x\")\n",
    "    plt.ylabel(\"Residual value\")\n",
    "    plt.subplot(224)\n",
    "    plt.hist(y-ym[i], bins=50)\n",
    "    plt.axvline(0,ls=':', c='grey')\n",
    "    plt.xlabel(\"Residual value\")\n",
    "    plt.ylabel(\"Histogram count\")\n",
    "    \n",
    "interact(update, i=(0,len(b)-1,5));"
   ]
  },
  {
   "cell_type": "code",
   "execution_count": 32,
   "metadata": {
    "scrolled": false
   },
   "outputs": [
    {
     "data": {
      "application/vnd.jupyter.widget-view+json": {
       "model_id": "",
       "version_major": 2,
       "version_minor": 0
      },
      "text/plain": [
       "interactive(children=(IntSlider(value=0, description='i', max=99, step=5), Output()), _dom_classes=('widget-in…"
      ]
     },
     "metadata": {},
     "output_type": "display_data"
    }
   ],
   "source": [
    "# Generate data\n",
    "\n",
    "N = 100\n",
    "x = np.linspace(0,1,N)\n",
    "y = 10*x\n",
    "\n",
    "# A sweep of model parameter and calculating chi2\n",
    "\n",
    "Npar = 100\n",
    "a_range = 20\n",
    "a_val = 10\n",
    "a1 = a_val-a_range/2\n",
    "a2 = a_val+a_range/2\n",
    "a = np.linspace(a1, a2,Npar)\n",
    "\n",
    "chi2 = np.zeros(len(a))\n",
    "\n",
    "# this could be vectorized, but in a loop here for clarity\n",
    "for i in range(len(b)):\n",
    "    chi2[i] = np.sum((a[i]*x-y)**2)/len(y)\n",
    "    \n",
    "ym = np.outer(a\n",
    "    \n",
    "# Now interactive plots\n",
    "\n",
    "def update(i=0):\n",
    "    plt.subplots(figsize=(12,7))\n",
    "    plt.subplot(221)\n",
    "    plt.plot(x,y, label=\"Data\")\n",
    "    plt.plot(x,ym[i], label=\"Model $y = b$\")\n",
    "    plt.xlabel(\"x\")\n",
    "    plt.ylabel(\"y\")\n",
    "    plt.legend()\n",
    "    plt.subplot(222)\n",
    "    plt.plot(a,chi2)\n",
    "    plt.plot(a[i], chi2[i], 'o')\n",
    "    plt.xlabel(\"Model parameter $b$\")\n",
    "    plt.ylabel(\"$\\chi^2$\")\n",
    "    plt.subplot(223)\n",
    "    plt.plot(x,y-ym[i])\n",
    "    plt.axhline(0,ls=':', c='grey')\n",
    "    plt.xlabel(\"x\")\n",
    "    plt.ylabel(\"Residual value\")\n",
    "    plt.subplot(224)\n",
    "    plt.hist(y-ym[i], bins=50)\n",
    "    plt.axvline(0,ls=':', c='grey')\n",
    "    plt.xlabel(\"Residual value\")\n",
    "    plt.ylabel(\"Histogram count\")\n",
    "    \n",
    "interact(update, i=(0,len(b)-1,5));"
   ]
  },
  {
   "cell_type": "code",
   "execution_count": 5,
   "metadata": {
    "scrolled": false
   },
   "outputs": [
    {
     "data": {
      "application/vnd.jupyter.widget-view+json": {
       "model_id": "",
       "version_major": 2,
       "version_minor": 0
      },
      "text/plain": [
       "interactive(children=(IntSlider(value=0, description='i', max=99, step=5), Output()), _dom_classes=('widget-in…"
      ]
     },
     "metadata": {},
     "output_type": "display_data"
    }
   ],
   "source": [
    "# Generate data\n",
    "\n",
    "N = 100\n",
    "x = np.linspace(0,1,N)\n",
    "y = np.random.normal(size=len(x))+2\n",
    "\n",
    "# A sweep of model parameter and calculating chi2\n",
    "\n",
    "Npar = 100\n",
    "a_range = 3\n",
    "a_val = 2\n",
    "a1 = a_val-a_range/2\n",
    "a2 = a_val+a_range/2\n",
    "a = np.linspace(a1, a2,Npar)\n",
    "\n",
    "chi2 = np.zeros(len(a))\n",
    "\n",
    "# this could be vectorized, but in a loop here for clarity\n",
    "for i in range(len(a)):\n",
    "    chi2[i] = np.sum((a[i]-y)**2)/len(y)\n",
    "    \n",
    "ym = np.outer(a,np.ones(len(x)))\n",
    "    \n",
    "# Now interactive plots\n",
    "\n",
    "def update(i=0):\n",
    "    plt.subplots(figsize=(12,7))\n",
    "    plt.subplot(221)\n",
    "    plt.plot(x,y, label=\"Data\")\n",
    "    plt.plot(x,ym[i], label=\"Model $y = b$\")\n",
    "    plt.xlabel(\"x\")\n",
    "    plt.ylabel(\"y\")\n",
    "    plt.legend()\n",
    "    plt.subplot(222)\n",
    "    plt.plot(a,chi2)\n",
    "    plt.plot(a[i], chi2[i], 'o')\n",
    "    plt.xlabel(\"Model parameter $b$\")\n",
    "    plt.ylabel(\"$\\chi^2$\")\n",
    "    plt.subplot(223)\n",
    "    plt.plot(x,y-ym[i])\n",
    "    plt.axhline(0,ls=':', c='grey')\n",
    "    plt.xlabel(\"x\")\n",
    "    plt.ylabel(\"Residual value\")\n",
    "    plt.subplot(224)\n",
    "    plt.hist(y-ym[i], bins=50)\n",
    "    plt.axvline(0,ls=':', c='grey')\n",
    "    plt.xlabel(\"Residual value\")\n",
    "    plt.ylabel(\"Histogram count\")\n",
    "    \n",
    "interact(update, i=(0,len(a)-1,5));"
   ]
  },
  {
   "cell_type": "markdown",
   "metadata": {},
   "source": [
    "Model: \n",
    "\n",
    "$$\n",
    "y = ax\n",
    "$$"
   ]
  },
  {
   "cell_type": "code",
   "execution_count": 6,
   "metadata": {
    "scrolled": false
   },
   "outputs": [
    {
     "data": {
      "application/vnd.jupyter.widget-view+json": {
       "model_id": "0704cd39782a46c2900d2d2a0c817bc7",
       "version_major": 2,
       "version_minor": 0
      },
      "text/plain": [
       "interactive(children=(IntSlider(value=0, description='i', max=99, step=5), Output()), _dom_classes=('widget-in…"
      ]
     },
     "metadata": {},
     "output_type": "display_data"
    },
    {
     "data": {
      "text/plain": [
       "<function __main__.update(i=0)>"
      ]
     },
     "execution_count": 6,
     "metadata": {},
     "output_type": "execute_result"
    },
    {
     "data": {
      "image/png": "[encoded data removed]",
      "text/plain": [
       "<Figure size 1200x400 with 2 Axes>"
      ]
     },
     "metadata": {
      "needs_background": "light"
     },
     "output_type": "display_data"
    }
   ],
   "source": [
    "# Generate data\n",
    "\n",
    "N = 100\n",
    "x = np.linspace(0,1,N)\n",
    "y = 10*x+np.random.normal(size=len(x))*2\n",
    "\n",
    "## Parameter sweep of parameter a\n",
    "\n",
    "Npar = 100\n",
    "a_range = 20\n",
    "a_val = 10\n",
    "a1 = a_val-a_range/2\n",
    "a2 = a_val+a_range/2\n",
    "a = np.linspace(-a1, a2,Npar)\n",
    "\n",
    "chi2 = np.zeros(len(a))\n",
    "\n",
    "for i in range(len(a)):\n",
    "    chi2[i] = np.sum((a[i]*x-y)**2)/len(y)\n",
    "\n",
    "# Now interactive plots\n",
    "\n",
    "def update(i=0):\n",
    "    plt.subplots(figsize=(12,4))\n",
    "    plt.subplot(121)\n",
    "    plt.plot(x,y, label=\"Data\")\n",
    "    plt.plot(x,a[i]*x, label=\"Model $y = ax$\")\n",
    "    plt.xlabel(\"x\")\n",
    "    plt.ylabel(\"y\")\n",
    "    plt.legend()\n",
    "    plt.subplot(122)\n",
    "    plt.plot(a,chi)\n",
    "    plt.plot(a[i], chi[i], 'o')\n",
    "    plt.xlabel(\"Model parameter $a$\")\n",
    "    plt.ylabel(\"$\\chi^2$\")\n",
    "    plt.show()\n",
    "    \n",
    "interact(update, i=(0,len(a)-1,5))"
   ]
  },
  {
   "cell_type": "code",
   "execution_count": null,
   "metadata": {},
   "outputs": [],
   "source": []
  }
 ],
 "metadata": {
  "jupytext": {
   "formats": "ipynb,md"
  },
  "kernelspec": {
   "display_name": "Python 3",
   "language": "python",
   "name": "python3"
  },
  "language_info": {
   "codemirror_mode": {
    "name": "ipython",
    "version": 3
   },
   "file_extension": ".py",
   "mimetype": "text/x-python",
   "name": "python",
   "nbconvert_exporter": "python",
   "pygments_lexer": "ipython3",
   "version": "3.7.4"
  },
  "toc": {
   "base_numbering": 1,
   "nav_menu": {},
   "number_sections": true,
   "sideBar": true,
   "skip_h1_title": false,
   "title_cell": "Table of Contents",
   "title_sidebar": "Contents",
   "toc_cell": false,
   "toc_position": {},
   "toc_section_display": true,
   "toc_window_display": false
  }
 },
 "nbformat": 4,
 "nbformat_minor": 2
}
