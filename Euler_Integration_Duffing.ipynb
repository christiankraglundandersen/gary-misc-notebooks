{
 "cells": [
  {
   "cell_type": "markdown",
   "metadata": {},
   "source": [
    "We will look here at numerical integration of second order differential equations.\n",
    "\n",
    "The physical system we will study is the driven harmonic oscillator and the driven Duffing oscillator. Both can be physically understood as a mass on a spring: \n",
    "\n",
    "![mass_on_spring.png](attachment:mass_on_spring.png)"
   ]
  }
 ],
 "metadata": {
  "jupytext": {
   "formats": "ipynb,md"
  },
  "kernelspec": {
   "display_name": "Python 3",
   "language": "python",
   "name": "python3"
  }
 },
 "nbformat": 4,
 "nbformat_minor": 2
}
