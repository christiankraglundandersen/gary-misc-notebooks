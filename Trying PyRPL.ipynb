{
 "cells": [
  {
   "cell_type": "markdown",
   "metadata": {},
   "source": [
    "# PyRPL Testing log\n",
    "\n",
    "\n",
    "2020-03-17 20:52:04 \n",
    "\n",
    "I will follow the default install instructions:\n",
    "\n",
    "https://pyrpl.readthedocs.io/en/latest/user_guide/installation/pyrpl_installation.html#installation-from-source\n",
    "\n",
    "First, I will install the dependencies via conda:\n",
    "\n",
    "`conda install numpy scipy paramiko pandas nose pip pyqt qtpy pyqtgraph pyyaml`\n",
    "\n",
    "This went fine.\n",
    "\n",
    "`pip install pyrpl`\n",
    "\n",
    "Also fine. Seems to be installed! \n",
    "\n",
    "I am currently running 0.99 beta of the RP OS installation on the SD card. According to the PyRPL, it should work with any version of the software, so I'll just leave it as is and see if it works. \n",
    "\n",
    "I will now continue with following these instructions:\n",
    "\n",
    "https://pyrpl.readthedocs.io/en/latest/api.html\n",
    "\n",
    "2020-03-17 20:57:34\n",
    "\n",
    "First problem: when I tried to import the library, I got an error about `quamash`. I pip installed it:\n",
    "\n",
    "`pip install quamash`\n",
    "\n",
    "The solved the error messages, but I am getting a lot of debugging warnings:\n",
    "\n",
    "```\n",
    "DEBUG:pyrpl.attributes:SelectProperty unit of module None has no options!\n",
    "DEBUG:pyrpl.attributes:SelectProperty unit of module None has no options!\n",
    "DEBUG:pyrpl.attributes:SelectProperty default_sweep_output of module None has no options!\n",
    "DEBUG:pyrpl.attributes:SelectProperty default_sweep_output of module None has no options!\n",
    "DEBUG:pyrpl.attributes:SelectProperty default_sweep_output of module None has no options!\n",
    "DEBUG:pyrpl.attributes:SelectProperty default_sweep_output of module None has no options!\n",
    "DEBUG:pyrpl.attributes:SelectProperty default_sweep_output of module None has no options!\n",
    "DEBUG:pyrpl.attributes:SelectProperty default_sweep_output of module None has no options!\n",
    "DEBUG:pyrpl.attributes:SelectProperty default_sweep_output of module None has no options!\n",
    "DEBUG:pyrpl.attributes:SelectProperty default_sweep_output of module None has no options!\n",
    "DEBUG:pyrpl.attributes:SelectProperty default_sweep_output of module None has no options!\n",
    "DEBUG:pyrpl.attributes:SelectProperty default_sweep_output of module None has no options!\n",
    "```\n",
    "\n",
    "2020-03-17 21:01:22 \n",
    "\n",
    "Kindof strange: got a popup window asking me to select a filename for a config? Unusual.\n",
    "\n",
    "Got some error messages:\n",
    "```\n",
    "INFO:pyrpl:Please select or create a configuration file in the file selector window!\n",
    "INFO:pyrpl:All your PyRPL settings will be saved to the config file\n",
    "    /Users/gsteele/pyrpl_user_dir/config/test.yml\n",
    "If you would like to restart PyRPL with these settings, type \"pyrpl.exe test\" in a windows terminal or \n",
    "    from pyrpl import Pyrpl\n",
    "    p = Pyrpl('test')\n",
    "in a python terminal.\n",
    "WARNING:pyrpl.redpitaya_client:Socket error during connection attempt 0.\n",
    "WARNING:pyrpl.redpitaya_client:Socket error during connection attempt 1.\n",
    "WARNING:pyrpl.redpitaya_client:Socket error during connection attempt 2.\n",
    "WARNING:pyrpl.redpitaya_client:Socket error during connection attempt 3.\n",
    "WARNING:pyrpl.redpitaya_client:Socket error during connection attempt 4.\n",
    "ERROR:pyrpl.redpitaya_client:Error occured in reading attempt 0. Reconnecting at addr 0x40100014 to _reads value 1 by client 1\n",
    "INFO:pyrpl.redpitaya:Successfully connected to Redpitaya with hostname rp-f06897.local.\n",
    "```\n",
    "\n",
    "And then got a GUI window? With an option to select modules? I ended up just closing it.\n",
    "\n",
    "OK, so the API docs are a bit out of date, they are written for python2.7...(old style print statements).\n",
    "\n",
    "Also, the API has changed this the API page was written...but this code works:\n",
    "\n",
    "```\n",
    "r.scope.voltage_in1\n",
    "```\n",
    "\n",
    "Their demo code of a scope acquisition is also out of date...I get some warnings:\n",
    "\n",
    "```\n",
    "WARNING:pyrpl.modules:The scope attribute \"threshold_chx\" is deprecated. Please use \"threshold\" instead!\n",
    "WARNING:pyrpl.modules:The scope attribute \"hysteresis_chx\" is deprecated. Please use \"hysteresis\" instead!\n",
    "INFO:pyrpl.modules:Calling setup() for scope.trigger_source ...\n",
    "WARNING:pyrpl.modules:Trying to load attribute start_phase of module asg1 that are invalid setup_attributes.\n",
    "```\n",
    "\n",
    "and then a `TypeError`:\n",
    "\n",
    "```\n",
    "Before turning on asg:\n",
    "Curve ready: False\n",
    "After turning on asg:\n",
    "Curve ready: True\n",
    "Trigger event age [ms]: 30.304184000000003\n",
    "---------------------------------------------------------------------------\n",
    "TypeError                                 Traceback (most recent call last)\n",
    "~/anaconda3/envs/myenv/lib/python3.7/site-packages/pyrpl/async_utils.py in result(self)\n",
    "    132         try: #  concurrent.futures.Future (python 2)\n",
    "--> 133             return super(PyrplFuture, self).result(timeout=0)\n",
    "    134         except TypeError: #  asyncio.Future (python 3)\n",
    "\n",
    "TypeError: result() takes no keyword arguments\n",
    "\n",
    "During handling of the above exception, another exception occurred:\n",
    "\n",
    "InvalidStateError                         Traceback (most recent call last)\n",
    "<ipython-input-22-90941532cfd6> in <module>\n",
    "     55 # The function curve_async returns a *future* (or promise) of the curve. To\n",
    "     56 # access the actual curve, use result()\n",
    "---> 57 ch1, ch2 = res.result()\n",
    "     58 \n",
    "     59 # plot the data\n",
    "\n",
    "~/anaconda3/envs/myenv/lib/python3.7/site-packages/pyrpl/async_utils.py in result(self)\n",
    "    133             return super(PyrplFuture, self).result(timeout=0)\n",
    "    134         except TypeError: #  asyncio.Future (python 3)\n",
    "--> 135             return super(PyrplFuture, self).result()\n",
    "    136 \n",
    "    137     def _exit_loop(self, x=None):\n",
    "\n",
    "InvalidStateError: Result is not set.\n",
    "```\n",
    "\n",
    "Hmmm....let's see if I can fix it."
   ]
  },
  {
   "cell_type": "code",
   "execution_count": 21,
   "metadata": {
    "ExecuteTime": {
     "end_time": "2020-03-17T20:16:05.940744Z",
     "start_time": "2020-03-17T20:16:05.937454Z"
    }
   },
   "outputs": [],
   "source": [
    "from pyrpl import Pyrpl\n",
    "from time import sleep\n",
    "import matplotlib.pyplot as plt"
   ]
  },
  {
   "cell_type": "code",
   "execution_count": 6,
   "metadata": {
    "ExecuteTime": {
     "end_time": "2020-03-17T20:02:17.172630Z",
     "start_time": "2020-03-17T20:01:57.680976Z"
    }
   },
   "outputs": [
    {
     "name": "stderr",
     "output_type": "stream",
     "text": [
      "INFO:pyrpl:Please select or create a configuration file in the file selector window!\n",
      "INFO:pyrpl:All your PyRPL settings will be saved to the config file\n",
      "    /Users/gsteele/pyrpl_user_dir/config/test.yml\n",
      "If you would like to restart PyRPL with these settings, type \"pyrpl.exe test\" in a windows terminal or \n",
      "    from pyrpl import Pyrpl\n",
      "    p = Pyrpl('test')\n",
      "in a python terminal.\n",
      "WARNING:pyrpl.redpitaya_client:Socket error during connection attempt 0.\n",
      "WARNING:pyrpl.redpitaya_client:Socket error during connection attempt 1.\n",
      "WARNING:pyrpl.redpitaya_client:Socket error during connection attempt 2.\n",
      "WARNING:pyrpl.redpitaya_client:Socket error during connection attempt 3.\n",
      "WARNING:pyrpl.redpitaya_client:Socket error during connection attempt 4.\n",
      "ERROR:pyrpl.redpitaya_client:Error occured in reading attempt 0. Reconnecting at addr 0x40100014 to _reads value 1 by client 1\n",
      "INFO:pyrpl.redpitaya:Successfully connected to Redpitaya with hostname rp-f06897.local.\n"
     ]
    }
   ],
   "source": [
    "HOSTNAME = \"rp-f06897.local\"\n",
    "p = Pyrpl(hostname=HOSTNAME)"
   ]
  },
  {
   "cell_type": "code",
   "execution_count": 7,
   "metadata": {
    "ExecuteTime": {
     "end_time": "2020-03-17T20:05:18.277717Z",
     "start_time": "2020-03-17T20:05:18.274370Z"
    }
   },
   "outputs": [],
   "source": [
    "r = p.rp"
   ]
  },
  {
   "cell_type": "code",
   "execution_count": 16,
   "metadata": {
    "ExecuteTime": {
     "end_time": "2020-03-17T20:10:53.832251Z",
     "start_time": "2020-03-17T20:10:53.428740Z"
    }
   },
   "outputs": [],
   "source": [
    "for i in range(1000):\n",
    "    r.scope.voltage_in1"
   ]
  },
  {
   "cell_type": "markdown",
   "metadata": {},
   "source": [
    "OK, this seems to work!"
   ]
  },
  {
   "cell_type": "code",
   "execution_count": 18,
   "metadata": {
    "ExecuteTime": {
     "end_time": "2020-03-17T20:13:36.926598Z",
     "start_time": "2020-03-17T20:13:36.921156Z"
    }
   },
   "outputs": [
    {
     "name": "stdout",
     "output_type": "stream",
     "text": [
      "Available decimation factors: odict_keys([1, 2, 4, 8, 16, 32, 64, 128, 256, 512, 1024, 2048, 4096, 8192, 16384, 32768, 65536])\n",
      "Trigger sources: odict_keys(['off', 'immediately', 'ch1_positive_edge', 'ch1_negative_edge', 'ch2_positive_edge', 'ch2_negative_edge', 'ext_positive_edge', 'ext_negative_edge', 'asg0', 'asg1', 'dsp'])\n",
      "Available inputs:  ['in1', 'in2', 'out1', 'out2', 'iq0', 'iq1', 'iq2', 'iq2_2', 'pid0', 'pid1', 'pid2', 'asg0', 'asg1', 'trig', 'iir', 'off', 'networkanalyzer', 'lockbox.inputs.input_from_output', 'lockbox.outputs.output1', 'lockbox.outputs.output2']\n"
     ]
    }
   ],
   "source": [
    "s = r.scope # shortcut\n",
    "print(\"Available decimation factors:\", s.decimations)\n",
    "print(\"Trigger sources:\", s.trigger_sources)\n",
    "print(\"Available inputs: \", s.inputs)"
   ]
  },
  {
   "cell_type": "markdown",
   "metadata": {},
   "source": [
    "Let's try some of their demo code:"
   ]
  },
  {
   "cell_type": "code",
   "execution_count": 22,
   "metadata": {
    "ExecuteTime": {
     "end_time": "2020-03-17T20:16:09.389943Z",
     "start_time": "2020-03-17T20:16:09.290264Z"
    }
   },
   "outputs": [
    {
     "name": "stderr",
     "output_type": "stream",
     "text": [
      "WARNING:pyrpl.modules:The scope attribute \"threshold_chx\" is deprecated. Please use \"threshold\" instead!\n",
      "WARNING:pyrpl.modules:The scope attribute \"hysteresis_chx\" is deprecated. Please use \"hysteresis\" instead!\n",
      "INFO:pyrpl.modules:Calling setup() for scope.trigger_source ...\n",
      "WARNING:pyrpl.modules:Trying to load attribute start_phase of module asg1 that are invalid setup_attributes.\n"
     ]
    },
    {
     "name": "stdout",
     "output_type": "stream",
     "text": [
      "Before turning on asg:\n",
      "Curve ready: False\n",
      "After turning on asg:\n",
      "Curve ready: True\n",
      "Trigger event age [ms]: 30.304184000000003\n"
     ]
    },
    {
     "ename": "InvalidStateError",
     "evalue": "Result is not set.",
     "output_type": "error",
     "traceback": [
      "\u001b[0;31m---------------------------------------------------------------------------\u001b[0m",
      "\u001b[0;31mTypeError\u001b[0m                                 Traceback (most recent call last)",
      "\u001b[0;32m~/anaconda3/envs/myenv/lib/python3.7/site-packages/pyrpl/async_utils.py\u001b[0m in \u001b[0;36mresult\u001b[0;34m(self)\u001b[0m\n\u001b[1;32m    132\u001b[0m         \u001b[0;32mtry\u001b[0m\u001b[0;34m:\u001b[0m \u001b[0;31m#  concurrent.futures.Future (python 2)\u001b[0m\u001b[0;34m\u001b[0m\u001b[0;34m\u001b[0m\u001b[0m\n\u001b[0;32m--> 133\u001b[0;31m             \u001b[0;32mreturn\u001b[0m \u001b[0msuper\u001b[0m\u001b[0;34m(\u001b[0m\u001b[0mPyrplFuture\u001b[0m\u001b[0;34m,\u001b[0m \u001b[0mself\u001b[0m\u001b[0;34m)\u001b[0m\u001b[0;34m.\u001b[0m\u001b[0mresult\u001b[0m\u001b[0;34m(\u001b[0m\u001b[0mtimeout\u001b[0m\u001b[0;34m=\u001b[0m\u001b[0;36m0\u001b[0m\u001b[0;34m)\u001b[0m\u001b[0;34m\u001b[0m\u001b[0;34m\u001b[0m\u001b[0m\n\u001b[0m\u001b[1;32m    134\u001b[0m         \u001b[0;32mexcept\u001b[0m \u001b[0mTypeError\u001b[0m\u001b[0;34m:\u001b[0m \u001b[0;31m#  asyncio.Future (python 3)\u001b[0m\u001b[0;34m\u001b[0m\u001b[0;34m\u001b[0m\u001b[0m\n",
      "\u001b[0;31mTypeError\u001b[0m: result() takes no keyword arguments",
      "\nDuring handling of the above exception, another exception occurred:\n",
      "\u001b[0;31mInvalidStateError\u001b[0m                         Traceback (most recent call last)",
      "\u001b[0;32m<ipython-input-22-90941532cfd6>\u001b[0m in \u001b[0;36m<module>\u001b[0;34m\u001b[0m\n\u001b[1;32m     55\u001b[0m \u001b[0;31m# The function curve_async returns a *future* (or promise) of the curve. To\u001b[0m\u001b[0;34m\u001b[0m\u001b[0;34m\u001b[0m\u001b[0;34m\u001b[0m\u001b[0m\n\u001b[1;32m     56\u001b[0m \u001b[0;31m# access the actual curve, use result()\u001b[0m\u001b[0;34m\u001b[0m\u001b[0;34m\u001b[0m\u001b[0;34m\u001b[0m\u001b[0m\n\u001b[0;32m---> 57\u001b[0;31m \u001b[0mch1\u001b[0m\u001b[0;34m,\u001b[0m \u001b[0mch2\u001b[0m \u001b[0;34m=\u001b[0m \u001b[0mres\u001b[0m\u001b[0;34m.\u001b[0m\u001b[0mresult\u001b[0m\u001b[0;34m(\u001b[0m\u001b[0;34m)\u001b[0m\u001b[0;34m\u001b[0m\u001b[0;34m\u001b[0m\u001b[0m\n\u001b[0m\u001b[1;32m     58\u001b[0m \u001b[0;34m\u001b[0m\u001b[0m\n\u001b[1;32m     59\u001b[0m \u001b[0;31m# plot the data\u001b[0m\u001b[0;34m\u001b[0m\u001b[0;34m\u001b[0m\u001b[0;34m\u001b[0m\u001b[0m\n",
      "\u001b[0;32m~/anaconda3/envs/myenv/lib/python3.7/site-packages/pyrpl/async_utils.py\u001b[0m in \u001b[0;36mresult\u001b[0;34m(self)\u001b[0m\n\u001b[1;32m    133\u001b[0m             \u001b[0;32mreturn\u001b[0m \u001b[0msuper\u001b[0m\u001b[0;34m(\u001b[0m\u001b[0mPyrplFuture\u001b[0m\u001b[0;34m,\u001b[0m \u001b[0mself\u001b[0m\u001b[0;34m)\u001b[0m\u001b[0;34m.\u001b[0m\u001b[0mresult\u001b[0m\u001b[0;34m(\u001b[0m\u001b[0mtimeout\u001b[0m\u001b[0;34m=\u001b[0m\u001b[0;36m0\u001b[0m\u001b[0;34m)\u001b[0m\u001b[0;34m\u001b[0m\u001b[0;34m\u001b[0m\u001b[0m\n\u001b[1;32m    134\u001b[0m         \u001b[0;32mexcept\u001b[0m \u001b[0mTypeError\u001b[0m\u001b[0;34m:\u001b[0m \u001b[0;31m#  asyncio.Future (python 3)\u001b[0m\u001b[0;34m\u001b[0m\u001b[0;34m\u001b[0m\u001b[0m\n\u001b[0;32m--> 135\u001b[0;31m             \u001b[0;32mreturn\u001b[0m \u001b[0msuper\u001b[0m\u001b[0;34m(\u001b[0m\u001b[0mPyrplFuture\u001b[0m\u001b[0;34m,\u001b[0m \u001b[0mself\u001b[0m\u001b[0;34m)\u001b[0m\u001b[0;34m.\u001b[0m\u001b[0mresult\u001b[0m\u001b[0;34m(\u001b[0m\u001b[0;34m)\u001b[0m\u001b[0;34m\u001b[0m\u001b[0;34m\u001b[0m\u001b[0m\n\u001b[0m\u001b[1;32m    136\u001b[0m \u001b[0;34m\u001b[0m\u001b[0m\n\u001b[1;32m    137\u001b[0m     \u001b[0;32mdef\u001b[0m \u001b[0m_exit_loop\u001b[0m\u001b[0;34m(\u001b[0m\u001b[0mself\u001b[0m\u001b[0;34m,\u001b[0m \u001b[0mx\u001b[0m\u001b[0;34m=\u001b[0m\u001b[0;32mNone\u001b[0m\u001b[0;34m)\u001b[0m\u001b[0;34m:\u001b[0m\u001b[0;34m\u001b[0m\u001b[0;34m\u001b[0m\u001b[0m\n",
      "\u001b[0;31mInvalidStateError\u001b[0m: Result is not set."
     ]
    }
   ],
   "source": [
    "asg = r.asg1\n",
    "s = r.scope\n",
    "\n",
    "# turn off asg so the scope has a chance to measure its \"off-state\" as well\n",
    "asg.output_direct = \"off\"\n",
    "\n",
    "# setup scope\n",
    "s.input1 = 'asg1'\n",
    "\n",
    "# pass asg signal through pid0 with a simple integrator - just for fun (detailed explanations for pid will follow)\n",
    "r.pid0.input = 'asg1'\n",
    "r.pid0.ival = 0 # reset the integrator to zero\n",
    "r.pid0.i = 1000 # unity gain frequency of 1000 hz\n",
    "r.pid0.p = 1.0 # proportional gain of 1.0\n",
    "r.pid0.inputfilter = [0,0,0,0] # leave input filter disabled for now\n",
    "\n",
    "# show pid output on channel2\n",
    "s.input2 = 'pid0'\n",
    "\n",
    "# trig at zero volt crossing\n",
    "s.threshold_ch1 = 0\n",
    "\n",
    "# positive/negative slope is detected by waiting for input to\n",
    "# sweep through hysteresis around the trigger threshold in\n",
    "# the right direction\n",
    "s.hysteresis_ch1 = 0.01\n",
    "\n",
    "# trigger on the input signal positive slope\n",
    "s.trigger_source = 'ch1_positive_edge'\n",
    "\n",
    "# take data symetrically around the trigger event\n",
    "s.trigger_delay = 0\n",
    "\n",
    "# set decimation factor to 64 -> full scope trace is 8ns * 2^14 * decimation = 8.3 ms long\n",
    "s.decimation = 64\n",
    "\n",
    "# launch a single (asynchronous) curve acquisition, the asynchronous\n",
    "# acquisition means that the function returns immediately, eventhough the\n",
    "# data-acquisition is still going on.\n",
    "res = s.curve_async()\n",
    "\n",
    "print(\"Before turning on asg:\")\n",
    "print(\"Curve ready:\", s.curve_ready()) # trigger should still be armed\n",
    "\n",
    "# turn on asg and leave enough time for the scope to record the data\n",
    "asg.setup(frequency=1e3, amplitude=0.3, start_phase=90, waveform='halframp', trigger_source='immediately')\n",
    "sleep(0.010)\n",
    "\n",
    "# check that the trigger has been disarmed\n",
    "print(\"After turning on asg:\")\n",
    "print(\"Curve ready:\", s.curve_ready())\n",
    "print(\"Trigger event age [ms]:\",8e-9*((\n",
    "s.current_timestamp&0xFFFFFFFFFFFFFFFF) - s.trigger_timestamp)*1000)\n",
    "\n",
    "# The function curve_async returns a *future* (or promise) of the curve. To\n",
    "# access the actual curve, use result()\n",
    "ch1, ch2 = res.result()\n",
    "\n",
    "# plot the data\n",
    "%matplotlib inline\n",
    "plt.plot(s.times*1e3, ch1, s.times*1e3, ch2)\n",
    "plt.xlabel(\"Time [ms]\")\n",
    "plt.ylabel(\"Voltage\")"
   ]
  },
  {
   "cell_type": "markdown",
   "metadata": {},
   "source": [
    "OK. Not so good. I will try a simpler example to see if I can just run a single manual trigger on the scope and pull the trace."
   ]
  },
  {
   "cell_type": "code",
   "execution_count": null,
   "metadata": {},
   "outputs": [],
   "source": []
  }
 ],
 "metadata": {
  "jupytext": {
   "formats": "ipynb,md"
  },
  "kernelspec": {
   "display_name": "Python 3",
   "language": "python",
   "name": "python3"
  },
  "language_info": {
   "codemirror_mode": {
    "name": "ipython",
    "version": 3
   },
   "file_extension": ".py",
   "mimetype": "text/x-python",
   "name": "python",
   "nbconvert_exporter": "python",
   "pygments_lexer": "ipython3",
   "version": "3.7.5"
  },
  "toc": {
   "base_numbering": 1,
   "nav_menu": {},
   "number_sections": false,
   "sideBar": true,
   "skip_h1_title": false,
   "title_cell": "Table of Contents",
   "title_sidebar": "Contents",
   "toc_cell": false,
   "toc_position": {},
   "toc_section_display": true,
   "toc_window_display": false
  }
 },
 "nbformat": 4,
 "nbformat_minor": 2
}
