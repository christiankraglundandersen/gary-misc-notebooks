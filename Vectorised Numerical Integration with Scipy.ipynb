{
 "cells": [
  {
   "cell_type": "code",
   "execution_count": null,
   "metadata": {},
   "outputs": [],
   "source": [
    "import numpy as np\n",
    "from scipy.integrate import solve_ivp\n",
    "import matplotlib.pyplot as plt\n",
    "from ipywidgets import interact\n",
    "import time"
   ]
  },
  {
   "cell_type": "code",
   "execution_count": null,
   "metadata": {},
   "outputs": [],
   "source": [
    "plt.rcParams['figure.dpi'] = 100\n",
    "plt.rcParams['figure.figsize'] = (12,4)"
   ]
  },
  {
   "cell_type": "markdown",
   "metadata": {},
   "source": [
    "# Efficient Vectorized Numerical Integration with SciPy \n",
    "\n",
    "In our research, we often have to repeatedly integrate a differential equation with different initial parameters, driving frequencies, driving forces, etc. \n",
    "\n",
    "In this notebook, I will explore how to implement these efficiently using SciPy. Specifically, I will look at the damped, driven Harmonic oscillator, and perhaps later, at the Duffing oscillator. \n",
    "\n",
    "For now, I will focus on trying to vectorize the solution of a large number of simultaneous problems, such as varying initial conditions. Later, I may look at speeding up the numerical integration itself using cython.\n",
    "\n",
    "## The basics: the equation we will look at\n",
    "\n",
    "We will consider the equation: \n",
    "\n",
    "$$\n",
    "mx'' + cx' + kx = F_0 \\cos(\\omega t)\n",
    "$$\n",
    "\n",
    "This is a driven, damped harmonic oscillator.\n",
    "\n",
    "## Simple implementation\n",
    "\n",
    "A simple way to solve this equation is using the `solve_ivp()` routine of scipy: \n",
    "\n",
    "https://docs.scipy.org/doc/scipy/reference/generated/scipy.integrate.solve_ivp.html\n",
    "\n",
    "This is how it could look like:"
   ]
  },
  {
   "cell_type": "code",
   "execution_count": null,
   "metadata": {},
   "outputs": [],
   "source": [
    "m = 1\n",
    "c = 0.1\n",
    "k = 1\n",
    "F0 = 1\n",
    "w = 0.3\n",
    "\n",
    "def dydt(t,y):\n",
    "    x = y[0]\n",
    "    v = y[1]\n",
    "    dxdt = v\n",
    "    dvdt = (F0*np.cos(w*t) - c*v - k*x)/m\n",
    "    return (dxdt, dvdt)\n",
    "\n",
    "T = 300\n",
    "ts = 0.1\n",
    "N = int(T/ts)\n",
    "t = np.linspace(0,T,N)\n",
    "\n",
    "sol = solve_ivp(dydt, [0,T], [0,0], t_eval=t)\n",
    "x = sol.y[0]\n",
    "\n",
    "plt.plot(t,x)\n",
    "plt.plot(t,F0*np.cos(w*t))"
   ]
  },
  {
   "cell_type": "markdown",
   "metadata": {},
   "source": [
    "Also handy: it is easy to demodulate this to find the steady state amplitude and phase:"
   ]
  },
  {
   "cell_type": "code",
   "execution_count": null,
   "metadata": {},
   "outputs": [],
   "source": [
    "I = x*np.cos(w*t)\n",
    "Q = x*np.sin(w*t)\n",
    "\n",
    "# Assuming we've reached steady state by 50% of the time into the simulation\n",
    "I = np.average(I[len(I)//2:])*2\n",
    "Q = np.average(Q[len(Q)//2:])*2\n",
    "\n",
    "print(\"I %.2f\" % I)\n",
    "print(\"Q %.2f\" % Q)\n",
    "print(\"Amp %.2f\" % (np.sqrt(I**2+Q**2)))\n",
    "print(\"Ph  %.2f\" % (np.arctan2(Q,I)/np.pi*180))"
   ]
  },
  {
   "cell_type": "markdown",
   "metadata": {},
   "source": [
    "Fun: let's make an interactive widget out of it! It's pretty fast, so we can even just integrate on the fly."
   ]
  },
  {
   "cell_type": "code",
   "execution_count": null,
   "metadata": {},
   "outputs": [],
   "source": [
    "def update(wd=1):\n",
    "    global w \n",
    "    w = wd\n",
    "    sol = solve_ivp(dydt, [0,T], [0,0], t_eval=t)\n",
    "    x = sol.y[0]\n",
    "    plt.plot(t,x)\n",
    "    plt.plot(t,F0*np.cos(w*t))\n",
    "\n",
    "interact(update,wd=(0.0,2,0.05))"
   ]
  },
  {
   "cell_type": "markdown",
   "metadata": {},
   "source": [
    "## Next step: a frequency sweep\n",
    "\n",
    "We will often be interested in calculating not just the response due to one frequency, but let's say the for a range of frequencies. \n",
    "\n",
    "Let's try this the simple way:"
   ]
  },
  {
   "cell_type": "code",
   "execution_count": null,
   "metadata": {},
   "outputs": [],
   "source": [
    "Nw = 500\n",
    "wd = np.geomspace(0.1,2,Nw)\n",
    "\n",
    "I = np.empty(Nw)\n",
    "Q = np.empty(Nw)\n",
    "\n",
    "t1 = time.time()\n",
    "\n",
    "for i in range(Nw):\n",
    "    global w\n",
    "    w = wd[i]\n",
    "    sol = solve_ivp(dydt, [0,T], [0,0], t_eval=t)\n",
    "    x = sol.y[0]\n",
    "    I[i] = np.average((x*np.cos(w*t))[N//2:])\n",
    "    Q[i] = np.average((x*np.sin(w*t))[N//2:])\n",
    "    \n",
    "t2 = time.time()\n",
    "print(\"Execution time: %.2f \" % (t2-t1))"
   ]
  },
  {
   "cell_type": "code",
   "execution_count": null,
   "metadata": {},
   "outputs": [],
   "source": [
    "plt.plot(wd,I)\n",
    "plt.plot(wd,Q)\n",
    "plt.axhline(0,ls=':',c='grey')"
   ]
  },
  {
   "cell_type": "code",
   "execution_count": null,
   "metadata": {},
   "outputs": [],
   "source": [
    "plt.plot(wd,np.abs(I+1j*Q))\n",
    "plt.plot(wd,np.angle(I+1j*Q))\n",
    "plt.axhline(0,ls=':',c='grey')"
   ]
  },
  {
   "cell_type": "markdown",
   "metadata": {},
   "source": [
    "To make any decent kind of plot, we need 500 points, and this already takes quite some time (20 seconds!)\n",
    "\n",
    "Can we do this faster in a smart way? I think we can if we have solve_ivp work with vector inputs instead of scalar ones. \n",
    "\n",
    "## Vector example with solve_ivp\n",
    "\n",
    "Let's see if we can be clever somehow.\n",
    "\n",
    "\n",
    "Let's say I define a vector `y` that is 500 copies of `x` and 500 copies of `v`:\n",
    "\n",
    "```\n",
    "y[0] = x_f0\n",
    "y[1] = x_f1\n",
    "...\n",
    "y[499] = x_f499\n",
    "y[500] = v_f0\n",
    "y[501] = v_f1\n",
    "...\n",
    "y[999] = v_f499\n",
    "```\n",
    "\n",
    "This should then work: \n",
    "\n",
    "```\n",
    "x = y[:500]\n",
    "v = y[500:]\n",
    "```\n"
   ]
  },
  {
   "cell_type": "code",
   "execution_count": null,
   "metadata": {},
   "outputs": [],
   "source": [
    "m = 1\n",
    "c = 0.1\n",
    "k = 1\n",
    "F0 = 1\n",
    "\n",
    "Nw = 500\n",
    "w = np.geomspace(0.1,2,Nw)\n",
    "\n",
    "# The trick is: we need \n",
    "def dydt_vector(t,y):\n",
    "    x = y[:len(y)//2]\n",
    "    v = y[len(y)//2:]\n",
    "    dxdt = v\n",
    "    dvdt = (F0*np.cos(w*t) - c*v - k*x)/m\n",
    "    return np.concatenate([dxdt,dvdt],axis=None)\n",
    "\n",
    "T = 300\n",
    "ts = 0.1\n",
    "Nt = int(T/ts)\n",
    "t = np.linspace(0,T,Nt)\n",
    "\n",
    "# Somehow I need to figure out \n",
    "x0 = np.zeros(Nw)\n",
    "v0 = np.zeros(Nw)\n",
    "y0 = np.concatenate([x0,v0],axis=None)\n",
    "\n",
    "# Maybe this will just work? \n",
    "t1 = time.time()\n",
    "sol = solve_ivp(dydt_vector, [0,T], y0, t_eval=t)\n",
    "t2 = time.time()\n",
    "print(\"Computation time: %.2f\" %(t2-t1))\n",
    "\n",
    "# It seems to!\n",
    "x = sol.y[0:Nw,:]\n",
    "\n",
    "# Cool use ouf outer product (!), took me a while to think about it\n",
    "I_ref = np.cos(np.outer(w,t))\n",
    "Q_ref = np.sin(np.outer(w,t))\n",
    "\n",
    "# and some more indexing and averaging magic :)\n",
    "I = np.average((x*I_ref)[:,Nt//2:], axis=1)\n",
    "Q = np.average((x*Q_ref)[:,Nt//2:], axis=1)\n",
    "\n",
    "# And plot\n",
    "plt.plot(w,np.abs(I+1j*Q))\n",
    "plt.plot(w,np.angle(I+1j*Q))\n"
   ]
  },
  {
   "cell_type": "markdown",
   "metadata": {},
   "source": [
    "Pretty awesome! We've reduced the computation time by a factor of more than 100!"
   ]
  },
  {
   "cell_type": "markdown",
   "metadata": {},
   "source": [
    "## Varying initial conditions \n",
    "\n",
    "Let's try the same thing but now for the Duffing oscillator. \n",
    "\n",
    "We'll take the parameters from my CS assignment:\n",
    "\n",
    "```\n",
    "m = 1\n",
    "k = 1\n",
    "c = 0.2\n",
    "F0 = 2.5\n",
    "w = 1.6\n",
    "alpha = 0.05\n",
    "```\n",
    "\n",
    "We want x0 to range from -20 to 20 and v0 to range from -60 to 60 in say 100x100 points. Our time integration should run for 100 seconds. We will start with 100 points, but then expand that."
   ]
  },
  {
   "cell_type": "code",
   "execution_count": null,
   "metadata": {},
   "outputs": [],
   "source": [
    "m = 1\n",
    "k = 1\n",
    "c = 0.2\n",
    "F0 = 2.5\n",
    "w = 1.6\n",
    "alpha = 0.05\n",
    "\n",
    "Ni = 100\n",
    "xr = 20\n",
    "vr = 60\n",
    "x0 = np.linspace(-xr,xr,Ni)\n",
    "v0 = np.linspace(-vr,vr,Ni)\n",
    "\n",
    "# This takes some thinking, see debugging below!\n",
    "# x will come first in the linear array, then corresponding v \n",
    "# elements\n",
    "y0 = np.array(np.meshgrid(x0,v0)).flatten()\n",
    "\n",
    "def dydt_vDuff(t,y):\n",
    "    x = y[:len(y)//2]\n",
    "    v = y[len(y)//2:]\n",
    "    dxdt = v\n",
    "    dvdt = (F0*np.cos(w*t) - c*v - k*x - alpha*x**3)/m\n",
    "    return np.concatenate([dxdt,dvdt],axis=None)\n",
    "\n",
    "# Let's try it!\n",
    "t1 = time.time()\n",
    "sol = solve_ivp(dydt_vDuff, [0,T], y0, t_eval=t)\n",
    "t2 = time.time()\n",
    "print(\"Computation time: %.2f\" %(t2-t1))"
   ]
  },
  {
   "cell_type": "code",
   "execution_count": null,
   "metadata": {},
   "outputs": [],
   "source": [
    "# Let's do a simple max to find steady state amp\n",
    "x = sol.y[0:len(y0)//2,Nt//2:]\n",
    "\n",
    "# Unwrapping it is really easy actually! Just a simple reshape()\n",
    "xmax = np.reshape(np.max(x,axis=1),[Ni,Ni])\n",
    "plt.figure(figsize=(12,10))\n",
    "plt.imshow(xmax, aspect='auto')"
   ]
  },
  {
   "cell_type": "markdown",
   "metadata": {},
   "source": [
    "## Meshgrid debugging\n",
    "\n"
   ]
  },
  {
   "cell_type": "code",
   "execution_count": null,
   "metadata": {},
   "outputs": [],
   "source": [
    "def print_array(A):\n",
    "    print(np.around(A,decimals=2))"
   ]
  },
  {
   "cell_type": "code",
   "execution_count": null,
   "metadata": {
    "hide_input": false
   },
   "outputs": [],
   "source": [
    "foo = np.array(np.meshgrid(x0,v0))\n",
    "print(foo.shape)\n",
    "print_array(foo)"
   ]
  },
  {
   "cell_type": "code",
   "execution_count": null,
   "metadata": {},
   "outputs": [],
   "source": [
    "flatfoo = foo.flatten()\n",
    "print_array(flatfoo)"
   ]
  },
  {
   "cell_type": "code",
   "execution_count": null,
   "metadata": {},
   "outputs": [],
   "source": [
    "unflat_foo = np.reshape(flatfoo, [2,10,10])\n",
    "print_array(unflat_foo)"
   ]
  },
  {
   "cell_type": "code",
   "execution_count": null,
   "metadata": {},
   "outputs": [],
   "source": []
  }
 ],
 "metadata": {
  "jupytext": {
   "formats": "ipynb,md"
  },
  "kernelspec": {
   "display_name": "Python 3",
   "language": "python",
   "name": "python3"
  }
 },
 "nbformat": 4,
 "nbformat_minor": 2
}
