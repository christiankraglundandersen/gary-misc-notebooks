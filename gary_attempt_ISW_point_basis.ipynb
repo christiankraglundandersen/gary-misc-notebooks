{
 "cells": [
  {
   "cell_type": "code",
   "execution_count": null,
   "metadata": {},
   "outputs": [],
   "source": [
    "from scipy.linalg import toeplitz\n",
    "import numpy as np\n",
    "import matplotlib.pyplot as plt"
   ]
  },
  {
   "cell_type": "code",
   "execution_count": null,
   "metadata": {},
   "outputs": [],
   "source": [
    "def print_matrix(A, s=0, e=-1):\n",
    "    B = A[s:e,s:e]\n",
    "    for i in range(B.shape[0]):\n",
    "        for j in range(B.shape[1]):\n",
    "            #print(\"%  11.2e\" % B[i,j], end='')\n",
    "            print(\"%  7.1f\" % B[i,j], end='')\n",
    "        print()"
   ]
  },
  {
   "cell_type": "code",
   "execution_count": null,
   "metadata": {},
   "outputs": [],
   "source": [
    "N = 100\n",
    "\n",
    "vec1 = np.zeros(N)\n",
    "vec2 = np.zeros(N)\n",
    "vec1[1] = 1\n",
    "vec2[1] = -1\n",
    "D = toeplitz(c=vec2, r=vec1)\n",
    "T = -np.matmul(D,D)\n",
    "\n",
    "#print(\"Matrix T:\")\n",
    "#print_matrix(T, e=N)\n",
    "#print()\n",
    "\n",
    "val, vec = np.linalg.eig(T)\n",
    "\n",
    "#en = val;\n",
    "#print(\"Eigenvalues:\")\n",
    "#print(en)\n",
    "#print()\n",
    "#print(\"Why are there two energies for each? ISW should not be 2-fold degenerate?\")\n",
    "\n",
    "plt.plot(vec[:,53], 'o-')\n",
    "plt.show()\n",
    "\n",
    "print(\"I would expect these shouls look a bit like sine waves. Why does this look like \\n\"\n",
    "     \"total nonsense?\")"
   ]
  },
  {
   "cell_type": "code",
   "execution_count": null,
   "metadata": {},
   "outputs": [],
   "source": [
    "val, vec = np.linalg.eig(T)\n",
    "test = np.matmul(T, vec[1])\n",
    "print(np.array([test, vec[1]]).T)"
   ]
  },
  {
   "cell_type": "code",
   "execution_count": null,
   "metadata": {},
   "outputs": [],
   "source": [
    "M = np.array([[ 1,  0, -1,  0,  0 ], \n",
    "              [ 0,  2,  0, -1,  0 ], \n",
    "              [-1,  0,  2,  0, -1], \n",
    "              [ 0, -1,  0,  2,  0], \n",
    "              [ 0,  0, -1,  0,  1]])\n",
    "print_matrix(M, e=5)\n",
    "val, vec = np.linalg.eigh(M)\n",
    "vec[:,0]\n",
    "test = np.matmul(M, vec[:,0])\n",
    "print(\"\\nleft eigv, rigth M matmul eigv \\n\")\n",
    "print(np.array([ vec[:,0], M.dot(vec[:,0])]).T)\n",
    "print(\"\\nSeems an awful lot like it is not an eigenvector?\")"
   ]
  },
  {
   "cell_type": "code",
   "execution_count": null,
   "metadata": {},
   "outputs": [],
   "source": []
  },
  {
   "cell_type": "code",
   "execution_count": null,
   "metadata": {},
   "outputs": [],
   "source": [
    "T.shape"
   ]
  },
  {
   "cell_type": "markdown",
   "metadata": {},
   "source": [
    "Update: Anton helped me figure it out!\n",
    "\n",
    "Upshot: you should not use center difference definition for derivative since it splits your grid into two decoupled sublattices. \n",
    "\n",
    "Trick from Jos: `np.eye` is a great tool for this!"
   ]
  }
 ],
 "metadata": {
  "jupytext": {
   "formats": "ipynb,md"
  },
  "kernelspec": {
   "display_name": "Python 3",
   "language": "python",
   "name": "python3"
  }
 },
 "nbformat": 4,
 "nbformat_minor": 2
}
