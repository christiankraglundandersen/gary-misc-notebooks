{
 "cells": [
  {
   "cell_type": "code",
   "execution_count": null,
   "metadata": {},
   "outputs": [],
   "source": [
    "import numpy as np\n",
    "import matplotlib.pyplot as plt\n",
    "import scipy \n",
    "%matplotlib inline\n",
    "plt.rcParams['figure.figsize'] = (10, 8)\n",
    "plt.rcParams.update({'font.size': 12})"
   ]
  },
  {
   "cell_type": "markdown",
   "metadata": {},
   "source": [
    "FFT documentation:\n",
    "\n",
    "https://docs.scipy.org/doc/numpy-1.15.0/reference/generated/numpy.fft.fft.html#numpy.fft.fft\n",
    "\n",
    "General background:\n",
    "\n",
    "https://en.wikipedia.org/wiki/Discrete_Fourier_transform\n",
    "\n",
    "https://en.wikipedia.org/wiki/Welch%27s_method\n",
    "\n",
    "https://en.wikipedia.org/wiki/Periodogram\n"
   ]
  },
  {
   "cell_type": "markdown",
   "metadata": {},
   "source": [
    "## Scipy Welch Example\n",
    "\n",
    "Handy because it directly gives you the power spectral density of a signal in $V^2/Hz$!\n",
    "\n",
    "I will use this to reverse-engineer what my conversion factors should be for my own FFT (which I can then also use on complex quadrature data, for example).\n",
    "\n",
    "https://scipy.github.io/devdocs/generated/scipy.signal.welch.html"
   ]
  },
  {
   "cell_type": "code",
   "execution_count": null,
   "metadata": {},
   "outputs": [],
   "source": [
    "from scipy import signal\n",
    "import matplotlib.pyplot as plt\n",
    "np.random.seed(1234)\n",
    "\n",
    "# fs = sampling frequency\n",
    "fs = 10e3\n",
    "# N = Number of samples\n",
    "N = 1e5\n",
    "# Amplitude of our sine wave\n",
    "amp = 2*np.sqrt(2)\n",
    "freq = 1234.0\n",
    "noise_power = 0.001 * fs / 2\n",
    "time = np.arange(N) / fs\n",
    "x = amp*np.sin(2*np.pi*freq*time)\n",
    "x += np.random.normal(scale=np.sqrt(noise_power), size=time.shape)\n",
    "\n",
    "f, Pxx_den = scipy.signal.welch(x, fs, nperseg=2**15)\n",
    "plt.semilogy(f, Pxx_den)\n",
    "plt.xlabel('frequency (Hz)')\n",
    "plt.ylabel('PSD ($V^2/Hz$)')\n",
    "plt.show()"
   ]
  },
  {
   "cell_type": "markdown",
   "metadata": {},
   "source": [
    "## Doing it myself and fudging the scaling factor until they match"
   ]
  },
  {
   "cell_type": "code",
   "execution_count": null,
   "metadata": {},
   "outputs": [],
   "source": [
    "# Here, I will downsample smooth the FFT data, equivalent to \"spectral plot\"\n",
    "# of power spectral density, in contrast to the Welch method that employs\n",
    "# averaged periodograms \n",
    "\n",
    "# See wikipedia page on periodograms: https://en.wikipedia.org/wiki/Periodogram#Applications\n",
    "\n",
    "def subsample_average(x, n):\n",
    "    end =  n * int(len(x)/n)\n",
    "    return np.mean(x[:end].reshape(-1, n), 1)\n",
    "\n",
    "navg = 10\n",
    "xf = np.fft.fftshift(np.fft.fft(x))\n",
    "fr = np.fft.fftshift(np.fft.fftfreq(len(x), time[1]))\n",
    "\n",
    "# Note that it's SUPER IMPORTANT to average the square magnitude!\n",
    "# Noises add in quadrature, not amplitude...\n",
    "\n",
    "test = np.abs(xf)**2\n",
    "test2 = subsample_average(test,navg)\n",
    "fr2 = subsample_average(fr,navg)\n",
    "\n",
    "plt.plot(f,Pxx_den, label=\"SciPy Welch PSD in $V^2/Hz$\")\n",
    "# Factor of two here may be because I'm not doing rfft and \n",
    "# should add the negative frequency components\n",
    "plt.plot(fr2,test2/fs/N*2, label=\"My FFT$^2$ with fudge factor 1/fs/N\") \n",
    "plt.yscale('log')\n",
    "plt.xlim((1200,1300))\n",
    "plt.legend()\n",
    "plt.xlabel(\"Freq (Hz)\")\n",
    "plt.ylabel(\"Power Spectral Density (V$^2$/Hz)\")\n"
   ]
  },
  {
   "cell_type": "markdown",
   "metadata": {},
   "source": [
    "Upshot: the conversion of FFT magntude squared to $V^2 / Hz$ is to divide by the sampling frequency `fs` AND by the number of samples `N`!\n",
    "\n",
    "```\n",
    "PSD = np.fft / fs / N**2\n",
    "N = T / t_s  = T * f_s \n",
    "\n",
    "gives\n",
    "\n",
    "PSD = np.fft / (fs**3 T**2)\n",
    "```"
   ]
  }
 ],
 "metadata": {
  "jupytext": {
   "formats": "ipynb,md"
  },
  "kernelspec": {
   "display_name": "Python 3",
   "language": "python",
   "name": "python3"
  }
 },
 "nbformat": 4,
 "nbformat_minor": 2
}
