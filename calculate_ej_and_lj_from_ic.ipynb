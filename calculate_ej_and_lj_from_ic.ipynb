{
 "cells": [
  {
   "cell_type": "markdown",
   "metadata": {},
   "source": [
    "$$\n",
    "E_J = \\frac{\\hbar I_c}{2e} \n",
    "$$\n",
    "\n",
    "in Joules.\n",
    "\n",
    "Energy to GHz:\n",
    "\n",
    "$$\n",
    "E = h \\nu\n",
    "$$\n",
    "\n",
    "Josephson inductance:\n",
    "\n",
    "$$\n",
    "L_J = \\frac{\\hbar}{2 e I_c}\n",
    "$$"
   ]
  },
  {
   "cell_type": "code",
   "execution_count": 2,
   "metadata": {},
   "outputs": [],
   "source": [
    "from scipy.constants import *"
   ]
  },
  {
   "cell_type": "code",
   "execution_count": 10,
   "metadata": {},
   "outputs": [
    {
     "name": "stdout",
     "output_type": "stream",
     "text": [
      "496.7\n"
     ]
    }
   ],
   "source": [
    "print(\"%.1f\" % (hbar*1e-6/2/e/h/1e9))"
   ]
  },
  {
   "cell_type": "code",
   "execution_count": 37,
   "metadata": {},
   "outputs": [
    {
     "name": "stdout",
     "output_type": "stream",
     "text": [
      "Ic   0.001 uA   Ej     0.5 GHz   LJ  329.11 nH\n",
      "Ic   0.010 uA   Ej     5.0 GHz   LJ   32.91 nH\n",
      "Ic   0.100 uA   Ej    49.7 GHz   LJ    3.29 nH\n",
      "Ic   1.000 uA   Ej   496.7 GHz   LJ    0.33 nH\n",
      "Ic  10.000 uA   Ej  4966.8 GHz   LJ    0.03 nH\n"
     ]
    }
   ],
   "source": [
    "def calc_EJ_LJ(Ic):\n",
    "    EJ = (hbar*Ic/2/e/h/1e9) # In GHz\n",
    "    LJ = (hbar/2/e/Ic/1e-9) # In nH\n",
    "    print(\"Ic % 7.3f uA   Ej % 7.1f GHz   LJ % 7.2f nH\" % (Ic/1e-6, EJ, LJ) )\n",
    "\n",
    "for i in [9,8,7,6,5]:\n",
    "    calc_EJ_LJ(1*10**(-i))"
   ]
  },
  {
   "cell_type": "code",
   "execution_count": 21,
   "metadata": {},
   "outputs": [
    {
     "name": "stdout",
     "output_type": "stream",
     "text": [
      "Ic 1.0 uA   Ej 496.7 GHz   LJ 0.3 nH\n"
     ]
    }
   ],
   "source": [
    "calc_EJ_LJ(1e-6)"
   ]
  },
  {
   "cell_type": "code",
   "execution_count": 22,
   "metadata": {},
   "outputs": [
    {
     "name": "stdout",
     "output_type": "stream",
     "text": [
      "Ic 0.1 uA   Ej 49.7 GHz   LJ 3.3 nH\n"
     ]
    }
   ],
   "source": [
    "calc_EJ_LJ(0.1e-6)"
   ]
  },
  {
   "cell_type": "code",
   "execution_count": 23,
   "metadata": {},
   "outputs": [
    {
     "name": "stdout",
     "output_type": "stream",
     "text": [
      "Ic 0.2 uA   Ej 99.3 GHz   LJ 1.6 nH\n"
     ]
    }
   ],
   "source": [
    "calc_EJ_LJ(0.2e-6)"
   ]
  },
  {
   "cell_type": "code",
   "execution_count": 24,
   "metadata": {},
   "outputs": [
    {
     "name": "stdout",
     "output_type": "stream",
     "text": [
      "Ic 0.4 uA   Ej 198.7 GHz   LJ 0.8 nH\n"
     ]
    }
   ],
   "source": [
    "calc_EJ_LJ(0.4e-6)"
   ]
  },
  {
   "cell_type": "code",
   "execution_count": 32,
   "metadata": {},
   "outputs": [
    {
     "name": "stdout",
     "output_type": "stream",
     "text": [
      "Ic 0.0 uA   Ej     0.2 GHz   LJ   658.2 nH\n",
      "Ic 0.0 uA   Ej     2.5 GHz   LJ    65.8 nH\n",
      "Ic 0.1 uA   Ej    24.8 GHz   LJ     6.6 nH\n",
      "Ic 0.5 uA   Ej   248.3 GHz   LJ     0.7 nH\n",
      "Ic 5.0 uA   Ej  2483.4 GHz   LJ     0.1 nH\n"
     ]
    }
   ],
   "source": []
  },
  {
   "cell_type": "code",
   "execution_count": null,
   "metadata": {},
   "outputs": [],
   "source": []
  }
 ],
 "metadata": {
  "kernelspec": {
   "display_name": "Python 3",
   "language": "python",
   "name": "python3"
  },
  "language_info": {
   "codemirror_mode": {
    "name": "ipython",
    "version": 3
   },
   "file_extension": ".py",
   "mimetype": "text/x-python",
   "name": "python",
   "nbconvert_exporter": "python",
   "pygments_lexer": "ipython3",
   "version": "3.7.1"
  }
 },
 "nbformat": 4,
 "nbformat_minor": 2
}
