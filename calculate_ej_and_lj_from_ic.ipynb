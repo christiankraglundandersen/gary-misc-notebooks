{
 "cells": [
  {
   "cell_type": "markdown",
   "metadata": {},
   "source": [
    "$$\n",
    "E_J = \\frac{\\hbar I_c}{2e} \n",
    "$$\n",
    "\n",
    "in Joules.\n",
    "\n",
    "Energy to GHz:\n",
    "\n",
    "$$\n",
    "E = h \\nu\n",
    "$$\n",
    "\n",
    "Josephson inductance:\n",
    "\n",
    "$$\n",
    "L_J = \\frac{\\hbar}{2 e I_c}\n",
    "$$"
   ]
  },
  {
   "cell_type": "code",
   "execution_count": null,
   "metadata": {},
   "outputs": [],
   "source": [
    "from scipy.constants import *"
   ]
  },
  {
   "cell_type": "code",
   "execution_count": null,
   "metadata": {},
   "outputs": [],
   "source": [
    "print(\"%.1f\" % (hbar*1e-6/2/e/h/1e9))"
   ]
  },
  {
   "cell_type": "code",
   "execution_count": null,
   "metadata": {},
   "outputs": [],
   "source": [
    "def calc_EJ_LJ(Ic):\n",
    "    EJ = (hbar*Ic/2/e/h/1e9) # In GHz\n",
    "    LJ = (hbar/2/e/Ic/1e-9) # In nH\n",
    "    print(\"Ic % 7.3f uA   Ej % 7.1f GHz   LJ % 7.2f nH\" % (Ic/1e-6, EJ, LJ) )\n",
    "\n",
    "for i in [9,8,7,6,5]:\n",
    "    calc_EJ_LJ(1*10**(-i))"
   ]
  },
  {
   "cell_type": "code",
   "execution_count": null,
   "metadata": {},
   "outputs": [],
   "source": [
    "calc_EJ_LJ(1e-6)"
   ]
  },
  {
   "cell_type": "code",
   "execution_count": null,
   "metadata": {},
   "outputs": [],
   "source": [
    "calc_EJ_LJ(0.1e-6)"
   ]
  },
  {
   "cell_type": "code",
   "execution_count": null,
   "metadata": {},
   "outputs": [],
   "source": [
    "calc_EJ_LJ(0.2e-6)"
   ]
  },
  {
   "cell_type": "code",
   "execution_count": null,
   "metadata": {},
   "outputs": [],
   "source": [
    "calc_EJ_LJ(0.4e-6)"
   ]
  },
  {
   "cell_type": "code",
   "execution_count": null,
   "metadata": {},
   "outputs": [],
   "source": []
  },
  {
   "cell_type": "code",
   "execution_count": null,
   "metadata": {},
   "outputs": [],
   "source": []
  }
 ],
 "metadata": {
  "jupytext": {
   "formats": "ipynb,md"
  },
  "kernelspec": {
   "display_name": "Python 3",
   "language": "python",
   "name": "python3"
  }
 },
 "nbformat": 4,
 "nbformat_minor": 2
}
